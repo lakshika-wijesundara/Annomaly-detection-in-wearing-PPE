{
  "nbformat": 4,
  "nbformat_minor": 0,
  "metadata": {
    "colab": {
      "provenance": [],
      "gpuType": "T4",
      "mount_file_id": "1Unn_etjybsDVDp9Ekb05YGZoO_TKcLWz",
      "authorship_tag": "ABX9TyPehPHuuhloH+pTAv+qdx72",
      "include_colab_link": true
    },
    "kernelspec": {
      "name": "python3",
      "display_name": "Python 3"
    },
    "language_info": {
      "name": "python"
    },
    "accelerator": "GPU"
  },
  "cells": [
    {
      "cell_type": "markdown",
      "metadata": {
        "id": "view-in-github",
        "colab_type": "text"
      },
      "source": [
        "<a href=\"https://colab.research.google.com/github/lakshika-wijesundara/Annomaly-detection-in-wearing-PPE/blob/main/Worker_detetction.ipynb\" target=\"_parent\"><img src=\"https://colab.research.google.com/assets/colab-badge.svg\" alt=\"Open In Colab\"/></a>"
      ]
    },
    {
      "cell_type": "code",
      "source": [
        "!pip install roboflow\n",
        "\n",
        "from roboflow import Roboflow\n",
        "rf = Roboflow(api_key=\"xv82Gavwdrn9ZZiy62Sc\")\n",
        "project = rf.workspace(\"lakshika\").project(\"human-detection-new-2\")\n",
        "version = project.version(5)\n",
        "dataset = version.download(\"yolov8-obb\")"
      ],
      "metadata": {
        "colab": {
          "base_uri": "https://localhost:8080/"
        },
        "id": "CHY3_5Ebj_Qy",
        "outputId": "1ada5e2d-f2c2-4e59-9474-83801c6959e9"
      },
      "execution_count": 1,
      "outputs": [
        {
          "output_type": "stream",
          "name": "stdout",
          "text": [
            "Collecting roboflow\n",
            "  Downloading roboflow-1.1.51-py3-none-any.whl.metadata (9.7 kB)\n",
            "Requirement already satisfied: certifi in /usr/local/lib/python3.11/dist-packages (from roboflow) (2024.12.14)\n",
            "Collecting idna==3.7 (from roboflow)\n",
            "  Downloading idna-3.7-py3-none-any.whl.metadata (9.9 kB)\n",
            "Requirement already satisfied: cycler in /usr/local/lib/python3.11/dist-packages (from roboflow) (0.12.1)\n",
            "Requirement already satisfied: kiwisolver>=1.3.1 in /usr/local/lib/python3.11/dist-packages (from roboflow) (1.4.8)\n",
            "Requirement already satisfied: matplotlib in /usr/local/lib/python3.11/dist-packages (from roboflow) (3.10.0)\n",
            "Requirement already satisfied: numpy>=1.18.5 in /usr/local/lib/python3.11/dist-packages (from roboflow) (1.26.4)\n",
            "Requirement already satisfied: opencv-python-headless==4.10.0.84 in /usr/local/lib/python3.11/dist-packages (from roboflow) (4.10.0.84)\n",
            "Requirement already satisfied: Pillow>=7.1.2 in /usr/local/lib/python3.11/dist-packages (from roboflow) (11.1.0)\n",
            "Requirement already satisfied: python-dateutil in /usr/local/lib/python3.11/dist-packages (from roboflow) (2.8.2)\n",
            "Collecting python-dotenv (from roboflow)\n",
            "  Downloading python_dotenv-1.0.1-py3-none-any.whl.metadata (23 kB)\n",
            "Requirement already satisfied: requests in /usr/local/lib/python3.11/dist-packages (from roboflow) (2.32.3)\n",
            "Requirement already satisfied: six in /usr/local/lib/python3.11/dist-packages (from roboflow) (1.17.0)\n",
            "Requirement already satisfied: urllib3>=1.26.6 in /usr/local/lib/python3.11/dist-packages (from roboflow) (2.3.0)\n",
            "Requirement already satisfied: tqdm>=4.41.0 in /usr/local/lib/python3.11/dist-packages (from roboflow) (4.67.1)\n",
            "Requirement already satisfied: PyYAML>=5.3.1 in /usr/local/lib/python3.11/dist-packages (from roboflow) (6.0.2)\n",
            "Requirement already satisfied: requests-toolbelt in /usr/local/lib/python3.11/dist-packages (from roboflow) (1.0.0)\n",
            "Collecting filetype (from roboflow)\n",
            "  Downloading filetype-1.2.0-py2.py3-none-any.whl.metadata (6.5 kB)\n",
            "Requirement already satisfied: contourpy>=1.0.1 in /usr/local/lib/python3.11/dist-packages (from matplotlib->roboflow) (1.3.1)\n",
            "Requirement already satisfied: fonttools>=4.22.0 in /usr/local/lib/python3.11/dist-packages (from matplotlib->roboflow) (4.55.3)\n",
            "Requirement already satisfied: packaging>=20.0 in /usr/local/lib/python3.11/dist-packages (from matplotlib->roboflow) (24.2)\n",
            "Requirement already satisfied: pyparsing>=2.3.1 in /usr/local/lib/python3.11/dist-packages (from matplotlib->roboflow) (3.2.1)\n",
            "Requirement already satisfied: charset-normalizer<4,>=2 in /usr/local/lib/python3.11/dist-packages (from requests->roboflow) (3.4.1)\n",
            "Downloading roboflow-1.1.51-py3-none-any.whl (81 kB)\n",
            "\u001b[2K   \u001b[90m━━━━━━━━━━━━━━━━━━━━━━━━━━━━━━━━━━━━━━━━\u001b[0m \u001b[32m81.5/81.5 kB\u001b[0m \u001b[31m5.2 MB/s\u001b[0m eta \u001b[36m0:00:00\u001b[0m\n",
            "\u001b[?25hDownloading idna-3.7-py3-none-any.whl (66 kB)\n",
            "\u001b[2K   \u001b[90m━━━━━━━━━━━━━━━━━━━━━━━━━━━━━━━━━━━━━━━━\u001b[0m \u001b[32m66.8/66.8 kB\u001b[0m \u001b[31m4.3 MB/s\u001b[0m eta \u001b[36m0:00:00\u001b[0m\n",
            "\u001b[?25hDownloading filetype-1.2.0-py2.py3-none-any.whl (19 kB)\n",
            "Downloading python_dotenv-1.0.1-py3-none-any.whl (19 kB)\n",
            "Installing collected packages: filetype, python-dotenv, idna, roboflow\n",
            "  Attempting uninstall: idna\n",
            "    Found existing installation: idna 3.10\n",
            "    Uninstalling idna-3.10:\n",
            "      Successfully uninstalled idna-3.10\n",
            "Successfully installed filetype-1.2.0 idna-3.7 python-dotenv-1.0.1 roboflow-1.1.51\n",
            "loading Roboflow workspace...\n",
            "loading Roboflow project...\n"
          ]
        },
        {
          "output_type": "stream",
          "name": "stderr",
          "text": [
            "Downloading Dataset Version Zip in human-detection-new-2-5 to yolov8-obb:: 100%|██████████| 90395/90395 [00:06<00:00, 13703.12it/s]"
          ]
        },
        {
          "output_type": "stream",
          "name": "stdout",
          "text": [
            "\n"
          ]
        },
        {
          "output_type": "stream",
          "name": "stderr",
          "text": [
            "\n",
            "Extracting Dataset Version Zip to human-detection-new-2-5 in yolov8-obb:: 100%|██████████| 3042/3042 [00:00<00:00, 4517.48it/s]\n"
          ]
        }
      ]
    },
    {
      "cell_type": "code",
      "source": [
        "!pip install ultralytics\n",
        "!pip install roboflow  # If downloading datasets\n"
      ],
      "metadata": {
        "colab": {
          "base_uri": "https://localhost:8080/"
        },
        "id": "xnwia4wklSUV",
        "outputId": "286dc10c-a268-4b4c-f28e-cf216a536a96"
      },
      "execution_count": 2,
      "outputs": [
        {
          "output_type": "stream",
          "name": "stdout",
          "text": [
            "Collecting ultralytics\n",
            "  Downloading ultralytics-8.3.63-py3-none-any.whl.metadata (35 kB)\n",
            "Requirement already satisfied: numpy>=1.23.0 in /usr/local/lib/python3.11/dist-packages (from ultralytics) (1.26.4)\n",
            "Requirement already satisfied: matplotlib>=3.3.0 in /usr/local/lib/python3.11/dist-packages (from ultralytics) (3.10.0)\n",
            "Requirement already satisfied: opencv-python>=4.6.0 in /usr/local/lib/python3.11/dist-packages (from ultralytics) (4.10.0.84)\n",
            "Requirement already satisfied: pillow>=7.1.2 in /usr/local/lib/python3.11/dist-packages (from ultralytics) (11.1.0)\n",
            "Requirement already satisfied: pyyaml>=5.3.1 in /usr/local/lib/python3.11/dist-packages (from ultralytics) (6.0.2)\n",
            "Requirement already satisfied: requests>=2.23.0 in /usr/local/lib/python3.11/dist-packages (from ultralytics) (2.32.3)\n",
            "Requirement already satisfied: scipy>=1.4.1 in /usr/local/lib/python3.11/dist-packages (from ultralytics) (1.13.1)\n",
            "Requirement already satisfied: torch>=1.8.0 in /usr/local/lib/python3.11/dist-packages (from ultralytics) (2.5.1+cu121)\n",
            "Requirement already satisfied: torchvision>=0.9.0 in /usr/local/lib/python3.11/dist-packages (from ultralytics) (0.20.1+cu121)\n",
            "Requirement already satisfied: tqdm>=4.64.0 in /usr/local/lib/python3.11/dist-packages (from ultralytics) (4.67.1)\n",
            "Requirement already satisfied: psutil in /usr/local/lib/python3.11/dist-packages (from ultralytics) (5.9.5)\n",
            "Requirement already satisfied: py-cpuinfo in /usr/local/lib/python3.11/dist-packages (from ultralytics) (9.0.0)\n",
            "Requirement already satisfied: pandas>=1.1.4 in /usr/local/lib/python3.11/dist-packages (from ultralytics) (2.2.2)\n",
            "Requirement already satisfied: seaborn>=0.11.0 in /usr/local/lib/python3.11/dist-packages (from ultralytics) (0.13.2)\n",
            "Collecting ultralytics-thop>=2.0.0 (from ultralytics)\n",
            "  Downloading ultralytics_thop-2.0.14-py3-none-any.whl.metadata (9.4 kB)\n",
            "Requirement already satisfied: contourpy>=1.0.1 in /usr/local/lib/python3.11/dist-packages (from matplotlib>=3.3.0->ultralytics) (1.3.1)\n",
            "Requirement already satisfied: cycler>=0.10 in /usr/local/lib/python3.11/dist-packages (from matplotlib>=3.3.0->ultralytics) (0.12.1)\n",
            "Requirement already satisfied: fonttools>=4.22.0 in /usr/local/lib/python3.11/dist-packages (from matplotlib>=3.3.0->ultralytics) (4.55.3)\n",
            "Requirement already satisfied: kiwisolver>=1.3.1 in /usr/local/lib/python3.11/dist-packages (from matplotlib>=3.3.0->ultralytics) (1.4.8)\n",
            "Requirement already satisfied: packaging>=20.0 in /usr/local/lib/python3.11/dist-packages (from matplotlib>=3.3.0->ultralytics) (24.2)\n",
            "Requirement already satisfied: pyparsing>=2.3.1 in /usr/local/lib/python3.11/dist-packages (from matplotlib>=3.3.0->ultralytics) (3.2.1)\n",
            "Requirement already satisfied: python-dateutil>=2.7 in /usr/local/lib/python3.11/dist-packages (from matplotlib>=3.3.0->ultralytics) (2.8.2)\n",
            "Requirement already satisfied: pytz>=2020.1 in /usr/local/lib/python3.11/dist-packages (from pandas>=1.1.4->ultralytics) (2024.2)\n",
            "Requirement already satisfied: tzdata>=2022.7 in /usr/local/lib/python3.11/dist-packages (from pandas>=1.1.4->ultralytics) (2024.2)\n",
            "Requirement already satisfied: charset-normalizer<4,>=2 in /usr/local/lib/python3.11/dist-packages (from requests>=2.23.0->ultralytics) (3.4.1)\n",
            "Requirement already satisfied: idna<4,>=2.5 in /usr/local/lib/python3.11/dist-packages (from requests>=2.23.0->ultralytics) (3.7)\n",
            "Requirement already satisfied: urllib3<3,>=1.21.1 in /usr/local/lib/python3.11/dist-packages (from requests>=2.23.0->ultralytics) (2.3.0)\n",
            "Requirement already satisfied: certifi>=2017.4.17 in /usr/local/lib/python3.11/dist-packages (from requests>=2.23.0->ultralytics) (2024.12.14)\n",
            "Requirement already satisfied: filelock in /usr/local/lib/python3.11/dist-packages (from torch>=1.8.0->ultralytics) (3.16.1)\n",
            "Requirement already satisfied: typing-extensions>=4.8.0 in /usr/local/lib/python3.11/dist-packages (from torch>=1.8.0->ultralytics) (4.12.2)\n",
            "Requirement already satisfied: networkx in /usr/local/lib/python3.11/dist-packages (from torch>=1.8.0->ultralytics) (3.4.2)\n",
            "Requirement already satisfied: jinja2 in /usr/local/lib/python3.11/dist-packages (from torch>=1.8.0->ultralytics) (3.1.5)\n",
            "Requirement already satisfied: fsspec in /usr/local/lib/python3.11/dist-packages (from torch>=1.8.0->ultralytics) (2024.10.0)\n",
            "Requirement already satisfied: nvidia-cuda-nvrtc-cu12==12.1.105 in /usr/local/lib/python3.11/dist-packages (from torch>=1.8.0->ultralytics) (12.1.105)\n",
            "Requirement already satisfied: nvidia-cuda-runtime-cu12==12.1.105 in /usr/local/lib/python3.11/dist-packages (from torch>=1.8.0->ultralytics) (12.1.105)\n",
            "Requirement already satisfied: nvidia-cuda-cupti-cu12==12.1.105 in /usr/local/lib/python3.11/dist-packages (from torch>=1.8.0->ultralytics) (12.1.105)\n",
            "Requirement already satisfied: nvidia-cudnn-cu12==9.1.0.70 in /usr/local/lib/python3.11/dist-packages (from torch>=1.8.0->ultralytics) (9.1.0.70)\n",
            "Requirement already satisfied: nvidia-cublas-cu12==12.1.3.1 in /usr/local/lib/python3.11/dist-packages (from torch>=1.8.0->ultralytics) (12.1.3.1)\n",
            "Requirement already satisfied: nvidia-cufft-cu12==11.0.2.54 in /usr/local/lib/python3.11/dist-packages (from torch>=1.8.0->ultralytics) (11.0.2.54)\n",
            "Requirement already satisfied: nvidia-curand-cu12==10.3.2.106 in /usr/local/lib/python3.11/dist-packages (from torch>=1.8.0->ultralytics) (10.3.2.106)\n",
            "Requirement already satisfied: nvidia-cusolver-cu12==11.4.5.107 in /usr/local/lib/python3.11/dist-packages (from torch>=1.8.0->ultralytics) (11.4.5.107)\n",
            "Requirement already satisfied: nvidia-cusparse-cu12==12.1.0.106 in /usr/local/lib/python3.11/dist-packages (from torch>=1.8.0->ultralytics) (12.1.0.106)\n",
            "Requirement already satisfied: nvidia-nccl-cu12==2.21.5 in /usr/local/lib/python3.11/dist-packages (from torch>=1.8.0->ultralytics) (2.21.5)\n",
            "Requirement already satisfied: nvidia-nvtx-cu12==12.1.105 in /usr/local/lib/python3.11/dist-packages (from torch>=1.8.0->ultralytics) (12.1.105)\n",
            "Requirement already satisfied: triton==3.1.0 in /usr/local/lib/python3.11/dist-packages (from torch>=1.8.0->ultralytics) (3.1.0)\n",
            "Requirement already satisfied: sympy==1.13.1 in /usr/local/lib/python3.11/dist-packages (from torch>=1.8.0->ultralytics) (1.13.1)\n",
            "Requirement already satisfied: nvidia-nvjitlink-cu12 in /usr/local/lib/python3.11/dist-packages (from nvidia-cusolver-cu12==11.4.5.107->torch>=1.8.0->ultralytics) (12.6.85)\n",
            "Requirement already satisfied: mpmath<1.4,>=1.1.0 in /usr/local/lib/python3.11/dist-packages (from sympy==1.13.1->torch>=1.8.0->ultralytics) (1.3.0)\n",
            "Requirement already satisfied: six>=1.5 in /usr/local/lib/python3.11/dist-packages (from python-dateutil>=2.7->matplotlib>=3.3.0->ultralytics) (1.17.0)\n",
            "Requirement already satisfied: MarkupSafe>=2.0 in /usr/local/lib/python3.11/dist-packages (from jinja2->torch>=1.8.0->ultralytics) (3.0.2)\n",
            "Downloading ultralytics-8.3.63-py3-none-any.whl (910 kB)\n",
            "\u001b[2K   \u001b[90m━━━━━━━━━━━━━━━━━━━━━━━━━━━━━━━━━━━━━━━━\u001b[0m \u001b[32m910.2/910.2 kB\u001b[0m \u001b[31m40.4 MB/s\u001b[0m eta \u001b[36m0:00:00\u001b[0m\n",
            "\u001b[?25hDownloading ultralytics_thop-2.0.14-py3-none-any.whl (26 kB)\n",
            "Installing collected packages: ultralytics-thop, ultralytics\n",
            "Successfully installed ultralytics-8.3.63 ultralytics-thop-2.0.14\n",
            "Requirement already satisfied: roboflow in /usr/local/lib/python3.11/dist-packages (1.1.51)\n",
            "Requirement already satisfied: certifi in /usr/local/lib/python3.11/dist-packages (from roboflow) (2024.12.14)\n",
            "Requirement already satisfied: idna==3.7 in /usr/local/lib/python3.11/dist-packages (from roboflow) (3.7)\n",
            "Requirement already satisfied: cycler in /usr/local/lib/python3.11/dist-packages (from roboflow) (0.12.1)\n",
            "Requirement already satisfied: kiwisolver>=1.3.1 in /usr/local/lib/python3.11/dist-packages (from roboflow) (1.4.8)\n",
            "Requirement already satisfied: matplotlib in /usr/local/lib/python3.11/dist-packages (from roboflow) (3.10.0)\n",
            "Requirement already satisfied: numpy>=1.18.5 in /usr/local/lib/python3.11/dist-packages (from roboflow) (1.26.4)\n",
            "Requirement already satisfied: opencv-python-headless==4.10.0.84 in /usr/local/lib/python3.11/dist-packages (from roboflow) (4.10.0.84)\n",
            "Requirement already satisfied: Pillow>=7.1.2 in /usr/local/lib/python3.11/dist-packages (from roboflow) (11.1.0)\n",
            "Requirement already satisfied: python-dateutil in /usr/local/lib/python3.11/dist-packages (from roboflow) (2.8.2)\n",
            "Requirement already satisfied: python-dotenv in /usr/local/lib/python3.11/dist-packages (from roboflow) (1.0.1)\n",
            "Requirement already satisfied: requests in /usr/local/lib/python3.11/dist-packages (from roboflow) (2.32.3)\n",
            "Requirement already satisfied: six in /usr/local/lib/python3.11/dist-packages (from roboflow) (1.17.0)\n",
            "Requirement already satisfied: urllib3>=1.26.6 in /usr/local/lib/python3.11/dist-packages (from roboflow) (2.3.0)\n",
            "Requirement already satisfied: tqdm>=4.41.0 in /usr/local/lib/python3.11/dist-packages (from roboflow) (4.67.1)\n",
            "Requirement already satisfied: PyYAML>=5.3.1 in /usr/local/lib/python3.11/dist-packages (from roboflow) (6.0.2)\n",
            "Requirement already satisfied: requests-toolbelt in /usr/local/lib/python3.11/dist-packages (from roboflow) (1.0.0)\n",
            "Requirement already satisfied: filetype in /usr/local/lib/python3.11/dist-packages (from roboflow) (1.2.0)\n",
            "Requirement already satisfied: contourpy>=1.0.1 in /usr/local/lib/python3.11/dist-packages (from matplotlib->roboflow) (1.3.1)\n",
            "Requirement already satisfied: fonttools>=4.22.0 in /usr/local/lib/python3.11/dist-packages (from matplotlib->roboflow) (4.55.3)\n",
            "Requirement already satisfied: packaging>=20.0 in /usr/local/lib/python3.11/dist-packages (from matplotlib->roboflow) (24.2)\n",
            "Requirement already satisfied: pyparsing>=2.3.1 in /usr/local/lib/python3.11/dist-packages (from matplotlib->roboflow) (3.2.1)\n",
            "Requirement already satisfied: charset-normalizer<4,>=2 in /usr/local/lib/python3.11/dist-packages (from requests->roboflow) (3.4.1)\n"
          ]
        }
      ]
    },
    {
      "cell_type": "code",
      "source": [
        "from ultralytics import YOLO\n",
        "\n",
        "# Verify the dataset\n",
        "model = YOLO(\"yolov8n.yaml\")\n",
        "model.data = \"human-detection-new-2/data.yaml\"\n",
        "model.info()\n"
      ],
      "metadata": {
        "colab": {
          "base_uri": "https://localhost:8080/"
        },
        "id": "eGEiyM1dlWZH",
        "outputId": "fe253987-2e3a-4623-9350-1ada2c34b65b"
      },
      "execution_count": 3,
      "outputs": [
        {
          "output_type": "stream",
          "name": "stdout",
          "text": [
            "Creating new Ultralytics Settings v0.0.6 file ✅ \n",
            "View Ultralytics Settings with 'yolo settings' or at '/root/.config/Ultralytics/settings.json'\n",
            "Update Settings with 'yolo settings key=value', i.e. 'yolo settings runs_dir=path/to/dir'. For help see https://docs.ultralytics.com/quickstart/#ultralytics-settings.\n",
            "YOLOv8n summary: 225 layers, 3,157,200 parameters, 3,157,184 gradients, 8.9 GFLOPs\n"
          ]
        },
        {
          "output_type": "execute_result",
          "data": {
            "text/plain": [
              "(225, 3157200, 3157184, 8.8575488)"
            ]
          },
          "metadata": {},
          "execution_count": 3
        }
      ]
    },
    {
      "cell_type": "code",
      "source": [
        "from ultralytics import YOLO\n",
        "\n",
        "# Load YOLOv8 model\n",
        "model = YOLO(\"yolov8n.pt\")\n",
        "\n",
        "# Train the model\n",
        "model.train(\n",
        "    data=\"/content/human-detection-new-2-5/data.yaml\",\n",
        "    epochs=20,  # Number of epochs\n",
        "    imgsz=640,  # Image size\n",
        "    batch=16,   # Batch size\n",
        "    name=\"human-detection-training\"\n",
        ")\n"
      ],
      "metadata": {
        "colab": {
          "base_uri": "https://localhost:8080/"
        },
        "id": "PRCPQWxOlhfL",
        "outputId": "ed53198c-f1b4-4cc6-c656-35f2c02cc83a"
      },
      "execution_count": 4,
      "outputs": [
        {
          "output_type": "stream",
          "name": "stdout",
          "text": [
            "Downloading https://github.com/ultralytics/assets/releases/download/v8.3.0/yolov8n.pt to 'yolov8n.pt'...\n"
          ]
        },
        {
          "output_type": "stream",
          "name": "stderr",
          "text": [
            "100%|██████████| 6.25M/6.25M [00:00<00:00, 286MB/s]"
          ]
        },
        {
          "output_type": "stream",
          "name": "stdout",
          "text": [
            "Ultralytics 8.3.63 🚀 Python-3.11.11 torch-2.5.1+cu121 CUDA:0 (Tesla T4, 15102MiB)\n"
          ]
        },
        {
          "output_type": "stream",
          "name": "stderr",
          "text": [
            "\n"
          ]
        },
        {
          "output_type": "stream",
          "name": "stdout",
          "text": [
            "\u001b[34m\u001b[1mengine/trainer: \u001b[0mtask=detect, mode=train, model=yolov8n.pt, data=/content/human-detection-new-2-5/data.yaml, epochs=20, time=None, patience=100, batch=16, imgsz=640, save=True, save_period=-1, cache=False, device=None, workers=8, project=None, name=human-detection-training, exist_ok=False, pretrained=True, optimizer=auto, verbose=True, seed=0, deterministic=True, single_cls=False, rect=False, cos_lr=False, close_mosaic=10, resume=False, amp=True, fraction=1.0, profile=False, freeze=None, multi_scale=False, overlap_mask=True, mask_ratio=4, dropout=0.0, val=True, split=val, save_json=False, save_hybrid=False, conf=None, iou=0.7, max_det=300, half=False, dnn=False, plots=True, source=None, vid_stride=1, stream_buffer=False, visualize=False, augment=False, agnostic_nms=False, classes=None, retina_masks=False, embed=None, show=False, save_frames=False, save_txt=False, save_conf=False, save_crop=False, show_labels=True, show_conf=True, show_boxes=True, line_width=None, format=torchscript, keras=False, optimize=False, int8=False, dynamic=False, simplify=True, opset=None, workspace=None, nms=False, lr0=0.01, lrf=0.01, momentum=0.937, weight_decay=0.0005, warmup_epochs=3.0, warmup_momentum=0.8, warmup_bias_lr=0.1, box=7.5, cls=0.5, dfl=1.5, pose=12.0, kobj=1.0, nbs=64, hsv_h=0.015, hsv_s=0.7, hsv_v=0.4, degrees=0.0, translate=0.1, scale=0.5, shear=0.0, perspective=0.0, flipud=0.0, fliplr=0.5, bgr=0.0, mosaic=1.0, mixup=0.0, copy_paste=0.0, copy_paste_mode=flip, auto_augment=randaugment, erasing=0.4, crop_fraction=1.0, cfg=None, tracker=botsort.yaml, save_dir=runs/detect/human-detection-training\n",
            "Downloading https://ultralytics.com/assets/Arial.ttf to '/root/.config/Ultralytics/Arial.ttf'...\n"
          ]
        },
        {
          "output_type": "stream",
          "name": "stderr",
          "text": [
            "100%|██████████| 755k/755k [00:00<00:00, 123MB/s]\n"
          ]
        },
        {
          "output_type": "stream",
          "name": "stdout",
          "text": [
            "Overriding model.yaml nc=80 with nc=1\n",
            "\n",
            "                   from  n    params  module                                       arguments                     \n",
            "  0                  -1  1       464  ultralytics.nn.modules.conv.Conv             [3, 16, 3, 2]                 \n",
            "  1                  -1  1      4672  ultralytics.nn.modules.conv.Conv             [16, 32, 3, 2]                \n",
            "  2                  -1  1      7360  ultralytics.nn.modules.block.C2f             [32, 32, 1, True]             \n",
            "  3                  -1  1     18560  ultralytics.nn.modules.conv.Conv             [32, 64, 3, 2]                \n",
            "  4                  -1  2     49664  ultralytics.nn.modules.block.C2f             [64, 64, 2, True]             \n",
            "  5                  -1  1     73984  ultralytics.nn.modules.conv.Conv             [64, 128, 3, 2]               \n",
            "  6                  -1  2    197632  ultralytics.nn.modules.block.C2f             [128, 128, 2, True]           \n",
            "  7                  -1  1    295424  ultralytics.nn.modules.conv.Conv             [128, 256, 3, 2]              \n",
            "  8                  -1  1    460288  ultralytics.nn.modules.block.C2f             [256, 256, 1, True]           \n",
            "  9                  -1  1    164608  ultralytics.nn.modules.block.SPPF            [256, 256, 5]                 \n",
            " 10                  -1  1         0  torch.nn.modules.upsampling.Upsample         [None, 2, 'nearest']          \n",
            " 11             [-1, 6]  1         0  ultralytics.nn.modules.conv.Concat           [1]                           \n",
            " 12                  -1  1    148224  ultralytics.nn.modules.block.C2f             [384, 128, 1]                 \n",
            " 13                  -1  1         0  torch.nn.modules.upsampling.Upsample         [None, 2, 'nearest']          \n",
            " 14             [-1, 4]  1         0  ultralytics.nn.modules.conv.Concat           [1]                           \n",
            " 15                  -1  1     37248  ultralytics.nn.modules.block.C2f             [192, 64, 1]                  \n",
            " 16                  -1  1     36992  ultralytics.nn.modules.conv.Conv             [64, 64, 3, 2]                \n",
            " 17            [-1, 12]  1         0  ultralytics.nn.modules.conv.Concat           [1]                           \n",
            " 18                  -1  1    123648  ultralytics.nn.modules.block.C2f             [192, 128, 1]                 \n",
            " 19                  -1  1    147712  ultralytics.nn.modules.conv.Conv             [128, 128, 3, 2]              \n",
            " 20             [-1, 9]  1         0  ultralytics.nn.modules.conv.Concat           [1]                           \n",
            " 21                  -1  1    493056  ultralytics.nn.modules.block.C2f             [384, 256, 1]                 \n",
            " 22        [15, 18, 21]  1    751507  ultralytics.nn.modules.head.Detect           [1, [64, 128, 256]]           \n",
            "Model summary: 225 layers, 3,011,043 parameters, 3,011,027 gradients, 8.2 GFLOPs\n",
            "\n",
            "Transferred 319/355 items from pretrained weights\n",
            "\u001b[34m\u001b[1mTensorBoard: \u001b[0mStart with 'tensorboard --logdir runs/detect/human-detection-training', view at http://localhost:6006/\n",
            "Freezing layer 'model.22.dfl.conv.weight'\n",
            "\u001b[34m\u001b[1mAMP: \u001b[0mrunning Automatic Mixed Precision (AMP) checks...\n",
            "Downloading https://github.com/ultralytics/assets/releases/download/v8.3.0/yolo11n.pt to 'yolo11n.pt'...\n"
          ]
        },
        {
          "output_type": "stream",
          "name": "stderr",
          "text": [
            "100%|██████████| 5.35M/5.35M [00:00<00:00, 391MB/s]\n"
          ]
        },
        {
          "output_type": "stream",
          "name": "stdout",
          "text": [
            "\u001b[34m\u001b[1mAMP: \u001b[0mchecks passed ✅\n"
          ]
        },
        {
          "output_type": "stream",
          "name": "stderr",
          "text": [
            "\u001b[34m\u001b[1mtrain: \u001b[0mScanning /content/human-detection-new-2-5/train/labels... 1326 images, 0 backgrounds, 0 corrupt: 100%|██████████| 1326/1326 [00:00<00:00, 2057.51it/s]"
          ]
        },
        {
          "output_type": "stream",
          "name": "stdout",
          "text": [
            "\u001b[34m\u001b[1mtrain: \u001b[0mNew cache created: /content/human-detection-new-2-5/train/labels.cache\n"
          ]
        },
        {
          "output_type": "stream",
          "name": "stderr",
          "text": [
            "\n"
          ]
        },
        {
          "output_type": "stream",
          "name": "stdout",
          "text": [
            "\u001b[34m\u001b[1malbumentations: \u001b[0mBlur(p=0.01, blur_limit=(3, 7)), MedianBlur(p=0.01, blur_limit=(3, 7)), ToGray(p=0.01, num_output_channels=3, method='weighted_average'), CLAHE(p=0.01, clip_limit=(1.0, 4.0), tile_grid_size=(8, 8))\n"
          ]
        },
        {
          "output_type": "stream",
          "name": "stderr",
          "text": [
            "A new version of Albumentations is available: 2.0.0 (you have 1.4.20). Upgrade using: pip install -U albumentations. To disable automatic update checks, set the environment variable NO_ALBUMENTATIONS_UPDATE to 1.\n",
            "\u001b[34m\u001b[1mval: \u001b[0mScanning /content/human-detection-new-2-5/valid/labels... 126 images, 0 backgrounds, 0 corrupt: 100%|██████████| 126/126 [00:00<00:00, 1070.99it/s]"
          ]
        },
        {
          "output_type": "stream",
          "name": "stdout",
          "text": [
            "\u001b[34m\u001b[1mval: \u001b[0mNew cache created: /content/human-detection-new-2-5/valid/labels.cache\n"
          ]
        },
        {
          "output_type": "stream",
          "name": "stderr",
          "text": [
            "\n"
          ]
        },
        {
          "output_type": "stream",
          "name": "stdout",
          "text": [
            "Plotting labels to runs/detect/human-detection-training/labels.jpg... \n",
            "\u001b[34m\u001b[1moptimizer:\u001b[0m 'optimizer=auto' found, ignoring 'lr0=0.01' and 'momentum=0.937' and determining best 'optimizer', 'lr0' and 'momentum' automatically... \n",
            "\u001b[34m\u001b[1moptimizer:\u001b[0m AdamW(lr=0.002, momentum=0.9) with parameter groups 57 weight(decay=0.0), 64 weight(decay=0.0005), 63 bias(decay=0.0)\n",
            "\u001b[34m\u001b[1mTensorBoard: \u001b[0mmodel graph visualization added ✅\n",
            "Image sizes 640 train, 640 val\n",
            "Using 2 dataloader workers\n",
            "Logging results to \u001b[1mruns/detect/human-detection-training\u001b[0m\n",
            "Starting training for 20 epochs...\n",
            "\n",
            "      Epoch    GPU_mem   box_loss   cls_loss   dfl_loss  Instances       Size\n"
          ]
        },
        {
          "output_type": "stream",
          "name": "stderr",
          "text": [
            "       1/20      2.29G      1.742      2.094      1.659         58        640: 100%|██████████| 83/83 [00:32<00:00,  2.58it/s]\n",
            "                 Class     Images  Instances      Box(P          R      mAP50  mAP50-95): 100%|██████████| 4/4 [00:02<00:00,  1.46it/s]"
          ]
        },
        {
          "output_type": "stream",
          "name": "stdout",
          "text": [
            "                   all        126        288      0.413      0.448      0.354      0.133\n"
          ]
        },
        {
          "output_type": "stream",
          "name": "stderr",
          "text": [
            "\n"
          ]
        },
        {
          "output_type": "stream",
          "name": "stdout",
          "text": [
            "\n",
            "      Epoch    GPU_mem   box_loss   cls_loss   dfl_loss  Instances       Size\n"
          ]
        },
        {
          "output_type": "stream",
          "name": "stderr",
          "text": [
            "       2/20      2.26G      1.818      2.013        1.8         75        640: 100%|██████████| 83/83 [00:29<00:00,  2.86it/s]\n",
            "                 Class     Images  Instances      Box(P          R      mAP50  mAP50-95): 100%|██████████| 4/4 [00:01<00:00,  2.65it/s]"
          ]
        },
        {
          "output_type": "stream",
          "name": "stdout",
          "text": [
            "                   all        126        288      0.525      0.396      0.371      0.116\n"
          ]
        },
        {
          "output_type": "stream",
          "name": "stderr",
          "text": [
            "\n"
          ]
        },
        {
          "output_type": "stream",
          "name": "stdout",
          "text": [
            "\n",
            "      Epoch    GPU_mem   box_loss   cls_loss   dfl_loss  Instances       Size\n"
          ]
        },
        {
          "output_type": "stream",
          "name": "stderr",
          "text": [
            "       3/20      2.18G      1.916      2.012      1.862         68        640: 100%|██████████| 83/83 [00:28<00:00,  2.91it/s]\n",
            "                 Class     Images  Instances      Box(P          R      mAP50  mAP50-95): 100%|██████████| 4/4 [00:02<00:00,  1.65it/s]"
          ]
        },
        {
          "output_type": "stream",
          "name": "stdout",
          "text": [
            "                   all        126        288      0.462      0.438      0.387      0.126\n"
          ]
        },
        {
          "output_type": "stream",
          "name": "stderr",
          "text": [
            "\n"
          ]
        },
        {
          "output_type": "stream",
          "name": "stdout",
          "text": [
            "\n",
            "      Epoch    GPU_mem   box_loss   cls_loss   dfl_loss  Instances       Size\n"
          ]
        },
        {
          "output_type": "stream",
          "name": "stderr",
          "text": [
            "       4/20      2.24G      1.907      1.943      1.863         53        640: 100%|██████████| 83/83 [00:27<00:00,  3.05it/s]\n",
            "                 Class     Images  Instances      Box(P          R      mAP50  mAP50-95): 100%|██████████| 4/4 [00:02<00:00,  1.97it/s]"
          ]
        },
        {
          "output_type": "stream",
          "name": "stdout",
          "text": [
            "                   all        126        288      0.305      0.427      0.215     0.0646\n"
          ]
        },
        {
          "output_type": "stream",
          "name": "stderr",
          "text": [
            "\n"
          ]
        },
        {
          "output_type": "stream",
          "name": "stdout",
          "text": [
            "\n",
            "      Epoch    GPU_mem   box_loss   cls_loss   dfl_loss  Instances       Size\n"
          ]
        },
        {
          "output_type": "stream",
          "name": "stderr",
          "text": [
            "       5/20      2.19G       1.86      1.853      1.833         75        640: 100%|██████████| 83/83 [00:29<00:00,  2.82it/s]\n",
            "                 Class     Images  Instances      Box(P          R      mAP50  mAP50-95): 100%|██████████| 4/4 [00:01<00:00,  3.16it/s]"
          ]
        },
        {
          "output_type": "stream",
          "name": "stdout",
          "text": [
            "                   all        126        288      0.731      0.602      0.688      0.305\n"
          ]
        },
        {
          "output_type": "stream",
          "name": "stderr",
          "text": [
            "\n"
          ]
        },
        {
          "output_type": "stream",
          "name": "stdout",
          "text": [
            "\n",
            "      Epoch    GPU_mem   box_loss   cls_loss   dfl_loss  Instances       Size\n"
          ]
        },
        {
          "output_type": "stream",
          "name": "stderr",
          "text": [
            "       6/20      2.17G      1.816      1.814      1.798         58        640: 100%|██████████| 83/83 [00:30<00:00,  2.75it/s]\n",
            "                 Class     Images  Instances      Box(P          R      mAP50  mAP50-95): 100%|██████████| 4/4 [00:01<00:00,  2.63it/s]"
          ]
        },
        {
          "output_type": "stream",
          "name": "stdout",
          "text": [
            "                   all        126        288      0.533      0.559      0.482      0.201\n"
          ]
        },
        {
          "output_type": "stream",
          "name": "stderr",
          "text": [
            "\n"
          ]
        },
        {
          "output_type": "stream",
          "name": "stdout",
          "text": [
            "\n",
            "      Epoch    GPU_mem   box_loss   cls_loss   dfl_loss  Instances       Size\n"
          ]
        },
        {
          "output_type": "stream",
          "name": "stderr",
          "text": [
            "       7/20      2.16G      1.777      1.744      1.763         86        640: 100%|██████████| 83/83 [00:26<00:00,  3.14it/s]\n",
            "                 Class     Images  Instances      Box(P          R      mAP50  mAP50-95): 100%|██████████| 4/4 [00:02<00:00,  1.83it/s]"
          ]
        },
        {
          "output_type": "stream",
          "name": "stdout",
          "text": [
            "                   all        126        288       0.56      0.677       0.64      0.261\n"
          ]
        },
        {
          "output_type": "stream",
          "name": "stderr",
          "text": [
            "\n"
          ]
        },
        {
          "output_type": "stream",
          "name": "stdout",
          "text": [
            "\n",
            "      Epoch    GPU_mem   box_loss   cls_loss   dfl_loss  Instances       Size\n"
          ]
        },
        {
          "output_type": "stream",
          "name": "stderr",
          "text": [
            "       8/20      2.27G      1.761      1.713      1.741         69        640: 100%|██████████| 83/83 [00:27<00:00,  2.98it/s]\n",
            "                 Class     Images  Instances      Box(P          R      mAP50  mAP50-95): 100%|██████████| 4/4 [00:01<00:00,  2.74it/s]"
          ]
        },
        {
          "output_type": "stream",
          "name": "stdout",
          "text": [
            "                   all        126        288      0.741      0.656      0.725      0.325\n"
          ]
        },
        {
          "output_type": "stream",
          "name": "stderr",
          "text": [
            "\n"
          ]
        },
        {
          "output_type": "stream",
          "name": "stdout",
          "text": [
            "\n",
            "      Epoch    GPU_mem   box_loss   cls_loss   dfl_loss  Instances       Size\n"
          ]
        },
        {
          "output_type": "stream",
          "name": "stderr",
          "text": [
            "       9/20      2.18G       1.73      1.629      1.732         61        640: 100%|██████████| 83/83 [00:29<00:00,  2.83it/s]\n",
            "                 Class     Images  Instances      Box(P          R      mAP50  mAP50-95): 100%|██████████| 4/4 [00:01<00:00,  2.67it/s]"
          ]
        },
        {
          "output_type": "stream",
          "name": "stdout",
          "text": [
            "                   all        126        288       0.79      0.703      0.769      0.364\n"
          ]
        },
        {
          "output_type": "stream",
          "name": "stderr",
          "text": [
            "\n"
          ]
        },
        {
          "output_type": "stream",
          "name": "stdout",
          "text": [
            "\n",
            "      Epoch    GPU_mem   box_loss   cls_loss   dfl_loss  Instances       Size\n"
          ]
        },
        {
          "output_type": "stream",
          "name": "stderr",
          "text": [
            "      10/20      2.17G      1.703      1.611      1.705         64        640: 100%|██████████| 83/83 [00:26<00:00,  3.10it/s]\n",
            "                 Class     Images  Instances      Box(P          R      mAP50  mAP50-95): 100%|██████████| 4/4 [00:02<00:00,  1.72it/s]"
          ]
        },
        {
          "output_type": "stream",
          "name": "stdout",
          "text": [
            "                   all        126        288      0.814      0.698      0.792      0.392\n"
          ]
        },
        {
          "output_type": "stream",
          "name": "stderr",
          "text": [
            "\n"
          ]
        },
        {
          "output_type": "stream",
          "name": "stdout",
          "text": [
            "Closing dataloader mosaic\n",
            "\u001b[34m\u001b[1malbumentations: \u001b[0mBlur(p=0.01, blur_limit=(3, 7)), MedianBlur(p=0.01, blur_limit=(3, 7)), ToGray(p=0.01, num_output_channels=3, method='weighted_average'), CLAHE(p=0.01, clip_limit=(1.0, 4.0), tile_grid_size=(8, 8))\n",
            "\n",
            "      Epoch    GPU_mem   box_loss   cls_loss   dfl_loss  Instances       Size\n"
          ]
        },
        {
          "output_type": "stream",
          "name": "stderr",
          "text": [
            "      11/20      2.15G      1.676       1.44      1.747         40        640: 100%|██████████| 83/83 [00:26<00:00,  3.13it/s]\n",
            "                 Class     Images  Instances      Box(P          R      mAP50  mAP50-95): 100%|██████████| 4/4 [00:01<00:00,  2.97it/s]"
          ]
        },
        {
          "output_type": "stream",
          "name": "stdout",
          "text": [
            "                   all        126        288      0.802      0.719       0.79      0.364\n"
          ]
        },
        {
          "output_type": "stream",
          "name": "stderr",
          "text": [
            "\n"
          ]
        },
        {
          "output_type": "stream",
          "name": "stdout",
          "text": [
            "\n",
            "      Epoch    GPU_mem   box_loss   cls_loss   dfl_loss  Instances       Size\n"
          ]
        },
        {
          "output_type": "stream",
          "name": "stderr",
          "text": [
            "      12/20      2.22G      1.628      1.338      1.707         28        640: 100%|██████████| 83/83 [00:26<00:00,  3.11it/s]\n",
            "                 Class     Images  Instances      Box(P          R      mAP50  mAP50-95): 100%|██████████| 4/4 [00:02<00:00,  1.97it/s]"
          ]
        },
        {
          "output_type": "stream",
          "name": "stdout",
          "text": [
            "                   all        126        288      0.836       0.76      0.828      0.394\n"
          ]
        },
        {
          "output_type": "stream",
          "name": "stderr",
          "text": [
            "\n"
          ]
        },
        {
          "output_type": "stream",
          "name": "stdout",
          "text": [
            "\n",
            "      Epoch    GPU_mem   box_loss   cls_loss   dfl_loss  Instances       Size\n"
          ]
        },
        {
          "output_type": "stream",
          "name": "stderr",
          "text": [
            "      13/20      2.16G      1.595      1.271      1.681         25        640: 100%|██████████| 83/83 [00:24<00:00,  3.43it/s]\n",
            "                 Class     Images  Instances      Box(P          R      mAP50  mAP50-95): 100%|██████████| 4/4 [00:01<00:00,  2.98it/s]"
          ]
        },
        {
          "output_type": "stream",
          "name": "stdout",
          "text": [
            "                   all        126        288      0.816      0.724      0.798      0.384\n"
          ]
        },
        {
          "output_type": "stream",
          "name": "stderr",
          "text": [
            "\n"
          ]
        },
        {
          "output_type": "stream",
          "name": "stdout",
          "text": [
            "\n",
            "      Epoch    GPU_mem   box_loss   cls_loss   dfl_loss  Instances       Size\n"
          ]
        },
        {
          "output_type": "stream",
          "name": "stderr",
          "text": [
            "      14/20      2.16G      1.563      1.207      1.633         26        640: 100%|██████████| 83/83 [00:26<00:00,  3.11it/s]\n",
            "                 Class     Images  Instances      Box(P          R      mAP50  mAP50-95): 100%|██████████| 4/4 [00:01<00:00,  2.01it/s]"
          ]
        },
        {
          "output_type": "stream",
          "name": "stdout",
          "text": [
            "                   all        126        288      0.809      0.788      0.839      0.428\n"
          ]
        },
        {
          "output_type": "stream",
          "name": "stderr",
          "text": [
            "\n"
          ]
        },
        {
          "output_type": "stream",
          "name": "stdout",
          "text": [
            "\n",
            "      Epoch    GPU_mem   box_loss   cls_loss   dfl_loss  Instances       Size\n"
          ]
        },
        {
          "output_type": "stream",
          "name": "stderr",
          "text": [
            "      15/20      2.16G      1.524       1.13      1.614         36        640: 100%|██████████| 83/83 [00:23<00:00,  3.48it/s]\n",
            "                 Class     Images  Instances      Box(P          R      mAP50  mAP50-95): 100%|██████████| 4/4 [00:01<00:00,  2.83it/s]"
          ]
        },
        {
          "output_type": "stream",
          "name": "stdout",
          "text": [
            "                   all        126        288      0.823      0.785      0.836      0.417\n"
          ]
        },
        {
          "output_type": "stream",
          "name": "stderr",
          "text": [
            "\n"
          ]
        },
        {
          "output_type": "stream",
          "name": "stdout",
          "text": [
            "\n",
            "      Epoch    GPU_mem   box_loss   cls_loss   dfl_loss  Instances       Size\n"
          ]
        },
        {
          "output_type": "stream",
          "name": "stderr",
          "text": [
            "      16/20      2.24G      1.478      1.081      1.566         24        640: 100%|██████████| 83/83 [00:26<00:00,  3.10it/s]\n",
            "                 Class     Images  Instances      Box(P          R      mAP50  mAP50-95): 100%|██████████| 4/4 [00:01<00:00,  2.68it/s]"
          ]
        },
        {
          "output_type": "stream",
          "name": "stdout",
          "text": [
            "                   all        126        288      0.882      0.782      0.851       0.42\n"
          ]
        },
        {
          "output_type": "stream",
          "name": "stderr",
          "text": [
            "\n"
          ]
        },
        {
          "output_type": "stream",
          "name": "stdout",
          "text": [
            "\n",
            "      Epoch    GPU_mem   box_loss   cls_loss   dfl_loss  Instances       Size\n"
          ]
        },
        {
          "output_type": "stream",
          "name": "stderr",
          "text": [
            "      17/20      2.16G      1.483      1.069      1.561         30        640: 100%|██████████| 83/83 [00:23<00:00,  3.48it/s]\n",
            "                 Class     Images  Instances      Box(P          R      mAP50  mAP50-95): 100%|██████████| 4/4 [00:01<00:00,  2.90it/s]"
          ]
        },
        {
          "output_type": "stream",
          "name": "stdout",
          "text": [
            "                   all        126        288      0.834      0.786      0.864      0.436\n"
          ]
        },
        {
          "output_type": "stream",
          "name": "stderr",
          "text": [
            "\n"
          ]
        },
        {
          "output_type": "stream",
          "name": "stdout",
          "text": [
            "\n",
            "      Epoch    GPU_mem   box_loss   cls_loss   dfl_loss  Instances       Size\n"
          ]
        },
        {
          "output_type": "stream",
          "name": "stderr",
          "text": [
            "      18/20      2.17G      1.439      1.004      1.544         43        640: 100%|██████████| 83/83 [00:26<00:00,  3.18it/s]\n",
            "                 Class     Images  Instances      Box(P          R      mAP50  mAP50-95): 100%|██████████| 4/4 [00:02<00:00,  1.56it/s]"
          ]
        },
        {
          "output_type": "stream",
          "name": "stdout",
          "text": [
            "                   all        126        288       0.85      0.799      0.882      0.471\n"
          ]
        },
        {
          "output_type": "stream",
          "name": "stderr",
          "text": [
            "\n"
          ]
        },
        {
          "output_type": "stream",
          "name": "stdout",
          "text": [
            "\n",
            "      Epoch    GPU_mem   box_loss   cls_loss   dfl_loss  Instances       Size\n"
          ]
        },
        {
          "output_type": "stream",
          "name": "stderr",
          "text": [
            "      19/20      2.14G      1.393     0.9583      1.508         31        640: 100%|██████████| 83/83 [00:24<00:00,  3.42it/s]\n",
            "                 Class     Images  Instances      Box(P          R      mAP50  mAP50-95): 100%|██████████| 4/4 [00:01<00:00,  2.89it/s]"
          ]
        },
        {
          "output_type": "stream",
          "name": "stdout",
          "text": [
            "                   all        126        288      0.864      0.788      0.866      0.458\n"
          ]
        },
        {
          "output_type": "stream",
          "name": "stderr",
          "text": [
            "\n"
          ]
        },
        {
          "output_type": "stream",
          "name": "stdout",
          "text": [
            "\n",
            "      Epoch    GPU_mem   box_loss   cls_loss   dfl_loss  Instances       Size\n"
          ]
        },
        {
          "output_type": "stream",
          "name": "stderr",
          "text": [
            "      20/20      2.22G      1.357     0.9434      1.482         38        640: 100%|██████████| 83/83 [00:25<00:00,  3.25it/s]\n",
            "                 Class     Images  Instances      Box(P          R      mAP50  mAP50-95): 100%|██████████| 4/4 [00:02<00:00,  1.67it/s]"
          ]
        },
        {
          "output_type": "stream",
          "name": "stdout",
          "text": [
            "                   all        126        288      0.907      0.795      0.884       0.45\n"
          ]
        },
        {
          "output_type": "stream",
          "name": "stderr",
          "text": [
            "\n"
          ]
        },
        {
          "output_type": "stream",
          "name": "stdout",
          "text": [
            "\n",
            "20 epochs completed in 0.166 hours.\n",
            "Optimizer stripped from runs/detect/human-detection-training/weights/last.pt, 6.2MB\n",
            "Optimizer stripped from runs/detect/human-detection-training/weights/best.pt, 6.2MB\n",
            "\n",
            "Validating runs/detect/human-detection-training/weights/best.pt...\n",
            "Ultralytics 8.3.63 🚀 Python-3.11.11 torch-2.5.1+cu121 CUDA:0 (Tesla T4, 15102MiB)\n",
            "Model summary (fused): 168 layers, 3,005,843 parameters, 0 gradients, 8.1 GFLOPs\n"
          ]
        },
        {
          "output_type": "stream",
          "name": "stderr",
          "text": [
            "                 Class     Images  Instances      Box(P          R      mAP50  mAP50-95): 100%|██████████| 4/4 [00:02<00:00,  1.55it/s]\n"
          ]
        },
        {
          "output_type": "stream",
          "name": "stdout",
          "text": [
            "                   all        126        288      0.855      0.795      0.882      0.471\n",
            "Speed: 0.2ms preprocess, 2.8ms inference, 0.0ms loss, 5.3ms postprocess per image\n",
            "Results saved to \u001b[1mruns/detect/human-detection-training\u001b[0m\n"
          ]
        },
        {
          "output_type": "execute_result",
          "data": {
            "text/plain": [
              "ultralytics.utils.metrics.DetMetrics object with attributes:\n",
              "\n",
              "ap_class_index: array([0])\n",
              "box: ultralytics.utils.metrics.Metric object\n",
              "confusion_matrix: <ultralytics.utils.metrics.ConfusionMatrix object at 0x781873da5750>\n",
              "curves: ['Precision-Recall(B)', 'F1-Confidence(B)', 'Precision-Confidence(B)', 'Recall-Confidence(B)']\n",
              "curves_results: [[array([          0,    0.001001,    0.002002,    0.003003,    0.004004,    0.005005,    0.006006,    0.007007,    0.008008,    0.009009,     0.01001,    0.011011,    0.012012,    0.013013,    0.014014,    0.015015,    0.016016,    0.017017,    0.018018,    0.019019,     0.02002,    0.021021,    0.022022,    0.023023,\n",
              "          0.024024,    0.025025,    0.026026,    0.027027,    0.028028,    0.029029,     0.03003,    0.031031,    0.032032,    0.033033,    0.034034,    0.035035,    0.036036,    0.037037,    0.038038,    0.039039,     0.04004,    0.041041,    0.042042,    0.043043,    0.044044,    0.045045,    0.046046,    0.047047,\n",
              "          0.048048,    0.049049,     0.05005,    0.051051,    0.052052,    0.053053,    0.054054,    0.055055,    0.056056,    0.057057,    0.058058,    0.059059,     0.06006,    0.061061,    0.062062,    0.063063,    0.064064,    0.065065,    0.066066,    0.067067,    0.068068,    0.069069,     0.07007,    0.071071,\n",
              "          0.072072,    0.073073,    0.074074,    0.075075,    0.076076,    0.077077,    0.078078,    0.079079,     0.08008,    0.081081,    0.082082,    0.083083,    0.084084,    0.085085,    0.086086,    0.087087,    0.088088,    0.089089,     0.09009,    0.091091,    0.092092,    0.093093,    0.094094,    0.095095,\n",
              "          0.096096,    0.097097,    0.098098,    0.099099,      0.1001,      0.1011,      0.1021,      0.1031,      0.1041,     0.10511,     0.10611,     0.10711,     0.10811,     0.10911,     0.11011,     0.11111,     0.11211,     0.11311,     0.11411,     0.11512,     0.11612,     0.11712,     0.11812,     0.11912,\n",
              "           0.12012,     0.12112,     0.12212,     0.12312,     0.12412,     0.12513,     0.12613,     0.12713,     0.12813,     0.12913,     0.13013,     0.13113,     0.13213,     0.13313,     0.13413,     0.13514,     0.13614,     0.13714,     0.13814,     0.13914,     0.14014,     0.14114,     0.14214,     0.14314,\n",
              "           0.14414,     0.14515,     0.14615,     0.14715,     0.14815,     0.14915,     0.15015,     0.15115,     0.15215,     0.15315,     0.15415,     0.15516,     0.15616,     0.15716,     0.15816,     0.15916,     0.16016,     0.16116,     0.16216,     0.16316,     0.16416,     0.16517,     0.16617,     0.16717,\n",
              "           0.16817,     0.16917,     0.17017,     0.17117,     0.17217,     0.17317,     0.17417,     0.17518,     0.17618,     0.17718,     0.17818,     0.17918,     0.18018,     0.18118,     0.18218,     0.18318,     0.18418,     0.18519,     0.18619,     0.18719,     0.18819,     0.18919,     0.19019,     0.19119,\n",
              "           0.19219,     0.19319,     0.19419,      0.1952,      0.1962,      0.1972,      0.1982,      0.1992,      0.2002,      0.2012,      0.2022,      0.2032,      0.2042,     0.20521,     0.20621,     0.20721,     0.20821,     0.20921,     0.21021,     0.21121,     0.21221,     0.21321,     0.21421,     0.21522,\n",
              "           0.21622,     0.21722,     0.21822,     0.21922,     0.22022,     0.22122,     0.22222,     0.22322,     0.22422,     0.22523,     0.22623,     0.22723,     0.22823,     0.22923,     0.23023,     0.23123,     0.23223,     0.23323,     0.23423,     0.23524,     0.23624,     0.23724,     0.23824,     0.23924,\n",
              "           0.24024,     0.24124,     0.24224,     0.24324,     0.24424,     0.24525,     0.24625,     0.24725,     0.24825,     0.24925,     0.25025,     0.25125,     0.25225,     0.25325,     0.25425,     0.25526,     0.25626,     0.25726,     0.25826,     0.25926,     0.26026,     0.26126,     0.26226,     0.26326,\n",
              "           0.26426,     0.26527,     0.26627,     0.26727,     0.26827,     0.26927,     0.27027,     0.27127,     0.27227,     0.27327,     0.27427,     0.27528,     0.27628,     0.27728,     0.27828,     0.27928,     0.28028,     0.28128,     0.28228,     0.28328,     0.28428,     0.28529,     0.28629,     0.28729,\n",
              "           0.28829,     0.28929,     0.29029,     0.29129,     0.29229,     0.29329,     0.29429,      0.2953,      0.2963,      0.2973,      0.2983,      0.2993,      0.3003,      0.3013,      0.3023,      0.3033,      0.3043,     0.30531,     0.30631,     0.30731,     0.30831,     0.30931,     0.31031,     0.31131,\n",
              "           0.31231,     0.31331,     0.31431,     0.31532,     0.31632,     0.31732,     0.31832,     0.31932,     0.32032,     0.32132,     0.32232,     0.32332,     0.32432,     0.32533,     0.32633,     0.32733,     0.32833,     0.32933,     0.33033,     0.33133,     0.33233,     0.33333,     0.33433,     0.33534,\n",
              "           0.33634,     0.33734,     0.33834,     0.33934,     0.34034,     0.34134,     0.34234,     0.34334,     0.34434,     0.34535,     0.34635,     0.34735,     0.34835,     0.34935,     0.35035,     0.35135,     0.35235,     0.35335,     0.35435,     0.35536,     0.35636,     0.35736,     0.35836,     0.35936,\n",
              "           0.36036,     0.36136,     0.36236,     0.36336,     0.36436,     0.36537,     0.36637,     0.36737,     0.36837,     0.36937,     0.37037,     0.37137,     0.37237,     0.37337,     0.37437,     0.37538,     0.37638,     0.37738,     0.37838,     0.37938,     0.38038,     0.38138,     0.38238,     0.38338,\n",
              "           0.38438,     0.38539,     0.38639,     0.38739,     0.38839,     0.38939,     0.39039,     0.39139,     0.39239,     0.39339,     0.39439,      0.3954,      0.3964,      0.3974,      0.3984,      0.3994,      0.4004,      0.4014,      0.4024,      0.4034,      0.4044,     0.40541,     0.40641,     0.40741,\n",
              "           0.40841,     0.40941,     0.41041,     0.41141,     0.41241,     0.41341,     0.41441,     0.41542,     0.41642,     0.41742,     0.41842,     0.41942,     0.42042,     0.42142,     0.42242,     0.42342,     0.42442,     0.42543,     0.42643,     0.42743,     0.42843,     0.42943,     0.43043,     0.43143,\n",
              "           0.43243,     0.43343,     0.43443,     0.43544,     0.43644,     0.43744,     0.43844,     0.43944,     0.44044,     0.44144,     0.44244,     0.44344,     0.44444,     0.44545,     0.44645,     0.44745,     0.44845,     0.44945,     0.45045,     0.45145,     0.45245,     0.45345,     0.45445,     0.45546,\n",
              "           0.45646,     0.45746,     0.45846,     0.45946,     0.46046,     0.46146,     0.46246,     0.46346,     0.46446,     0.46547,     0.46647,     0.46747,     0.46847,     0.46947,     0.47047,     0.47147,     0.47247,     0.47347,     0.47447,     0.47548,     0.47648,     0.47748,     0.47848,     0.47948,\n",
              "           0.48048,     0.48148,     0.48248,     0.48348,     0.48448,     0.48549,     0.48649,     0.48749,     0.48849,     0.48949,     0.49049,     0.49149,     0.49249,     0.49349,     0.49449,      0.4955,      0.4965,      0.4975,      0.4985,      0.4995,      0.5005,      0.5015,      0.5025,      0.5035,\n",
              "            0.5045,     0.50551,     0.50651,     0.50751,     0.50851,     0.50951,     0.51051,     0.51151,     0.51251,     0.51351,     0.51451,     0.51552,     0.51652,     0.51752,     0.51852,     0.51952,     0.52052,     0.52152,     0.52252,     0.52352,     0.52452,     0.52553,     0.52653,     0.52753,\n",
              "           0.52853,     0.52953,     0.53053,     0.53153,     0.53253,     0.53353,     0.53453,     0.53554,     0.53654,     0.53754,     0.53854,     0.53954,     0.54054,     0.54154,     0.54254,     0.54354,     0.54454,     0.54555,     0.54655,     0.54755,     0.54855,     0.54955,     0.55055,     0.55155,\n",
              "           0.55255,     0.55355,     0.55455,     0.55556,     0.55656,     0.55756,     0.55856,     0.55956,     0.56056,     0.56156,     0.56256,     0.56356,     0.56456,     0.56557,     0.56657,     0.56757,     0.56857,     0.56957,     0.57057,     0.57157,     0.57257,     0.57357,     0.57457,     0.57558,\n",
              "           0.57658,     0.57758,     0.57858,     0.57958,     0.58058,     0.58158,     0.58258,     0.58358,     0.58458,     0.58559,     0.58659,     0.58759,     0.58859,     0.58959,     0.59059,     0.59159,     0.59259,     0.59359,     0.59459,      0.5956,      0.5966,      0.5976,      0.5986,      0.5996,\n",
              "            0.6006,      0.6016,      0.6026,      0.6036,      0.6046,     0.60561,     0.60661,     0.60761,     0.60861,     0.60961,     0.61061,     0.61161,     0.61261,     0.61361,     0.61461,     0.61562,     0.61662,     0.61762,     0.61862,     0.61962,     0.62062,     0.62162,     0.62262,     0.62362,\n",
              "           0.62462,     0.62563,     0.62663,     0.62763,     0.62863,     0.62963,     0.63063,     0.63163,     0.63263,     0.63363,     0.63463,     0.63564,     0.63664,     0.63764,     0.63864,     0.63964,     0.64064,     0.64164,     0.64264,     0.64364,     0.64464,     0.64565,     0.64665,     0.64765,\n",
              "           0.64865,     0.64965,     0.65065,     0.65165,     0.65265,     0.65365,     0.65465,     0.65566,     0.65666,     0.65766,     0.65866,     0.65966,     0.66066,     0.66166,     0.66266,     0.66366,     0.66466,     0.66567,     0.66667,     0.66767,     0.66867,     0.66967,     0.67067,     0.67167,\n",
              "           0.67267,     0.67367,     0.67467,     0.67568,     0.67668,     0.67768,     0.67868,     0.67968,     0.68068,     0.68168,     0.68268,     0.68368,     0.68468,     0.68569,     0.68669,     0.68769,     0.68869,     0.68969,     0.69069,     0.69169,     0.69269,     0.69369,     0.69469,      0.6957,\n",
              "            0.6967,      0.6977,      0.6987,      0.6997,      0.7007,      0.7017,      0.7027,      0.7037,      0.7047,     0.70571,     0.70671,     0.70771,     0.70871,     0.70971,     0.71071,     0.71171,     0.71271,     0.71371,     0.71471,     0.71572,     0.71672,     0.71772,     0.71872,     0.71972,\n",
              "           0.72072,     0.72172,     0.72272,     0.72372,     0.72472,     0.72573,     0.72673,     0.72773,     0.72873,     0.72973,     0.73073,     0.73173,     0.73273,     0.73373,     0.73473,     0.73574,     0.73674,     0.73774,     0.73874,     0.73974,     0.74074,     0.74174,     0.74274,     0.74374,\n",
              "           0.74474,     0.74575,     0.74675,     0.74775,     0.74875,     0.74975,     0.75075,     0.75175,     0.75275,     0.75375,     0.75475,     0.75576,     0.75676,     0.75776,     0.75876,     0.75976,     0.76076,     0.76176,     0.76276,     0.76376,     0.76476,     0.76577,     0.76677,     0.76777,\n",
              "           0.76877,     0.76977,     0.77077,     0.77177,     0.77277,     0.77377,     0.77477,     0.77578,     0.77678,     0.77778,     0.77878,     0.77978,     0.78078,     0.78178,     0.78278,     0.78378,     0.78478,     0.78579,     0.78679,     0.78779,     0.78879,     0.78979,     0.79079,     0.79179,\n",
              "           0.79279,     0.79379,     0.79479,      0.7958,      0.7968,      0.7978,      0.7988,      0.7998,      0.8008,      0.8018,      0.8028,      0.8038,      0.8048,     0.80581,     0.80681,     0.80781,     0.80881,     0.80981,     0.81081,     0.81181,     0.81281,     0.81381,     0.81481,     0.81582,\n",
              "           0.81682,     0.81782,     0.81882,     0.81982,     0.82082,     0.82182,     0.82282,     0.82382,     0.82482,     0.82583,     0.82683,     0.82783,     0.82883,     0.82983,     0.83083,     0.83183,     0.83283,     0.83383,     0.83483,     0.83584,     0.83684,     0.83784,     0.83884,     0.83984,\n",
              "           0.84084,     0.84184,     0.84284,     0.84384,     0.84484,     0.84585,     0.84685,     0.84785,     0.84885,     0.84985,     0.85085,     0.85185,     0.85285,     0.85385,     0.85485,     0.85586,     0.85686,     0.85786,     0.85886,     0.85986,     0.86086,     0.86186,     0.86286,     0.86386,\n",
              "           0.86486,     0.86587,     0.86687,     0.86787,     0.86887,     0.86987,     0.87087,     0.87187,     0.87287,     0.87387,     0.87487,     0.87588,     0.87688,     0.87788,     0.87888,     0.87988,     0.88088,     0.88188,     0.88288,     0.88388,     0.88488,     0.88589,     0.88689,     0.88789,\n",
              "           0.88889,     0.88989,     0.89089,     0.89189,     0.89289,     0.89389,     0.89489,      0.8959,      0.8969,      0.8979,      0.8989,      0.8999,      0.9009,      0.9019,      0.9029,      0.9039,      0.9049,     0.90591,     0.90691,     0.90791,     0.90891,     0.90991,     0.91091,     0.91191,\n",
              "           0.91291,     0.91391,     0.91491,     0.91592,     0.91692,     0.91792,     0.91892,     0.91992,     0.92092,     0.92192,     0.92292,     0.92392,     0.92492,     0.92593,     0.92693,     0.92793,     0.92893,     0.92993,     0.93093,     0.93193,     0.93293,     0.93393,     0.93493,     0.93594,\n",
              "           0.93694,     0.93794,     0.93894,     0.93994,     0.94094,     0.94194,     0.94294,     0.94394,     0.94494,     0.94595,     0.94695,     0.94795,     0.94895,     0.94995,     0.95095,     0.95195,     0.95295,     0.95395,     0.95495,     0.95596,     0.95696,     0.95796,     0.95896,     0.95996,\n",
              "           0.96096,     0.96196,     0.96296,     0.96396,     0.96496,     0.96597,     0.96697,     0.96797,     0.96897,     0.96997,     0.97097,     0.97197,     0.97297,     0.97397,     0.97497,     0.97598,     0.97698,     0.97798,     0.97898,     0.97998,     0.98098,     0.98198,     0.98298,     0.98398,\n",
              "           0.98498,     0.98599,     0.98699,     0.98799,     0.98899,     0.98999,     0.99099,     0.99199,     0.99299,     0.99399,     0.99499,       0.996,       0.997,       0.998,       0.999,           1]), array([[          1,           1,           1,           1,           1,           1,           1,           1,           1,           1,           1,           1,           1,           1,           1,           1,           1,           1,           1,           1,           1,           1,           1,\n",
              "                  1,           1,           1,           1,           1,           1,           1,           1,           1,           1,           1,           1,           1,           1,           1,           1,           1,           1,           1,           1,           1,           1,           1,\n",
              "                  1,           1,           1,           1,           1,           1,           1,           1,           1,           1,           1,           1,           1,           1,           1,           1,           1,           1,           1,           1,           1,           1,           1,\n",
              "                  1,           1,           1,           1,           1,           1,           1,           1,           1,           1,           1,           1,           1,           1,           1,           1,           1,           1,           1,           1,           1,           1,           1,\n",
              "                  1,           1,           1,           1,           1,           1,           1,           1,           1,           1,           1,           1,           1,           1,           1,           1,           1,           1,           1,           1,           1,           1,           1,\n",
              "                  1,           1,           1,           1,           1,           1,           1,           1,           1,           1,           1,           1,           1,           1,           1,           1,           1,           1,           1,           1,           1,           1,           1,\n",
              "                  1,           1,           1,           1,           1,           1,           1,           1,           1,           1,           1,           1,           1,           1,           1,           1,           1,           1,           1,           1,           1,           1,           1,\n",
              "                  1,           1,           1,           1,           1,           1,           1,           1,           1,           1,           1,           1,           1,           1,           1,           1,           1,           1,           1,           1,           1,           1,           1,\n",
              "                  1,           1,           1,           1,           1,           1,           1,           1,           1,           1,           1,           1,           1,           1,           1,           1,           1,           1,           1,           1,           1,           1,           1,\n",
              "                  1,           1,           1,           1,           1,           1,           1,           1,           1,           1,           1,           1,           1,           1,           1,           1,           1,           1,           1,           1,           1,           1,           1,\n",
              "                  1,           1,           1,           1,           1,           1,           1,           1,           1,           1,           1,           1,           1,           1,           1,           1,           1,           1,           1,           1,           1,           1,           1,\n",
              "                  1,           1,           1,           1,     0.98765,     0.98765,     0.98765,     0.98765,     0.98765,     0.98765,     0.98765,     0.98765,     0.98765,     0.98765,     0.98765,     0.98765,     0.98765,     0.98765,     0.98765,     0.98765,     0.98765,     0.98765,     0.98765,\n",
              "            0.98765,     0.98765,     0.97959,     0.97959,     0.97959,     0.97959,     0.97959,     0.97959,     0.97959,     0.97959,     0.97959,     0.97959,     0.97959,     0.97959,     0.97959,     0.97959,     0.97959,     0.97959,     0.97959,     0.97959,     0.97959,     0.97959,     0.97959,\n",
              "            0.97959,     0.97959,     0.97959,     0.97959,     0.97959,     0.97959,     0.97959,     0.97959,     0.97959,     0.97959,     0.97959,     0.97959,     0.97959,     0.97959,     0.97959,     0.97959,     0.97959,     0.97959,     0.97959,     0.97959,     0.97959,     0.97959,     0.97959,\n",
              "            0.97959,     0.97959,     0.97959,     0.97959,     0.97959,     0.97959,     0.97959,     0.97959,     0.97959,     0.97959,     0.97959,     0.97196,     0.97196,     0.97196,     0.97196,     0.97196,     0.97196,     0.97196,     0.97196,     0.97196,     0.97196,     0.97196,     0.97196,\n",
              "            0.97196,     0.97196,     0.97196,     0.97196,     0.97196,     0.97196,     0.97196,     0.97196,     0.97196,     0.97196,     0.97196,     0.97196,     0.97196,     0.97196,     0.97196,     0.97196,     0.97041,     0.97041,     0.97041,     0.97041,     0.97041,     0.97041,     0.97041,\n",
              "            0.97041,     0.97041,     0.97041,     0.97041,     0.97041,     0.97041,     0.97041,     0.97041,     0.97041,     0.97041,     0.97041,     0.97041,     0.97041,     0.97041,     0.97041,     0.97041,     0.97041,     0.97041,     0.97041,     0.97041,     0.97041,     0.97041,     0.97041,\n",
              "            0.97041,     0.97041,     0.97041,     0.97041,     0.97041,     0.97041,     0.97041,     0.97041,     0.97041,     0.97041,     0.97041,     0.97041,     0.97041,     0.97041,     0.97041,     0.97041,     0.97041,     0.97041,     0.97041,     0.97041,     0.97041,     0.97041,     0.97041,\n",
              "            0.97041,     0.97041,     0.97041,     0.97041,     0.97041,     0.97041,     0.97041,     0.97041,     0.97041,     0.97041,     0.97041,     0.97041,     0.97041,     0.97041,     0.97041,     0.97041,     0.97041,     0.97041,     0.97041,     0.97041,     0.97041,     0.97041,     0.97041,\n",
              "            0.97041,     0.97041,     0.97041,     0.97041,     0.97041,     0.97041,     0.97041,     0.97041,     0.97041,     0.97041,     0.97041,     0.97041,     0.97041,     0.97041,     0.97041,     0.97041,     0.97041,     0.97041,     0.97041,     0.97041,     0.97041,     0.97041,     0.97041,\n",
              "            0.97041,     0.97041,     0.97041,     0.97041,     0.97041,     0.97041,     0.97041,     0.97041,     0.97041,     0.97041,     0.97041,     0.97041,     0.97041,     0.97041,     0.97041,     0.97041,     0.97041,     0.97041,     0.97041,     0.97041,     0.97041,     0.97041,     0.97041,\n",
              "            0.97041,     0.97041,     0.97041,     0.97041,     0.97041,     0.97041,     0.97041,     0.97041,     0.97041,     0.97041,     0.97041,     0.97041,     0.97041,     0.97041,     0.97041,     0.97041,     0.97041,     0.97041,     0.97041,     0.97041,     0.97041,     0.97041,     0.97041,\n",
              "            0.97041,     0.97041,     0.97041,     0.97041,     0.97041,     0.97041,     0.97041,     0.97041,     0.97041,     0.97041,     0.97041,     0.97041,     0.97041,     0.97041,     0.97041,     0.97041,     0.97041,     0.97041,     0.97041,     0.97041,     0.97041,     0.97041,     0.97041,\n",
              "            0.97041,     0.97041,     0.97041,     0.97041,     0.97041,     0.97041,     0.97041,     0.97041,     0.97041,     0.97041,     0.97041,     0.97041,     0.97041,     0.97041,     0.97041,     0.97041,     0.97041,     0.97041,     0.97041,     0.97041,     0.97041,     0.97041,     0.97041,\n",
              "            0.97041,     0.97041,     0.97041,     0.97041,     0.97041,     0.97041,     0.97041,     0.97041,     0.97041,     0.97041,     0.97041,     0.97041,     0.97041,     0.97041,     0.97041,     0.97041,     0.97041,     0.96891,     0.96891,     0.96891,     0.96891,     0.96891,     0.96891,\n",
              "            0.96891,     0.96891,     0.96891,     0.96891,     0.96891,     0.96891,     0.96891,     0.96891,     0.96891,     0.96891,     0.96891,     0.96891,     0.96891,     0.96891,     0.96891,     0.96891,     0.96891,     0.96891,     0.96891,     0.96891,     0.96891,     0.96891,     0.96891,\n",
              "            0.96891,     0.96891,     0.96891,     0.96891,     0.96891,     0.96891,     0.96891,     0.96891,     0.96891,     0.96891,     0.96891,     0.96891,     0.96891,     0.96891,     0.96891,     0.96891,     0.96891,     0.96891,     0.96891,     0.96891,     0.96891,     0.96891,     0.96891,\n",
              "            0.96891,     0.96891,     0.96891,     0.96891,     0.96891,     0.96891,     0.96891,     0.96891,     0.96891,     0.96891,     0.96891,     0.96891,     0.96891,     0.96891,     0.96891,     0.96891,     0.96891,     0.96891,     0.96891,     0.96891,     0.96891,     0.96891,     0.96891,\n",
              "            0.96891,     0.96891,     0.96891,     0.96891,     0.96891,      0.9641,      0.9641,      0.9641,      0.9641,      0.9598,      0.9598,      0.9598,      0.9598,      0.9598,      0.9598,      0.9598,      0.9598,      0.9598,      0.9598,     0.95631,     0.95631,     0.95631,     0.95631,\n",
              "            0.95631,     0.95631,     0.95631,     0.95631,     0.95631,     0.95631,     0.95631,     0.95631,     0.95631,     0.95631,     0.95631,     0.95631,     0.95631,     0.95631,     0.95631,     0.95631,     0.95631,     0.95192,     0.95192,     0.95192,     0.94444,     0.94444,     0.94444,\n",
              "            0.94444,     0.94444,     0.94444,     0.94444,     0.94444,     0.94444,     0.94444,     0.94444,     0.94444,     0.94444,     0.94444,     0.94444,     0.94444,     0.94444,     0.94444,     0.94444,     0.94444,     0.94444,     0.94118,     0.94118,     0.94118,     0.94118,     0.94118,\n",
              "            0.94118,     0.94118,     0.94118,     0.94118,     0.94118,     0.94118,     0.94118,     0.94118,     0.94118,     0.93304,     0.93304,     0.93304,      0.9292,      0.9292,      0.9292,      0.9292,     0.92241,     0.92241,     0.92241,     0.92241,     0.92241,     0.92241,     0.92241,\n",
              "            0.92241,     0.92241,     0.92241,     0.92241,     0.92241,     0.92241,     0.92241,      0.9188,      0.9188,      0.9188,     0.91525,     0.91525,     0.91525,     0.91525,     0.90833,     0.90833,     0.90833,     0.90833,     0.90833,     0.90833,     0.90833,     0.90496,     0.90496,\n",
              "            0.90496,     0.89837,     0.89837,     0.89837,     0.89837,     0.89837,     0.89837,     0.89837,     0.89157,     0.89157,     0.89157,     0.89157,     0.88845,     0.88845,     0.88845,     0.88327,     0.88327,     0.88327,     0.88327,     0.88327,     0.88327,     0.88327,     0.88327,\n",
              "            0.88327,     0.88327,     0.88327,     0.88327,     0.88327,     0.88327,     0.87692,     0.87692,     0.87692,     0.86415,     0.86415,     0.86415,     0.86415,     0.85502,     0.85502,     0.85502,     0.84783,     0.84783,     0.84783,     0.84783,     0.84783,     0.84783,     0.84783,\n",
              "            0.84783,     0.84783,     0.84783,     0.84783,     0.84783,     0.84783,     0.84783,     0.84532,     0.84532,     0.84532,     0.84532,     0.83986,     0.83986,     0.83986,     0.82867,     0.82867,     0.82867,     0.82867,     0.82639,     0.82639,     0.82639,     0.82414,     0.82414,\n",
              "            0.82414,     0.82414,     0.81145,     0.81145,     0.81145,     0.81145,     0.81145,     0.81145,     0.78317,     0.78317,     0.78317,     0.78317,     0.77143,     0.77143,     0.77143,     0.76489,     0.76489,     0.76489,     0.76489,     0.76161,     0.76161,     0.76161,     0.76161,\n",
              "            0.76161,     0.76161,     0.76161,     0.74398,     0.74398,     0.74398,     0.72174,     0.72174,     0.72174,     0.72174,     0.72174,     0.72174,     0.72174,     0.69916,     0.69916,     0.69916,     0.69916,     0.69916,     0.69916,     0.69916,     0.69806,     0.69806,     0.69806,\n",
              "            0.69806,      0.6828,      0.6828,      0.6828,      0.6828,      0.6828,      0.6828,      0.6828,      0.6746,      0.6746,      0.6746,        0.64,        0.64,        0.64,     0.63614,     0.63614,     0.63614,     0.63614,     0.60941,     0.60941,     0.60941,     0.60941,     0.60941,\n",
              "            0.60941,     0.60941,     0.57269,     0.57269,     0.57269,      0.5625,      0.5625,      0.5625,      0.5625,     0.53799,     0.53799,     0.53799,     0.53783,     0.53783,     0.53783,     0.53783,     0.52381,     0.52381,     0.52381,     0.49812,     0.49812,     0.49812,     0.49812,\n",
              "            0.48987,     0.48987,     0.48987,     0.43344,     0.43344,     0.43344,     0.43344,     0.43296,     0.43296,     0.43296,     0.41577,     0.41577,     0.41577,     0.41577,     0.41096,     0.41096,     0.41096,     0.39678,     0.39678,     0.39678,     0.39678,     0.38857,     0.38857,\n",
              "            0.38857,     0.37346,     0.37346,     0.37346,     0.33995,     0.33995,     0.33995,     0.33995,     0.29956,     0.29956,     0.29956,     0.23834,     0.23834,     0.23834,     0.23834,     0.18921,     0.18921,     0.18921,     0.16459,     0.16459,     0.16459,     0.16459,     0.15561,\n",
              "            0.15561,     0.15561,     0.15402,     0.15402,     0.15402,     0.15402,     0.14963,     0.14963,     0.14963,     0.13953,     0.13953,     0.13953,     0.13953,    0.098882,    0.098882,    0.098882,    0.082702,    0.082702,    0.082702,    0.082702,    0.067185,    0.067185,    0.067185,\n",
              "           0.044503,    0.040053,    0.035603,    0.031152,    0.026702,    0.022252,    0.017801,    0.013351,   0.0089007,   0.0044503,           0]]), 'Recall', 'Precision'], [array([          0,    0.001001,    0.002002,    0.003003,    0.004004,    0.005005,    0.006006,    0.007007,    0.008008,    0.009009,     0.01001,    0.011011,    0.012012,    0.013013,    0.014014,    0.015015,    0.016016,    0.017017,    0.018018,    0.019019,     0.02002,    0.021021,    0.022022,    0.023023,\n",
              "          0.024024,    0.025025,    0.026026,    0.027027,    0.028028,    0.029029,     0.03003,    0.031031,    0.032032,    0.033033,    0.034034,    0.035035,    0.036036,    0.037037,    0.038038,    0.039039,     0.04004,    0.041041,    0.042042,    0.043043,    0.044044,    0.045045,    0.046046,    0.047047,\n",
              "          0.048048,    0.049049,     0.05005,    0.051051,    0.052052,    0.053053,    0.054054,    0.055055,    0.056056,    0.057057,    0.058058,    0.059059,     0.06006,    0.061061,    0.062062,    0.063063,    0.064064,    0.065065,    0.066066,    0.067067,    0.068068,    0.069069,     0.07007,    0.071071,\n",
              "          0.072072,    0.073073,    0.074074,    0.075075,    0.076076,    0.077077,    0.078078,    0.079079,     0.08008,    0.081081,    0.082082,    0.083083,    0.084084,    0.085085,    0.086086,    0.087087,    0.088088,    0.089089,     0.09009,    0.091091,    0.092092,    0.093093,    0.094094,    0.095095,\n",
              "          0.096096,    0.097097,    0.098098,    0.099099,      0.1001,      0.1011,      0.1021,      0.1031,      0.1041,     0.10511,     0.10611,     0.10711,     0.10811,     0.10911,     0.11011,     0.11111,     0.11211,     0.11311,     0.11411,     0.11512,     0.11612,     0.11712,     0.11812,     0.11912,\n",
              "           0.12012,     0.12112,     0.12212,     0.12312,     0.12412,     0.12513,     0.12613,     0.12713,     0.12813,     0.12913,     0.13013,     0.13113,     0.13213,     0.13313,     0.13413,     0.13514,     0.13614,     0.13714,     0.13814,     0.13914,     0.14014,     0.14114,     0.14214,     0.14314,\n",
              "           0.14414,     0.14515,     0.14615,     0.14715,     0.14815,     0.14915,     0.15015,     0.15115,     0.15215,     0.15315,     0.15415,     0.15516,     0.15616,     0.15716,     0.15816,     0.15916,     0.16016,     0.16116,     0.16216,     0.16316,     0.16416,     0.16517,     0.16617,     0.16717,\n",
              "           0.16817,     0.16917,     0.17017,     0.17117,     0.17217,     0.17317,     0.17417,     0.17518,     0.17618,     0.17718,     0.17818,     0.17918,     0.18018,     0.18118,     0.18218,     0.18318,     0.18418,     0.18519,     0.18619,     0.18719,     0.18819,     0.18919,     0.19019,     0.19119,\n",
              "           0.19219,     0.19319,     0.19419,      0.1952,      0.1962,      0.1972,      0.1982,      0.1992,      0.2002,      0.2012,      0.2022,      0.2032,      0.2042,     0.20521,     0.20621,     0.20721,     0.20821,     0.20921,     0.21021,     0.21121,     0.21221,     0.21321,     0.21421,     0.21522,\n",
              "           0.21622,     0.21722,     0.21822,     0.21922,     0.22022,     0.22122,     0.22222,     0.22322,     0.22422,     0.22523,     0.22623,     0.22723,     0.22823,     0.22923,     0.23023,     0.23123,     0.23223,     0.23323,     0.23423,     0.23524,     0.23624,     0.23724,     0.23824,     0.23924,\n",
              "           0.24024,     0.24124,     0.24224,     0.24324,     0.24424,     0.24525,     0.24625,     0.24725,     0.24825,     0.24925,     0.25025,     0.25125,     0.25225,     0.25325,     0.25425,     0.25526,     0.25626,     0.25726,     0.25826,     0.25926,     0.26026,     0.26126,     0.26226,     0.26326,\n",
              "           0.26426,     0.26527,     0.26627,     0.26727,     0.26827,     0.26927,     0.27027,     0.27127,     0.27227,     0.27327,     0.27427,     0.27528,     0.27628,     0.27728,     0.27828,     0.27928,     0.28028,     0.28128,     0.28228,     0.28328,     0.28428,     0.28529,     0.28629,     0.28729,\n",
              "           0.28829,     0.28929,     0.29029,     0.29129,     0.29229,     0.29329,     0.29429,      0.2953,      0.2963,      0.2973,      0.2983,      0.2993,      0.3003,      0.3013,      0.3023,      0.3033,      0.3043,     0.30531,     0.30631,     0.30731,     0.30831,     0.30931,     0.31031,     0.31131,\n",
              "           0.31231,     0.31331,     0.31431,     0.31532,     0.31632,     0.31732,     0.31832,     0.31932,     0.32032,     0.32132,     0.32232,     0.32332,     0.32432,     0.32533,     0.32633,     0.32733,     0.32833,     0.32933,     0.33033,     0.33133,     0.33233,     0.33333,     0.33433,     0.33534,\n",
              "           0.33634,     0.33734,     0.33834,     0.33934,     0.34034,     0.34134,     0.34234,     0.34334,     0.34434,     0.34535,     0.34635,     0.34735,     0.34835,     0.34935,     0.35035,     0.35135,     0.35235,     0.35335,     0.35435,     0.35536,     0.35636,     0.35736,     0.35836,     0.35936,\n",
              "           0.36036,     0.36136,     0.36236,     0.36336,     0.36436,     0.36537,     0.36637,     0.36737,     0.36837,     0.36937,     0.37037,     0.37137,     0.37237,     0.37337,     0.37437,     0.37538,     0.37638,     0.37738,     0.37838,     0.37938,     0.38038,     0.38138,     0.38238,     0.38338,\n",
              "           0.38438,     0.38539,     0.38639,     0.38739,     0.38839,     0.38939,     0.39039,     0.39139,     0.39239,     0.39339,     0.39439,      0.3954,      0.3964,      0.3974,      0.3984,      0.3994,      0.4004,      0.4014,      0.4024,      0.4034,      0.4044,     0.40541,     0.40641,     0.40741,\n",
              "           0.40841,     0.40941,     0.41041,     0.41141,     0.41241,     0.41341,     0.41441,     0.41542,     0.41642,     0.41742,     0.41842,     0.41942,     0.42042,     0.42142,     0.42242,     0.42342,     0.42442,     0.42543,     0.42643,     0.42743,     0.42843,     0.42943,     0.43043,     0.43143,\n",
              "           0.43243,     0.43343,     0.43443,     0.43544,     0.43644,     0.43744,     0.43844,     0.43944,     0.44044,     0.44144,     0.44244,     0.44344,     0.44444,     0.44545,     0.44645,     0.44745,     0.44845,     0.44945,     0.45045,     0.45145,     0.45245,     0.45345,     0.45445,     0.45546,\n",
              "           0.45646,     0.45746,     0.45846,     0.45946,     0.46046,     0.46146,     0.46246,     0.46346,     0.46446,     0.46547,     0.46647,     0.46747,     0.46847,     0.46947,     0.47047,     0.47147,     0.47247,     0.47347,     0.47447,     0.47548,     0.47648,     0.47748,     0.47848,     0.47948,\n",
              "           0.48048,     0.48148,     0.48248,     0.48348,     0.48448,     0.48549,     0.48649,     0.48749,     0.48849,     0.48949,     0.49049,     0.49149,     0.49249,     0.49349,     0.49449,      0.4955,      0.4965,      0.4975,      0.4985,      0.4995,      0.5005,      0.5015,      0.5025,      0.5035,\n",
              "            0.5045,     0.50551,     0.50651,     0.50751,     0.50851,     0.50951,     0.51051,     0.51151,     0.51251,     0.51351,     0.51451,     0.51552,     0.51652,     0.51752,     0.51852,     0.51952,     0.52052,     0.52152,     0.52252,     0.52352,     0.52452,     0.52553,     0.52653,     0.52753,\n",
              "           0.52853,     0.52953,     0.53053,     0.53153,     0.53253,     0.53353,     0.53453,     0.53554,     0.53654,     0.53754,     0.53854,     0.53954,     0.54054,     0.54154,     0.54254,     0.54354,     0.54454,     0.54555,     0.54655,     0.54755,     0.54855,     0.54955,     0.55055,     0.55155,\n",
              "           0.55255,     0.55355,     0.55455,     0.55556,     0.55656,     0.55756,     0.55856,     0.55956,     0.56056,     0.56156,     0.56256,     0.56356,     0.56456,     0.56557,     0.56657,     0.56757,     0.56857,     0.56957,     0.57057,     0.57157,     0.57257,     0.57357,     0.57457,     0.57558,\n",
              "           0.57658,     0.57758,     0.57858,     0.57958,     0.58058,     0.58158,     0.58258,     0.58358,     0.58458,     0.58559,     0.58659,     0.58759,     0.58859,     0.58959,     0.59059,     0.59159,     0.59259,     0.59359,     0.59459,      0.5956,      0.5966,      0.5976,      0.5986,      0.5996,\n",
              "            0.6006,      0.6016,      0.6026,      0.6036,      0.6046,     0.60561,     0.60661,     0.60761,     0.60861,     0.60961,     0.61061,     0.61161,     0.61261,     0.61361,     0.61461,     0.61562,     0.61662,     0.61762,     0.61862,     0.61962,     0.62062,     0.62162,     0.62262,     0.62362,\n",
              "           0.62462,     0.62563,     0.62663,     0.62763,     0.62863,     0.62963,     0.63063,     0.63163,     0.63263,     0.63363,     0.63463,     0.63564,     0.63664,     0.63764,     0.63864,     0.63964,     0.64064,     0.64164,     0.64264,     0.64364,     0.64464,     0.64565,     0.64665,     0.64765,\n",
              "           0.64865,     0.64965,     0.65065,     0.65165,     0.65265,     0.65365,     0.65465,     0.65566,     0.65666,     0.65766,     0.65866,     0.65966,     0.66066,     0.66166,     0.66266,     0.66366,     0.66466,     0.66567,     0.66667,     0.66767,     0.66867,     0.66967,     0.67067,     0.67167,\n",
              "           0.67267,     0.67367,     0.67467,     0.67568,     0.67668,     0.67768,     0.67868,     0.67968,     0.68068,     0.68168,     0.68268,     0.68368,     0.68468,     0.68569,     0.68669,     0.68769,     0.68869,     0.68969,     0.69069,     0.69169,     0.69269,     0.69369,     0.69469,      0.6957,\n",
              "            0.6967,      0.6977,      0.6987,      0.6997,      0.7007,      0.7017,      0.7027,      0.7037,      0.7047,     0.70571,     0.70671,     0.70771,     0.70871,     0.70971,     0.71071,     0.71171,     0.71271,     0.71371,     0.71471,     0.71572,     0.71672,     0.71772,     0.71872,     0.71972,\n",
              "           0.72072,     0.72172,     0.72272,     0.72372,     0.72472,     0.72573,     0.72673,     0.72773,     0.72873,     0.72973,     0.73073,     0.73173,     0.73273,     0.73373,     0.73473,     0.73574,     0.73674,     0.73774,     0.73874,     0.73974,     0.74074,     0.74174,     0.74274,     0.74374,\n",
              "           0.74474,     0.74575,     0.74675,     0.74775,     0.74875,     0.74975,     0.75075,     0.75175,     0.75275,     0.75375,     0.75475,     0.75576,     0.75676,     0.75776,     0.75876,     0.75976,     0.76076,     0.76176,     0.76276,     0.76376,     0.76476,     0.76577,     0.76677,     0.76777,\n",
              "           0.76877,     0.76977,     0.77077,     0.77177,     0.77277,     0.77377,     0.77477,     0.77578,     0.77678,     0.77778,     0.77878,     0.77978,     0.78078,     0.78178,     0.78278,     0.78378,     0.78478,     0.78579,     0.78679,     0.78779,     0.78879,     0.78979,     0.79079,     0.79179,\n",
              "           0.79279,     0.79379,     0.79479,      0.7958,      0.7968,      0.7978,      0.7988,      0.7998,      0.8008,      0.8018,      0.8028,      0.8038,      0.8048,     0.80581,     0.80681,     0.80781,     0.80881,     0.80981,     0.81081,     0.81181,     0.81281,     0.81381,     0.81481,     0.81582,\n",
              "           0.81682,     0.81782,     0.81882,     0.81982,     0.82082,     0.82182,     0.82282,     0.82382,     0.82482,     0.82583,     0.82683,     0.82783,     0.82883,     0.82983,     0.83083,     0.83183,     0.83283,     0.83383,     0.83483,     0.83584,     0.83684,     0.83784,     0.83884,     0.83984,\n",
              "           0.84084,     0.84184,     0.84284,     0.84384,     0.84484,     0.84585,     0.84685,     0.84785,     0.84885,     0.84985,     0.85085,     0.85185,     0.85285,     0.85385,     0.85485,     0.85586,     0.85686,     0.85786,     0.85886,     0.85986,     0.86086,     0.86186,     0.86286,     0.86386,\n",
              "           0.86486,     0.86587,     0.86687,     0.86787,     0.86887,     0.86987,     0.87087,     0.87187,     0.87287,     0.87387,     0.87487,     0.87588,     0.87688,     0.87788,     0.87888,     0.87988,     0.88088,     0.88188,     0.88288,     0.88388,     0.88488,     0.88589,     0.88689,     0.88789,\n",
              "           0.88889,     0.88989,     0.89089,     0.89189,     0.89289,     0.89389,     0.89489,      0.8959,      0.8969,      0.8979,      0.8989,      0.8999,      0.9009,      0.9019,      0.9029,      0.9039,      0.9049,     0.90591,     0.90691,     0.90791,     0.90891,     0.90991,     0.91091,     0.91191,\n",
              "           0.91291,     0.91391,     0.91491,     0.91592,     0.91692,     0.91792,     0.91892,     0.91992,     0.92092,     0.92192,     0.92292,     0.92392,     0.92492,     0.92593,     0.92693,     0.92793,     0.92893,     0.92993,     0.93093,     0.93193,     0.93293,     0.93393,     0.93493,     0.93594,\n",
              "           0.93694,     0.93794,     0.93894,     0.93994,     0.94094,     0.94194,     0.94294,     0.94394,     0.94494,     0.94595,     0.94695,     0.94795,     0.94895,     0.94995,     0.95095,     0.95195,     0.95295,     0.95395,     0.95495,     0.95596,     0.95696,     0.95796,     0.95896,     0.95996,\n",
              "           0.96096,     0.96196,     0.96296,     0.96396,     0.96496,     0.96597,     0.96697,     0.96797,     0.96897,     0.96997,     0.97097,     0.97197,     0.97297,     0.97397,     0.97497,     0.97598,     0.97698,     0.97798,     0.97898,     0.97998,     0.98098,     0.98198,     0.98298,     0.98398,\n",
              "           0.98498,     0.98599,     0.98699,     0.98799,     0.98899,     0.98999,     0.99099,     0.99199,     0.99299,     0.99399,     0.99499,       0.996,       0.997,       0.998,       0.999,           1]), array([[   0.088482,    0.088482,     0.13127,     0.16458,     0.19354,      0.2182,     0.23768,     0.25544,     0.26965,     0.28348,      0.2993,     0.31309,     0.32396,     0.33532,     0.34698,     0.35961,     0.36823,     0.37616,     0.38567,     0.39446,     0.40264,     0.41138,     0.41508,\n",
              "            0.42456,     0.43226,     0.43709,     0.44363,     0.44799,     0.45232,     0.45609,      0.4657,     0.47103,     0.47562,     0.47894,     0.48202,     0.48763,     0.49162,     0.49538,     0.50072,     0.50572,     0.51092,     0.51649,     0.52135,     0.52504,     0.52661,     0.52828,\n",
              "            0.53231,      0.5369,     0.54216,     0.54446,     0.54756,     0.55127,       0.554,     0.55633,     0.55861,     0.56492,     0.56846,     0.57049,     0.57456,     0.57407,     0.57694,     0.58013,     0.58069,     0.58426,     0.58734,      0.5897,     0.59029,     0.58971,     0.59049,\n",
              "            0.59312,     0.59442,     0.59741,     0.60149,     0.60321,     0.60574,     0.60875,     0.61059,     0.61568,     0.61794,     0.62323,     0.62589,     0.62939,     0.63407,     0.63683,     0.63854,     0.63893,     0.64125,     0.64436,     0.64562,     0.64499,     0.64975,     0.65159,\n",
              "            0.65321,     0.65496,     0.65635,     0.65815,     0.66007,     0.66094,     0.66502,     0.66657,     0.66798,     0.66863,     0.67218,     0.67525,     0.67554,     0.67584,     0.67557,     0.67597,     0.67564,     0.67627,     0.67646,     0.67665,     0.67684,     0.67703,     0.67871,\n",
              "            0.67906,     0.67934,     0.67962,     0.68336,     0.68429,     0.68693,      0.6872,     0.68746,     0.68773,     0.68929,     0.69063,     0.69126,     0.69193,     0.69373,     0.69293,     0.69675,     0.69874,     0.69958,     0.70031,     0.70087,     0.70225,     0.70266,     0.70386,\n",
              "            0.70611,     0.70836,      0.7096,     0.71357,     0.71385,     0.71413,     0.71441,     0.71547,     0.71652,     0.71782,     0.71853,     0.72055,     0.72171,     0.72271,      0.7231,      0.7248,     0.72566,     0.72433,     0.72369,     0.72305,     0.72368,      0.7252,     0.72569,\n",
              "            0.72636,     0.72832,      0.7295,     0.73258,     0.73382,     0.73651,     0.73884,     0.73946,     0.74192,     0.74255,     0.74172,      0.7413,     0.74192,     0.74372,     0.74295,     0.74379,     0.74462,     0.74518,     0.74602,     0.74732,     0.74813,     0.74878,     0.75171,\n",
              "             0.7525,     0.75286,     0.75321,     0.75393,     0.75484,     0.75585,     0.75916,     0.76144,      0.7619,     0.76237,     0.76284,      0.7633,     0.76376,     0.76421,     0.76465,     0.76513,      0.7656,     0.76507,     0.76529,     0.76552,     0.76574,     0.76597,     0.76619,\n",
              "            0.76794,     0.76913,     0.76937,     0.76841,     0.76722,     0.76624,     0.76736,     0.76789,     0.76856,     0.76976,     0.77084,      0.7712,     0.77155,     0.77189,     0.77216,     0.77243,      0.7727,     0.77297,     0.77599,     0.77569,     0.77481,      0.7751,     0.77539,\n",
              "            0.77568,     0.77504,     0.77313,     0.77221,     0.77279,      0.7746,     0.77542,     0.77653,      0.7783,     0.77886,     0.77941,     0.77991,     0.78041,     0.78133,     0.78278,     0.78334,     0.78372,     0.78409,      0.7866,     0.78594,     0.78529,     0.78335,     0.78557,\n",
              "            0.78621,     0.78814,     0.78887,     0.78944,     0.78991,     0.79038,     0.79139,      0.7938,      0.7955,     0.79569,     0.79587,     0.79606,     0.79625,     0.79644,     0.79662,     0.79667,     0.79618,     0.79568,     0.79518,     0.79493,     0.79526,     0.79559,     0.79592,\n",
              "            0.79633,     0.79686,     0.79738,     0.79771,     0.79802,     0.79833,     0.79864,     0.80058,     0.80277,     0.80304,     0.80331,     0.80358,     0.80384,     0.80342,     0.80288,     0.80337,     0.80386,     0.80308,     0.80361,     0.80397,     0.80434,     0.80472,     0.80522,\n",
              "            0.80572,     0.80573,     0.80526,     0.80478,      0.8043,     0.80447,     0.80601,     0.80706,     0.80767,     0.80813,     0.80838,     0.80863,     0.80888,     0.80913,     0.80951,     0.81058,      0.8102,     0.80981,     0.80942,     0.80903,     0.80904,     0.81029,     0.81108,\n",
              "            0.81292,     0.81327,     0.81363,     0.81398,     0.81435,     0.81475,     0.81516,     0.81556,     0.81695,     0.81752,     0.81809,     0.81843,     0.81861,     0.81878,     0.81895,     0.81913,      0.8193,     0.81947,     0.81965,     0.81981,     0.81996,     0.82011,     0.82026,\n",
              "            0.82041,     0.82056,     0.82071,     0.82086,     0.82101,     0.82118,     0.82139,      0.8216,     0.82182,     0.82203,     0.82224,     0.82245,     0.82274,     0.82306,     0.82338,      0.8237,     0.82382,     0.82343,     0.82304,     0.82264,     0.82225,      0.8218,     0.82105,\n",
              "            0.82029,     0.82029,     0.82111,     0.82205,     0.82458,      0.8262,     0.82673,     0.82629,     0.82585,     0.82541,     0.82497,     0.82637,     0.82521,     0.82445,     0.82482,     0.82519,     0.82555,     0.82549,     0.82634,     0.82671,     0.82686,       0.827,     0.82714,\n",
              "            0.82728,     0.82742,     0.82756,     0.82771,     0.82785,     0.82799,     0.82828,     0.82878,     0.82928,     0.82846,     0.82931,     0.82981,     0.83031,      0.8295,     0.82844,     0.82881,     0.82935,     0.82964,     0.82893,     0.82822,     0.82711,     0.82551,     0.82514,\n",
              "            0.82476,     0.82439,     0.82402,     0.82364,     0.82204,     0.82251,     0.82301,     0.82317,     0.82332,     0.82348,     0.82363,     0.82379,     0.82394,      0.8241,     0.82425,     0.82443,     0.82468,     0.82494,     0.82519,     0.82544,      0.8257,     0.82477,      0.8239,\n",
              "            0.82416,     0.82441,     0.82467,     0.82492,     0.82517,     0.82643,     0.82644,      0.8277,     0.82784,     0.82799,     0.82813,     0.82827,     0.82841,     0.82855,     0.82869,     0.82883,     0.82897,     0.82932,      0.8308,     0.83131,     0.83183,     0.83179,     0.83106,\n",
              "            0.83033,     0.83015,     0.83046,     0.83077,     0.83108,     0.83139,     0.83251,     0.83254,      0.8318,     0.83107,     0.82924,     0.82638,     0.82613,     0.82589,     0.82564,     0.82539,     0.82514,      0.8249,     0.82465,      0.8244,     0.82594,     0.82672,     0.82739,\n",
              "            0.82627,     0.82534,     0.82586,     0.82639,     0.82661,     0.82549,     0.82481,      0.8256,     0.82632,     0.82685,     0.82737,     0.82512,     0.82399,     0.82347,     0.82387,     0.82426,     0.82466,     0.82499,     0.82526,     0.82552,     0.82579,     0.82606,     0.82632,\n",
              "            0.82612,     0.82567,     0.82521,     0.82476,      0.8243,     0.82543,     0.82531,     0.82473,     0.82416,     0.82359,      0.8233,     0.82305,     0.82279,     0.82254,     0.82228,     0.82203,     0.82177,     0.82152,     0.82147,     0.82427,     0.82312,     0.82233,     0.82314,\n",
              "             0.8237,     0.82344,     0.82318,     0.82292,     0.82267,     0.82241,     0.82215,      0.8219,     0.82164,     0.82203,     0.81742,     0.81477,     0.81596,     0.81678,     0.81644,     0.81526,     0.81498,     0.81526,     0.81553,      0.8158,     0.81607,     0.81634,     0.81549,\n",
              "            0.81431,     0.81543,     0.81294,     0.81158,     0.81038,     0.80426,     0.80304,     0.80123,     0.79959,     0.79877,     0.79795,     0.79688,     0.79565,     0.79691,     0.79712,     0.79732,     0.79753,     0.79773,     0.79794,     0.79814,     0.79835,     0.79635,     0.79666,\n",
              "            0.79748,     0.79683,       0.796,     0.79516,     0.79392,     0.79267,     0.79195,     0.79123,     0.79051,     0.78871,     0.78617,     0.78386,     0.78411,     0.78368,     0.78325,     0.78283,      0.7824,     0.78197,      0.7774,     0.77611,     0.77625,     0.77662,     0.77699,\n",
              "            0.77736,     0.77734,      0.7769,     0.77647,     0.77603,      0.7756,     0.77516,     0.77418,     0.77287,     0.77126,     0.76932,     0.76709,      0.7662,     0.76532,     0.76389,     0.76122,     0.75854,      0.7509,     0.74909,     0.74643,     0.74368,      0.7427,     0.74178,\n",
              "            0.74079,     0.73816,     0.73754,     0.73692,      0.7363,     0.73569,     0.73454,     0.73315,       0.729,      0.7276,     0.72665,     0.72584,     0.72503,     0.72422,     0.72341,      0.7226,     0.72179,     0.71905,     0.71494,     0.71065,     0.70628,     0.69759,     0.69435,\n",
              "            0.69016,     0.68547,     0.68446,     0.68345,     0.68102,     0.67696,     0.67594,     0.67492,     0.67093,     0.67005,     0.66916,     0.66828,      0.6654,     0.66228,     0.65761,     0.65445,     0.65127,     0.64865,     0.64644,     0.64323,        0.64,     0.63691,     0.63474,\n",
              "            0.63183,     0.62969,     0.62805,     0.62665,     0.62533,     0.62339,     0.62044,     0.61821,     0.61676,     0.61542,     0.61424,     0.61328,     0.61232,     0.61132,     0.60794,     0.60454,     0.60131,     0.59994,     0.59857,     0.59584,     0.58762,     0.58588,     0.58056,\n",
              "            0.57821,      0.5763,     0.57453,     0.57189,     0.57117,     0.57045,     0.56974,     0.56902,     0.56464,     0.56361,     0.56257,     0.56143,     0.55038,     0.54149,     0.53774,     0.53214,     0.52872,      0.5272,     0.52567,     0.52545,     0.52572,       0.526,     0.52627,\n",
              "            0.52654,     0.52442,      0.5181,     0.51551,     0.51352,     0.51157,     0.50196,      0.4992,     0.49761,      0.4963,     0.49649,     0.49489,     0.48921,     0.48651,     0.48289,     0.46878,     0.46462,     0.46099,      0.4589,     0.45658,     0.45376,     0.44974,     0.44131,\n",
              "            0.43472,     0.43255,     0.43357,     0.43079,     0.42879,      0.4277,      0.4266,      0.4255,     0.42042,     0.41747,     0.41014,     0.40776,     0.40802,     0.40828,     0.40853,     0.40879,     0.40644,     0.40291,     0.39671,     0.38703,     0.38552,     0.38436,     0.38319,\n",
              "            0.38203,     0.37729,     0.37038,     0.36652,     0.36276,     0.34901,     0.34346,     0.33203,     0.31975,     0.30976,     0.30507,     0.30166,     0.29956,     0.29784,     0.29612,      0.2944,     0.29267,     0.29094,       0.286,     0.28481,     0.28386,     0.28291,     0.28195,\n",
              "              0.281,     0.27237,     0.26898,     0.26685,     0.26462,     0.26193,     0.25924,     0.25654,     0.25359,     0.24997,     0.23738,     0.23369,     0.22365,     0.21531,     0.21368,     0.21206,     0.20594,     0.20282,     0.19989,     0.18851,     0.18461,       0.177,     0.17463,\n",
              "            0.17225,     0.15874,     0.15346,     0.15144,     0.14941,     0.14153,     0.13999,     0.13845,     0.13691,     0.13536,     0.13382,     0.13226,     0.13071,     0.12414,     0.11767,     0.10986,     0.10668,     0.10348,     0.10028,    0.097061,    0.093834,    0.089887,    0.086023,\n",
              "           0.084159,    0.082291,    0.080419,    0.074893,    0.070931,    0.067614,    0.061449,    0.059631,    0.058513,    0.057395,    0.056275,    0.055154,    0.053916,     0.04744,    0.047041,    0.046641,    0.046242,    0.045842,    0.045442,    0.045042,    0.044642,    0.044242,    0.043841,\n",
              "           0.043441,     0.04304,    0.042639,    0.042238,    0.041836,    0.041435,    0.041033,    0.034512,    0.033461,    0.032772,    0.032083,    0.031394,    0.030704,    0.030014,    0.029323,    0.028632,     0.02794,    0.027198,    0.026274,    0.025349,    0.024423,    0.023497,    0.022569,\n",
              "           0.021641,    0.020712,    0.019782,    0.018851,     0.01792,    0.016987,    0.016053,    0.015119,    0.014184,    0.013466,    0.012904,    0.012342,    0.011779,    0.011216,    0.010653,    0.010089,   0.0095254,   0.0089612,   0.0083966,   0.0078318,   0.0072666,           0,           0,\n",
              "                  0,           0,           0,           0,           0,           0,           0,           0,           0,           0,           0,           0,           0,           0,           0,           0,           0,           0,           0,           0,           0,           0,           0,\n",
              "                  0,           0,           0,           0,           0,           0,           0,           0,           0,           0,           0,           0,           0,           0,           0,           0,           0,           0,           0,           0,           0,           0,           0,\n",
              "                  0,           0,           0,           0,           0,           0,           0,           0,           0,           0,           0,           0,           0,           0,           0,           0,           0,           0,           0,           0,           0,           0,           0,\n",
              "                  0,           0,           0,           0,           0,           0,           0,           0,           0,           0,           0,           0,           0,           0,           0,           0,           0,           0,           0,           0,           0,           0,           0,\n",
              "                  0,           0,           0,           0,           0,           0,           0,           0,           0,           0,           0]]), 'Confidence', 'F1'], [array([          0,    0.001001,    0.002002,    0.003003,    0.004004,    0.005005,    0.006006,    0.007007,    0.008008,    0.009009,     0.01001,    0.011011,    0.012012,    0.013013,    0.014014,    0.015015,    0.016016,    0.017017,    0.018018,    0.019019,     0.02002,    0.021021,    0.022022,    0.023023,\n",
              "          0.024024,    0.025025,    0.026026,    0.027027,    0.028028,    0.029029,     0.03003,    0.031031,    0.032032,    0.033033,    0.034034,    0.035035,    0.036036,    0.037037,    0.038038,    0.039039,     0.04004,    0.041041,    0.042042,    0.043043,    0.044044,    0.045045,    0.046046,    0.047047,\n",
              "          0.048048,    0.049049,     0.05005,    0.051051,    0.052052,    0.053053,    0.054054,    0.055055,    0.056056,    0.057057,    0.058058,    0.059059,     0.06006,    0.061061,    0.062062,    0.063063,    0.064064,    0.065065,    0.066066,    0.067067,    0.068068,    0.069069,     0.07007,    0.071071,\n",
              "          0.072072,    0.073073,    0.074074,    0.075075,    0.076076,    0.077077,    0.078078,    0.079079,     0.08008,    0.081081,    0.082082,    0.083083,    0.084084,    0.085085,    0.086086,    0.087087,    0.088088,    0.089089,     0.09009,    0.091091,    0.092092,    0.093093,    0.094094,    0.095095,\n",
              "          0.096096,    0.097097,    0.098098,    0.099099,      0.1001,      0.1011,      0.1021,      0.1031,      0.1041,     0.10511,     0.10611,     0.10711,     0.10811,     0.10911,     0.11011,     0.11111,     0.11211,     0.11311,     0.11411,     0.11512,     0.11612,     0.11712,     0.11812,     0.11912,\n",
              "           0.12012,     0.12112,     0.12212,     0.12312,     0.12412,     0.12513,     0.12613,     0.12713,     0.12813,     0.12913,     0.13013,     0.13113,     0.13213,     0.13313,     0.13413,     0.13514,     0.13614,     0.13714,     0.13814,     0.13914,     0.14014,     0.14114,     0.14214,     0.14314,\n",
              "           0.14414,     0.14515,     0.14615,     0.14715,     0.14815,     0.14915,     0.15015,     0.15115,     0.15215,     0.15315,     0.15415,     0.15516,     0.15616,     0.15716,     0.15816,     0.15916,     0.16016,     0.16116,     0.16216,     0.16316,     0.16416,     0.16517,     0.16617,     0.16717,\n",
              "           0.16817,     0.16917,     0.17017,     0.17117,     0.17217,     0.17317,     0.17417,     0.17518,     0.17618,     0.17718,     0.17818,     0.17918,     0.18018,     0.18118,     0.18218,     0.18318,     0.18418,     0.18519,     0.18619,     0.18719,     0.18819,     0.18919,     0.19019,     0.19119,\n",
              "           0.19219,     0.19319,     0.19419,      0.1952,      0.1962,      0.1972,      0.1982,      0.1992,      0.2002,      0.2012,      0.2022,      0.2032,      0.2042,     0.20521,     0.20621,     0.20721,     0.20821,     0.20921,     0.21021,     0.21121,     0.21221,     0.21321,     0.21421,     0.21522,\n",
              "           0.21622,     0.21722,     0.21822,     0.21922,     0.22022,     0.22122,     0.22222,     0.22322,     0.22422,     0.22523,     0.22623,     0.22723,     0.22823,     0.22923,     0.23023,     0.23123,     0.23223,     0.23323,     0.23423,     0.23524,     0.23624,     0.23724,     0.23824,     0.23924,\n",
              "           0.24024,     0.24124,     0.24224,     0.24324,     0.24424,     0.24525,     0.24625,     0.24725,     0.24825,     0.24925,     0.25025,     0.25125,     0.25225,     0.25325,     0.25425,     0.25526,     0.25626,     0.25726,     0.25826,     0.25926,     0.26026,     0.26126,     0.26226,     0.26326,\n",
              "           0.26426,     0.26527,     0.26627,     0.26727,     0.26827,     0.26927,     0.27027,     0.27127,     0.27227,     0.27327,     0.27427,     0.27528,     0.27628,     0.27728,     0.27828,     0.27928,     0.28028,     0.28128,     0.28228,     0.28328,     0.28428,     0.28529,     0.28629,     0.28729,\n",
              "           0.28829,     0.28929,     0.29029,     0.29129,     0.29229,     0.29329,     0.29429,      0.2953,      0.2963,      0.2973,      0.2983,      0.2993,      0.3003,      0.3013,      0.3023,      0.3033,      0.3043,     0.30531,     0.30631,     0.30731,     0.30831,     0.30931,     0.31031,     0.31131,\n",
              "           0.31231,     0.31331,     0.31431,     0.31532,     0.31632,     0.31732,     0.31832,     0.31932,     0.32032,     0.32132,     0.32232,     0.32332,     0.32432,     0.32533,     0.32633,     0.32733,     0.32833,     0.32933,     0.33033,     0.33133,     0.33233,     0.33333,     0.33433,     0.33534,\n",
              "           0.33634,     0.33734,     0.33834,     0.33934,     0.34034,     0.34134,     0.34234,     0.34334,     0.34434,     0.34535,     0.34635,     0.34735,     0.34835,     0.34935,     0.35035,     0.35135,     0.35235,     0.35335,     0.35435,     0.35536,     0.35636,     0.35736,     0.35836,     0.35936,\n",
              "           0.36036,     0.36136,     0.36236,     0.36336,     0.36436,     0.36537,     0.36637,     0.36737,     0.36837,     0.36937,     0.37037,     0.37137,     0.37237,     0.37337,     0.37437,     0.37538,     0.37638,     0.37738,     0.37838,     0.37938,     0.38038,     0.38138,     0.38238,     0.38338,\n",
              "           0.38438,     0.38539,     0.38639,     0.38739,     0.38839,     0.38939,     0.39039,     0.39139,     0.39239,     0.39339,     0.39439,      0.3954,      0.3964,      0.3974,      0.3984,      0.3994,      0.4004,      0.4014,      0.4024,      0.4034,      0.4044,     0.40541,     0.40641,     0.40741,\n",
              "           0.40841,     0.40941,     0.41041,     0.41141,     0.41241,     0.41341,     0.41441,     0.41542,     0.41642,     0.41742,     0.41842,     0.41942,     0.42042,     0.42142,     0.42242,     0.42342,     0.42442,     0.42543,     0.42643,     0.42743,     0.42843,     0.42943,     0.43043,     0.43143,\n",
              "           0.43243,     0.43343,     0.43443,     0.43544,     0.43644,     0.43744,     0.43844,     0.43944,     0.44044,     0.44144,     0.44244,     0.44344,     0.44444,     0.44545,     0.44645,     0.44745,     0.44845,     0.44945,     0.45045,     0.45145,     0.45245,     0.45345,     0.45445,     0.45546,\n",
              "           0.45646,     0.45746,     0.45846,     0.45946,     0.46046,     0.46146,     0.46246,     0.46346,     0.46446,     0.46547,     0.46647,     0.46747,     0.46847,     0.46947,     0.47047,     0.47147,     0.47247,     0.47347,     0.47447,     0.47548,     0.47648,     0.47748,     0.47848,     0.47948,\n",
              "           0.48048,     0.48148,     0.48248,     0.48348,     0.48448,     0.48549,     0.48649,     0.48749,     0.48849,     0.48949,     0.49049,     0.49149,     0.49249,     0.49349,     0.49449,      0.4955,      0.4965,      0.4975,      0.4985,      0.4995,      0.5005,      0.5015,      0.5025,      0.5035,\n",
              "            0.5045,     0.50551,     0.50651,     0.50751,     0.50851,     0.50951,     0.51051,     0.51151,     0.51251,     0.51351,     0.51451,     0.51552,     0.51652,     0.51752,     0.51852,     0.51952,     0.52052,     0.52152,     0.52252,     0.52352,     0.52452,     0.52553,     0.52653,     0.52753,\n",
              "           0.52853,     0.52953,     0.53053,     0.53153,     0.53253,     0.53353,     0.53453,     0.53554,     0.53654,     0.53754,     0.53854,     0.53954,     0.54054,     0.54154,     0.54254,     0.54354,     0.54454,     0.54555,     0.54655,     0.54755,     0.54855,     0.54955,     0.55055,     0.55155,\n",
              "           0.55255,     0.55355,     0.55455,     0.55556,     0.55656,     0.55756,     0.55856,     0.55956,     0.56056,     0.56156,     0.56256,     0.56356,     0.56456,     0.56557,     0.56657,     0.56757,     0.56857,     0.56957,     0.57057,     0.57157,     0.57257,     0.57357,     0.57457,     0.57558,\n",
              "           0.57658,     0.57758,     0.57858,     0.57958,     0.58058,     0.58158,     0.58258,     0.58358,     0.58458,     0.58559,     0.58659,     0.58759,     0.58859,     0.58959,     0.59059,     0.59159,     0.59259,     0.59359,     0.59459,      0.5956,      0.5966,      0.5976,      0.5986,      0.5996,\n",
              "            0.6006,      0.6016,      0.6026,      0.6036,      0.6046,     0.60561,     0.60661,     0.60761,     0.60861,     0.60961,     0.61061,     0.61161,     0.61261,     0.61361,     0.61461,     0.61562,     0.61662,     0.61762,     0.61862,     0.61962,     0.62062,     0.62162,     0.62262,     0.62362,\n",
              "           0.62462,     0.62563,     0.62663,     0.62763,     0.62863,     0.62963,     0.63063,     0.63163,     0.63263,     0.63363,     0.63463,     0.63564,     0.63664,     0.63764,     0.63864,     0.63964,     0.64064,     0.64164,     0.64264,     0.64364,     0.64464,     0.64565,     0.64665,     0.64765,\n",
              "           0.64865,     0.64965,     0.65065,     0.65165,     0.65265,     0.65365,     0.65465,     0.65566,     0.65666,     0.65766,     0.65866,     0.65966,     0.66066,     0.66166,     0.66266,     0.66366,     0.66466,     0.66567,     0.66667,     0.66767,     0.66867,     0.66967,     0.67067,     0.67167,\n",
              "           0.67267,     0.67367,     0.67467,     0.67568,     0.67668,     0.67768,     0.67868,     0.67968,     0.68068,     0.68168,     0.68268,     0.68368,     0.68468,     0.68569,     0.68669,     0.68769,     0.68869,     0.68969,     0.69069,     0.69169,     0.69269,     0.69369,     0.69469,      0.6957,\n",
              "            0.6967,      0.6977,      0.6987,      0.6997,      0.7007,      0.7017,      0.7027,      0.7037,      0.7047,     0.70571,     0.70671,     0.70771,     0.70871,     0.70971,     0.71071,     0.71171,     0.71271,     0.71371,     0.71471,     0.71572,     0.71672,     0.71772,     0.71872,     0.71972,\n",
              "           0.72072,     0.72172,     0.72272,     0.72372,     0.72472,     0.72573,     0.72673,     0.72773,     0.72873,     0.72973,     0.73073,     0.73173,     0.73273,     0.73373,     0.73473,     0.73574,     0.73674,     0.73774,     0.73874,     0.73974,     0.74074,     0.74174,     0.74274,     0.74374,\n",
              "           0.74474,     0.74575,     0.74675,     0.74775,     0.74875,     0.74975,     0.75075,     0.75175,     0.75275,     0.75375,     0.75475,     0.75576,     0.75676,     0.75776,     0.75876,     0.75976,     0.76076,     0.76176,     0.76276,     0.76376,     0.76476,     0.76577,     0.76677,     0.76777,\n",
              "           0.76877,     0.76977,     0.77077,     0.77177,     0.77277,     0.77377,     0.77477,     0.77578,     0.77678,     0.77778,     0.77878,     0.77978,     0.78078,     0.78178,     0.78278,     0.78378,     0.78478,     0.78579,     0.78679,     0.78779,     0.78879,     0.78979,     0.79079,     0.79179,\n",
              "           0.79279,     0.79379,     0.79479,      0.7958,      0.7968,      0.7978,      0.7988,      0.7998,      0.8008,      0.8018,      0.8028,      0.8038,      0.8048,     0.80581,     0.80681,     0.80781,     0.80881,     0.80981,     0.81081,     0.81181,     0.81281,     0.81381,     0.81481,     0.81582,\n",
              "           0.81682,     0.81782,     0.81882,     0.81982,     0.82082,     0.82182,     0.82282,     0.82382,     0.82482,     0.82583,     0.82683,     0.82783,     0.82883,     0.82983,     0.83083,     0.83183,     0.83283,     0.83383,     0.83483,     0.83584,     0.83684,     0.83784,     0.83884,     0.83984,\n",
              "           0.84084,     0.84184,     0.84284,     0.84384,     0.84484,     0.84585,     0.84685,     0.84785,     0.84885,     0.84985,     0.85085,     0.85185,     0.85285,     0.85385,     0.85485,     0.85586,     0.85686,     0.85786,     0.85886,     0.85986,     0.86086,     0.86186,     0.86286,     0.86386,\n",
              "           0.86486,     0.86587,     0.86687,     0.86787,     0.86887,     0.86987,     0.87087,     0.87187,     0.87287,     0.87387,     0.87487,     0.87588,     0.87688,     0.87788,     0.87888,     0.87988,     0.88088,     0.88188,     0.88288,     0.88388,     0.88488,     0.88589,     0.88689,     0.88789,\n",
              "           0.88889,     0.88989,     0.89089,     0.89189,     0.89289,     0.89389,     0.89489,      0.8959,      0.8969,      0.8979,      0.8989,      0.8999,      0.9009,      0.9019,      0.9029,      0.9039,      0.9049,     0.90591,     0.90691,     0.90791,     0.90891,     0.90991,     0.91091,     0.91191,\n",
              "           0.91291,     0.91391,     0.91491,     0.91592,     0.91692,     0.91792,     0.91892,     0.91992,     0.92092,     0.92192,     0.92292,     0.92392,     0.92492,     0.92593,     0.92693,     0.92793,     0.92893,     0.92993,     0.93093,     0.93193,     0.93293,     0.93393,     0.93493,     0.93594,\n",
              "           0.93694,     0.93794,     0.93894,     0.93994,     0.94094,     0.94194,     0.94294,     0.94394,     0.94494,     0.94595,     0.94695,     0.94795,     0.94895,     0.94995,     0.95095,     0.95195,     0.95295,     0.95395,     0.95495,     0.95596,     0.95696,     0.95796,     0.95896,     0.95996,\n",
              "           0.96096,     0.96196,     0.96296,     0.96396,     0.96496,     0.96597,     0.96697,     0.96797,     0.96897,     0.96997,     0.97097,     0.97197,     0.97297,     0.97397,     0.97497,     0.97598,     0.97698,     0.97798,     0.97898,     0.97998,     0.98098,     0.98198,     0.98298,     0.98398,\n",
              "           0.98498,     0.98599,     0.98699,     0.98799,     0.98899,     0.98999,     0.99099,     0.99199,     0.99299,     0.99399,     0.99499,       0.996,       0.997,       0.998,       0.999,           1]), array([[   0.046311,    0.046311,    0.070313,     0.08981,     0.10738,     0.12278,     0.13526,     0.14695,     0.15671,     0.16624,     0.17722,     0.18698,     0.19493,     0.20321,     0.21184,     0.22133,      0.2279,     0.23401,     0.24163,     0.24857,      0.2551,     0.26217,     0.26517,\n",
              "            0.27296,     0.27936,     0.28341,     0.28894,     0.29265,     0.29635,     0.29994,     0.30831,     0.31299,     0.31706,     0.32002,     0.32278,     0.32783,     0.33144,     0.33488,     0.33983,     0.34485,     0.34971,     0.35494,     0.35955,     0.36307,     0.36457,     0.36618,\n",
              "            0.37006,     0.37506,     0.38021,     0.38248,     0.38555,     0.38982,     0.39256,     0.39491,     0.39783,     0.40426,     0.40789,     0.41066,     0.41489,     0.41507,     0.41807,     0.42143,     0.42202,     0.42581,     0.42908,      0.4316,     0.43224,     0.43285,     0.43397,\n",
              "            0.43681,     0.43823,     0.44148,     0.44596,     0.44785,     0.45065,     0.45398,     0.45604,     0.46174,     0.46429,     0.47028,     0.47332,     0.47734,     0.48274,     0.48595,     0.48794,     0.48914,      0.4921,     0.49577,     0.49726,     0.49735,     0.50322,     0.50544,\n",
              "            0.50738,      0.5095,     0.51118,     0.51337,     0.51571,     0.51678,     0.52178,     0.52482,     0.52658,     0.52739,     0.53182,     0.53567,     0.53604,     0.53642,     0.53706,      0.5379,     0.53859,     0.53938,     0.53963,     0.53987,     0.54012,     0.54036,      0.5425,\n",
              "            0.54295,      0.5433,     0.54366,     0.54847,     0.54966,     0.55307,     0.55342,     0.55377,     0.55412,     0.55615,     0.55789,     0.55871,     0.55959,     0.56195,     0.56224,     0.56728,     0.56993,     0.57244,     0.57343,     0.57417,     0.57603,     0.57658,      0.5782,\n",
              "            0.58125,     0.58429,     0.58599,     0.59143,     0.59181,     0.59219,     0.59258,     0.59404,     0.59548,     0.59728,     0.59826,     0.60107,     0.60269,     0.60408,     0.60463,     0.60701,     0.60898,     0.60829,     0.60796,     0.60763,     0.60863,     0.61078,     0.61148,\n",
              "            0.61243,     0.61523,     0.61691,     0.62132,     0.62312,     0.62701,     0.63039,      0.6313,     0.63489,     0.63581,     0.63561,     0.63574,     0.63666,     0.63931,     0.63998,     0.64123,     0.64246,     0.64329,     0.64454,     0.64649,     0.64771,     0.64867,     0.65309,\n",
              "            0.65429,     0.65482,     0.65535,     0.65645,     0.65783,     0.65936,     0.66442,     0.66791,     0.66863,     0.66935,     0.67007,     0.67079,     0.67149,     0.67219,     0.67288,     0.67361,     0.67434,     0.67554,     0.67589,     0.67625,      0.6766,     0.67695,      0.6773,\n",
              "            0.68003,      0.6819,     0.68264,     0.68221,     0.68166,     0.68152,      0.6833,     0.68415,     0.68521,     0.68711,     0.68884,     0.68941,     0.68998,     0.69052,     0.69095,     0.69138,     0.69181,     0.69225,     0.69711,     0.69767,     0.69742,     0.69789,     0.69836,\n",
              "            0.69882,     0.69879,     0.69794,     0.69767,     0.69861,     0.70158,     0.70294,     0.70475,     0.70768,      0.7086,     0.70951,     0.71034,     0.71117,     0.71271,     0.71512,     0.71606,     0.71668,     0.71731,     0.72168,     0.72141,     0.72113,     0.72091,     0.72467,\n",
              "            0.72576,     0.72905,     0.73032,     0.73129,      0.7321,      0.7329,     0.73465,      0.7388,     0.74175,     0.74208,     0.74241,     0.74273,     0.74306,     0.74339,     0.74371,     0.74394,     0.74374,     0.74354,     0.74334,     0.74338,     0.74395,     0.74453,     0.74511,\n",
              "            0.74582,     0.74675,     0.74768,     0.74825,      0.7488,     0.74935,      0.7499,     0.75332,     0.75721,     0.75769,     0.75816,     0.75864,     0.75912,     0.76092,     0.76294,     0.76383,     0.76472,     0.76616,     0.76712,     0.76778,     0.76844,     0.76915,     0.77006,\n",
              "            0.77097,     0.77134,     0.77117,     0.77099,     0.77081,     0.77158,     0.77443,     0.77637,     0.77751,     0.77834,     0.77881,     0.77928,     0.77975,     0.78022,     0.78092,     0.78312,     0.78299,     0.78285,     0.78271,     0.78257,     0.78306,     0.78539,      0.7869,\n",
              "            0.79036,     0.79103,      0.7917,     0.79236,     0.79307,     0.79383,      0.7946,     0.79537,     0.79802,     0.79911,      0.8002,     0.80085,     0.80118,     0.80152,     0.80185,     0.80218,     0.80251,     0.80284,     0.80317,     0.80348,     0.80377,     0.80406,     0.80435,\n",
              "            0.80464,     0.80493,     0.80522,     0.80551,      0.8058,     0.80612,     0.80653,     0.80695,     0.80736,     0.80777,     0.80818,     0.80859,     0.80914,     0.80976,     0.81038,       0.811,     0.81141,     0.81129,     0.81116,     0.81104,     0.81092,     0.81077,     0.81053,\n",
              "             0.8103,     0.81093,     0.81255,     0.81438,     0.81936,     0.82257,     0.82406,     0.82393,      0.8238,     0.82367,     0.82353,     0.82634,     0.82604,     0.82599,     0.82673,     0.82747,     0.82821,     0.83163,     0.83335,     0.83412,      0.8344,     0.83469,     0.83498,\n",
              "            0.83527,     0.83556,     0.83585,     0.83614,     0.83642,     0.83671,     0.83731,     0.83833,     0.83935,     0.84133,     0.84309,     0.84412,     0.84516,     0.84508,      0.8448,     0.84578,     0.84692,     0.84779,      0.8476,     0.84741,     0.84711,     0.84669,     0.84658,\n",
              "            0.84648,     0.84638,     0.84628,     0.84618,     0.84575,     0.84788,     0.84895,     0.84928,     0.84961,     0.84995,     0.85028,     0.85061,     0.85094,     0.85127,      0.8516,     0.85198,     0.85252,     0.85306,      0.8536,     0.85414,     0.85468,     0.85474,     0.85483,\n",
              "            0.85538,     0.85592,     0.85647,     0.85702,     0.85756,     0.86029,     0.86372,     0.86718,     0.86749,      0.8678,      0.8681,     0.86841,     0.86872,     0.86903,     0.86934,     0.86965,     0.86995,     0.87072,       0.874,     0.87514,     0.87629,     0.87685,     0.87669,\n",
              "            0.87653,     0.87681,     0.87751,     0.87821,      0.8789,      0.8796,     0.88211,     0.88316,     0.88301,     0.88285,     0.88246,     0.88185,      0.8818,     0.88174,     0.88169,     0.88164,     0.88158,     0.88153,     0.88148,     0.88142,     0.88494,     0.88675,     0.88843,\n",
              "             0.8882,     0.88813,     0.88935,     0.89057,     0.89153,      0.8913,     0.89156,     0.89341,     0.89509,     0.89633,     0.89757,     0.89788,     0.89767,     0.89792,     0.89887,     0.89981,     0.90076,     0.90155,     0.90219,     0.90283,     0.90346,      0.9041,     0.90473,\n",
              "            0.90491,     0.90483,     0.90474,     0.90466,     0.90458,     0.90753,     0.90826,     0.90816,     0.90806,     0.90796,     0.90791,     0.90787,     0.90782,     0.90778,     0.90773,     0.90769,     0.90765,      0.9076,       0.908,     0.91523,     0.91504,     0.91526,     0.91727,\n",
              "            0.91879,     0.91875,     0.91871,     0.91868,     0.91864,      0.9186,     0.91856,     0.91852,     0.91848,     0.92226,     0.92157,     0.92314,     0.92621,     0.92831,     0.92911,     0.92895,     0.92933,     0.93004,     0.93075,     0.93146,     0.93216,     0.93287,     0.93292,\n",
              "            0.93276,     0.93626,     0.94068,     0.94052,     0.94038,     0.94387,     0.94373,     0.94353,     0.94335,     0.94326,     0.94317,     0.94305,     0.94291,     0.94773,     0.94832,      0.9489,     0.94948,     0.95007,     0.95065,     0.95123,     0.95182,     0.95173,     0.95369,\n",
              "            0.95606,     0.95625,     0.95617,      0.9561,     0.95599,     0.95588,     0.95582,     0.95575,     0.95569,     0.95553,      0.9553,     0.95819,     0.95978,     0.95974,     0.95971,     0.95967,     0.95964,      0.9596,     0.96402,     0.96393,     0.96491,     0.96604,     0.96718,\n",
              "            0.96832,      0.9689,     0.96887,     0.96884,     0.96882,     0.96879,     0.96876,      0.9687,     0.96861,     0.96851,     0.96839,     0.96824,     0.96818,     0.96813,     0.96803,     0.96786,     0.96768,     0.96717,     0.96704,     0.96686,     0.96667,     0.96661,     0.96654,\n",
              "            0.96647,     0.96629,     0.96625,      0.9662,     0.96616,     0.96612,     0.96604,     0.96594,     0.96564,     0.96554,     0.96547,     0.96541,     0.96536,      0.9653,     0.96524,     0.96518,     0.96512,     0.96492,     0.97024,     0.96997,     0.96969,     0.96912,     0.96891,\n",
              "            0.96863,     0.96831,     0.96824,     0.96817,     0.96801,     0.96773,     0.96765,     0.96758,      0.9673,     0.96724,     0.96717,     0.96711,     0.96691,     0.96668,     0.96634,      0.9661,     0.96587,     0.96567,      0.9655,     0.96526,     0.96501,     0.96477,     0.96459,\n",
              "            0.96436,     0.96419,     0.96406,     0.96395,     0.96384,     0.96368,     0.96344,     0.96326,     0.96314,     0.96303,     0.96293,     0.96285,     0.96277,     0.96268,     0.96239,      0.9621,     0.96182,      0.9617,     0.96158,     0.96134,      0.9606,     0.96044,     0.95995,\n",
              "            0.95973,     0.95955,     0.95938,     0.96692,     0.96687,     0.96681,     0.96675,      0.9667,     0.96635,     0.96627,     0.96618,     0.96609,     0.96518,     0.96441,     0.96409,     0.96359,     0.96328,     0.96314,       0.963,      0.9643,     0.96614,     0.96799,     0.96983,\n",
              "            0.97168,     0.97181,     0.97136,     0.97117,     0.97102,     0.97088,     0.97015,     0.96994,     0.96981,     0.97104,     0.97954,     0.97946,     0.97915,       0.979,     0.97879,     0.97797,     0.97772,     0.97749,     0.97736,     0.97722,     0.97704,     0.97678,     0.97622,\n",
              "            0.97577,     0.97562,     0.98727,     0.98755,     0.98748,     0.98744,      0.9874,     0.98736,     0.98717,     0.98705,     0.98676,     0.98724,     0.99028,     0.99331,     0.99635,     0.99939,           1,           1,           1,           1,           1,           1,           1,\n",
              "                  1,           1,           1,           1,           1,           1,           1,           1,           1,           1,           1,           1,           1,           1,           1,           1,           1,           1,           1,           1,           1,           1,           1,\n",
              "                  1,           1,           1,           1,           1,           1,           1,           1,           1,           1,           1,           1,           1,           1,           1,           1,           1,           1,           1,           1,           1,           1,           1,\n",
              "                  1,           1,           1,           1,           1,           1,           1,           1,           1,           1,           1,           1,           1,           1,           1,           1,           1,           1,           1,           1,           1,           1,           1,\n",
              "                  1,           1,           1,           1,           1,           1,           1,           1,           1,           1,           1,           1,           1,           1,           1,           1,           1,           1,           1,           1,           1,           1,           1,\n",
              "                  1,           1,           1,           1,           1,           1,           1,           1,           1,           1,           1,           1,           1,           1,           1,           1,           1,           1,           1,           1,           1,           1,           1,\n",
              "                  1,           1,           1,           1,           1,           1,           1,           1,           1,           1,           1,           1,           1,           1,           1,           1,           1,           1,           1,           1,           1,           1,           1,\n",
              "                  1,           1,           1,           1,           1,           1,           1,           1,           1,           1,           1,           1,           1,           1,           1,           1,           1,           1,           1,           1,           1,           1,           1,\n",
              "                  1,           1,           1,           1,           1,           1,           1,           1,           1,           1,           1,           1,           1,           1,           1,           1,           1,           1,           1,           1,           1,           1,           1,\n",
              "                  1,           1,           1,           1,           1,           1,           1,           1,           1,           1,           1,           1,           1,           1,           1,           1,           1,           1,           1,           1,           1,           1,           1,\n",
              "                  1,           1,           1,           1,           1,           1,           1,           1,           1,           1,           1,           1,           1,           1,           1,           1,           1,           1,           1,           1,           1,           1,           1,\n",
              "                  1,           1,           1,           1,           1,           1,           1,           1,           1,           1,           1]]), 'Confidence', 'Precision'], [array([          0,    0.001001,    0.002002,    0.003003,    0.004004,    0.005005,    0.006006,    0.007007,    0.008008,    0.009009,     0.01001,    0.011011,    0.012012,    0.013013,    0.014014,    0.015015,    0.016016,    0.017017,    0.018018,    0.019019,     0.02002,    0.021021,    0.022022,    0.023023,\n",
              "          0.024024,    0.025025,    0.026026,    0.027027,    0.028028,    0.029029,     0.03003,    0.031031,    0.032032,    0.033033,    0.034034,    0.035035,    0.036036,    0.037037,    0.038038,    0.039039,     0.04004,    0.041041,    0.042042,    0.043043,    0.044044,    0.045045,    0.046046,    0.047047,\n",
              "          0.048048,    0.049049,     0.05005,    0.051051,    0.052052,    0.053053,    0.054054,    0.055055,    0.056056,    0.057057,    0.058058,    0.059059,     0.06006,    0.061061,    0.062062,    0.063063,    0.064064,    0.065065,    0.066066,    0.067067,    0.068068,    0.069069,     0.07007,    0.071071,\n",
              "          0.072072,    0.073073,    0.074074,    0.075075,    0.076076,    0.077077,    0.078078,    0.079079,     0.08008,    0.081081,    0.082082,    0.083083,    0.084084,    0.085085,    0.086086,    0.087087,    0.088088,    0.089089,     0.09009,    0.091091,    0.092092,    0.093093,    0.094094,    0.095095,\n",
              "          0.096096,    0.097097,    0.098098,    0.099099,      0.1001,      0.1011,      0.1021,      0.1031,      0.1041,     0.10511,     0.10611,     0.10711,     0.10811,     0.10911,     0.11011,     0.11111,     0.11211,     0.11311,     0.11411,     0.11512,     0.11612,     0.11712,     0.11812,     0.11912,\n",
              "           0.12012,     0.12112,     0.12212,     0.12312,     0.12412,     0.12513,     0.12613,     0.12713,     0.12813,     0.12913,     0.13013,     0.13113,     0.13213,     0.13313,     0.13413,     0.13514,     0.13614,     0.13714,     0.13814,     0.13914,     0.14014,     0.14114,     0.14214,     0.14314,\n",
              "           0.14414,     0.14515,     0.14615,     0.14715,     0.14815,     0.14915,     0.15015,     0.15115,     0.15215,     0.15315,     0.15415,     0.15516,     0.15616,     0.15716,     0.15816,     0.15916,     0.16016,     0.16116,     0.16216,     0.16316,     0.16416,     0.16517,     0.16617,     0.16717,\n",
              "           0.16817,     0.16917,     0.17017,     0.17117,     0.17217,     0.17317,     0.17417,     0.17518,     0.17618,     0.17718,     0.17818,     0.17918,     0.18018,     0.18118,     0.18218,     0.18318,     0.18418,     0.18519,     0.18619,     0.18719,     0.18819,     0.18919,     0.19019,     0.19119,\n",
              "           0.19219,     0.19319,     0.19419,      0.1952,      0.1962,      0.1972,      0.1982,      0.1992,      0.2002,      0.2012,      0.2022,      0.2032,      0.2042,     0.20521,     0.20621,     0.20721,     0.20821,     0.20921,     0.21021,     0.21121,     0.21221,     0.21321,     0.21421,     0.21522,\n",
              "           0.21622,     0.21722,     0.21822,     0.21922,     0.22022,     0.22122,     0.22222,     0.22322,     0.22422,     0.22523,     0.22623,     0.22723,     0.22823,     0.22923,     0.23023,     0.23123,     0.23223,     0.23323,     0.23423,     0.23524,     0.23624,     0.23724,     0.23824,     0.23924,\n",
              "           0.24024,     0.24124,     0.24224,     0.24324,     0.24424,     0.24525,     0.24625,     0.24725,     0.24825,     0.24925,     0.25025,     0.25125,     0.25225,     0.25325,     0.25425,     0.25526,     0.25626,     0.25726,     0.25826,     0.25926,     0.26026,     0.26126,     0.26226,     0.26326,\n",
              "           0.26426,     0.26527,     0.26627,     0.26727,     0.26827,     0.26927,     0.27027,     0.27127,     0.27227,     0.27327,     0.27427,     0.27528,     0.27628,     0.27728,     0.27828,     0.27928,     0.28028,     0.28128,     0.28228,     0.28328,     0.28428,     0.28529,     0.28629,     0.28729,\n",
              "           0.28829,     0.28929,     0.29029,     0.29129,     0.29229,     0.29329,     0.29429,      0.2953,      0.2963,      0.2973,      0.2983,      0.2993,      0.3003,      0.3013,      0.3023,      0.3033,      0.3043,     0.30531,     0.30631,     0.30731,     0.30831,     0.30931,     0.31031,     0.31131,\n",
              "           0.31231,     0.31331,     0.31431,     0.31532,     0.31632,     0.31732,     0.31832,     0.31932,     0.32032,     0.32132,     0.32232,     0.32332,     0.32432,     0.32533,     0.32633,     0.32733,     0.32833,     0.32933,     0.33033,     0.33133,     0.33233,     0.33333,     0.33433,     0.33534,\n",
              "           0.33634,     0.33734,     0.33834,     0.33934,     0.34034,     0.34134,     0.34234,     0.34334,     0.34434,     0.34535,     0.34635,     0.34735,     0.34835,     0.34935,     0.35035,     0.35135,     0.35235,     0.35335,     0.35435,     0.35536,     0.35636,     0.35736,     0.35836,     0.35936,\n",
              "           0.36036,     0.36136,     0.36236,     0.36336,     0.36436,     0.36537,     0.36637,     0.36737,     0.36837,     0.36937,     0.37037,     0.37137,     0.37237,     0.37337,     0.37437,     0.37538,     0.37638,     0.37738,     0.37838,     0.37938,     0.38038,     0.38138,     0.38238,     0.38338,\n",
              "           0.38438,     0.38539,     0.38639,     0.38739,     0.38839,     0.38939,     0.39039,     0.39139,     0.39239,     0.39339,     0.39439,      0.3954,      0.3964,      0.3974,      0.3984,      0.3994,      0.4004,      0.4014,      0.4024,      0.4034,      0.4044,     0.40541,     0.40641,     0.40741,\n",
              "           0.40841,     0.40941,     0.41041,     0.41141,     0.41241,     0.41341,     0.41441,     0.41542,     0.41642,     0.41742,     0.41842,     0.41942,     0.42042,     0.42142,     0.42242,     0.42342,     0.42442,     0.42543,     0.42643,     0.42743,     0.42843,     0.42943,     0.43043,     0.43143,\n",
              "           0.43243,     0.43343,     0.43443,     0.43544,     0.43644,     0.43744,     0.43844,     0.43944,     0.44044,     0.44144,     0.44244,     0.44344,     0.44444,     0.44545,     0.44645,     0.44745,     0.44845,     0.44945,     0.45045,     0.45145,     0.45245,     0.45345,     0.45445,     0.45546,\n",
              "           0.45646,     0.45746,     0.45846,     0.45946,     0.46046,     0.46146,     0.46246,     0.46346,     0.46446,     0.46547,     0.46647,     0.46747,     0.46847,     0.46947,     0.47047,     0.47147,     0.47247,     0.47347,     0.47447,     0.47548,     0.47648,     0.47748,     0.47848,     0.47948,\n",
              "           0.48048,     0.48148,     0.48248,     0.48348,     0.48448,     0.48549,     0.48649,     0.48749,     0.48849,     0.48949,     0.49049,     0.49149,     0.49249,     0.49349,     0.49449,      0.4955,      0.4965,      0.4975,      0.4985,      0.4995,      0.5005,      0.5015,      0.5025,      0.5035,\n",
              "            0.5045,     0.50551,     0.50651,     0.50751,     0.50851,     0.50951,     0.51051,     0.51151,     0.51251,     0.51351,     0.51451,     0.51552,     0.51652,     0.51752,     0.51852,     0.51952,     0.52052,     0.52152,     0.52252,     0.52352,     0.52452,     0.52553,     0.52653,     0.52753,\n",
              "           0.52853,     0.52953,     0.53053,     0.53153,     0.53253,     0.53353,     0.53453,     0.53554,     0.53654,     0.53754,     0.53854,     0.53954,     0.54054,     0.54154,     0.54254,     0.54354,     0.54454,     0.54555,     0.54655,     0.54755,     0.54855,     0.54955,     0.55055,     0.55155,\n",
              "           0.55255,     0.55355,     0.55455,     0.55556,     0.55656,     0.55756,     0.55856,     0.55956,     0.56056,     0.56156,     0.56256,     0.56356,     0.56456,     0.56557,     0.56657,     0.56757,     0.56857,     0.56957,     0.57057,     0.57157,     0.57257,     0.57357,     0.57457,     0.57558,\n",
              "           0.57658,     0.57758,     0.57858,     0.57958,     0.58058,     0.58158,     0.58258,     0.58358,     0.58458,     0.58559,     0.58659,     0.58759,     0.58859,     0.58959,     0.59059,     0.59159,     0.59259,     0.59359,     0.59459,      0.5956,      0.5966,      0.5976,      0.5986,      0.5996,\n",
              "            0.6006,      0.6016,      0.6026,      0.6036,      0.6046,     0.60561,     0.60661,     0.60761,     0.60861,     0.60961,     0.61061,     0.61161,     0.61261,     0.61361,     0.61461,     0.61562,     0.61662,     0.61762,     0.61862,     0.61962,     0.62062,     0.62162,     0.62262,     0.62362,\n",
              "           0.62462,     0.62563,     0.62663,     0.62763,     0.62863,     0.62963,     0.63063,     0.63163,     0.63263,     0.63363,     0.63463,     0.63564,     0.63664,     0.63764,     0.63864,     0.63964,     0.64064,     0.64164,     0.64264,     0.64364,     0.64464,     0.64565,     0.64665,     0.64765,\n",
              "           0.64865,     0.64965,     0.65065,     0.65165,     0.65265,     0.65365,     0.65465,     0.65566,     0.65666,     0.65766,     0.65866,     0.65966,     0.66066,     0.66166,     0.66266,     0.66366,     0.66466,     0.66567,     0.66667,     0.66767,     0.66867,     0.66967,     0.67067,     0.67167,\n",
              "           0.67267,     0.67367,     0.67467,     0.67568,     0.67668,     0.67768,     0.67868,     0.67968,     0.68068,     0.68168,     0.68268,     0.68368,     0.68468,     0.68569,     0.68669,     0.68769,     0.68869,     0.68969,     0.69069,     0.69169,     0.69269,     0.69369,     0.69469,      0.6957,\n",
              "            0.6967,      0.6977,      0.6987,      0.6997,      0.7007,      0.7017,      0.7027,      0.7037,      0.7047,     0.70571,     0.70671,     0.70771,     0.70871,     0.70971,     0.71071,     0.71171,     0.71271,     0.71371,     0.71471,     0.71572,     0.71672,     0.71772,     0.71872,     0.71972,\n",
              "           0.72072,     0.72172,     0.72272,     0.72372,     0.72472,     0.72573,     0.72673,     0.72773,     0.72873,     0.72973,     0.73073,     0.73173,     0.73273,     0.73373,     0.73473,     0.73574,     0.73674,     0.73774,     0.73874,     0.73974,     0.74074,     0.74174,     0.74274,     0.74374,\n",
              "           0.74474,     0.74575,     0.74675,     0.74775,     0.74875,     0.74975,     0.75075,     0.75175,     0.75275,     0.75375,     0.75475,     0.75576,     0.75676,     0.75776,     0.75876,     0.75976,     0.76076,     0.76176,     0.76276,     0.76376,     0.76476,     0.76577,     0.76677,     0.76777,\n",
              "           0.76877,     0.76977,     0.77077,     0.77177,     0.77277,     0.77377,     0.77477,     0.77578,     0.77678,     0.77778,     0.77878,     0.77978,     0.78078,     0.78178,     0.78278,     0.78378,     0.78478,     0.78579,     0.78679,     0.78779,     0.78879,     0.78979,     0.79079,     0.79179,\n",
              "           0.79279,     0.79379,     0.79479,      0.7958,      0.7968,      0.7978,      0.7988,      0.7998,      0.8008,      0.8018,      0.8028,      0.8038,      0.8048,     0.80581,     0.80681,     0.80781,     0.80881,     0.80981,     0.81081,     0.81181,     0.81281,     0.81381,     0.81481,     0.81582,\n",
              "           0.81682,     0.81782,     0.81882,     0.81982,     0.82082,     0.82182,     0.82282,     0.82382,     0.82482,     0.82583,     0.82683,     0.82783,     0.82883,     0.82983,     0.83083,     0.83183,     0.83283,     0.83383,     0.83483,     0.83584,     0.83684,     0.83784,     0.83884,     0.83984,\n",
              "           0.84084,     0.84184,     0.84284,     0.84384,     0.84484,     0.84585,     0.84685,     0.84785,     0.84885,     0.84985,     0.85085,     0.85185,     0.85285,     0.85385,     0.85485,     0.85586,     0.85686,     0.85786,     0.85886,     0.85986,     0.86086,     0.86186,     0.86286,     0.86386,\n",
              "           0.86486,     0.86587,     0.86687,     0.86787,     0.86887,     0.86987,     0.87087,     0.87187,     0.87287,     0.87387,     0.87487,     0.87588,     0.87688,     0.87788,     0.87888,     0.87988,     0.88088,     0.88188,     0.88288,     0.88388,     0.88488,     0.88589,     0.88689,     0.88789,\n",
              "           0.88889,     0.88989,     0.89089,     0.89189,     0.89289,     0.89389,     0.89489,      0.8959,      0.8969,      0.8979,      0.8989,      0.8999,      0.9009,      0.9019,      0.9029,      0.9039,      0.9049,     0.90591,     0.90691,     0.90791,     0.90891,     0.90991,     0.91091,     0.91191,\n",
              "           0.91291,     0.91391,     0.91491,     0.91592,     0.91692,     0.91792,     0.91892,     0.91992,     0.92092,     0.92192,     0.92292,     0.92392,     0.92492,     0.92593,     0.92693,     0.92793,     0.92893,     0.92993,     0.93093,     0.93193,     0.93293,     0.93393,     0.93493,     0.93594,\n",
              "           0.93694,     0.93794,     0.93894,     0.93994,     0.94094,     0.94194,     0.94294,     0.94394,     0.94494,     0.94595,     0.94695,     0.94795,     0.94895,     0.94995,     0.95095,     0.95195,     0.95295,     0.95395,     0.95495,     0.95596,     0.95696,     0.95796,     0.95896,     0.95996,\n",
              "           0.96096,     0.96196,     0.96296,     0.96396,     0.96496,     0.96597,     0.96697,     0.96797,     0.96897,     0.96997,     0.97097,     0.97197,     0.97297,     0.97397,     0.97497,     0.97598,     0.97698,     0.97798,     0.97898,     0.97998,     0.98098,     0.98198,     0.98298,     0.98398,\n",
              "           0.98498,     0.98599,     0.98699,     0.98799,     0.98899,     0.98999,     0.99099,     0.99199,     0.99299,     0.99399,     0.99499,       0.996,       0.997,       0.998,       0.999,           1]), array([[    0.98958,     0.98958,     0.98611,     0.98264,     0.97917,     0.97917,     0.97917,     0.97569,     0.96528,     0.96181,     0.96181,     0.96181,     0.95833,     0.95833,     0.95833,     0.95833,     0.95833,     0.95833,     0.95486,     0.95486,     0.95486,     0.95486,     0.95486,\n",
              "            0.95486,     0.95486,     0.95486,     0.95486,     0.95486,     0.95486,     0.95139,     0.95139,     0.95139,     0.95139,     0.95139,     0.95139,     0.95139,     0.95139,     0.95139,     0.95089,     0.94792,     0.94792,     0.94792,     0.94792,     0.94792,     0.94792,     0.94792,\n",
              "            0.94792,     0.94444,     0.94444,     0.94444,     0.94444,     0.94097,     0.94097,     0.94097,      0.9375,      0.9375,      0.9375,     0.93403,     0.93403,     0.93056,     0.93056,     0.93056,     0.93056,     0.93056,     0.93056,     0.93056,     0.93056,     0.92487,     0.92361,\n",
              "            0.92361,     0.92361,     0.92361,     0.92361,     0.92361,     0.92361,     0.92361,     0.92361,     0.92361,     0.92361,     0.92361,     0.92361,     0.92361,     0.92361,     0.92361,     0.92361,     0.92093,     0.92014,     0.92014,     0.92014,      0.9173,     0.91667,     0.91667,\n",
              "            0.91667,     0.91667,     0.91667,     0.91667,     0.91667,     0.91667,     0.91667,     0.91319,     0.91319,     0.91319,     0.91319,     0.91319,     0.91319,     0.91319,     0.91037,      0.9094,     0.90625,     0.90625,     0.90625,     0.90625,     0.90625,     0.90625,     0.90625,\n",
              "            0.90625,     0.90625,     0.90625,     0.90625,     0.90625,     0.90625,     0.90625,     0.90625,     0.90625,     0.90625,     0.90625,     0.90625,     0.90625,     0.90625,     0.90278,     0.90278,     0.90278,     0.89931,     0.89931,     0.89931,     0.89931,     0.89931,     0.89931,\n",
              "            0.89931,     0.89931,     0.89931,     0.89931,     0.89931,     0.89931,     0.89931,     0.89931,     0.89931,     0.89931,     0.89931,     0.89931,     0.89931,     0.89931,     0.89931,     0.89931,     0.89767,     0.89507,     0.89384,      0.8926,     0.89236,     0.89236,     0.89236,\n",
              "            0.89236,     0.89236,     0.89236,     0.89236,     0.89236,     0.89236,     0.89236,     0.89236,     0.89236,     0.89236,     0.89034,     0.88889,     0.88889,     0.88889,     0.88542,     0.88542,     0.88542,     0.88542,     0.88542,     0.88542,     0.88542,     0.88542,     0.88542,\n",
              "            0.88542,     0.88542,     0.88542,     0.88542,     0.88542,     0.88542,     0.88542,     0.88542,     0.88542,     0.88542,     0.88542,     0.88542,     0.88542,     0.88542,     0.88542,     0.88542,     0.88542,     0.88194,     0.88194,     0.88194,     0.88194,     0.88194,     0.88194,\n",
              "            0.88194,     0.88194,     0.88133,     0.87955,     0.87735,       0.875,       0.875,       0.875,       0.875,       0.875,       0.875,       0.875,       0.875,       0.875,       0.875,       0.875,       0.875,       0.875,       0.875,     0.87336,     0.87153,     0.87153,     0.87153,\n",
              "            0.87153,     0.86997,     0.86648,     0.86458,     0.86458,     0.86458,     0.86458,     0.86458,     0.86458,     0.86458,     0.86458,     0.86458,     0.86458,     0.86458,     0.86458,     0.86458,     0.86458,     0.86458,     0.86434,     0.86316,     0.86197,     0.85764,     0.85764,\n",
              "            0.85764,     0.85764,     0.85764,     0.85764,     0.85764,     0.85764,     0.85764,     0.85764,     0.85764,     0.85764,     0.85764,     0.85764,     0.85764,     0.85764,     0.85764,     0.85746,     0.85657,     0.85568,     0.85479,     0.85417,     0.85417,     0.85417,     0.85417,\n",
              "            0.85417,     0.85417,     0.85417,     0.85417,     0.85417,     0.85417,     0.85417,     0.85417,     0.85417,     0.85417,     0.85417,     0.85417,     0.85417,     0.85094,     0.84722,     0.84722,     0.84722,     0.84375,     0.84375,     0.84375,     0.84375,     0.84375,     0.84375,\n",
              "            0.84375,     0.84334,      0.8425,     0.84166,     0.84082,     0.84028,     0.84028,     0.84028,     0.84028,     0.84028,     0.84028,     0.84028,     0.84028,     0.84028,     0.84028,     0.84004,     0.83936,     0.83869,     0.83801,     0.83733,     0.83681,     0.83681,     0.83681,\n",
              "            0.83681,     0.83681,     0.83681,     0.83681,     0.83681,     0.83681,     0.83681,     0.83681,     0.83681,     0.83681,     0.83681,     0.83681,     0.83681,     0.83681,     0.83681,     0.83681,     0.83681,     0.83681,     0.83681,     0.83681,     0.83681,     0.83681,     0.83681,\n",
              "            0.83681,     0.83681,     0.83681,     0.83681,     0.83681,     0.83681,     0.83681,     0.83681,     0.83681,     0.83681,     0.83681,     0.83681,     0.83681,     0.83681,     0.83681,     0.83681,     0.83662,     0.83594,     0.83526,     0.83458,     0.83391,     0.83313,     0.83184,\n",
              "            0.83054,     0.82986,     0.82986,     0.82986,     0.82986,     0.82986,     0.82942,     0.82867,     0.82792,     0.82717,     0.82642,     0.82639,     0.82439,     0.82292,     0.82292,     0.82292,     0.82292,     0.81944,     0.81944,     0.81944,     0.81944,     0.81944,     0.81944,\n",
              "            0.81944,     0.81944,     0.81944,     0.81944,     0.81944,     0.81944,     0.81944,     0.81944,     0.81944,     0.81597,     0.81597,     0.81597,     0.81597,     0.81448,      0.8127,      0.8125,      0.8125,     0.81226,     0.81107,     0.80988,     0.80804,     0.80537,     0.80475,\n",
              "            0.80413,     0.80351,     0.80289,     0.80227,     0.79962,     0.79861,     0.79861,     0.79861,     0.79861,     0.79861,     0.79861,     0.79861,     0.79861,     0.79861,     0.79861,     0.79861,     0.79861,     0.79861,     0.79861,     0.79861,     0.79861,     0.79682,     0.79514,\n",
              "            0.79514,     0.79514,     0.79514,     0.79514,     0.79514,     0.79514,     0.79224,     0.79167,     0.79167,     0.79167,     0.79167,     0.79167,     0.79167,     0.79167,     0.79167,     0.79167,     0.79167,     0.79167,     0.79167,     0.79167,     0.79167,     0.79113,     0.78995,\n",
              "            0.78876,     0.78819,     0.78819,     0.78819,     0.78819,     0.78819,     0.78819,      0.7874,     0.78621,     0.78503,     0.78208,     0.77747,     0.77708,     0.77668,     0.77629,     0.77589,      0.7755,      0.7751,     0.77471,     0.77431,     0.77431,     0.77431,      0.7742,\n",
              "            0.77242,     0.77083,     0.77083,     0.77083,     0.77051,     0.76873,     0.76736,     0.76736,     0.76736,     0.76736,     0.76736,     0.76326,     0.76148,     0.76042,     0.76042,     0.76042,     0.76042,     0.76042,     0.76042,     0.76042,     0.76042,     0.76042,     0.76042,\n",
              "            0.75996,     0.75924,     0.75853,     0.75782,     0.75711,     0.75694,     0.75624,     0.75535,     0.75446,     0.75357,     0.75312,     0.75272,     0.75233,     0.75193,     0.75154,     0.75114,     0.75075,     0.75035,        0.75,     0.74976,     0.74798,     0.74653,     0.74653,\n",
              "            0.74644,     0.74604,     0.74564,     0.74525,     0.74485,     0.74446,     0.74406,     0.74367,     0.74327,     0.74145,     0.73441,     0.72917,     0.72917,     0.72917,     0.72814,     0.72637,     0.72569,     0.72569,     0.72569,     0.72569,     0.72569,     0.72569,     0.72433,\n",
              "            0.72255,     0.72222,     0.71575,     0.71373,     0.71196,     0.70063,     0.69885,     0.69622,     0.69385,     0.69266,     0.69148,     0.68995,     0.68817,      0.6875,      0.6875,      0.6875,      0.6875,      0.6875,      0.6875,      0.6875,      0.6875,     0.68459,     0.68403,\n",
              "            0.68403,     0.68297,     0.68178,      0.6806,     0.67884,     0.67707,     0.67605,     0.67504,     0.67402,     0.67148,     0.66792,     0.66319,      0.6628,      0.6622,     0.66161,     0.66102,     0.66042,     0.65983,     0.65132,     0.64954,     0.64931,     0.64931,     0.64931,\n",
              "            0.64931,     0.64902,     0.64843,     0.64784,     0.64724,     0.64665,     0.64606,     0.64472,     0.64294,     0.64076,     0.63814,     0.63514,     0.63395,     0.63277,     0.63085,     0.62729,     0.62373,     0.61368,     0.61131,     0.60785,     0.60429,     0.60302,     0.60183,\n",
              "            0.60055,     0.59717,     0.59638,     0.59559,      0.5948,     0.59401,     0.59255,     0.59077,     0.58552,     0.58374,     0.58255,     0.58153,     0.58052,      0.5795,     0.57848,     0.57746,     0.57645,     0.57303,       0.566,     0.56074,     0.55541,     0.54491,     0.54103,\n",
              "            0.53606,     0.53051,     0.52932,     0.52814,     0.52529,     0.52055,     0.51937,     0.51818,     0.51358,     0.51256,     0.51154,     0.51052,     0.50723,     0.50368,     0.49838,     0.49482,     0.49126,     0.48833,     0.48588,     0.48232,     0.47876,     0.47537,     0.47299,\n",
              "            0.46982,     0.46751,     0.46573,     0.46421,     0.46279,     0.46071,     0.45754,     0.45517,     0.45362,      0.4522,     0.45095,     0.44993,     0.44892,     0.44786,      0.4443,     0.44074,     0.43737,     0.43595,     0.43452,     0.43171,     0.42328,      0.4215,     0.41611,\n",
              "            0.41373,     0.41182,     0.41004,     0.40601,      0.4053,     0.40459,     0.40388,     0.40316,     0.39884,     0.39782,     0.39681,     0.39569,     0.38495,     0.37641,     0.37286,     0.36756,     0.36435,     0.36293,      0.3615,     0.36111,     0.36111,     0.36111,     0.36111,\n",
              "            0.36111,      0.3591,     0.35326,     0.35088,     0.34906,     0.34728,     0.33857,     0.33609,     0.33466,     0.33333,     0.33251,     0.33109,     0.32606,     0.32368,     0.32051,     0.30827,     0.30471,     0.30162,     0.29984,     0.29787,      0.2955,     0.29212,     0.28509,\n",
              "            0.27966,     0.27788,     0.27778,     0.27548,     0.27386,     0.27297,     0.27208,     0.27119,     0.26709,     0.26471,     0.25887,     0.25694,     0.25694,     0.25694,     0.25694,     0.25694,     0.25505,     0.25228,     0.24744,     0.23995,     0.23879,      0.2379,     0.23701,\n",
              "            0.23612,     0.23251,     0.22728,     0.22438,     0.22157,     0.21139,     0.20733,     0.19907,      0.1903,     0.18327,     0.17999,     0.17762,     0.17616,     0.17498,     0.17379,      0.1726,     0.17142,     0.17023,     0.16686,     0.16605,     0.16541,     0.16476,     0.16411,\n",
              "            0.16347,     0.15766,     0.15539,     0.15397,     0.15248,      0.1507,     0.14892,     0.14714,     0.14521,     0.14284,     0.13468,      0.1323,      0.1259,     0.12064,     0.11962,     0.11861,     0.11479,     0.11286,     0.11104,     0.10406,     0.10169,     0.09709,    0.095666,\n",
              "           0.094243,    0.086215,    0.083107,    0.081921,    0.080735,    0.076154,    0.075265,    0.074375,    0.073485,    0.072595,    0.071705,    0.070816,    0.069926,    0.066177,    0.062516,    0.058124,    0.056345,    0.054565,    0.052785,    0.051006,    0.049226,    0.047059,    0.044945,\n",
              "           0.043928,    0.042911,    0.041894,    0.038903,    0.036769,     0.03499,    0.031698,    0.030732,    0.030138,    0.029545,    0.028952,    0.028359,    0.027705,    0.024296,    0.024087,    0.023877,    0.023668,    0.023459,    0.023249,     0.02304,    0.022831,    0.022621,    0.022412,\n",
              "           0.022203,    0.021993,    0.021784,    0.021574,    0.021365,    0.021156,    0.020946,    0.017559,    0.017015,    0.016659,    0.016303,    0.015947,    0.015591,    0.015236,     0.01488,    0.014524,    0.014168,    0.013786,    0.013312,    0.012837,    0.012363,    0.011888,    0.011413,\n",
              "           0.010939,    0.010464,   0.0099899,   0.0095153,   0.0090408,   0.0085662,   0.0080917,   0.0076171,   0.0071426,   0.0067786,   0.0064939,   0.0062091,   0.0059244,   0.0056397,   0.0053549,   0.0050702,   0.0047855,   0.0045008,    0.004216,   0.0039313,   0.0036466,           0,           0,\n",
              "                  0,           0,           0,           0,           0,           0,           0,           0,           0,           0,           0,           0,           0,           0,           0,           0,           0,           0,           0,           0,           0,           0,           0,\n",
              "                  0,           0,           0,           0,           0,           0,           0,           0,           0,           0,           0,           0,           0,           0,           0,           0,           0,           0,           0,           0,           0,           0,           0,\n",
              "                  0,           0,           0,           0,           0,           0,           0,           0,           0,           0,           0,           0,           0,           0,           0,           0,           0,           0,           0,           0,           0,           0,           0,\n",
              "                  0,           0,           0,           0,           0,           0,           0,           0,           0,           0,           0,           0,           0,           0,           0,           0,           0,           0,           0,           0,           0,           0,           0,\n",
              "                  0,           0,           0,           0,           0,           0,           0,           0,           0,           0,           0]]), 'Confidence', 'Recall']]\n",
              "fitness: 0.5120848183678057\n",
              "keys: ['metrics/precision(B)', 'metrics/recall(B)', 'metrics/mAP50(B)', 'metrics/mAP50-95(B)']\n",
              "maps: array([    0.47095])\n",
              "names: {0: 'Person'}\n",
              "plot: True\n",
              "results_dict: {'metrics/precision(B)': 0.8553768594511741, 'metrics/recall(B)': 0.7951388888888888, 'metrics/mAP50(B)': 0.8823124892156913, 'metrics/mAP50-95(B)': 0.4709484104958185, 'fitness': 0.5120848183678057}\n",
              "save_dir: PosixPath('runs/detect/human-detection-training')\n",
              "speed: {'preprocess': 0.22170089540027438, 'inference': 2.803024791535877, 'loss': 0.00036898113432384675, 'postprocess': 5.305687586466472}\n",
              "task: 'detect'"
            ]
          },
          "metadata": {},
          "execution_count": 4
        }
      ]
    },
    {
      "cell_type": "code",
      "source": [
        "# Evaluate on the test dataset\n",
        "metrics = model.val(data=\"/content/human-detection-new-2-5/data.yaml\")\n",
        "print(metrics)\n"
      ],
      "metadata": {
        "colab": {
          "base_uri": "https://localhost:8080/"
        },
        "id": "BYr359NGoWZL",
        "outputId": "444694f6-b1c7-4e4d-c98b-169c3b54b03f"
      },
      "execution_count": 5,
      "outputs": [
        {
          "output_type": "stream",
          "name": "stdout",
          "text": [
            "Ultralytics 8.3.63 🚀 Python-3.11.11 torch-2.5.1+cu121 CUDA:0 (Tesla T4, 15102MiB)\n",
            "Model summary (fused): 168 layers, 3,005,843 parameters, 0 gradients, 8.1 GFLOPs\n"
          ]
        },
        {
          "output_type": "stream",
          "name": "stderr",
          "text": [
            "\u001b[34m\u001b[1mval: \u001b[0mScanning /content/human-detection-new-2-5/valid/labels.cache... 126 images, 0 backgrounds, 0 corrupt: 100%|██████████| 126/126 [00:00<?, ?it/s]\n",
            "                 Class     Images  Instances      Box(P          R      mAP50  mAP50-95): 100%|██████████| 8/8 [00:04<00:00,  1.74it/s]\n"
          ]
        },
        {
          "output_type": "stream",
          "name": "stdout",
          "text": [
            "                   all        126        288      0.854      0.799      0.883      0.471\n",
            "Speed: 0.7ms preprocess, 8.1ms inference, 0.0ms loss, 6.0ms postprocess per image\n",
            "Results saved to \u001b[1mruns/detect/human-detection-training2\u001b[0m\n",
            "ultralytics.utils.metrics.DetMetrics object with attributes:\n",
            "\n",
            "ap_class_index: array([0])\n",
            "box: ultralytics.utils.metrics.Metric object\n",
            "confusion_matrix: <ultralytics.utils.metrics.ConfusionMatrix object at 0x781a403c9a50>\n",
            "curves: ['Precision-Recall(B)', 'F1-Confidence(B)', 'Precision-Confidence(B)', 'Recall-Confidence(B)']\n",
            "curves_results: [[array([          0,    0.001001,    0.002002,    0.003003,    0.004004,    0.005005,    0.006006,    0.007007,    0.008008,    0.009009,     0.01001,    0.011011,    0.012012,    0.013013,    0.014014,    0.015015,    0.016016,    0.017017,    0.018018,    0.019019,     0.02002,    0.021021,    0.022022,    0.023023,\n",
            "          0.024024,    0.025025,    0.026026,    0.027027,    0.028028,    0.029029,     0.03003,    0.031031,    0.032032,    0.033033,    0.034034,    0.035035,    0.036036,    0.037037,    0.038038,    0.039039,     0.04004,    0.041041,    0.042042,    0.043043,    0.044044,    0.045045,    0.046046,    0.047047,\n",
            "          0.048048,    0.049049,     0.05005,    0.051051,    0.052052,    0.053053,    0.054054,    0.055055,    0.056056,    0.057057,    0.058058,    0.059059,     0.06006,    0.061061,    0.062062,    0.063063,    0.064064,    0.065065,    0.066066,    0.067067,    0.068068,    0.069069,     0.07007,    0.071071,\n",
            "          0.072072,    0.073073,    0.074074,    0.075075,    0.076076,    0.077077,    0.078078,    0.079079,     0.08008,    0.081081,    0.082082,    0.083083,    0.084084,    0.085085,    0.086086,    0.087087,    0.088088,    0.089089,     0.09009,    0.091091,    0.092092,    0.093093,    0.094094,    0.095095,\n",
            "          0.096096,    0.097097,    0.098098,    0.099099,      0.1001,      0.1011,      0.1021,      0.1031,      0.1041,     0.10511,     0.10611,     0.10711,     0.10811,     0.10911,     0.11011,     0.11111,     0.11211,     0.11311,     0.11411,     0.11512,     0.11612,     0.11712,     0.11812,     0.11912,\n",
            "           0.12012,     0.12112,     0.12212,     0.12312,     0.12412,     0.12513,     0.12613,     0.12713,     0.12813,     0.12913,     0.13013,     0.13113,     0.13213,     0.13313,     0.13413,     0.13514,     0.13614,     0.13714,     0.13814,     0.13914,     0.14014,     0.14114,     0.14214,     0.14314,\n",
            "           0.14414,     0.14515,     0.14615,     0.14715,     0.14815,     0.14915,     0.15015,     0.15115,     0.15215,     0.15315,     0.15415,     0.15516,     0.15616,     0.15716,     0.15816,     0.15916,     0.16016,     0.16116,     0.16216,     0.16316,     0.16416,     0.16517,     0.16617,     0.16717,\n",
            "           0.16817,     0.16917,     0.17017,     0.17117,     0.17217,     0.17317,     0.17417,     0.17518,     0.17618,     0.17718,     0.17818,     0.17918,     0.18018,     0.18118,     0.18218,     0.18318,     0.18418,     0.18519,     0.18619,     0.18719,     0.18819,     0.18919,     0.19019,     0.19119,\n",
            "           0.19219,     0.19319,     0.19419,      0.1952,      0.1962,      0.1972,      0.1982,      0.1992,      0.2002,      0.2012,      0.2022,      0.2032,      0.2042,     0.20521,     0.20621,     0.20721,     0.20821,     0.20921,     0.21021,     0.21121,     0.21221,     0.21321,     0.21421,     0.21522,\n",
            "           0.21622,     0.21722,     0.21822,     0.21922,     0.22022,     0.22122,     0.22222,     0.22322,     0.22422,     0.22523,     0.22623,     0.22723,     0.22823,     0.22923,     0.23023,     0.23123,     0.23223,     0.23323,     0.23423,     0.23524,     0.23624,     0.23724,     0.23824,     0.23924,\n",
            "           0.24024,     0.24124,     0.24224,     0.24324,     0.24424,     0.24525,     0.24625,     0.24725,     0.24825,     0.24925,     0.25025,     0.25125,     0.25225,     0.25325,     0.25425,     0.25526,     0.25626,     0.25726,     0.25826,     0.25926,     0.26026,     0.26126,     0.26226,     0.26326,\n",
            "           0.26426,     0.26527,     0.26627,     0.26727,     0.26827,     0.26927,     0.27027,     0.27127,     0.27227,     0.27327,     0.27427,     0.27528,     0.27628,     0.27728,     0.27828,     0.27928,     0.28028,     0.28128,     0.28228,     0.28328,     0.28428,     0.28529,     0.28629,     0.28729,\n",
            "           0.28829,     0.28929,     0.29029,     0.29129,     0.29229,     0.29329,     0.29429,      0.2953,      0.2963,      0.2973,      0.2983,      0.2993,      0.3003,      0.3013,      0.3023,      0.3033,      0.3043,     0.30531,     0.30631,     0.30731,     0.30831,     0.30931,     0.31031,     0.31131,\n",
            "           0.31231,     0.31331,     0.31431,     0.31532,     0.31632,     0.31732,     0.31832,     0.31932,     0.32032,     0.32132,     0.32232,     0.32332,     0.32432,     0.32533,     0.32633,     0.32733,     0.32833,     0.32933,     0.33033,     0.33133,     0.33233,     0.33333,     0.33433,     0.33534,\n",
            "           0.33634,     0.33734,     0.33834,     0.33934,     0.34034,     0.34134,     0.34234,     0.34334,     0.34434,     0.34535,     0.34635,     0.34735,     0.34835,     0.34935,     0.35035,     0.35135,     0.35235,     0.35335,     0.35435,     0.35536,     0.35636,     0.35736,     0.35836,     0.35936,\n",
            "           0.36036,     0.36136,     0.36236,     0.36336,     0.36436,     0.36537,     0.36637,     0.36737,     0.36837,     0.36937,     0.37037,     0.37137,     0.37237,     0.37337,     0.37437,     0.37538,     0.37638,     0.37738,     0.37838,     0.37938,     0.38038,     0.38138,     0.38238,     0.38338,\n",
            "           0.38438,     0.38539,     0.38639,     0.38739,     0.38839,     0.38939,     0.39039,     0.39139,     0.39239,     0.39339,     0.39439,      0.3954,      0.3964,      0.3974,      0.3984,      0.3994,      0.4004,      0.4014,      0.4024,      0.4034,      0.4044,     0.40541,     0.40641,     0.40741,\n",
            "           0.40841,     0.40941,     0.41041,     0.41141,     0.41241,     0.41341,     0.41441,     0.41542,     0.41642,     0.41742,     0.41842,     0.41942,     0.42042,     0.42142,     0.42242,     0.42342,     0.42442,     0.42543,     0.42643,     0.42743,     0.42843,     0.42943,     0.43043,     0.43143,\n",
            "           0.43243,     0.43343,     0.43443,     0.43544,     0.43644,     0.43744,     0.43844,     0.43944,     0.44044,     0.44144,     0.44244,     0.44344,     0.44444,     0.44545,     0.44645,     0.44745,     0.44845,     0.44945,     0.45045,     0.45145,     0.45245,     0.45345,     0.45445,     0.45546,\n",
            "           0.45646,     0.45746,     0.45846,     0.45946,     0.46046,     0.46146,     0.46246,     0.46346,     0.46446,     0.46547,     0.46647,     0.46747,     0.46847,     0.46947,     0.47047,     0.47147,     0.47247,     0.47347,     0.47447,     0.47548,     0.47648,     0.47748,     0.47848,     0.47948,\n",
            "           0.48048,     0.48148,     0.48248,     0.48348,     0.48448,     0.48549,     0.48649,     0.48749,     0.48849,     0.48949,     0.49049,     0.49149,     0.49249,     0.49349,     0.49449,      0.4955,      0.4965,      0.4975,      0.4985,      0.4995,      0.5005,      0.5015,      0.5025,      0.5035,\n",
            "            0.5045,     0.50551,     0.50651,     0.50751,     0.50851,     0.50951,     0.51051,     0.51151,     0.51251,     0.51351,     0.51451,     0.51552,     0.51652,     0.51752,     0.51852,     0.51952,     0.52052,     0.52152,     0.52252,     0.52352,     0.52452,     0.52553,     0.52653,     0.52753,\n",
            "           0.52853,     0.52953,     0.53053,     0.53153,     0.53253,     0.53353,     0.53453,     0.53554,     0.53654,     0.53754,     0.53854,     0.53954,     0.54054,     0.54154,     0.54254,     0.54354,     0.54454,     0.54555,     0.54655,     0.54755,     0.54855,     0.54955,     0.55055,     0.55155,\n",
            "           0.55255,     0.55355,     0.55455,     0.55556,     0.55656,     0.55756,     0.55856,     0.55956,     0.56056,     0.56156,     0.56256,     0.56356,     0.56456,     0.56557,     0.56657,     0.56757,     0.56857,     0.56957,     0.57057,     0.57157,     0.57257,     0.57357,     0.57457,     0.57558,\n",
            "           0.57658,     0.57758,     0.57858,     0.57958,     0.58058,     0.58158,     0.58258,     0.58358,     0.58458,     0.58559,     0.58659,     0.58759,     0.58859,     0.58959,     0.59059,     0.59159,     0.59259,     0.59359,     0.59459,      0.5956,      0.5966,      0.5976,      0.5986,      0.5996,\n",
            "            0.6006,      0.6016,      0.6026,      0.6036,      0.6046,     0.60561,     0.60661,     0.60761,     0.60861,     0.60961,     0.61061,     0.61161,     0.61261,     0.61361,     0.61461,     0.61562,     0.61662,     0.61762,     0.61862,     0.61962,     0.62062,     0.62162,     0.62262,     0.62362,\n",
            "           0.62462,     0.62563,     0.62663,     0.62763,     0.62863,     0.62963,     0.63063,     0.63163,     0.63263,     0.63363,     0.63463,     0.63564,     0.63664,     0.63764,     0.63864,     0.63964,     0.64064,     0.64164,     0.64264,     0.64364,     0.64464,     0.64565,     0.64665,     0.64765,\n",
            "           0.64865,     0.64965,     0.65065,     0.65165,     0.65265,     0.65365,     0.65465,     0.65566,     0.65666,     0.65766,     0.65866,     0.65966,     0.66066,     0.66166,     0.66266,     0.66366,     0.66466,     0.66567,     0.66667,     0.66767,     0.66867,     0.66967,     0.67067,     0.67167,\n",
            "           0.67267,     0.67367,     0.67467,     0.67568,     0.67668,     0.67768,     0.67868,     0.67968,     0.68068,     0.68168,     0.68268,     0.68368,     0.68468,     0.68569,     0.68669,     0.68769,     0.68869,     0.68969,     0.69069,     0.69169,     0.69269,     0.69369,     0.69469,      0.6957,\n",
            "            0.6967,      0.6977,      0.6987,      0.6997,      0.7007,      0.7017,      0.7027,      0.7037,      0.7047,     0.70571,     0.70671,     0.70771,     0.70871,     0.70971,     0.71071,     0.71171,     0.71271,     0.71371,     0.71471,     0.71572,     0.71672,     0.71772,     0.71872,     0.71972,\n",
            "           0.72072,     0.72172,     0.72272,     0.72372,     0.72472,     0.72573,     0.72673,     0.72773,     0.72873,     0.72973,     0.73073,     0.73173,     0.73273,     0.73373,     0.73473,     0.73574,     0.73674,     0.73774,     0.73874,     0.73974,     0.74074,     0.74174,     0.74274,     0.74374,\n",
            "           0.74474,     0.74575,     0.74675,     0.74775,     0.74875,     0.74975,     0.75075,     0.75175,     0.75275,     0.75375,     0.75475,     0.75576,     0.75676,     0.75776,     0.75876,     0.75976,     0.76076,     0.76176,     0.76276,     0.76376,     0.76476,     0.76577,     0.76677,     0.76777,\n",
            "           0.76877,     0.76977,     0.77077,     0.77177,     0.77277,     0.77377,     0.77477,     0.77578,     0.77678,     0.77778,     0.77878,     0.77978,     0.78078,     0.78178,     0.78278,     0.78378,     0.78478,     0.78579,     0.78679,     0.78779,     0.78879,     0.78979,     0.79079,     0.79179,\n",
            "           0.79279,     0.79379,     0.79479,      0.7958,      0.7968,      0.7978,      0.7988,      0.7998,      0.8008,      0.8018,      0.8028,      0.8038,      0.8048,     0.80581,     0.80681,     0.80781,     0.80881,     0.80981,     0.81081,     0.81181,     0.81281,     0.81381,     0.81481,     0.81582,\n",
            "           0.81682,     0.81782,     0.81882,     0.81982,     0.82082,     0.82182,     0.82282,     0.82382,     0.82482,     0.82583,     0.82683,     0.82783,     0.82883,     0.82983,     0.83083,     0.83183,     0.83283,     0.83383,     0.83483,     0.83584,     0.83684,     0.83784,     0.83884,     0.83984,\n",
            "           0.84084,     0.84184,     0.84284,     0.84384,     0.84484,     0.84585,     0.84685,     0.84785,     0.84885,     0.84985,     0.85085,     0.85185,     0.85285,     0.85385,     0.85485,     0.85586,     0.85686,     0.85786,     0.85886,     0.85986,     0.86086,     0.86186,     0.86286,     0.86386,\n",
            "           0.86486,     0.86587,     0.86687,     0.86787,     0.86887,     0.86987,     0.87087,     0.87187,     0.87287,     0.87387,     0.87487,     0.87588,     0.87688,     0.87788,     0.87888,     0.87988,     0.88088,     0.88188,     0.88288,     0.88388,     0.88488,     0.88589,     0.88689,     0.88789,\n",
            "           0.88889,     0.88989,     0.89089,     0.89189,     0.89289,     0.89389,     0.89489,      0.8959,      0.8969,      0.8979,      0.8989,      0.8999,      0.9009,      0.9019,      0.9029,      0.9039,      0.9049,     0.90591,     0.90691,     0.90791,     0.90891,     0.90991,     0.91091,     0.91191,\n",
            "           0.91291,     0.91391,     0.91491,     0.91592,     0.91692,     0.91792,     0.91892,     0.91992,     0.92092,     0.92192,     0.92292,     0.92392,     0.92492,     0.92593,     0.92693,     0.92793,     0.92893,     0.92993,     0.93093,     0.93193,     0.93293,     0.93393,     0.93493,     0.93594,\n",
            "           0.93694,     0.93794,     0.93894,     0.93994,     0.94094,     0.94194,     0.94294,     0.94394,     0.94494,     0.94595,     0.94695,     0.94795,     0.94895,     0.94995,     0.95095,     0.95195,     0.95295,     0.95395,     0.95495,     0.95596,     0.95696,     0.95796,     0.95896,     0.95996,\n",
            "           0.96096,     0.96196,     0.96296,     0.96396,     0.96496,     0.96597,     0.96697,     0.96797,     0.96897,     0.96997,     0.97097,     0.97197,     0.97297,     0.97397,     0.97497,     0.97598,     0.97698,     0.97798,     0.97898,     0.97998,     0.98098,     0.98198,     0.98298,     0.98398,\n",
            "           0.98498,     0.98599,     0.98699,     0.98799,     0.98899,     0.98999,     0.99099,     0.99199,     0.99299,     0.99399,     0.99499,       0.996,       0.997,       0.998,       0.999,           1]), array([[          1,           1,           1,           1,           1,           1,           1,           1,           1,           1,           1,           1,           1,           1,           1,           1,           1,           1,           1,           1,           1,           1,           1,\n",
            "                  1,           1,           1,           1,           1,           1,           1,           1,           1,           1,           1,           1,           1,           1,           1,           1,           1,           1,           1,           1,           1,           1,           1,\n",
            "                  1,           1,           1,           1,           1,           1,           1,           1,           1,           1,           1,           1,           1,           1,           1,           1,           1,           1,           1,           1,           1,           1,           1,\n",
            "                  1,           1,           1,           1,           1,           1,           1,           1,           1,           1,           1,           1,           1,           1,           1,           1,           1,           1,           1,           1,           1,           1,           1,\n",
            "                  1,           1,           1,           1,           1,           1,           1,           1,           1,           1,           1,           1,           1,           1,           1,           1,           1,           1,           1,           1,           1,           1,           1,\n",
            "                  1,           1,           1,           1,           1,           1,           1,           1,           1,           1,           1,           1,           1,           1,           1,           1,           1,           1,           1,           1,           1,           1,           1,\n",
            "                  1,           1,           1,           1,           1,           1,           1,           1,           1,           1,           1,           1,           1,           1,           1,           1,           1,           1,           1,           1,           1,           1,           1,\n",
            "                  1,           1,           1,           1,           1,           1,           1,           1,           1,           1,           1,           1,           1,           1,           1,           1,           1,           1,           1,           1,           1,           1,           1,\n",
            "                  1,           1,           1,           1,           1,           1,           1,           1,           1,           1,           1,           1,           1,           1,           1,           1,           1,           1,           1,           1,           1,           1,           1,\n",
            "                  1,           1,           1,           1,           1,           1,           1,           1,           1,           1,           1,           1,           1,           1,           1,           1,           1,           1,           1,           1,           1,           1,           1,\n",
            "                  1,           1,           1,           1,           1,           1,           1,           1,           1,           1,           1,           1,           1,           1,           1,           1,           1,           1,           1,           1,           1,           1,           1,\n",
            "                  1,           1,           1,           1,     0.98765,     0.98765,     0.98765,     0.98765,     0.98765,     0.98765,     0.98765,     0.98765,     0.98765,     0.98765,     0.98765,     0.98765,     0.98765,     0.98765,     0.98765,     0.98765,     0.98765,     0.98765,     0.98765,\n",
            "            0.98765,     0.98765,     0.97959,     0.97959,     0.97959,     0.97959,     0.97959,     0.97959,     0.97959,     0.97959,     0.97959,     0.97959,     0.97959,     0.97959,     0.97959,     0.97959,     0.97959,     0.97959,     0.97959,     0.97959,     0.97959,     0.97959,     0.97959,\n",
            "            0.97959,     0.97959,     0.97959,     0.97959,     0.97959,     0.97959,     0.97959,     0.97959,     0.97959,     0.97959,     0.97959,     0.97959,     0.97959,     0.97959,     0.97959,     0.97959,     0.97959,     0.97959,     0.97959,     0.97959,     0.97959,     0.97959,     0.97959,\n",
            "            0.97959,     0.97959,     0.97959,     0.97959,     0.97959,     0.97959,     0.97959,     0.97959,     0.97959,     0.97959,     0.97959,     0.97196,     0.97196,     0.97196,     0.97196,     0.97196,     0.97196,     0.97196,     0.97196,     0.97196,     0.97196,     0.97196,     0.97196,\n",
            "            0.97196,     0.97196,     0.97196,     0.97196,     0.97196,     0.97196,     0.97196,     0.97196,     0.97196,     0.97196,     0.97196,     0.97196,     0.97196,     0.97196,     0.97196,     0.97196,     0.97076,     0.97076,     0.97076,     0.97076,     0.97076,     0.97076,     0.97076,\n",
            "            0.97076,     0.97076,     0.97076,     0.97076,     0.97076,     0.97076,     0.97076,     0.97076,     0.97076,     0.97076,     0.97076,     0.97076,     0.97076,     0.97076,     0.97076,     0.97076,     0.97076,     0.97076,     0.97076,     0.97076,     0.97076,     0.97076,     0.97076,\n",
            "            0.97076,     0.97076,     0.97076,     0.97076,     0.97076,     0.97076,     0.97076,     0.97076,     0.97076,     0.97076,     0.97076,     0.97076,     0.97076,     0.97076,     0.97076,     0.97076,     0.97076,     0.97076,     0.97076,     0.97076,     0.97076,     0.97076,     0.97076,\n",
            "            0.97076,     0.97076,     0.97076,     0.97076,     0.97076,     0.97076,     0.97076,     0.97076,     0.97076,     0.97076,     0.97076,     0.97076,     0.97076,     0.97076,     0.97076,     0.97076,     0.97076,     0.97076,     0.97076,     0.97076,     0.97076,     0.97076,     0.97076,\n",
            "            0.97076,     0.97076,     0.97076,     0.97076,     0.97076,     0.97076,     0.97076,     0.97076,     0.97076,     0.97076,     0.97076,     0.97076,     0.97076,     0.97076,     0.97076,     0.97076,     0.97076,     0.97076,     0.97076,     0.97076,     0.97076,     0.97076,     0.97076,\n",
            "            0.97076,     0.97076,     0.97076,     0.97076,     0.97076,     0.97076,     0.97076,     0.97076,     0.97076,     0.97076,     0.97076,     0.97076,     0.97076,     0.97076,     0.97076,     0.97076,     0.97076,     0.97076,     0.97076,     0.97076,     0.97076,     0.97076,     0.97076,\n",
            "            0.97076,     0.97076,     0.97076,     0.97076,     0.97076,     0.97076,     0.97076,     0.97076,     0.97076,     0.97076,     0.97076,     0.97076,     0.97076,     0.97076,     0.97076,     0.97076,     0.97076,     0.97076,     0.97076,     0.97076,     0.97076,     0.97076,     0.97076,\n",
            "            0.97076,     0.97076,     0.97076,     0.97076,     0.97076,     0.97076,     0.97076,     0.97076,     0.97076,     0.97076,     0.97076,     0.97076,     0.97076,     0.97076,     0.97076,     0.97076,     0.97076,     0.97076,     0.97076,     0.97076,     0.97076,     0.97076,     0.97076,\n",
            "            0.97076,     0.97076,     0.97076,     0.97076,     0.97076,     0.97076,     0.97076,     0.97076,     0.97076,     0.97076,     0.97076,     0.97076,     0.97076,     0.97076,     0.97076,     0.97076,     0.97076,     0.97076,     0.97076,     0.97076,     0.97076,     0.97076,     0.97076,\n",
            "            0.97076,     0.97076,     0.97076,     0.97076,     0.97076,     0.97076,     0.97076,     0.97076,     0.97076,     0.97076,     0.97076,     0.97076,     0.97076,     0.97076,     0.97076,     0.97076,     0.97076,     0.97076,     0.97076,     0.97076,     0.97076,     0.97076,     0.97076,\n",
            "            0.97076,     0.96891,     0.96891,     0.96891,     0.96891,     0.96891,     0.96891,     0.96891,     0.96891,     0.96891,     0.96891,     0.96891,     0.96891,     0.96891,     0.96891,     0.96891,     0.96891,     0.96891,     0.96891,     0.96891,     0.96891,     0.96891,     0.96891,\n",
            "            0.96891,     0.96891,     0.96891,     0.96891,     0.96891,     0.96891,     0.96891,     0.96891,     0.96891,     0.96891,     0.96891,     0.96891,     0.96891,     0.96891,     0.96891,     0.96891,     0.96891,     0.96891,     0.96891,     0.96891,     0.96891,     0.96891,     0.96891,\n",
            "            0.96891,     0.96891,     0.96891,     0.96891,     0.96891,     0.96891,     0.96891,     0.96891,     0.96891,     0.96891,     0.96891,     0.96891,     0.96891,     0.96891,     0.96891,     0.96891,     0.96891,     0.96891,     0.96891,     0.96891,     0.96891,     0.96891,     0.96891,\n",
            "            0.96891,     0.96891,     0.96891,     0.96891,     0.96891,     0.96447,     0.96447,     0.96447,     0.96447,     0.96447,     0.96447,     0.96447,     0.96447,     0.96447,     0.96447,     0.96447,        0.96,        0.96,        0.96,        0.96,        0.96,        0.96,     0.95631,\n",
            "            0.95631,     0.95631,     0.95631,     0.95631,     0.95631,     0.95631,     0.95631,     0.95631,     0.95631,     0.95631,     0.95631,     0.95631,     0.95631,     0.95631,     0.95631,     0.95631,     0.95631,     0.95192,     0.95192,     0.95192,     0.94393,     0.94393,     0.94393,\n",
            "            0.94393,     0.94393,     0.94393,     0.94393,     0.94393,     0.94393,     0.94393,     0.94393,     0.94393,     0.94393,     0.94393,     0.94118,     0.94118,     0.94118,     0.94118,     0.94118,     0.94118,     0.94118,     0.94118,     0.94118,     0.94118,     0.94118,     0.94118,\n",
            "            0.94118,     0.94118,     0.94118,     0.94118,     0.94118,     0.94118,     0.94118,     0.94118,     0.94118,     0.93304,     0.93304,     0.93304,      0.9292,      0.9292,      0.9292,      0.9292,     0.92241,     0.92241,     0.92241,     0.92241,     0.92241,     0.92241,     0.92241,\n",
            "            0.92241,     0.92241,     0.92241,     0.92241,     0.92241,     0.92241,     0.92241,      0.9188,      0.9188,      0.9188,     0.91525,     0.91525,     0.91525,     0.91525,     0.90833,     0.90833,     0.90833,     0.90833,     0.90833,     0.90833,     0.90833,     0.90496,     0.90496,\n",
            "            0.90496,     0.89837,     0.89837,     0.89837,     0.89837,     0.89837,     0.89837,     0.89837,     0.89157,     0.89157,     0.89157,     0.89157,     0.88845,     0.88845,     0.88845,     0.88281,     0.88281,     0.88281,     0.88281,     0.88281,     0.88281,     0.88281,     0.88281,\n",
            "            0.88281,     0.88281,     0.87984,     0.87984,     0.87984,     0.87984,     0.87692,     0.87692,     0.87692,      0.8609,      0.8609,      0.8609,      0.8609,     0.85821,     0.85821,     0.85821,     0.85145,     0.85145,     0.85145,     0.85145,     0.85145,     0.85145,     0.85145,\n",
            "            0.85145,     0.85145,     0.85145,     0.85145,     0.85145,     0.85145,     0.85145,     0.85145,     0.85145,     0.85145,     0.85145,     0.84588,     0.84588,     0.84588,     0.83746,     0.83746,     0.83746,     0.83746,     0.82927,     0.82927,     0.82927,     0.82414,     0.82414,\n",
            "            0.82414,     0.82414,     0.81419,     0.81419,     0.81419,     0.81419,     0.81419,     0.81419,     0.78571,     0.78571,     0.78571,     0.78571,     0.77389,     0.77389,     0.77389,      0.7673,      0.7673,      0.7673,      0.7673,     0.76562,     0.76562,     0.76562,     0.76398,\n",
            "            0.76398,     0.76398,     0.76398,     0.74622,     0.74622,     0.74622,     0.72727,     0.72727,     0.72727,     0.72727,     0.72384,     0.72384,     0.72384,     0.70195,     0.70195,     0.70195,     0.70195,     0.70195,     0.70195,     0.70195,     0.70195,     0.70195,     0.70195,\n",
            "            0.70195,     0.68564,     0.68564,     0.68564,     0.68097,     0.68097,     0.68097,     0.68097,        0.68,        0.68,        0.68,      0.6384,      0.6384,      0.6384,     0.63772,     0.63772,     0.63772,     0.63772,     0.60993,     0.60993,     0.60993,     0.60798,     0.60798,\n",
            "            0.60798,     0.60798,     0.57143,     0.57143,     0.57143,      0.5625,      0.5625,      0.5625,      0.5625,     0.53909,     0.53909,     0.53909,     0.53783,     0.53783,     0.53783,     0.53783,     0.52381,     0.52381,     0.52381,     0.49906,     0.49906,     0.49906,     0.49906,\n",
            "            0.48987,     0.48987,     0.48987,     0.43296,     0.43296,     0.43296,     0.43296,     0.43296,     0.43296,     0.43296,     0.41512,     0.41512,     0.41512,     0.41512,     0.40847,     0.40847,     0.40847,     0.39678,     0.39678,     0.39678,     0.39678,     0.39137,     0.39137,\n",
            "            0.39137,     0.37295,     0.37295,     0.37295,     0.33911,     0.33911,     0.33911,     0.33911,     0.30022,     0.30022,     0.30022,     0.23855,     0.23855,     0.23855,     0.23855,     0.19038,     0.19038,     0.19038,     0.16499,     0.16499,     0.16499,     0.16499,     0.15517,\n",
            "            0.15517,     0.15517,     0.15487,     0.15487,     0.15487,     0.15487,     0.15027,     0.15027,     0.15027,     0.13851,     0.13851,     0.13851,     0.13851,    0.099368,    0.099368,    0.099368,    0.082462,    0.082462,    0.082462,    0.082462,    0.066839,    0.066839,    0.066839,\n",
            "           0.044467,    0.040021,    0.035574,    0.031127,     0.02668,    0.022234,    0.017787,     0.01334,   0.0088935,   0.0044467,           0]]), 'Recall', 'Precision'], [array([          0,    0.001001,    0.002002,    0.003003,    0.004004,    0.005005,    0.006006,    0.007007,    0.008008,    0.009009,     0.01001,    0.011011,    0.012012,    0.013013,    0.014014,    0.015015,    0.016016,    0.017017,    0.018018,    0.019019,     0.02002,    0.021021,    0.022022,    0.023023,\n",
            "          0.024024,    0.025025,    0.026026,    0.027027,    0.028028,    0.029029,     0.03003,    0.031031,    0.032032,    0.033033,    0.034034,    0.035035,    0.036036,    0.037037,    0.038038,    0.039039,     0.04004,    0.041041,    0.042042,    0.043043,    0.044044,    0.045045,    0.046046,    0.047047,\n",
            "          0.048048,    0.049049,     0.05005,    0.051051,    0.052052,    0.053053,    0.054054,    0.055055,    0.056056,    0.057057,    0.058058,    0.059059,     0.06006,    0.061061,    0.062062,    0.063063,    0.064064,    0.065065,    0.066066,    0.067067,    0.068068,    0.069069,     0.07007,    0.071071,\n",
            "          0.072072,    0.073073,    0.074074,    0.075075,    0.076076,    0.077077,    0.078078,    0.079079,     0.08008,    0.081081,    0.082082,    0.083083,    0.084084,    0.085085,    0.086086,    0.087087,    0.088088,    0.089089,     0.09009,    0.091091,    0.092092,    0.093093,    0.094094,    0.095095,\n",
            "          0.096096,    0.097097,    0.098098,    0.099099,      0.1001,      0.1011,      0.1021,      0.1031,      0.1041,     0.10511,     0.10611,     0.10711,     0.10811,     0.10911,     0.11011,     0.11111,     0.11211,     0.11311,     0.11411,     0.11512,     0.11612,     0.11712,     0.11812,     0.11912,\n",
            "           0.12012,     0.12112,     0.12212,     0.12312,     0.12412,     0.12513,     0.12613,     0.12713,     0.12813,     0.12913,     0.13013,     0.13113,     0.13213,     0.13313,     0.13413,     0.13514,     0.13614,     0.13714,     0.13814,     0.13914,     0.14014,     0.14114,     0.14214,     0.14314,\n",
            "           0.14414,     0.14515,     0.14615,     0.14715,     0.14815,     0.14915,     0.15015,     0.15115,     0.15215,     0.15315,     0.15415,     0.15516,     0.15616,     0.15716,     0.15816,     0.15916,     0.16016,     0.16116,     0.16216,     0.16316,     0.16416,     0.16517,     0.16617,     0.16717,\n",
            "           0.16817,     0.16917,     0.17017,     0.17117,     0.17217,     0.17317,     0.17417,     0.17518,     0.17618,     0.17718,     0.17818,     0.17918,     0.18018,     0.18118,     0.18218,     0.18318,     0.18418,     0.18519,     0.18619,     0.18719,     0.18819,     0.18919,     0.19019,     0.19119,\n",
            "           0.19219,     0.19319,     0.19419,      0.1952,      0.1962,      0.1972,      0.1982,      0.1992,      0.2002,      0.2012,      0.2022,      0.2032,      0.2042,     0.20521,     0.20621,     0.20721,     0.20821,     0.20921,     0.21021,     0.21121,     0.21221,     0.21321,     0.21421,     0.21522,\n",
            "           0.21622,     0.21722,     0.21822,     0.21922,     0.22022,     0.22122,     0.22222,     0.22322,     0.22422,     0.22523,     0.22623,     0.22723,     0.22823,     0.22923,     0.23023,     0.23123,     0.23223,     0.23323,     0.23423,     0.23524,     0.23624,     0.23724,     0.23824,     0.23924,\n",
            "           0.24024,     0.24124,     0.24224,     0.24324,     0.24424,     0.24525,     0.24625,     0.24725,     0.24825,     0.24925,     0.25025,     0.25125,     0.25225,     0.25325,     0.25425,     0.25526,     0.25626,     0.25726,     0.25826,     0.25926,     0.26026,     0.26126,     0.26226,     0.26326,\n",
            "           0.26426,     0.26527,     0.26627,     0.26727,     0.26827,     0.26927,     0.27027,     0.27127,     0.27227,     0.27327,     0.27427,     0.27528,     0.27628,     0.27728,     0.27828,     0.27928,     0.28028,     0.28128,     0.28228,     0.28328,     0.28428,     0.28529,     0.28629,     0.28729,\n",
            "           0.28829,     0.28929,     0.29029,     0.29129,     0.29229,     0.29329,     0.29429,      0.2953,      0.2963,      0.2973,      0.2983,      0.2993,      0.3003,      0.3013,      0.3023,      0.3033,      0.3043,     0.30531,     0.30631,     0.30731,     0.30831,     0.30931,     0.31031,     0.31131,\n",
            "           0.31231,     0.31331,     0.31431,     0.31532,     0.31632,     0.31732,     0.31832,     0.31932,     0.32032,     0.32132,     0.32232,     0.32332,     0.32432,     0.32533,     0.32633,     0.32733,     0.32833,     0.32933,     0.33033,     0.33133,     0.33233,     0.33333,     0.33433,     0.33534,\n",
            "           0.33634,     0.33734,     0.33834,     0.33934,     0.34034,     0.34134,     0.34234,     0.34334,     0.34434,     0.34535,     0.34635,     0.34735,     0.34835,     0.34935,     0.35035,     0.35135,     0.35235,     0.35335,     0.35435,     0.35536,     0.35636,     0.35736,     0.35836,     0.35936,\n",
            "           0.36036,     0.36136,     0.36236,     0.36336,     0.36436,     0.36537,     0.36637,     0.36737,     0.36837,     0.36937,     0.37037,     0.37137,     0.37237,     0.37337,     0.37437,     0.37538,     0.37638,     0.37738,     0.37838,     0.37938,     0.38038,     0.38138,     0.38238,     0.38338,\n",
            "           0.38438,     0.38539,     0.38639,     0.38739,     0.38839,     0.38939,     0.39039,     0.39139,     0.39239,     0.39339,     0.39439,      0.3954,      0.3964,      0.3974,      0.3984,      0.3994,      0.4004,      0.4014,      0.4024,      0.4034,      0.4044,     0.40541,     0.40641,     0.40741,\n",
            "           0.40841,     0.40941,     0.41041,     0.41141,     0.41241,     0.41341,     0.41441,     0.41542,     0.41642,     0.41742,     0.41842,     0.41942,     0.42042,     0.42142,     0.42242,     0.42342,     0.42442,     0.42543,     0.42643,     0.42743,     0.42843,     0.42943,     0.43043,     0.43143,\n",
            "           0.43243,     0.43343,     0.43443,     0.43544,     0.43644,     0.43744,     0.43844,     0.43944,     0.44044,     0.44144,     0.44244,     0.44344,     0.44444,     0.44545,     0.44645,     0.44745,     0.44845,     0.44945,     0.45045,     0.45145,     0.45245,     0.45345,     0.45445,     0.45546,\n",
            "           0.45646,     0.45746,     0.45846,     0.45946,     0.46046,     0.46146,     0.46246,     0.46346,     0.46446,     0.46547,     0.46647,     0.46747,     0.46847,     0.46947,     0.47047,     0.47147,     0.47247,     0.47347,     0.47447,     0.47548,     0.47648,     0.47748,     0.47848,     0.47948,\n",
            "           0.48048,     0.48148,     0.48248,     0.48348,     0.48448,     0.48549,     0.48649,     0.48749,     0.48849,     0.48949,     0.49049,     0.49149,     0.49249,     0.49349,     0.49449,      0.4955,      0.4965,      0.4975,      0.4985,      0.4995,      0.5005,      0.5015,      0.5025,      0.5035,\n",
            "            0.5045,     0.50551,     0.50651,     0.50751,     0.50851,     0.50951,     0.51051,     0.51151,     0.51251,     0.51351,     0.51451,     0.51552,     0.51652,     0.51752,     0.51852,     0.51952,     0.52052,     0.52152,     0.52252,     0.52352,     0.52452,     0.52553,     0.52653,     0.52753,\n",
            "           0.52853,     0.52953,     0.53053,     0.53153,     0.53253,     0.53353,     0.53453,     0.53554,     0.53654,     0.53754,     0.53854,     0.53954,     0.54054,     0.54154,     0.54254,     0.54354,     0.54454,     0.54555,     0.54655,     0.54755,     0.54855,     0.54955,     0.55055,     0.55155,\n",
            "           0.55255,     0.55355,     0.55455,     0.55556,     0.55656,     0.55756,     0.55856,     0.55956,     0.56056,     0.56156,     0.56256,     0.56356,     0.56456,     0.56557,     0.56657,     0.56757,     0.56857,     0.56957,     0.57057,     0.57157,     0.57257,     0.57357,     0.57457,     0.57558,\n",
            "           0.57658,     0.57758,     0.57858,     0.57958,     0.58058,     0.58158,     0.58258,     0.58358,     0.58458,     0.58559,     0.58659,     0.58759,     0.58859,     0.58959,     0.59059,     0.59159,     0.59259,     0.59359,     0.59459,      0.5956,      0.5966,      0.5976,      0.5986,      0.5996,\n",
            "            0.6006,      0.6016,      0.6026,      0.6036,      0.6046,     0.60561,     0.60661,     0.60761,     0.60861,     0.60961,     0.61061,     0.61161,     0.61261,     0.61361,     0.61461,     0.61562,     0.61662,     0.61762,     0.61862,     0.61962,     0.62062,     0.62162,     0.62262,     0.62362,\n",
            "           0.62462,     0.62563,     0.62663,     0.62763,     0.62863,     0.62963,     0.63063,     0.63163,     0.63263,     0.63363,     0.63463,     0.63564,     0.63664,     0.63764,     0.63864,     0.63964,     0.64064,     0.64164,     0.64264,     0.64364,     0.64464,     0.64565,     0.64665,     0.64765,\n",
            "           0.64865,     0.64965,     0.65065,     0.65165,     0.65265,     0.65365,     0.65465,     0.65566,     0.65666,     0.65766,     0.65866,     0.65966,     0.66066,     0.66166,     0.66266,     0.66366,     0.66466,     0.66567,     0.66667,     0.66767,     0.66867,     0.66967,     0.67067,     0.67167,\n",
            "           0.67267,     0.67367,     0.67467,     0.67568,     0.67668,     0.67768,     0.67868,     0.67968,     0.68068,     0.68168,     0.68268,     0.68368,     0.68468,     0.68569,     0.68669,     0.68769,     0.68869,     0.68969,     0.69069,     0.69169,     0.69269,     0.69369,     0.69469,      0.6957,\n",
            "            0.6967,      0.6977,      0.6987,      0.6997,      0.7007,      0.7017,      0.7027,      0.7037,      0.7047,     0.70571,     0.70671,     0.70771,     0.70871,     0.70971,     0.71071,     0.71171,     0.71271,     0.71371,     0.71471,     0.71572,     0.71672,     0.71772,     0.71872,     0.71972,\n",
            "           0.72072,     0.72172,     0.72272,     0.72372,     0.72472,     0.72573,     0.72673,     0.72773,     0.72873,     0.72973,     0.73073,     0.73173,     0.73273,     0.73373,     0.73473,     0.73574,     0.73674,     0.73774,     0.73874,     0.73974,     0.74074,     0.74174,     0.74274,     0.74374,\n",
            "           0.74474,     0.74575,     0.74675,     0.74775,     0.74875,     0.74975,     0.75075,     0.75175,     0.75275,     0.75375,     0.75475,     0.75576,     0.75676,     0.75776,     0.75876,     0.75976,     0.76076,     0.76176,     0.76276,     0.76376,     0.76476,     0.76577,     0.76677,     0.76777,\n",
            "           0.76877,     0.76977,     0.77077,     0.77177,     0.77277,     0.77377,     0.77477,     0.77578,     0.77678,     0.77778,     0.77878,     0.77978,     0.78078,     0.78178,     0.78278,     0.78378,     0.78478,     0.78579,     0.78679,     0.78779,     0.78879,     0.78979,     0.79079,     0.79179,\n",
            "           0.79279,     0.79379,     0.79479,      0.7958,      0.7968,      0.7978,      0.7988,      0.7998,      0.8008,      0.8018,      0.8028,      0.8038,      0.8048,     0.80581,     0.80681,     0.80781,     0.80881,     0.80981,     0.81081,     0.81181,     0.81281,     0.81381,     0.81481,     0.81582,\n",
            "           0.81682,     0.81782,     0.81882,     0.81982,     0.82082,     0.82182,     0.82282,     0.82382,     0.82482,     0.82583,     0.82683,     0.82783,     0.82883,     0.82983,     0.83083,     0.83183,     0.83283,     0.83383,     0.83483,     0.83584,     0.83684,     0.83784,     0.83884,     0.83984,\n",
            "           0.84084,     0.84184,     0.84284,     0.84384,     0.84484,     0.84585,     0.84685,     0.84785,     0.84885,     0.84985,     0.85085,     0.85185,     0.85285,     0.85385,     0.85485,     0.85586,     0.85686,     0.85786,     0.85886,     0.85986,     0.86086,     0.86186,     0.86286,     0.86386,\n",
            "           0.86486,     0.86587,     0.86687,     0.86787,     0.86887,     0.86987,     0.87087,     0.87187,     0.87287,     0.87387,     0.87487,     0.87588,     0.87688,     0.87788,     0.87888,     0.87988,     0.88088,     0.88188,     0.88288,     0.88388,     0.88488,     0.88589,     0.88689,     0.88789,\n",
            "           0.88889,     0.88989,     0.89089,     0.89189,     0.89289,     0.89389,     0.89489,      0.8959,      0.8969,      0.8979,      0.8989,      0.8999,      0.9009,      0.9019,      0.9029,      0.9039,      0.9049,     0.90591,     0.90691,     0.90791,     0.90891,     0.90991,     0.91091,     0.91191,\n",
            "           0.91291,     0.91391,     0.91491,     0.91592,     0.91692,     0.91792,     0.91892,     0.91992,     0.92092,     0.92192,     0.92292,     0.92392,     0.92492,     0.92593,     0.92693,     0.92793,     0.92893,     0.92993,     0.93093,     0.93193,     0.93293,     0.93393,     0.93493,     0.93594,\n",
            "           0.93694,     0.93794,     0.93894,     0.93994,     0.94094,     0.94194,     0.94294,     0.94394,     0.94494,     0.94595,     0.94695,     0.94795,     0.94895,     0.94995,     0.95095,     0.95195,     0.95295,     0.95395,     0.95495,     0.95596,     0.95696,     0.95796,     0.95896,     0.95996,\n",
            "           0.96096,     0.96196,     0.96296,     0.96396,     0.96496,     0.96597,     0.96697,     0.96797,     0.96897,     0.96997,     0.97097,     0.97197,     0.97297,     0.97397,     0.97497,     0.97598,     0.97698,     0.97798,     0.97898,     0.97998,     0.98098,     0.98198,     0.98298,     0.98398,\n",
            "           0.98498,     0.98599,     0.98699,     0.98799,     0.98899,     0.98999,     0.99099,     0.99199,     0.99299,     0.99399,     0.99499,       0.996,       0.997,       0.998,       0.999,           1]), array([[   0.088413,    0.088467,      0.1315,     0.16446,     0.19375,     0.21866,     0.23832,      0.2562,     0.27035,     0.28411,     0.29966,     0.31409,     0.32494,     0.33648,     0.34694,     0.36001,     0.36881,     0.37678,     0.38611,     0.39467,     0.40252,     0.41213,     0.41591,\n",
            "            0.42445,     0.43256,      0.4377,     0.44414,     0.44937,     0.45352,     0.45759,     0.46626,     0.47255,     0.47742,     0.48115,     0.48463,     0.48872,      0.4916,     0.49589,     0.49912,     0.50575,     0.51278,     0.51806,     0.52188,     0.52536,     0.52678,     0.52815,\n",
            "            0.53337,     0.53666,     0.54066,     0.54413,     0.54789,     0.55243,     0.55372,     0.55667,      0.5577,     0.56323,     0.56745,     0.56939,     0.57276,     0.57364,      0.5763,     0.57872,     0.58008,     0.58305,     0.58739,       0.589,     0.59064,     0.58832,     0.58969,\n",
            "            0.59185,     0.59397,     0.59632,     0.60076,      0.6025,     0.60622,     0.60899,     0.61317,      0.6161,      0.6196,     0.62356,     0.62666,     0.63072,     0.63519,     0.63777,     0.63941,     0.63899,     0.64189,      0.6447,     0.64569,     0.64586,      0.6488,     0.65189,\n",
            "            0.65319,     0.65486,       0.657,     0.65879,      0.6604,     0.66185,      0.6637,     0.66657,     0.66815,     0.66894,     0.67196,      0.6753,     0.67564,     0.67598,     0.67535,     0.67674,     0.67591,      0.6763,     0.67648,     0.67666,     0.67683,     0.67701,     0.67892,\n",
            "            0.67923,     0.67953,     0.68037,      0.6829,     0.68565,     0.68702,     0.68729,     0.68756,     0.68869,      0.6902,     0.69083,     0.69124,     0.69247,     0.69374,     0.69434,     0.69511,     0.69775,     0.69942,     0.70057,     0.70153,     0.70223,     0.70274,     0.70392,\n",
            "             0.7073,     0.70986,     0.71389,     0.71475,     0.71504,     0.71532,     0.71591,     0.71674,     0.71757,     0.71878,     0.71926,     0.72254,     0.72374,     0.72404,     0.72434,     0.72443,      0.7256,     0.72513,     0.72444,     0.72414,     0.72482,     0.72597,     0.72659,\n",
            "            0.72762,     0.72938,     0.73131,     0.73351,     0.73482,     0.73627,     0.73981,     0.74078,     0.74215,     0.74331,     0.74282,     0.74239,       0.742,     0.74355,     0.74391,     0.74427,     0.74531,     0.74639,     0.74827,       0.749,     0.74935,      0.7497,     0.75121,\n",
            "            0.75308,     0.75394,     0.75465,     0.75521,     0.75636,     0.75789,      0.7602,      0.7626,     0.76331,     0.76381,     0.76426,     0.76469,      0.7651,     0.76551,     0.76608,     0.76692,     0.76761,     0.76903,     0.76854,     0.76779,     0.76759,     0.76808,     0.76839,\n",
            "            0.76669,     0.76789,     0.76835,      0.7688,     0.76837,     0.76862,     0.76894,     0.76927,     0.77109,     0.77198,      0.7722,     0.77243,     0.77265,     0.77287,     0.77315,      0.7735,     0.77385,     0.77442,     0.77689,     0.77757,      0.7786,     0.77866,     0.77819,\n",
            "            0.77771,     0.77724,      0.7756,     0.77339,     0.77405,     0.77571,      0.7779,     0.77884,     0.77954,      0.7801,     0.78065,      0.7811,     0.78156,     0.78247,     0.78434,     0.78505,     0.78601,     0.78727,     0.78682,     0.78648,     0.78706,     0.78694,     0.78738,\n",
            "            0.78813,     0.78874,     0.78971,     0.79066,     0.79111,     0.79157,     0.79302,     0.79596,     0.79682,       0.797,     0.79718,     0.79736,     0.79754,     0.79772,      0.7979,     0.79802,     0.79769,     0.79735,     0.79702,     0.79669,     0.79635,     0.79649,      0.7975,\n",
            "            0.79786,     0.79822,     0.79858,      0.7989,     0.79919,     0.79949,     0.79979,     0.80158,     0.80343,     0.80414,      0.8046,     0.80506,     0.80619,     0.80588,     0.80481,     0.80453,     0.80333,     0.80358,     0.80383,     0.80408,     0.80433,     0.80458,     0.80616,\n",
            "            0.80649,     0.80683,     0.80717,     0.80665,     0.80554,     0.80628,     0.80803,     0.80861,      0.8092,     0.80956,     0.80982,     0.81009,     0.81036,     0.81063,     0.81115,     0.81181,     0.81166,     0.81095,     0.81024,     0.81084,     0.81166,     0.81222,     0.81277,\n",
            "            0.81442,     0.81492,     0.81542,     0.81575,     0.81601,     0.81626,     0.81652,     0.81678,     0.81882,      0.8198,     0.81993,     0.82006,      0.8202,     0.82033,     0.82046,     0.82059,     0.82072,     0.82085,     0.82098,     0.82111,     0.82129,     0.82147,     0.82165,\n",
            "            0.82184,     0.82202,     0.82221,     0.82239,     0.82257,     0.82274,      0.8229,     0.82307,     0.82324,     0.82341,     0.82358,     0.82375,     0.82391,     0.82431,     0.82474,     0.82517,     0.82515,     0.82481,     0.82447,     0.82414,      0.8238,     0.82346,     0.82277,\n",
            "            0.82183,     0.82169,     0.82257,     0.82474,     0.82498,     0.82519,     0.82543,     0.82567,      0.8259,     0.82614,     0.82637,      0.8275,       0.827,     0.82586,     0.82619,     0.82662,     0.82705,      0.8281,     0.82822,     0.82834,     0.82847,     0.82859,     0.82871,\n",
            "            0.82883,     0.82896,     0.82908,      0.8292,     0.82932,     0.82945,     0.82972,     0.83028,     0.83084,     0.83222,     0.83116,     0.83054,      0.8311,     0.83166,     0.83328,     0.83263,     0.83198,     0.83133,     0.83065,     0.82996,     0.82927,      0.8269,     0.82652,\n",
            "            0.82614,     0.82575,     0.82537,     0.82494,      0.8233,     0.82374,     0.82445,     0.82462,     0.82479,     0.82495,     0.82512,     0.82529,     0.82546,     0.82563,      0.8258,       0.826,     0.82622,     0.82644,     0.82666,     0.82688,      0.8271,     0.82732,     0.82699,\n",
            "            0.82661,     0.82623,     0.82586,     0.82548,     0.82554,      0.8265,     0.82496,     0.82762,     0.82777,     0.82791,     0.82806,     0.82821,     0.82835,      0.8285,     0.82865,     0.82879,     0.82894,     0.82909,     0.83102,     0.83151,     0.83199,     0.83172,     0.83118,\n",
            "            0.83064,      0.8301,     0.83024,     0.83057,     0.83089,     0.83122,     0.82938,     0.82989,      0.8304,     0.83072,     0.82792,     0.82641,     0.82619,     0.82596,     0.82574,     0.82551,     0.82529,     0.82506,     0.82484,     0.82461,     0.82516,     0.82693,     0.82695,\n",
            "            0.82594,     0.82544,     0.82592,     0.82639,     0.82667,     0.82532,     0.82491,     0.82551,      0.8261,     0.82691,     0.82751,     0.82454,     0.82335,     0.82367,       0.824,     0.82433,     0.82465,     0.82497,     0.82528,     0.82559,      0.8259,      0.8262,     0.82626,\n",
            "            0.82577,     0.82528,     0.82479,      0.8243,     0.82456,     0.82503,     0.82549,     0.82541,     0.82458,     0.82376,     0.82333,     0.82306,     0.82278,     0.82251,     0.82224,     0.82196,     0.82169,     0.82141,     0.82275,     0.82406,     0.82224,     0.82273,     0.82321,\n",
            "             0.8237,     0.82351,     0.82323,     0.82295,     0.82267,     0.82239,     0.82211,     0.82183,     0.82154,     0.81971,     0.81708,     0.81484,     0.81541,      0.8171,     0.81605,     0.81497,     0.81507,     0.81537,     0.81567,     0.81597,     0.81627,     0.81604,     0.81537,\n",
            "            0.81471,     0.81443,     0.81202,     0.81034,     0.80708,      0.8041,      0.8023,     0.80118,     0.80007,     0.79894,     0.79781,     0.79618,     0.79568,     0.79679,     0.79702,     0.79725,     0.79748,     0.79771,     0.79794,     0.79817,     0.79825,     0.79615,     0.79674,\n",
            "            0.79733,     0.79516,     0.79454,     0.79394,     0.79335,     0.79275,     0.79137,     0.79001,     0.78904,     0.78807,     0.78591,     0.78599,     0.78429,     0.78378,     0.78327,     0.78275,     0.78224,     0.78017,     0.77743,     0.77615,     0.77625,     0.77663,       0.777,\n",
            "            0.77738,     0.77732,     0.77691,      0.7765,      0.7761,     0.77569,     0.77528,     0.77456,     0.77317,     0.77155,     0.76959,     0.76722,     0.76636,      0.7655,     0.76449,     0.76132,     0.75681,     0.75137,     0.74999,     0.74782,     0.74311,     0.74224,     0.74136,\n",
            "            0.73928,     0.73786,     0.73738,     0.73689,     0.73641,     0.73592,     0.73508,     0.73066,     0.72844,     0.72704,      0.7264,     0.72576,     0.72511,     0.72445,     0.72352,      0.7226,     0.72189,     0.71974,     0.71512,     0.70902,     0.70642,     0.69592,     0.69271,\n",
            "            0.68923,     0.68535,       0.684,     0.68233,     0.68007,     0.67741,     0.67602,     0.67472,     0.67098,     0.67021,     0.66944,     0.66867,      0.6649,      0.6621,      0.6598,     0.65513,     0.65227,     0.64747,     0.64547,     0.64376,      0.6402,     0.63653,     0.63484,\n",
            "            0.63255,     0.63007,     0.62816,     0.62669,     0.62539,     0.62356,     0.62072,     0.61915,     0.61755,      0.6159,     0.61444,      0.6136,     0.61275,     0.61191,     0.60864,     0.60499,     0.60065,     0.59944,     0.59823,     0.59489,     0.58809,     0.58546,     0.57983,\n",
            "            0.57747,     0.57544,     0.57509,     0.57297,     0.57155,     0.57058,     0.56962,     0.56866,     0.56434,     0.56346,     0.56257,     0.56168,     0.54971,     0.54348,     0.53923,     0.53148,     0.52878,     0.52722,     0.52565,     0.52546,     0.52574,     0.52602,      0.5263,\n",
            "            0.52658,     0.52368,     0.51932,      0.5165,     0.51388,     0.51093,     0.50305,     0.50011,     0.49725,     0.49681,     0.49658,     0.49483,     0.48915,     0.48646,     0.48251,     0.47037,     0.46294,     0.46038,     0.45901,     0.45764,     0.45489,     0.44772,     0.43644,\n",
            "            0.43464,     0.43283,     0.43294,     0.43085,     0.42903,      0.4279,     0.42676,     0.42562,     0.41979,     0.41653,     0.41032,     0.40786,     0.40813,     0.40839,     0.40865,     0.40817,     0.40558,     0.39977,      0.3961,     0.38643,     0.38533,     0.38423,     0.38312,\n",
            "             0.3818,     0.37328,     0.37037,     0.36743,     0.36379,      0.3568,     0.34429,     0.33242,     0.31517,     0.30958,     0.30645,     0.30316,      0.3003,     0.29845,      0.2966,     0.29464,     0.29262,     0.29038,     0.28625,     0.28488,     0.28391,     0.28294,     0.28198,\n",
            "            0.28101,     0.27158,     0.26864,     0.26673,     0.26477,     0.26238,     0.25999,     0.25631,     0.25218,     0.24687,     0.23892,     0.23179,     0.22351,     0.21623,     0.21439,     0.21254,     0.20799,     0.20274,     0.19925,     0.19605,     0.18513,     0.17711,     0.17498,\n",
            "            0.17284,     0.15967,     0.15493,     0.15199,     0.14957,     0.14391,     0.14054,      0.1389,     0.13725,     0.13558,     0.13383,     0.13208,     0.13033,     0.12535,     0.11675,     0.10949,     0.10603,     0.10341,     0.10103,    0.098265,    0.093475,    0.090232,    0.087275,\n",
            "           0.084919,    0.082822,    0.080721,    0.075538,    0.070631,     0.06614,    0.060456,    0.059318,    0.058179,    0.057039,    0.055898,    0.054755,    0.052476,    0.048385,    0.047132,    0.046712,    0.046291,    0.045871,     0.04545,    0.045029,    0.044607,    0.044186,    0.043764,\n",
            "           0.043342,     0.04292,    0.042498,    0.042076,    0.041653,     0.04123,    0.040601,    0.033892,    0.033232,    0.032572,    0.031912,    0.031251,     0.03059,    0.029928,    0.029266,    0.028604,    0.027941,    0.027226,    0.026279,    0.025332,    0.024383,    0.023434,    0.022483,\n",
            "           0.021532,     0.02058,    0.019618,    0.018656,    0.017692,    0.016728,    0.015763,    0.014797,     0.01383,    0.013275,    0.012737,    0.012199,     0.01166,    0.011121,    0.010582,    0.010042,   0.0095023,   0.0089621,   0.0084216,   0.0078808,   0.0073397,           0,           0,\n",
            "                  0,           0,           0,           0,           0,           0,           0,           0,           0,           0,           0,           0,           0,           0,           0,           0,           0,           0,           0,           0,           0,           0,           0,\n",
            "                  0,           0,           0,           0,           0,           0,           0,           0,           0,           0,           0,           0,           0,           0,           0,           0,           0,           0,           0,           0,           0,           0,           0,\n",
            "                  0,           0,           0,           0,           0,           0,           0,           0,           0,           0,           0,           0,           0,           0,           0,           0,           0,           0,           0,           0,           0,           0,           0,\n",
            "                  0,           0,           0,           0,           0,           0,           0,           0,           0,           0,           0,           0,           0,           0,           0,           0,           0,           0,           0,           0,           0,           0,           0,\n",
            "                  0,           0,           0,           0,           0,           0,           0,           0,           0,           0,           0]]), 'Confidence', 'F1'], [array([          0,    0.001001,    0.002002,    0.003003,    0.004004,    0.005005,    0.006006,    0.007007,    0.008008,    0.009009,     0.01001,    0.011011,    0.012012,    0.013013,    0.014014,    0.015015,    0.016016,    0.017017,    0.018018,    0.019019,     0.02002,    0.021021,    0.022022,    0.023023,\n",
            "          0.024024,    0.025025,    0.026026,    0.027027,    0.028028,    0.029029,     0.03003,    0.031031,    0.032032,    0.033033,    0.034034,    0.035035,    0.036036,    0.037037,    0.038038,    0.039039,     0.04004,    0.041041,    0.042042,    0.043043,    0.044044,    0.045045,    0.046046,    0.047047,\n",
            "          0.048048,    0.049049,     0.05005,    0.051051,    0.052052,    0.053053,    0.054054,    0.055055,    0.056056,    0.057057,    0.058058,    0.059059,     0.06006,    0.061061,    0.062062,    0.063063,    0.064064,    0.065065,    0.066066,    0.067067,    0.068068,    0.069069,     0.07007,    0.071071,\n",
            "          0.072072,    0.073073,    0.074074,    0.075075,    0.076076,    0.077077,    0.078078,    0.079079,     0.08008,    0.081081,    0.082082,    0.083083,    0.084084,    0.085085,    0.086086,    0.087087,    0.088088,    0.089089,     0.09009,    0.091091,    0.092092,    0.093093,    0.094094,    0.095095,\n",
            "          0.096096,    0.097097,    0.098098,    0.099099,      0.1001,      0.1011,      0.1021,      0.1031,      0.1041,     0.10511,     0.10611,     0.10711,     0.10811,     0.10911,     0.11011,     0.11111,     0.11211,     0.11311,     0.11411,     0.11512,     0.11612,     0.11712,     0.11812,     0.11912,\n",
            "           0.12012,     0.12112,     0.12212,     0.12312,     0.12412,     0.12513,     0.12613,     0.12713,     0.12813,     0.12913,     0.13013,     0.13113,     0.13213,     0.13313,     0.13413,     0.13514,     0.13614,     0.13714,     0.13814,     0.13914,     0.14014,     0.14114,     0.14214,     0.14314,\n",
            "           0.14414,     0.14515,     0.14615,     0.14715,     0.14815,     0.14915,     0.15015,     0.15115,     0.15215,     0.15315,     0.15415,     0.15516,     0.15616,     0.15716,     0.15816,     0.15916,     0.16016,     0.16116,     0.16216,     0.16316,     0.16416,     0.16517,     0.16617,     0.16717,\n",
            "           0.16817,     0.16917,     0.17017,     0.17117,     0.17217,     0.17317,     0.17417,     0.17518,     0.17618,     0.17718,     0.17818,     0.17918,     0.18018,     0.18118,     0.18218,     0.18318,     0.18418,     0.18519,     0.18619,     0.18719,     0.18819,     0.18919,     0.19019,     0.19119,\n",
            "           0.19219,     0.19319,     0.19419,      0.1952,      0.1962,      0.1972,      0.1982,      0.1992,      0.2002,      0.2012,      0.2022,      0.2032,      0.2042,     0.20521,     0.20621,     0.20721,     0.20821,     0.20921,     0.21021,     0.21121,     0.21221,     0.21321,     0.21421,     0.21522,\n",
            "           0.21622,     0.21722,     0.21822,     0.21922,     0.22022,     0.22122,     0.22222,     0.22322,     0.22422,     0.22523,     0.22623,     0.22723,     0.22823,     0.22923,     0.23023,     0.23123,     0.23223,     0.23323,     0.23423,     0.23524,     0.23624,     0.23724,     0.23824,     0.23924,\n",
            "           0.24024,     0.24124,     0.24224,     0.24324,     0.24424,     0.24525,     0.24625,     0.24725,     0.24825,     0.24925,     0.25025,     0.25125,     0.25225,     0.25325,     0.25425,     0.25526,     0.25626,     0.25726,     0.25826,     0.25926,     0.26026,     0.26126,     0.26226,     0.26326,\n",
            "           0.26426,     0.26527,     0.26627,     0.26727,     0.26827,     0.26927,     0.27027,     0.27127,     0.27227,     0.27327,     0.27427,     0.27528,     0.27628,     0.27728,     0.27828,     0.27928,     0.28028,     0.28128,     0.28228,     0.28328,     0.28428,     0.28529,     0.28629,     0.28729,\n",
            "           0.28829,     0.28929,     0.29029,     0.29129,     0.29229,     0.29329,     0.29429,      0.2953,      0.2963,      0.2973,      0.2983,      0.2993,      0.3003,      0.3013,      0.3023,      0.3033,      0.3043,     0.30531,     0.30631,     0.30731,     0.30831,     0.30931,     0.31031,     0.31131,\n",
            "           0.31231,     0.31331,     0.31431,     0.31532,     0.31632,     0.31732,     0.31832,     0.31932,     0.32032,     0.32132,     0.32232,     0.32332,     0.32432,     0.32533,     0.32633,     0.32733,     0.32833,     0.32933,     0.33033,     0.33133,     0.33233,     0.33333,     0.33433,     0.33534,\n",
            "           0.33634,     0.33734,     0.33834,     0.33934,     0.34034,     0.34134,     0.34234,     0.34334,     0.34434,     0.34535,     0.34635,     0.34735,     0.34835,     0.34935,     0.35035,     0.35135,     0.35235,     0.35335,     0.35435,     0.35536,     0.35636,     0.35736,     0.35836,     0.35936,\n",
            "           0.36036,     0.36136,     0.36236,     0.36336,     0.36436,     0.36537,     0.36637,     0.36737,     0.36837,     0.36937,     0.37037,     0.37137,     0.37237,     0.37337,     0.37437,     0.37538,     0.37638,     0.37738,     0.37838,     0.37938,     0.38038,     0.38138,     0.38238,     0.38338,\n",
            "           0.38438,     0.38539,     0.38639,     0.38739,     0.38839,     0.38939,     0.39039,     0.39139,     0.39239,     0.39339,     0.39439,      0.3954,      0.3964,      0.3974,      0.3984,      0.3994,      0.4004,      0.4014,      0.4024,      0.4034,      0.4044,     0.40541,     0.40641,     0.40741,\n",
            "           0.40841,     0.40941,     0.41041,     0.41141,     0.41241,     0.41341,     0.41441,     0.41542,     0.41642,     0.41742,     0.41842,     0.41942,     0.42042,     0.42142,     0.42242,     0.42342,     0.42442,     0.42543,     0.42643,     0.42743,     0.42843,     0.42943,     0.43043,     0.43143,\n",
            "           0.43243,     0.43343,     0.43443,     0.43544,     0.43644,     0.43744,     0.43844,     0.43944,     0.44044,     0.44144,     0.44244,     0.44344,     0.44444,     0.44545,     0.44645,     0.44745,     0.44845,     0.44945,     0.45045,     0.45145,     0.45245,     0.45345,     0.45445,     0.45546,\n",
            "           0.45646,     0.45746,     0.45846,     0.45946,     0.46046,     0.46146,     0.46246,     0.46346,     0.46446,     0.46547,     0.46647,     0.46747,     0.46847,     0.46947,     0.47047,     0.47147,     0.47247,     0.47347,     0.47447,     0.47548,     0.47648,     0.47748,     0.47848,     0.47948,\n",
            "           0.48048,     0.48148,     0.48248,     0.48348,     0.48448,     0.48549,     0.48649,     0.48749,     0.48849,     0.48949,     0.49049,     0.49149,     0.49249,     0.49349,     0.49449,      0.4955,      0.4965,      0.4975,      0.4985,      0.4995,      0.5005,      0.5015,      0.5025,      0.5035,\n",
            "            0.5045,     0.50551,     0.50651,     0.50751,     0.50851,     0.50951,     0.51051,     0.51151,     0.51251,     0.51351,     0.51451,     0.51552,     0.51652,     0.51752,     0.51852,     0.51952,     0.52052,     0.52152,     0.52252,     0.52352,     0.52452,     0.52553,     0.52653,     0.52753,\n",
            "           0.52853,     0.52953,     0.53053,     0.53153,     0.53253,     0.53353,     0.53453,     0.53554,     0.53654,     0.53754,     0.53854,     0.53954,     0.54054,     0.54154,     0.54254,     0.54354,     0.54454,     0.54555,     0.54655,     0.54755,     0.54855,     0.54955,     0.55055,     0.55155,\n",
            "           0.55255,     0.55355,     0.55455,     0.55556,     0.55656,     0.55756,     0.55856,     0.55956,     0.56056,     0.56156,     0.56256,     0.56356,     0.56456,     0.56557,     0.56657,     0.56757,     0.56857,     0.56957,     0.57057,     0.57157,     0.57257,     0.57357,     0.57457,     0.57558,\n",
            "           0.57658,     0.57758,     0.57858,     0.57958,     0.58058,     0.58158,     0.58258,     0.58358,     0.58458,     0.58559,     0.58659,     0.58759,     0.58859,     0.58959,     0.59059,     0.59159,     0.59259,     0.59359,     0.59459,      0.5956,      0.5966,      0.5976,      0.5986,      0.5996,\n",
            "            0.6006,      0.6016,      0.6026,      0.6036,      0.6046,     0.60561,     0.60661,     0.60761,     0.60861,     0.60961,     0.61061,     0.61161,     0.61261,     0.61361,     0.61461,     0.61562,     0.61662,     0.61762,     0.61862,     0.61962,     0.62062,     0.62162,     0.62262,     0.62362,\n",
            "           0.62462,     0.62563,     0.62663,     0.62763,     0.62863,     0.62963,     0.63063,     0.63163,     0.63263,     0.63363,     0.63463,     0.63564,     0.63664,     0.63764,     0.63864,     0.63964,     0.64064,     0.64164,     0.64264,     0.64364,     0.64464,     0.64565,     0.64665,     0.64765,\n",
            "           0.64865,     0.64965,     0.65065,     0.65165,     0.65265,     0.65365,     0.65465,     0.65566,     0.65666,     0.65766,     0.65866,     0.65966,     0.66066,     0.66166,     0.66266,     0.66366,     0.66466,     0.66567,     0.66667,     0.66767,     0.66867,     0.66967,     0.67067,     0.67167,\n",
            "           0.67267,     0.67367,     0.67467,     0.67568,     0.67668,     0.67768,     0.67868,     0.67968,     0.68068,     0.68168,     0.68268,     0.68368,     0.68468,     0.68569,     0.68669,     0.68769,     0.68869,     0.68969,     0.69069,     0.69169,     0.69269,     0.69369,     0.69469,      0.6957,\n",
            "            0.6967,      0.6977,      0.6987,      0.6997,      0.7007,      0.7017,      0.7027,      0.7037,      0.7047,     0.70571,     0.70671,     0.70771,     0.70871,     0.70971,     0.71071,     0.71171,     0.71271,     0.71371,     0.71471,     0.71572,     0.71672,     0.71772,     0.71872,     0.71972,\n",
            "           0.72072,     0.72172,     0.72272,     0.72372,     0.72472,     0.72573,     0.72673,     0.72773,     0.72873,     0.72973,     0.73073,     0.73173,     0.73273,     0.73373,     0.73473,     0.73574,     0.73674,     0.73774,     0.73874,     0.73974,     0.74074,     0.74174,     0.74274,     0.74374,\n",
            "           0.74474,     0.74575,     0.74675,     0.74775,     0.74875,     0.74975,     0.75075,     0.75175,     0.75275,     0.75375,     0.75475,     0.75576,     0.75676,     0.75776,     0.75876,     0.75976,     0.76076,     0.76176,     0.76276,     0.76376,     0.76476,     0.76577,     0.76677,     0.76777,\n",
            "           0.76877,     0.76977,     0.77077,     0.77177,     0.77277,     0.77377,     0.77477,     0.77578,     0.77678,     0.77778,     0.77878,     0.77978,     0.78078,     0.78178,     0.78278,     0.78378,     0.78478,     0.78579,     0.78679,     0.78779,     0.78879,     0.78979,     0.79079,     0.79179,\n",
            "           0.79279,     0.79379,     0.79479,      0.7958,      0.7968,      0.7978,      0.7988,      0.7998,      0.8008,      0.8018,      0.8028,      0.8038,      0.8048,     0.80581,     0.80681,     0.80781,     0.80881,     0.80981,     0.81081,     0.81181,     0.81281,     0.81381,     0.81481,     0.81582,\n",
            "           0.81682,     0.81782,     0.81882,     0.81982,     0.82082,     0.82182,     0.82282,     0.82382,     0.82482,     0.82583,     0.82683,     0.82783,     0.82883,     0.82983,     0.83083,     0.83183,     0.83283,     0.83383,     0.83483,     0.83584,     0.83684,     0.83784,     0.83884,     0.83984,\n",
            "           0.84084,     0.84184,     0.84284,     0.84384,     0.84484,     0.84585,     0.84685,     0.84785,     0.84885,     0.84985,     0.85085,     0.85185,     0.85285,     0.85385,     0.85485,     0.85586,     0.85686,     0.85786,     0.85886,     0.85986,     0.86086,     0.86186,     0.86286,     0.86386,\n",
            "           0.86486,     0.86587,     0.86687,     0.86787,     0.86887,     0.86987,     0.87087,     0.87187,     0.87287,     0.87387,     0.87487,     0.87588,     0.87688,     0.87788,     0.87888,     0.87988,     0.88088,     0.88188,     0.88288,     0.88388,     0.88488,     0.88589,     0.88689,     0.88789,\n",
            "           0.88889,     0.88989,     0.89089,     0.89189,     0.89289,     0.89389,     0.89489,      0.8959,      0.8969,      0.8979,      0.8989,      0.8999,      0.9009,      0.9019,      0.9029,      0.9039,      0.9049,     0.90591,     0.90691,     0.90791,     0.90891,     0.90991,     0.91091,     0.91191,\n",
            "           0.91291,     0.91391,     0.91491,     0.91592,     0.91692,     0.91792,     0.91892,     0.91992,     0.92092,     0.92192,     0.92292,     0.92392,     0.92492,     0.92593,     0.92693,     0.92793,     0.92893,     0.92993,     0.93093,     0.93193,     0.93293,     0.93393,     0.93493,     0.93594,\n",
            "           0.93694,     0.93794,     0.93894,     0.93994,     0.94094,     0.94194,     0.94294,     0.94394,     0.94494,     0.94595,     0.94695,     0.94795,     0.94895,     0.94995,     0.95095,     0.95195,     0.95295,     0.95395,     0.95495,     0.95596,     0.95696,     0.95796,     0.95896,     0.95996,\n",
            "           0.96096,     0.96196,     0.96296,     0.96396,     0.96496,     0.96597,     0.96697,     0.96797,     0.96897,     0.96997,     0.97097,     0.97197,     0.97297,     0.97397,     0.97497,     0.97598,     0.97698,     0.97798,     0.97898,     0.97998,     0.98098,     0.98198,     0.98298,     0.98398,\n",
            "           0.98498,     0.98599,     0.98699,     0.98799,     0.98899,     0.98999,     0.99099,     0.99199,     0.99299,     0.99399,     0.99499,       0.996,       0.997,       0.998,       0.999,           1]), array([[   0.046274,    0.046303,    0.070449,    0.089742,     0.10751,     0.12307,     0.13567,     0.14746,     0.15719,     0.16667,     0.17748,     0.18769,     0.19564,     0.20406,     0.21181,     0.22163,     0.22834,     0.23449,     0.24198,     0.24874,     0.25501,     0.26277,     0.26586,\n",
            "            0.27287,     0.27962,     0.28393,     0.28937,     0.29382,     0.29738,     0.30124,      0.3088,     0.31434,     0.31867,       0.322,     0.32512,     0.32881,     0.33143,     0.33534,     0.33874,     0.34487,     0.35145,     0.35643,     0.36006,     0.36338,     0.36474,     0.36605,\n",
            "            0.37109,     0.37482,     0.37873,     0.38215,     0.38587,     0.39039,     0.39228,     0.39524,     0.39691,     0.40253,     0.40685,     0.40951,     0.41301,     0.41462,      0.4174,     0.41994,     0.42138,     0.42452,     0.42913,     0.43086,     0.43262,     0.43163,      0.4331,\n",
            "            0.43544,     0.43774,      0.4403,     0.44515,     0.44707,     0.45118,     0.45425,     0.45892,     0.46221,     0.46616,     0.47066,      0.4742,     0.47886,     0.48403,     0.48705,     0.48896,     0.48918,     0.49285,     0.49618,     0.49734,     0.49857,     0.50208,     0.50579,\n",
            "            0.50736,     0.50937,     0.51197,     0.51415,     0.51612,     0.51788,     0.52015,     0.52483,     0.52679,     0.52778,     0.53155,     0.53574,     0.53616,     0.53659,     0.53701,     0.53895,     0.53893,     0.53943,     0.53965,     0.53988,      0.5401,     0.54033,     0.54277,\n",
            "            0.54316,     0.54355,     0.54462,     0.54787,     0.55142,     0.55319,     0.55354,     0.55389,     0.55536,     0.55733,     0.55816,     0.55869,     0.56029,     0.56228,      0.5641,     0.56511,     0.56861,     0.57223,     0.57377,     0.57506,       0.576,     0.57669,     0.57829,\n",
            "            0.58285,     0.58635,     0.59186,     0.59304,     0.59344,     0.59383,     0.59464,     0.59579,     0.59694,     0.59862,     0.59928,     0.60384,     0.60552,     0.60594,     0.60637,     0.60809,     0.60973,     0.60962,     0.60926,     0.60928,     0.61025,     0.61187,     0.61276,\n",
            "            0.61423,     0.61673,      0.6195,     0.62266,     0.62455,     0.62666,      0.6318,     0.63322,     0.63522,     0.63692,     0.63721,     0.63734,     0.63786,     0.64086,      0.6414,     0.64193,     0.64349,      0.6451,     0.64791,     0.64901,     0.64954,     0.65006,     0.65233,\n",
            "            0.65515,     0.65647,     0.65754,     0.65838,     0.66014,     0.66247,     0.66601,     0.66971,      0.6708,     0.67158,     0.67226,     0.67294,     0.67357,      0.6742,     0.67508,      0.6764,     0.67747,     0.67969,     0.67968,     0.67934,     0.67948,     0.68026,      0.6809,\n",
            "            0.68012,     0.68204,     0.68276,     0.68348,     0.68482,      0.6853,     0.68582,     0.68634,     0.68924,     0.69066,     0.69102,     0.69138,     0.69173,     0.69209,     0.69253,      0.6931,     0.69367,     0.69459,     0.69857,     0.69966,     0.70133,     0.70181,      0.7016,\n",
            "            0.70139,     0.70118,     0.70046,     0.69948,     0.70068,      0.7034,     0.70702,     0.70857,     0.70973,     0.71066,     0.71156,     0.71232,     0.71308,      0.7146,     0.71772,     0.71892,     0.72052,     0.72264,     0.72335,     0.72376,     0.72473,      0.7266,     0.72777,\n",
            "            0.72904,     0.73009,     0.73176,     0.73339,     0.73417,     0.73495,     0.73745,     0.74256,     0.74406,     0.74438,     0.74469,     0.74501,     0.74532,     0.74563,     0.74595,     0.74621,     0.74608,     0.74594,     0.74581,     0.74568,     0.74555,      0.7461,     0.74789,\n",
            "            0.74852,     0.74915,     0.74978,     0.75034,     0.75087,     0.75139,     0.75192,     0.75509,     0.75838,     0.75965,     0.76047,     0.76129,     0.76332,     0.76561,     0.76521,     0.76594,      0.7666,     0.76705,     0.76751,     0.76797,     0.76842,     0.76888,     0.77177,\n",
            "            0.77239,     0.77301,     0.77363,     0.77365,     0.77324,     0.77494,     0.77817,     0.77925,     0.78033,       0.781,      0.7815,       0.782,      0.7825,       0.783,     0.78397,     0.78521,     0.78557,     0.78532,     0.78507,     0.78645,     0.78798,     0.78903,     0.79008,\n",
            "            0.79321,     0.79415,      0.7951,     0.79572,     0.79621,     0.79671,      0.7972,     0.79769,     0.80158,     0.80348,     0.80373,     0.80398,     0.80423,     0.80448,     0.80473,     0.80498,     0.80524,     0.80549,     0.80574,     0.80599,     0.80633,     0.80669,     0.80704,\n",
            "             0.8074,     0.80775,     0.80811,     0.80846,     0.80881,     0.80913,     0.80946,     0.80978,     0.81011,     0.81044,     0.81076,     0.81109,     0.81141,     0.81219,     0.81302,     0.81384,     0.81413,     0.81402,     0.81392,     0.81381,     0.81371,      0.8136,     0.81338,\n",
            "            0.81309,     0.81367,      0.8154,     0.81968,     0.82354,       0.824,     0.82447,     0.82494,     0.82541,     0.82589,     0.82636,     0.82861,     0.82903,     0.82869,     0.82949,     0.83036,     0.83123,     0.83694,     0.83719,     0.83744,     0.83769,     0.83794,     0.83819,\n",
            "            0.83844,     0.83869,     0.83894,      0.8392,     0.83945,      0.8397,     0.84027,     0.84141,     0.84255,     0.84582,     0.84553,     0.84564,      0.8468,     0.84795,     0.85143,     0.85127,      0.8511,     0.85093,     0.85075,     0.85057,     0.85039,     0.84977,     0.84967,\n",
            "            0.84956,     0.84946,     0.84936,     0.84925,     0.84881,     0.85051,     0.85201,     0.85237,     0.85273,     0.85309,     0.85346,     0.85382,     0.85418,     0.85454,      0.8549,     0.85534,     0.85581,     0.85628,     0.85676,     0.85723,      0.8577,     0.85817,     0.85812,\n",
            "            0.85803,     0.85793,     0.85784,     0.85774,     0.85836,     0.86044,     0.86047,     0.86699,     0.86731,     0.86764,     0.86796,     0.86828,     0.86861,     0.86893,     0.86925,     0.86957,      0.8699,     0.87022,     0.87449,     0.87557,     0.87665,     0.87683,     0.87671,\n",
            "            0.87659,     0.87647,     0.87702,     0.87775,     0.87848,     0.87921,     0.87943,     0.88058,     0.88173,     0.88278,     0.88218,     0.88186,     0.88181,     0.88176,     0.88171,     0.88166,     0.88161,     0.88157,     0.88152,     0.88147,     0.88317,     0.88723,     0.88834,\n",
            "            0.88814,     0.88838,     0.88948,     0.89059,     0.89154,     0.89127,      0.8918,     0.89319,     0.89459,     0.89648,     0.89834,     0.89777,     0.89763,     0.89841,     0.89919,     0.89997,     0.90075,     0.90151,     0.90225,     0.90298,     0.90372,     0.90445,     0.90493,\n",
            "            0.90484,     0.90476,     0.90467,     0.90458,     0.90545,     0.90657,     0.90769,     0.90827,     0.90813,     0.90799,     0.90792,     0.90787,     0.90782,     0.90777,     0.90773,     0.90768,     0.90763,     0.90758,     0.91114,      0.9152,     0.91505,     0.91625,     0.91746,\n",
            "            0.91866,     0.91877,     0.91872,     0.91868,     0.91864,     0.91859,     0.91855,     0.91851,     0.91846,     0.92191,     0.92152,     0.92119,      0.9248,     0.92916,     0.92906,     0.92891,     0.92956,     0.93034,     0.93113,     0.93191,     0.93269,     0.93299,      0.9329,\n",
            "            0.93282,     0.93362,     0.94057,     0.94037,     0.93999,     0.94385,     0.94365,     0.94353,      0.9434,     0.94328,     0.94315,     0.94297,     0.94427,     0.94741,     0.94806,      0.9487,     0.94935,        0.95,     0.95065,      0.9513,     0.95191,     0.95222,     0.95393,\n",
            "            0.95563,      0.9561,     0.95605,     0.95599,     0.95594,     0.95589,     0.95577,     0.95565,     0.95556,     0.95547,     0.95711,     0.95993,     0.95979,     0.95975,     0.95971,     0.95967,     0.95962,     0.96423,     0.96403,     0.96393,     0.96489,     0.96606,     0.96723,\n",
            "            0.96839,      0.9689,     0.96887,     0.96885,     0.96882,     0.96879,     0.96877,     0.96872,     0.96863,     0.96853,      0.9684,     0.96825,     0.96819,     0.96814,     0.96807,     0.96786,     0.96756,      0.9672,      0.9671,     0.96696,     0.96663,     0.96657,     0.96651,\n",
            "            0.96637,     0.96627,     0.96623,      0.9662,     0.96617,     0.96613,     0.96607,     0.96576,      0.9656,      0.9655,     0.96545,     0.96541,     0.96536,     0.96531,     0.96525,     0.96518,     0.96566,     0.97054,     0.97025,     0.96986,      0.9697,     0.96901,      0.9688,\n",
            "            0.96857,      0.9683,     0.96821,      0.9681,     0.96794,     0.96776,     0.96766,     0.96757,      0.9673,     0.96725,     0.96719,     0.96714,     0.96687,     0.96667,      0.9665,     0.96615,     0.96594,     0.96558,     0.96543,      0.9653,     0.96502,     0.96474,      0.9646,\n",
            "            0.96442,     0.96422,     0.96407,     0.96395,     0.96385,      0.9637,     0.96347,     0.96334,      0.9632,     0.96307,     0.96294,     0.96287,      0.9628,     0.96273,     0.96245,     0.96214,     0.96176,     0.96166,     0.96155,     0.96125,     0.96064,      0.9604,     0.95988,\n",
            "            0.95966,     0.95947,     0.96717,     0.96701,      0.9669,     0.96682,     0.96674,     0.96667,     0.96632,     0.96625,     0.96618,     0.96611,     0.96512,     0.96459,     0.96422,     0.96353,     0.96329,     0.96314,       0.963,     0.96438,     0.96626,     0.96815,     0.97003,\n",
            "            0.97192,     0.97176,     0.97145,     0.97124,     0.97105,     0.97083,     0.97023,     0.97001,     0.96979,     0.97499,     0.97955,     0.97945,     0.97914,     0.97899,     0.97877,     0.97806,     0.97761,     0.97746,     0.97737,     0.97728,     0.97711,     0.97665,     0.97589,\n",
            "            0.97576,     0.97564,     0.98763,     0.98755,     0.98749,     0.98745,      0.9874,     0.98736,     0.98714,     0.98702,     0.98677,     0.98842,     0.99152,     0.99461,     0.99771,           1,           1,           1,           1,           1,           1,           1,           1,\n",
            "                  1,           1,           1,           1,           1,           1,           1,           1,           1,           1,           1,           1,           1,           1,           1,           1,           1,           1,           1,           1,           1,           1,           1,\n",
            "                  1,           1,           1,           1,           1,           1,           1,           1,           1,           1,           1,           1,           1,           1,           1,           1,           1,           1,           1,           1,           1,           1,           1,\n",
            "                  1,           1,           1,           1,           1,           1,           1,           1,           1,           1,           1,           1,           1,           1,           1,           1,           1,           1,           1,           1,           1,           1,           1,\n",
            "                  1,           1,           1,           1,           1,           1,           1,           1,           1,           1,           1,           1,           1,           1,           1,           1,           1,           1,           1,           1,           1,           1,           1,\n",
            "                  1,           1,           1,           1,           1,           1,           1,           1,           1,           1,           1,           1,           1,           1,           1,           1,           1,           1,           1,           1,           1,           1,           1,\n",
            "                  1,           1,           1,           1,           1,           1,           1,           1,           1,           1,           1,           1,           1,           1,           1,           1,           1,           1,           1,           1,           1,           1,           1,\n",
            "                  1,           1,           1,           1,           1,           1,           1,           1,           1,           1,           1,           1,           1,           1,           1,           1,           1,           1,           1,           1,           1,           1,           1,\n",
            "                  1,           1,           1,           1,           1,           1,           1,           1,           1,           1,           1,           1,           1,           1,           1,           1,           1,           1,           1,           1,           1,           1,           1,\n",
            "                  1,           1,           1,           1,           1,           1,           1,           1,           1,           1,           1,           1,           1,           1,           1,           1,           1,           1,           1,           1,           1,           1,           1,\n",
            "                  1,           1,           1,           1,           1,           1,           1,           1,           1,           1,           1,           1,           1,           1,           1,           1,           1,           1,           1,           1,           1,           1,           1,\n",
            "                  1,           1,           1,           1,           1,           1,           1,           1,           1,           1,           1]]), 'Confidence', 'Precision'], [array([          0,    0.001001,    0.002002,    0.003003,    0.004004,    0.005005,    0.006006,    0.007007,    0.008008,    0.009009,     0.01001,    0.011011,    0.012012,    0.013013,    0.014014,    0.015015,    0.016016,    0.017017,    0.018018,    0.019019,     0.02002,    0.021021,    0.022022,    0.023023,\n",
            "          0.024024,    0.025025,    0.026026,    0.027027,    0.028028,    0.029029,     0.03003,    0.031031,    0.032032,    0.033033,    0.034034,    0.035035,    0.036036,    0.037037,    0.038038,    0.039039,     0.04004,    0.041041,    0.042042,    0.043043,    0.044044,    0.045045,    0.046046,    0.047047,\n",
            "          0.048048,    0.049049,     0.05005,    0.051051,    0.052052,    0.053053,    0.054054,    0.055055,    0.056056,    0.057057,    0.058058,    0.059059,     0.06006,    0.061061,    0.062062,    0.063063,    0.064064,    0.065065,    0.066066,    0.067067,    0.068068,    0.069069,     0.07007,    0.071071,\n",
            "          0.072072,    0.073073,    0.074074,    0.075075,    0.076076,    0.077077,    0.078078,    0.079079,     0.08008,    0.081081,    0.082082,    0.083083,    0.084084,    0.085085,    0.086086,    0.087087,    0.088088,    0.089089,     0.09009,    0.091091,    0.092092,    0.093093,    0.094094,    0.095095,\n",
            "          0.096096,    0.097097,    0.098098,    0.099099,      0.1001,      0.1011,      0.1021,      0.1031,      0.1041,     0.10511,     0.10611,     0.10711,     0.10811,     0.10911,     0.11011,     0.11111,     0.11211,     0.11311,     0.11411,     0.11512,     0.11612,     0.11712,     0.11812,     0.11912,\n",
            "           0.12012,     0.12112,     0.12212,     0.12312,     0.12412,     0.12513,     0.12613,     0.12713,     0.12813,     0.12913,     0.13013,     0.13113,     0.13213,     0.13313,     0.13413,     0.13514,     0.13614,     0.13714,     0.13814,     0.13914,     0.14014,     0.14114,     0.14214,     0.14314,\n",
            "           0.14414,     0.14515,     0.14615,     0.14715,     0.14815,     0.14915,     0.15015,     0.15115,     0.15215,     0.15315,     0.15415,     0.15516,     0.15616,     0.15716,     0.15816,     0.15916,     0.16016,     0.16116,     0.16216,     0.16316,     0.16416,     0.16517,     0.16617,     0.16717,\n",
            "           0.16817,     0.16917,     0.17017,     0.17117,     0.17217,     0.17317,     0.17417,     0.17518,     0.17618,     0.17718,     0.17818,     0.17918,     0.18018,     0.18118,     0.18218,     0.18318,     0.18418,     0.18519,     0.18619,     0.18719,     0.18819,     0.18919,     0.19019,     0.19119,\n",
            "           0.19219,     0.19319,     0.19419,      0.1952,      0.1962,      0.1972,      0.1982,      0.1992,      0.2002,      0.2012,      0.2022,      0.2032,      0.2042,     0.20521,     0.20621,     0.20721,     0.20821,     0.20921,     0.21021,     0.21121,     0.21221,     0.21321,     0.21421,     0.21522,\n",
            "           0.21622,     0.21722,     0.21822,     0.21922,     0.22022,     0.22122,     0.22222,     0.22322,     0.22422,     0.22523,     0.22623,     0.22723,     0.22823,     0.22923,     0.23023,     0.23123,     0.23223,     0.23323,     0.23423,     0.23524,     0.23624,     0.23724,     0.23824,     0.23924,\n",
            "           0.24024,     0.24124,     0.24224,     0.24324,     0.24424,     0.24525,     0.24625,     0.24725,     0.24825,     0.24925,     0.25025,     0.25125,     0.25225,     0.25325,     0.25425,     0.25526,     0.25626,     0.25726,     0.25826,     0.25926,     0.26026,     0.26126,     0.26226,     0.26326,\n",
            "           0.26426,     0.26527,     0.26627,     0.26727,     0.26827,     0.26927,     0.27027,     0.27127,     0.27227,     0.27327,     0.27427,     0.27528,     0.27628,     0.27728,     0.27828,     0.27928,     0.28028,     0.28128,     0.28228,     0.28328,     0.28428,     0.28529,     0.28629,     0.28729,\n",
            "           0.28829,     0.28929,     0.29029,     0.29129,     0.29229,     0.29329,     0.29429,      0.2953,      0.2963,      0.2973,      0.2983,      0.2993,      0.3003,      0.3013,      0.3023,      0.3033,      0.3043,     0.30531,     0.30631,     0.30731,     0.30831,     0.30931,     0.31031,     0.31131,\n",
            "           0.31231,     0.31331,     0.31431,     0.31532,     0.31632,     0.31732,     0.31832,     0.31932,     0.32032,     0.32132,     0.32232,     0.32332,     0.32432,     0.32533,     0.32633,     0.32733,     0.32833,     0.32933,     0.33033,     0.33133,     0.33233,     0.33333,     0.33433,     0.33534,\n",
            "           0.33634,     0.33734,     0.33834,     0.33934,     0.34034,     0.34134,     0.34234,     0.34334,     0.34434,     0.34535,     0.34635,     0.34735,     0.34835,     0.34935,     0.35035,     0.35135,     0.35235,     0.35335,     0.35435,     0.35536,     0.35636,     0.35736,     0.35836,     0.35936,\n",
            "           0.36036,     0.36136,     0.36236,     0.36336,     0.36436,     0.36537,     0.36637,     0.36737,     0.36837,     0.36937,     0.37037,     0.37137,     0.37237,     0.37337,     0.37437,     0.37538,     0.37638,     0.37738,     0.37838,     0.37938,     0.38038,     0.38138,     0.38238,     0.38338,\n",
            "           0.38438,     0.38539,     0.38639,     0.38739,     0.38839,     0.38939,     0.39039,     0.39139,     0.39239,     0.39339,     0.39439,      0.3954,      0.3964,      0.3974,      0.3984,      0.3994,      0.4004,      0.4014,      0.4024,      0.4034,      0.4044,     0.40541,     0.40641,     0.40741,\n",
            "           0.40841,     0.40941,     0.41041,     0.41141,     0.41241,     0.41341,     0.41441,     0.41542,     0.41642,     0.41742,     0.41842,     0.41942,     0.42042,     0.42142,     0.42242,     0.42342,     0.42442,     0.42543,     0.42643,     0.42743,     0.42843,     0.42943,     0.43043,     0.43143,\n",
            "           0.43243,     0.43343,     0.43443,     0.43544,     0.43644,     0.43744,     0.43844,     0.43944,     0.44044,     0.44144,     0.44244,     0.44344,     0.44444,     0.44545,     0.44645,     0.44745,     0.44845,     0.44945,     0.45045,     0.45145,     0.45245,     0.45345,     0.45445,     0.45546,\n",
            "           0.45646,     0.45746,     0.45846,     0.45946,     0.46046,     0.46146,     0.46246,     0.46346,     0.46446,     0.46547,     0.46647,     0.46747,     0.46847,     0.46947,     0.47047,     0.47147,     0.47247,     0.47347,     0.47447,     0.47548,     0.47648,     0.47748,     0.47848,     0.47948,\n",
            "           0.48048,     0.48148,     0.48248,     0.48348,     0.48448,     0.48549,     0.48649,     0.48749,     0.48849,     0.48949,     0.49049,     0.49149,     0.49249,     0.49349,     0.49449,      0.4955,      0.4965,      0.4975,      0.4985,      0.4995,      0.5005,      0.5015,      0.5025,      0.5035,\n",
            "            0.5045,     0.50551,     0.50651,     0.50751,     0.50851,     0.50951,     0.51051,     0.51151,     0.51251,     0.51351,     0.51451,     0.51552,     0.51652,     0.51752,     0.51852,     0.51952,     0.52052,     0.52152,     0.52252,     0.52352,     0.52452,     0.52553,     0.52653,     0.52753,\n",
            "           0.52853,     0.52953,     0.53053,     0.53153,     0.53253,     0.53353,     0.53453,     0.53554,     0.53654,     0.53754,     0.53854,     0.53954,     0.54054,     0.54154,     0.54254,     0.54354,     0.54454,     0.54555,     0.54655,     0.54755,     0.54855,     0.54955,     0.55055,     0.55155,\n",
            "           0.55255,     0.55355,     0.55455,     0.55556,     0.55656,     0.55756,     0.55856,     0.55956,     0.56056,     0.56156,     0.56256,     0.56356,     0.56456,     0.56557,     0.56657,     0.56757,     0.56857,     0.56957,     0.57057,     0.57157,     0.57257,     0.57357,     0.57457,     0.57558,\n",
            "           0.57658,     0.57758,     0.57858,     0.57958,     0.58058,     0.58158,     0.58258,     0.58358,     0.58458,     0.58559,     0.58659,     0.58759,     0.58859,     0.58959,     0.59059,     0.59159,     0.59259,     0.59359,     0.59459,      0.5956,      0.5966,      0.5976,      0.5986,      0.5996,\n",
            "            0.6006,      0.6016,      0.6026,      0.6036,      0.6046,     0.60561,     0.60661,     0.60761,     0.60861,     0.60961,     0.61061,     0.61161,     0.61261,     0.61361,     0.61461,     0.61562,     0.61662,     0.61762,     0.61862,     0.61962,     0.62062,     0.62162,     0.62262,     0.62362,\n",
            "           0.62462,     0.62563,     0.62663,     0.62763,     0.62863,     0.62963,     0.63063,     0.63163,     0.63263,     0.63363,     0.63463,     0.63564,     0.63664,     0.63764,     0.63864,     0.63964,     0.64064,     0.64164,     0.64264,     0.64364,     0.64464,     0.64565,     0.64665,     0.64765,\n",
            "           0.64865,     0.64965,     0.65065,     0.65165,     0.65265,     0.65365,     0.65465,     0.65566,     0.65666,     0.65766,     0.65866,     0.65966,     0.66066,     0.66166,     0.66266,     0.66366,     0.66466,     0.66567,     0.66667,     0.66767,     0.66867,     0.66967,     0.67067,     0.67167,\n",
            "           0.67267,     0.67367,     0.67467,     0.67568,     0.67668,     0.67768,     0.67868,     0.67968,     0.68068,     0.68168,     0.68268,     0.68368,     0.68468,     0.68569,     0.68669,     0.68769,     0.68869,     0.68969,     0.69069,     0.69169,     0.69269,     0.69369,     0.69469,      0.6957,\n",
            "            0.6967,      0.6977,      0.6987,      0.6997,      0.7007,      0.7017,      0.7027,      0.7037,      0.7047,     0.70571,     0.70671,     0.70771,     0.70871,     0.70971,     0.71071,     0.71171,     0.71271,     0.71371,     0.71471,     0.71572,     0.71672,     0.71772,     0.71872,     0.71972,\n",
            "           0.72072,     0.72172,     0.72272,     0.72372,     0.72472,     0.72573,     0.72673,     0.72773,     0.72873,     0.72973,     0.73073,     0.73173,     0.73273,     0.73373,     0.73473,     0.73574,     0.73674,     0.73774,     0.73874,     0.73974,     0.74074,     0.74174,     0.74274,     0.74374,\n",
            "           0.74474,     0.74575,     0.74675,     0.74775,     0.74875,     0.74975,     0.75075,     0.75175,     0.75275,     0.75375,     0.75475,     0.75576,     0.75676,     0.75776,     0.75876,     0.75976,     0.76076,     0.76176,     0.76276,     0.76376,     0.76476,     0.76577,     0.76677,     0.76777,\n",
            "           0.76877,     0.76977,     0.77077,     0.77177,     0.77277,     0.77377,     0.77477,     0.77578,     0.77678,     0.77778,     0.77878,     0.77978,     0.78078,     0.78178,     0.78278,     0.78378,     0.78478,     0.78579,     0.78679,     0.78779,     0.78879,     0.78979,     0.79079,     0.79179,\n",
            "           0.79279,     0.79379,     0.79479,      0.7958,      0.7968,      0.7978,      0.7988,      0.7998,      0.8008,      0.8018,      0.8028,      0.8038,      0.8048,     0.80581,     0.80681,     0.80781,     0.80881,     0.80981,     0.81081,     0.81181,     0.81281,     0.81381,     0.81481,     0.81582,\n",
            "           0.81682,     0.81782,     0.81882,     0.81982,     0.82082,     0.82182,     0.82282,     0.82382,     0.82482,     0.82583,     0.82683,     0.82783,     0.82883,     0.82983,     0.83083,     0.83183,     0.83283,     0.83383,     0.83483,     0.83584,     0.83684,     0.83784,     0.83884,     0.83984,\n",
            "           0.84084,     0.84184,     0.84284,     0.84384,     0.84484,     0.84585,     0.84685,     0.84785,     0.84885,     0.84985,     0.85085,     0.85185,     0.85285,     0.85385,     0.85485,     0.85586,     0.85686,     0.85786,     0.85886,     0.85986,     0.86086,     0.86186,     0.86286,     0.86386,\n",
            "           0.86486,     0.86587,     0.86687,     0.86787,     0.86887,     0.86987,     0.87087,     0.87187,     0.87287,     0.87387,     0.87487,     0.87588,     0.87688,     0.87788,     0.87888,     0.87988,     0.88088,     0.88188,     0.88288,     0.88388,     0.88488,     0.88589,     0.88689,     0.88789,\n",
            "           0.88889,     0.88989,     0.89089,     0.89189,     0.89289,     0.89389,     0.89489,      0.8959,      0.8969,      0.8979,      0.8989,      0.8999,      0.9009,      0.9019,      0.9029,      0.9039,      0.9049,     0.90591,     0.90691,     0.90791,     0.90891,     0.90991,     0.91091,     0.91191,\n",
            "           0.91291,     0.91391,     0.91491,     0.91592,     0.91692,     0.91792,     0.91892,     0.91992,     0.92092,     0.92192,     0.92292,     0.92392,     0.92492,     0.92593,     0.92693,     0.92793,     0.92893,     0.92993,     0.93093,     0.93193,     0.93293,     0.93393,     0.93493,     0.93594,\n",
            "           0.93694,     0.93794,     0.93894,     0.93994,     0.94094,     0.94194,     0.94294,     0.94394,     0.94494,     0.94595,     0.94695,     0.94795,     0.94895,     0.94995,     0.95095,     0.95195,     0.95295,     0.95395,     0.95495,     0.95596,     0.95696,     0.95796,     0.95896,     0.95996,\n",
            "           0.96096,     0.96196,     0.96296,     0.96396,     0.96496,     0.96597,     0.96697,     0.96797,     0.96897,     0.96997,     0.97097,     0.97197,     0.97297,     0.97397,     0.97497,     0.97598,     0.97698,     0.97798,     0.97898,     0.97998,     0.98098,     0.98198,     0.98298,     0.98398,\n",
            "           0.98498,     0.98599,     0.98699,     0.98799,     0.98899,     0.98999,     0.99099,     0.99199,     0.99299,     0.99399,     0.99499,       0.996,       0.997,       0.998,       0.999,           1]), array([[    0.98958,     0.98958,     0.98611,     0.98264,     0.97917,     0.97917,     0.97917,     0.97569,     0.96528,     0.96181,     0.96181,     0.96181,     0.95833,     0.95833,     0.95833,     0.95833,     0.95833,     0.95833,     0.95486,     0.95486,     0.95486,     0.95486,     0.95486,\n",
            "            0.95486,     0.95486,     0.95486,     0.95486,     0.95486,     0.95486,     0.95139,     0.95139,     0.95139,     0.95139,     0.95139,     0.95139,     0.95139,     0.95139,     0.95139,     0.94792,     0.94792,     0.94792,     0.94792,     0.94792,     0.94792,     0.94792,     0.94792,\n",
            "            0.94792,     0.94444,     0.94444,     0.94444,     0.94444,     0.94444,     0.94097,     0.94097,      0.9375,      0.9375,      0.9375,     0.93403,     0.93403,     0.93056,     0.93056,     0.93056,     0.93056,     0.93056,     0.93056,     0.93056,     0.93056,     0.92361,     0.92361,\n",
            "            0.92361,     0.92361,     0.92361,     0.92361,     0.92361,     0.92361,     0.92361,     0.92361,     0.92361,     0.92361,     0.92361,     0.92361,     0.92361,     0.92361,     0.92361,     0.92361,     0.92106,     0.92014,     0.92014,     0.92014,     0.91667,     0.91667,     0.91667,\n",
            "            0.91667,     0.91667,     0.91667,     0.91667,     0.91667,     0.91667,     0.91667,     0.91319,     0.91319,     0.91319,     0.91319,     0.91319,     0.91319,     0.91319,     0.90972,     0.90918,     0.90625,     0.90625,     0.90625,     0.90625,     0.90625,     0.90625,     0.90625,\n",
            "            0.90625,     0.90625,     0.90625,     0.90625,     0.90625,     0.90625,     0.90625,     0.90625,     0.90625,     0.90625,     0.90625,     0.90625,     0.90625,     0.90543,     0.90278,     0.90278,     0.90278,     0.89931,     0.89931,     0.89931,     0.89931,     0.89931,     0.89931,\n",
            "            0.89931,     0.89931,     0.89931,     0.89931,     0.89931,     0.89931,     0.89931,     0.89931,     0.89931,     0.89931,     0.89931,     0.89931,     0.89931,     0.89931,     0.89931,     0.89583,     0.89583,     0.89466,     0.89332,     0.89236,     0.89236,     0.89236,     0.89236,\n",
            "            0.89236,     0.89236,     0.89236,     0.89236,     0.89236,     0.89236,     0.89236,     0.89236,     0.89236,     0.89236,     0.89039,     0.88889,     0.88679,     0.88542,     0.88542,     0.88542,     0.88542,     0.88542,     0.88542,     0.88542,     0.88542,     0.88542,     0.88542,\n",
            "            0.88542,     0.88542,     0.88542,     0.88542,     0.88542,     0.88542,     0.88542,     0.88542,     0.88542,     0.88542,     0.88542,     0.88542,     0.88542,     0.88542,     0.88542,     0.88542,     0.88542,     0.88542,     0.88412,     0.88273,     0.88194,     0.88194,     0.88168,\n",
            "            0.87852,     0.87847,     0.87847,     0.87847,     0.87515,       0.875,       0.875,       0.875,       0.875,       0.875,       0.875,       0.875,       0.875,       0.875,       0.875,       0.875,       0.875,       0.875,       0.875,       0.875,       0.875,     0.87441,     0.87354,\n",
            "            0.87267,      0.8718,      0.8688,     0.86476,     0.86458,     0.86458,     0.86458,     0.86458,     0.86458,     0.86458,     0.86458,     0.86458,     0.86458,     0.86458,     0.86458,     0.86458,     0.86458,     0.86458,      0.8625,     0.86111,     0.86111,      0.8582,     0.85764,\n",
            "            0.85764,     0.85764,     0.85764,     0.85764,     0.85764,     0.85764,     0.85764,     0.85764,     0.85764,     0.85764,     0.85764,     0.85764,     0.85764,     0.85764,     0.85764,     0.85756,     0.85697,     0.85637,     0.85578,     0.85518,     0.85459,     0.85417,     0.85417,\n",
            "            0.85417,     0.85417,     0.85417,     0.85417,     0.85417,     0.85417,     0.85417,     0.85417,     0.85417,     0.85417,     0.85417,     0.85417,     0.85417,     0.85063,     0.84872,     0.84722,     0.84375,     0.84375,     0.84375,     0.84375,     0.84375,     0.84375,     0.84375,\n",
            "            0.84375,     0.84375,     0.84375,      0.8426,     0.84066,     0.84028,     0.84028,     0.84028,     0.84028,     0.84028,     0.84028,     0.84028,     0.84028,     0.84028,     0.84028,     0.84028,     0.83954,     0.83831,     0.83707,     0.83681,     0.83681,     0.83681,     0.83681,\n",
            "            0.83681,     0.83681,     0.83681,     0.83681,     0.83681,     0.83681,     0.83681,     0.83681,     0.83681,     0.83681,     0.83681,     0.83681,     0.83681,     0.83681,     0.83681,     0.83681,     0.83681,     0.83681,     0.83681,     0.83681,     0.83681,     0.83681,     0.83681,\n",
            "            0.83681,     0.83681,     0.83681,     0.83681,     0.83681,     0.83681,     0.83681,     0.83681,     0.83681,     0.83681,     0.83681,     0.83681,     0.83681,     0.83681,     0.83681,     0.83681,     0.83647,     0.83589,     0.83531,     0.83473,     0.83415,     0.83357,     0.83237,\n",
            "            0.83077,     0.82986,     0.82986,     0.82986,     0.82643,     0.82639,     0.82639,     0.82639,     0.82639,     0.82639,     0.82639,     0.82639,     0.82498,     0.82304,     0.82292,     0.82292,     0.82292,     0.81944,     0.81944,     0.81944,     0.81944,     0.81944,     0.81944,\n",
            "            0.81944,     0.81944,     0.81944,     0.81944,     0.81944,     0.81944,     0.81944,     0.81944,     0.81944,     0.81906,     0.81727,     0.81597,     0.81597,     0.81597,     0.81588,     0.81479,      0.8137,     0.81262,     0.81147,     0.81033,     0.80918,     0.80524,     0.80461,\n",
            "            0.80397,     0.80333,      0.8027,     0.80199,     0.79927,     0.79861,     0.79861,     0.79861,     0.79861,     0.79861,     0.79861,     0.79861,     0.79861,     0.79861,     0.79861,     0.79861,     0.79861,     0.79861,     0.79861,     0.79861,     0.79861,     0.79861,     0.79804,\n",
            "            0.79742,      0.7968,     0.79618,     0.79556,     0.79514,     0.79514,     0.79227,     0.79167,     0.79167,     0.79167,     0.79167,     0.79167,     0.79167,     0.79167,     0.79167,     0.79167,     0.79167,     0.79167,     0.79167,     0.79167,     0.79167,     0.79101,     0.79014,\n",
            "            0.78926,     0.78838,     0.78819,     0.78819,     0.78819,     0.78819,     0.78472,     0.78472,     0.78472,     0.78447,     0.77994,     0.77753,     0.77717,     0.77681,     0.77645,     0.77609,     0.77573,     0.77537,     0.77501,     0.77465,     0.77431,     0.77431,      0.7735,\n",
            "            0.77189,     0.77083,     0.77083,     0.77083,      0.7706,     0.76847,     0.76736,     0.76736,     0.76736,     0.76736,     0.76704,     0.76235,     0.76042,     0.76042,     0.76042,     0.76042,     0.76042,     0.76042,     0.76042,     0.76042,     0.76042,     0.76042,     0.76018,\n",
            "            0.75941,     0.75864,     0.75788,     0.75711,     0.75694,     0.75694,     0.75694,      0.7564,     0.75511,     0.75383,     0.75317,     0.75274,     0.75232,     0.75189,     0.75146,     0.75104,     0.75061,     0.75019,        0.75,     0.74943,     0.74653,     0.74653,     0.74653,\n",
            "            0.74653,     0.74615,     0.74572,     0.74528,     0.74485,     0.74442,     0.74399,     0.74356,     0.74313,      0.7379,      0.7339,     0.73051,     0.72917,     0.72917,     0.72756,     0.72593,     0.72569,     0.72569,     0.72569,     0.72569,     0.72569,     0.72514,     0.72414,\n",
            "            0.72315,     0.72222,     0.71438,     0.71189,      0.7071,     0.70039,     0.69777,     0.69616,     0.69454,     0.69291,     0.69128,     0.68894,      0.6875,      0.6875,      0.6875,      0.6875,      0.6875,      0.6875,      0.6875,      0.6875,      0.6873,     0.68403,     0.68403,\n",
            "            0.68403,     0.68059,     0.67971,     0.67887,     0.67802,     0.67718,     0.67523,     0.67331,     0.67195,     0.67059,     0.66667,     0.66542,     0.66305,     0.66234,     0.66163,     0.66091,      0.6602,     0.65512,     0.65135,     0.64959,     0.64931,     0.64931,     0.64931,\n",
            "            0.64931,       0.649,     0.64844,     0.64788,     0.64733,     0.64677,     0.64621,     0.64523,     0.64335,     0.64115,      0.6385,     0.63531,     0.63416,     0.63301,     0.63165,     0.62742,     0.62145,      0.6143,     0.61249,     0.60966,     0.60355,     0.60242,     0.60129,\n",
            "            0.59861,     0.59679,     0.59617,     0.59555,     0.59493,     0.59431,     0.59324,     0.58762,     0.58481,     0.58305,     0.58224,     0.58143,     0.58062,     0.57978,     0.57862,     0.57746,     0.57639,     0.57195,     0.56623,     0.55875,     0.55558,     0.54291,     0.53908,\n",
            "            0.53495,     0.53037,     0.52878,     0.52682,     0.52418,     0.52108,     0.51946,     0.51796,     0.51363,     0.51275,     0.51186,     0.51098,     0.50666,     0.50348,     0.50086,     0.49559,     0.49238,     0.48702,      0.4848,     0.48291,     0.47898,     0.47495,     0.47311,\n",
            "             0.4706,     0.46792,     0.46585,     0.46426,     0.46285,     0.46089,     0.45785,     0.45617,     0.45447,      0.4527,     0.45116,     0.45027,     0.44937,     0.44848,     0.44504,     0.44121,     0.43669,     0.43543,     0.43417,     0.43072,     0.42375,     0.42107,     0.41537,\n",
            "              0.413,     0.41096,      0.4092,     0.40709,     0.40567,     0.40472,     0.40376,     0.40281,     0.39855,     0.39768,     0.39681,     0.39594,      0.3843,     0.37832,     0.37427,     0.36694,     0.36441,     0.36294,     0.36148,     0.36111,     0.36111,     0.36111,     0.36111,\n",
            "            0.36111,     0.35842,     0.35439,     0.35179,     0.34939,     0.34669,     0.33955,      0.3369,     0.33434,     0.33333,     0.33259,     0.33103,     0.32601,     0.32364,     0.32018,     0.30964,     0.30328,      0.3011,     0.29994,     0.29877,     0.29645,     0.29043,     0.28107,\n",
            "            0.27959,      0.2781,     0.27723,     0.27553,     0.27405,     0.27313,      0.2722,     0.27128,     0.26658,     0.26396,     0.25901,     0.25694,     0.25694,     0.25694,     0.25694,     0.25641,     0.25437,     0.24982,     0.24696,     0.23949,     0.23864,      0.2378,     0.23695,\n",
            "            0.23594,     0.22946,     0.22728,     0.22507,     0.22234,     0.21713,     0.20794,     0.19934,     0.18707,     0.18314,     0.18095,     0.17866,     0.17668,      0.1754,     0.17412,     0.17277,     0.17139,     0.16985,     0.16703,      0.1661,     0.16544,     0.16478,     0.16413,\n",
            "            0.16347,     0.15713,     0.15516,     0.15389,     0.15258,       0.151,     0.14942,     0.14699,     0.14429,     0.14081,     0.13567,     0.13109,     0.12581,     0.12122,     0.12007,     0.11891,     0.11607,     0.11281,     0.11065,     0.10868,     0.10201,    0.097159,    0.095878,\n",
            "           0.094597,    0.086764,     0.08397,    0.082243,    0.080832,    0.077534,    0.075584,    0.074632,     0.07368,    0.072718,    0.071714,    0.070711,    0.069707,    0.066865,    0.061993,    0.057916,    0.055981,    0.054523,      0.0532,    0.051671,    0.049029,    0.047248,    0.045629,\n",
            "           0.044342,      0.0432,    0.042058,    0.039251,    0.036608,    0.034201,     0.03117,    0.030566,    0.029961,    0.029357,    0.028753,    0.028148,    0.026945,    0.024793,    0.024135,    0.023915,    0.023694,    0.023474,    0.023253,    0.023033,    0.022812,    0.022592,    0.022372,\n",
            "           0.022151,    0.021931,     0.02171,     0.02149,    0.021269,    0.021049,    0.020721,    0.017238,    0.016897,    0.016556,    0.016215,    0.015874,    0.015533,    0.015191,     0.01485,    0.014509,    0.014168,    0.013801,    0.013315,    0.012828,    0.012342,    0.011856,     0.01137,\n",
            "           0.010883,    0.010397,   0.0099063,   0.0094157,   0.0089252,   0.0084346,    0.007944,   0.0074535,   0.0069629,   0.0066821,   0.0064095,   0.0061369,   0.0058643,   0.0055917,    0.005319,   0.0050464,   0.0047738,   0.0045012,   0.0042286,    0.003956,   0.0036834,           0,           0,\n",
            "                  0,           0,           0,           0,           0,           0,           0,           0,           0,           0,           0,           0,           0,           0,           0,           0,           0,           0,           0,           0,           0,           0,           0,\n",
            "                  0,           0,           0,           0,           0,           0,           0,           0,           0,           0,           0,           0,           0,           0,           0,           0,           0,           0,           0,           0,           0,           0,           0,\n",
            "                  0,           0,           0,           0,           0,           0,           0,           0,           0,           0,           0,           0,           0,           0,           0,           0,           0,           0,           0,           0,           0,           0,           0,\n",
            "                  0,           0,           0,           0,           0,           0,           0,           0,           0,           0,           0,           0,           0,           0,           0,           0,           0,           0,           0,           0,           0,           0,           0,\n",
            "                  0,           0,           0,           0,           0,           0,           0,           0,           0,           0,           0]]), 'Confidence', 'Recall']]\n",
            "fitness: 0.5117890021489009\n",
            "keys: ['metrics/precision(B)', 'metrics/recall(B)', 'metrics/mAP50(B)', 'metrics/mAP50-95(B)']\n",
            "maps: array([    0.47057])\n",
            "names: {0: 'Person'}\n",
            "plot: True\n",
            "results_dict: {'metrics/precision(B)': 0.8538175839673692, 'metrics/recall(B)': 0.7986111111111112, 'metrics/mAP50(B)': 0.8827379627817435, 'metrics/mAP50-95(B)': 0.47057245096747397, 'fitness': 0.5117890021489009}\n",
            "save_dir: PosixPath('runs/detect/human-detection-training2')\n",
            "speed: {'preprocess': 0.7003261929466611, 'inference': 8.149273811824738, 'loss': 0.0008287883940197173, 'postprocess': 6.048147640531025}\n",
            "task: 'detect'\n"
          ]
        }
      ]
    },
    {
      "cell_type": "code",
      "source": [
        "from ultralytics import YOLO\n",
        "\n",
        "# Load the trained model\n",
        "model = YOLO(\"/content/yolov8n.pt\")\n",
        "\n",
        "# Evaluate the model\n",
        "metrics = model.val(data=\"/content/human-detection-new-2-5/data.yaml\")\n",
        "\n",
        "print(metrics)  # View a high-level summary of the object\n",
        "print(dir(metrics))  # List all properties and methods of the metrics object\n",
        "print(metrics.box)  # Inspect the box attribute specifically\n",
        "\n",
        "\n"
      ],
      "metadata": {
        "colab": {
          "base_uri": "https://localhost:8080/"
        },
        "id": "IZP4-F2Mreay",
        "outputId": "c90f9d02-9383-417b-eaa5-151af9eceec0"
      },
      "execution_count": 6,
      "outputs": [
        {
          "output_type": "stream",
          "name": "stdout",
          "text": [
            "Ultralytics 8.3.63 🚀 Python-3.11.11 torch-2.5.1+cu121 CUDA:0 (Tesla T4, 15102MiB)\n",
            "YOLOv8n summary (fused): 168 layers, 3,151,904 parameters, 0 gradients, 8.7 GFLOPs\n"
          ]
        },
        {
          "output_type": "stream",
          "name": "stderr",
          "text": [
            "\u001b[34m\u001b[1mval: \u001b[0mScanning /content/human-detection-new-2-5/valid/labels.cache... 126 images, 0 backgrounds, 0 corrupt: 100%|██████████| 126/126 [00:00<?, ?it/s]\n",
            "                 Class     Images  Instances      Box(P          R      mAP50  mAP50-95): 100%|██████████| 8/8 [00:03<00:00,  2.61it/s]\n"
          ]
        },
        {
          "output_type": "stream",
          "name": "stdout",
          "text": [
            "                   all        126        288      0.903      0.712      0.829      0.452\n",
            "                person        126        288      0.903      0.712      0.829      0.452\n",
            "Speed: 0.5ms preprocess, 5.1ms inference, 0.0ms loss, 4.8ms postprocess per image\n",
            "Results saved to \u001b[1mruns/detect/val\u001b[0m\n",
            "ultralytics.utils.metrics.DetMetrics object with attributes:\n",
            "\n",
            "ap_class_index: array([0])\n",
            "box: ultralytics.utils.metrics.Metric object\n",
            "confusion_matrix: <ultralytics.utils.metrics.ConfusionMatrix object at 0x781951a01a50>\n",
            "curves: ['Precision-Recall(B)', 'F1-Confidence(B)', 'Precision-Confidence(B)', 'Recall-Confidence(B)']\n",
            "curves_results: [[array([          0,    0.001001,    0.002002,    0.003003,    0.004004,    0.005005,    0.006006,    0.007007,    0.008008,    0.009009,     0.01001,    0.011011,    0.012012,    0.013013,    0.014014,    0.015015,    0.016016,    0.017017,    0.018018,    0.019019,     0.02002,    0.021021,    0.022022,    0.023023,\n",
            "          0.024024,    0.025025,    0.026026,    0.027027,    0.028028,    0.029029,     0.03003,    0.031031,    0.032032,    0.033033,    0.034034,    0.035035,    0.036036,    0.037037,    0.038038,    0.039039,     0.04004,    0.041041,    0.042042,    0.043043,    0.044044,    0.045045,    0.046046,    0.047047,\n",
            "          0.048048,    0.049049,     0.05005,    0.051051,    0.052052,    0.053053,    0.054054,    0.055055,    0.056056,    0.057057,    0.058058,    0.059059,     0.06006,    0.061061,    0.062062,    0.063063,    0.064064,    0.065065,    0.066066,    0.067067,    0.068068,    0.069069,     0.07007,    0.071071,\n",
            "          0.072072,    0.073073,    0.074074,    0.075075,    0.076076,    0.077077,    0.078078,    0.079079,     0.08008,    0.081081,    0.082082,    0.083083,    0.084084,    0.085085,    0.086086,    0.087087,    0.088088,    0.089089,     0.09009,    0.091091,    0.092092,    0.093093,    0.094094,    0.095095,\n",
            "          0.096096,    0.097097,    0.098098,    0.099099,      0.1001,      0.1011,      0.1021,      0.1031,      0.1041,     0.10511,     0.10611,     0.10711,     0.10811,     0.10911,     0.11011,     0.11111,     0.11211,     0.11311,     0.11411,     0.11512,     0.11612,     0.11712,     0.11812,     0.11912,\n",
            "           0.12012,     0.12112,     0.12212,     0.12312,     0.12412,     0.12513,     0.12613,     0.12713,     0.12813,     0.12913,     0.13013,     0.13113,     0.13213,     0.13313,     0.13413,     0.13514,     0.13614,     0.13714,     0.13814,     0.13914,     0.14014,     0.14114,     0.14214,     0.14314,\n",
            "           0.14414,     0.14515,     0.14615,     0.14715,     0.14815,     0.14915,     0.15015,     0.15115,     0.15215,     0.15315,     0.15415,     0.15516,     0.15616,     0.15716,     0.15816,     0.15916,     0.16016,     0.16116,     0.16216,     0.16316,     0.16416,     0.16517,     0.16617,     0.16717,\n",
            "           0.16817,     0.16917,     0.17017,     0.17117,     0.17217,     0.17317,     0.17417,     0.17518,     0.17618,     0.17718,     0.17818,     0.17918,     0.18018,     0.18118,     0.18218,     0.18318,     0.18418,     0.18519,     0.18619,     0.18719,     0.18819,     0.18919,     0.19019,     0.19119,\n",
            "           0.19219,     0.19319,     0.19419,      0.1952,      0.1962,      0.1972,      0.1982,      0.1992,      0.2002,      0.2012,      0.2022,      0.2032,      0.2042,     0.20521,     0.20621,     0.20721,     0.20821,     0.20921,     0.21021,     0.21121,     0.21221,     0.21321,     0.21421,     0.21522,\n",
            "           0.21622,     0.21722,     0.21822,     0.21922,     0.22022,     0.22122,     0.22222,     0.22322,     0.22422,     0.22523,     0.22623,     0.22723,     0.22823,     0.22923,     0.23023,     0.23123,     0.23223,     0.23323,     0.23423,     0.23524,     0.23624,     0.23724,     0.23824,     0.23924,\n",
            "           0.24024,     0.24124,     0.24224,     0.24324,     0.24424,     0.24525,     0.24625,     0.24725,     0.24825,     0.24925,     0.25025,     0.25125,     0.25225,     0.25325,     0.25425,     0.25526,     0.25626,     0.25726,     0.25826,     0.25926,     0.26026,     0.26126,     0.26226,     0.26326,\n",
            "           0.26426,     0.26527,     0.26627,     0.26727,     0.26827,     0.26927,     0.27027,     0.27127,     0.27227,     0.27327,     0.27427,     0.27528,     0.27628,     0.27728,     0.27828,     0.27928,     0.28028,     0.28128,     0.28228,     0.28328,     0.28428,     0.28529,     0.28629,     0.28729,\n",
            "           0.28829,     0.28929,     0.29029,     0.29129,     0.29229,     0.29329,     0.29429,      0.2953,      0.2963,      0.2973,      0.2983,      0.2993,      0.3003,      0.3013,      0.3023,      0.3033,      0.3043,     0.30531,     0.30631,     0.30731,     0.30831,     0.30931,     0.31031,     0.31131,\n",
            "           0.31231,     0.31331,     0.31431,     0.31532,     0.31632,     0.31732,     0.31832,     0.31932,     0.32032,     0.32132,     0.32232,     0.32332,     0.32432,     0.32533,     0.32633,     0.32733,     0.32833,     0.32933,     0.33033,     0.33133,     0.33233,     0.33333,     0.33433,     0.33534,\n",
            "           0.33634,     0.33734,     0.33834,     0.33934,     0.34034,     0.34134,     0.34234,     0.34334,     0.34434,     0.34535,     0.34635,     0.34735,     0.34835,     0.34935,     0.35035,     0.35135,     0.35235,     0.35335,     0.35435,     0.35536,     0.35636,     0.35736,     0.35836,     0.35936,\n",
            "           0.36036,     0.36136,     0.36236,     0.36336,     0.36436,     0.36537,     0.36637,     0.36737,     0.36837,     0.36937,     0.37037,     0.37137,     0.37237,     0.37337,     0.37437,     0.37538,     0.37638,     0.37738,     0.37838,     0.37938,     0.38038,     0.38138,     0.38238,     0.38338,\n",
            "           0.38438,     0.38539,     0.38639,     0.38739,     0.38839,     0.38939,     0.39039,     0.39139,     0.39239,     0.39339,     0.39439,      0.3954,      0.3964,      0.3974,      0.3984,      0.3994,      0.4004,      0.4014,      0.4024,      0.4034,      0.4044,     0.40541,     0.40641,     0.40741,\n",
            "           0.40841,     0.40941,     0.41041,     0.41141,     0.41241,     0.41341,     0.41441,     0.41542,     0.41642,     0.41742,     0.41842,     0.41942,     0.42042,     0.42142,     0.42242,     0.42342,     0.42442,     0.42543,     0.42643,     0.42743,     0.42843,     0.42943,     0.43043,     0.43143,\n",
            "           0.43243,     0.43343,     0.43443,     0.43544,     0.43644,     0.43744,     0.43844,     0.43944,     0.44044,     0.44144,     0.44244,     0.44344,     0.44444,     0.44545,     0.44645,     0.44745,     0.44845,     0.44945,     0.45045,     0.45145,     0.45245,     0.45345,     0.45445,     0.45546,\n",
            "           0.45646,     0.45746,     0.45846,     0.45946,     0.46046,     0.46146,     0.46246,     0.46346,     0.46446,     0.46547,     0.46647,     0.46747,     0.46847,     0.46947,     0.47047,     0.47147,     0.47247,     0.47347,     0.47447,     0.47548,     0.47648,     0.47748,     0.47848,     0.47948,\n",
            "           0.48048,     0.48148,     0.48248,     0.48348,     0.48448,     0.48549,     0.48649,     0.48749,     0.48849,     0.48949,     0.49049,     0.49149,     0.49249,     0.49349,     0.49449,      0.4955,      0.4965,      0.4975,      0.4985,      0.4995,      0.5005,      0.5015,      0.5025,      0.5035,\n",
            "            0.5045,     0.50551,     0.50651,     0.50751,     0.50851,     0.50951,     0.51051,     0.51151,     0.51251,     0.51351,     0.51451,     0.51552,     0.51652,     0.51752,     0.51852,     0.51952,     0.52052,     0.52152,     0.52252,     0.52352,     0.52452,     0.52553,     0.52653,     0.52753,\n",
            "           0.52853,     0.52953,     0.53053,     0.53153,     0.53253,     0.53353,     0.53453,     0.53554,     0.53654,     0.53754,     0.53854,     0.53954,     0.54054,     0.54154,     0.54254,     0.54354,     0.54454,     0.54555,     0.54655,     0.54755,     0.54855,     0.54955,     0.55055,     0.55155,\n",
            "           0.55255,     0.55355,     0.55455,     0.55556,     0.55656,     0.55756,     0.55856,     0.55956,     0.56056,     0.56156,     0.56256,     0.56356,     0.56456,     0.56557,     0.56657,     0.56757,     0.56857,     0.56957,     0.57057,     0.57157,     0.57257,     0.57357,     0.57457,     0.57558,\n",
            "           0.57658,     0.57758,     0.57858,     0.57958,     0.58058,     0.58158,     0.58258,     0.58358,     0.58458,     0.58559,     0.58659,     0.58759,     0.58859,     0.58959,     0.59059,     0.59159,     0.59259,     0.59359,     0.59459,      0.5956,      0.5966,      0.5976,      0.5986,      0.5996,\n",
            "            0.6006,      0.6016,      0.6026,      0.6036,      0.6046,     0.60561,     0.60661,     0.60761,     0.60861,     0.60961,     0.61061,     0.61161,     0.61261,     0.61361,     0.61461,     0.61562,     0.61662,     0.61762,     0.61862,     0.61962,     0.62062,     0.62162,     0.62262,     0.62362,\n",
            "           0.62462,     0.62563,     0.62663,     0.62763,     0.62863,     0.62963,     0.63063,     0.63163,     0.63263,     0.63363,     0.63463,     0.63564,     0.63664,     0.63764,     0.63864,     0.63964,     0.64064,     0.64164,     0.64264,     0.64364,     0.64464,     0.64565,     0.64665,     0.64765,\n",
            "           0.64865,     0.64965,     0.65065,     0.65165,     0.65265,     0.65365,     0.65465,     0.65566,     0.65666,     0.65766,     0.65866,     0.65966,     0.66066,     0.66166,     0.66266,     0.66366,     0.66466,     0.66567,     0.66667,     0.66767,     0.66867,     0.66967,     0.67067,     0.67167,\n",
            "           0.67267,     0.67367,     0.67467,     0.67568,     0.67668,     0.67768,     0.67868,     0.67968,     0.68068,     0.68168,     0.68268,     0.68368,     0.68468,     0.68569,     0.68669,     0.68769,     0.68869,     0.68969,     0.69069,     0.69169,     0.69269,     0.69369,     0.69469,      0.6957,\n",
            "            0.6967,      0.6977,      0.6987,      0.6997,      0.7007,      0.7017,      0.7027,      0.7037,      0.7047,     0.70571,     0.70671,     0.70771,     0.70871,     0.70971,     0.71071,     0.71171,     0.71271,     0.71371,     0.71471,     0.71572,     0.71672,     0.71772,     0.71872,     0.71972,\n",
            "           0.72072,     0.72172,     0.72272,     0.72372,     0.72472,     0.72573,     0.72673,     0.72773,     0.72873,     0.72973,     0.73073,     0.73173,     0.73273,     0.73373,     0.73473,     0.73574,     0.73674,     0.73774,     0.73874,     0.73974,     0.74074,     0.74174,     0.74274,     0.74374,\n",
            "           0.74474,     0.74575,     0.74675,     0.74775,     0.74875,     0.74975,     0.75075,     0.75175,     0.75275,     0.75375,     0.75475,     0.75576,     0.75676,     0.75776,     0.75876,     0.75976,     0.76076,     0.76176,     0.76276,     0.76376,     0.76476,     0.76577,     0.76677,     0.76777,\n",
            "           0.76877,     0.76977,     0.77077,     0.77177,     0.77277,     0.77377,     0.77477,     0.77578,     0.77678,     0.77778,     0.77878,     0.77978,     0.78078,     0.78178,     0.78278,     0.78378,     0.78478,     0.78579,     0.78679,     0.78779,     0.78879,     0.78979,     0.79079,     0.79179,\n",
            "           0.79279,     0.79379,     0.79479,      0.7958,      0.7968,      0.7978,      0.7988,      0.7998,      0.8008,      0.8018,      0.8028,      0.8038,      0.8048,     0.80581,     0.80681,     0.80781,     0.80881,     0.80981,     0.81081,     0.81181,     0.81281,     0.81381,     0.81481,     0.81582,\n",
            "           0.81682,     0.81782,     0.81882,     0.81982,     0.82082,     0.82182,     0.82282,     0.82382,     0.82482,     0.82583,     0.82683,     0.82783,     0.82883,     0.82983,     0.83083,     0.83183,     0.83283,     0.83383,     0.83483,     0.83584,     0.83684,     0.83784,     0.83884,     0.83984,\n",
            "           0.84084,     0.84184,     0.84284,     0.84384,     0.84484,     0.84585,     0.84685,     0.84785,     0.84885,     0.84985,     0.85085,     0.85185,     0.85285,     0.85385,     0.85485,     0.85586,     0.85686,     0.85786,     0.85886,     0.85986,     0.86086,     0.86186,     0.86286,     0.86386,\n",
            "           0.86486,     0.86587,     0.86687,     0.86787,     0.86887,     0.86987,     0.87087,     0.87187,     0.87287,     0.87387,     0.87487,     0.87588,     0.87688,     0.87788,     0.87888,     0.87988,     0.88088,     0.88188,     0.88288,     0.88388,     0.88488,     0.88589,     0.88689,     0.88789,\n",
            "           0.88889,     0.88989,     0.89089,     0.89189,     0.89289,     0.89389,     0.89489,      0.8959,      0.8969,      0.8979,      0.8989,      0.8999,      0.9009,      0.9019,      0.9029,      0.9039,      0.9049,     0.90591,     0.90691,     0.90791,     0.90891,     0.90991,     0.91091,     0.91191,\n",
            "           0.91291,     0.91391,     0.91491,     0.91592,     0.91692,     0.91792,     0.91892,     0.91992,     0.92092,     0.92192,     0.92292,     0.92392,     0.92492,     0.92593,     0.92693,     0.92793,     0.92893,     0.92993,     0.93093,     0.93193,     0.93293,     0.93393,     0.93493,     0.93594,\n",
            "           0.93694,     0.93794,     0.93894,     0.93994,     0.94094,     0.94194,     0.94294,     0.94394,     0.94494,     0.94595,     0.94695,     0.94795,     0.94895,     0.94995,     0.95095,     0.95195,     0.95295,     0.95395,     0.95495,     0.95596,     0.95696,     0.95796,     0.95896,     0.95996,\n",
            "           0.96096,     0.96196,     0.96296,     0.96396,     0.96496,     0.96597,     0.96697,     0.96797,     0.96897,     0.96997,     0.97097,     0.97197,     0.97297,     0.97397,     0.97497,     0.97598,     0.97698,     0.97798,     0.97898,     0.97998,     0.98098,     0.98198,     0.98298,     0.98398,\n",
            "           0.98498,     0.98599,     0.98699,     0.98799,     0.98899,     0.98999,     0.99099,     0.99199,     0.99299,     0.99399,     0.99499,       0.996,       0.997,       0.998,       0.999,           1]), array([[          1,           1,           1,           1,           1,           1,           1,           1,           1,           1,           1,           1,           1,           1,           1,           1,           1,           1,           1,           1,           1,           1,           1,\n",
            "                  1,           1,           1,           1,           1,           1,           1,           1,           1,           1,           1,           1,           1,           1,           1,           1,           1,           1,           1,           1,           1,           1,           1,\n",
            "                  1,           1,           1,           1,           1,           1,           1,           1,           1,           1,           1,           1,           1,           1,           1,           1,           1,           1,           1,           1,           1,           1,           1,\n",
            "                  1,           1,           1,           1,           1,           1,           1,           1,           1,           1,           1,           1,           1,           1,           1,           1,           1,           1,           1,           1,           1,           1,           1,\n",
            "                  1,           1,           1,           1,           1,           1,           1,           1,           1,           1,           1,           1,           1,           1,           1,           1,           1,           1,           1,           1,           1,           1,           1,\n",
            "                  1,           1,           1,           1,           1,           1,           1,           1,           1,           1,           1,           1,           1,           1,           1,           1,           1,           1,           1,           1,           1,           1,           1,\n",
            "                  1,           1,           1,           1,           1,           1,           1,           1,           1,           1,           1,           1,           1,           1,           1,           1,           1,           1,           1,           1,           1,           1,           1,\n",
            "                  1,           1,           1,           1,           1,           1,           1,           1,           1,           1,           1,           1,           1,           1,           1,           1,           1,           1,           1,           1,           1,           1,           1,\n",
            "                  1,           1,           1,           1,           1,           1,           1,           1,           1,           1,           1,           1,           1,           1,           1,           1,           1,           1,           1,           1,           1,           1,           1,\n",
            "                  1,           1,           1,           1,           1,           1,           1,           1,           1,           1,           1,           1,           1,           1,           1,           1,           1,           1,           1,           1,           1,           1,           1,\n",
            "                  1,           1,           1,           1,           1,           1,           1,           1,           1,           1,           1,           1,           1,           1,           1,           1,           1,           1,           1,           1,           1,           1,           1,\n",
            "                  1,           1,           1,           1,           1,           1,           1,           1,           1,           1,           1,           1,           1,           1,           1,           1,           1,           1,           1,           1,           1,           1,           1,\n",
            "                  1,           1,           1,           1,           1,           1,           1,           1,           1,           1,           1,           1,           1,           1,           1,           1,           1,           1,           1,           1,           1,           1,           1,\n",
            "                  1,           1,           1,           1,           1,           1,           1,           1,           1,           1,           1,           1,           1,           1,           1,           1,           1,           1,           1,           1,           1,           1,           1,\n",
            "                  1,           1,           1,           1,           1,           1,           1,           1,           1,           1,           1,           1,           1,           1,           1,           1,           1,           1,      0.9901,      0.9901,      0.9901,      0.9901,      0.9901,\n",
            "             0.9901,      0.9901,     0.98571,     0.98571,     0.98571,     0.98571,     0.98571,     0.98571,     0.98571,     0.98571,     0.98571,     0.98571,     0.98571,     0.98571,     0.98571,     0.98571,     0.98571,     0.98571,     0.98571,     0.98571,     0.98571,     0.98571,     0.98571,\n",
            "            0.98571,     0.98571,     0.98571,     0.98571,     0.98571,     0.98571,     0.98571,     0.98571,     0.98571,     0.98571,     0.98571,     0.98571,     0.98571,     0.98571,     0.98571,     0.98571,     0.98571,     0.98571,     0.98571,     0.98571,     0.98571,     0.98571,     0.98571,\n",
            "            0.98571,     0.98571,     0.98571,     0.98571,     0.98571,     0.98571,     0.98571,     0.98571,     0.98571,     0.98571,     0.98571,     0.98571,     0.98571,     0.98571,     0.98571,     0.98571,     0.98571,     0.98571,     0.98571,     0.98571,     0.98571,     0.98571,     0.98571,\n",
            "            0.98571,     0.98571,     0.98571,     0.98571,     0.98571,     0.98571,     0.98571,     0.98571,     0.98571,     0.98571,     0.98571,     0.98571,     0.98571,     0.98571,     0.98571,     0.98571,     0.98571,     0.98571,     0.98571,     0.98571,     0.98571,     0.98571,     0.98571,\n",
            "            0.98571,     0.98571,     0.98571,     0.98571,     0.98571,     0.98571,     0.98571,     0.98571,     0.98571,     0.98571,     0.98571,     0.98571,     0.98571,     0.98571,     0.98571,     0.98571,     0.98571,     0.98571,     0.98571,     0.98571,     0.98571,     0.98571,     0.98571,\n",
            "            0.98571,     0.98571,     0.98571,     0.98571,     0.98571,     0.98571,     0.98571,     0.98571,     0.98571,     0.98571,     0.98571,     0.98571,     0.98571,     0.98571,     0.98571,     0.98571,     0.98571,     0.98571,     0.98571,     0.97917,     0.97917,     0.97917,     0.97917,\n",
            "            0.97917,     0.97917,     0.97917,     0.97917,     0.97917,     0.97917,     0.97917,     0.97279,     0.97279,     0.97279,     0.97279,     0.97279,     0.97279,     0.97279,     0.96795,     0.96795,     0.96795,     0.96795,     0.96795,     0.96795,     0.96795,     0.96795,     0.96795,\n",
            "            0.96795,     0.96795,     0.96795,     0.96795,     0.96795,     0.96795,     0.96795,     0.96795,     0.96795,     0.96795,     0.96795,     0.96795,     0.96795,     0.96795,     0.96795,     0.96795,     0.96795,     0.96795,     0.96552,     0.96552,     0.96552,     0.96552,     0.96552,\n",
            "            0.96552,     0.96552,     0.96552,     0.96552,     0.96552,     0.96552,     0.96552,     0.96552,     0.96552,     0.96552,     0.96552,     0.96552,     0.96552,     0.96552,     0.96552,     0.96552,     0.96552,     0.96552,     0.96552,     0.96552,     0.96552,     0.96552,     0.96552,\n",
            "            0.96552,     0.96552,     0.96552,     0.96552,     0.96552,     0.96552,     0.96552,     0.96552,     0.96552,     0.96552,     0.96552,     0.96552,     0.96552,     0.96552,     0.96552,     0.96552,     0.96552,     0.96552,     0.96552,     0.96552,     0.96552,     0.96552,     0.96552,\n",
            "            0.96552,     0.96552,     0.96552,     0.96552,     0.96552,     0.96552,     0.96552,     0.96552,     0.96111,     0.96111,     0.96111,     0.96111,     0.96111,     0.96111,     0.96111,     0.96111,     0.96111,     0.96111,     0.96111,     0.96111,     0.96111,     0.96111,     0.96111,\n",
            "            0.96111,     0.96111,     0.96111,     0.94118,     0.94118,     0.94118,     0.94118,     0.94118,     0.94118,     0.94118,     0.94118,     0.94118,     0.94118,     0.93717,     0.93717,     0.93717,     0.93717,     0.93717,     0.93717,     0.93717,     0.93717,     0.93717,     0.93717,\n",
            "            0.93467,     0.93467,     0.93467,     0.93467,     0.93467,     0.93467,     0.93467,     0.93467,     0.93467,     0.93467,     0.93467,     0.93467,     0.93467,     0.93467,     0.93467,     0.93467,     0.93467,     0.93467,     0.93467,     0.93467,     0.93467,     0.93467,     0.93467,\n",
            "            0.93467,     0.93467,     0.93035,     0.93035,     0.93035,     0.92647,     0.92647,     0.92647,     0.92647,     0.92647,     0.92647,     0.92647,     0.92453,     0.92453,     0.92453,     0.92453,     0.92453,     0.92453,     0.92453,     0.92453,     0.92453,     0.92453,     0.92453,\n",
            "            0.92453,     0.92453,     0.92453,     0.92453,     0.92453,     0.92453,     0.92453,     0.92453,     0.92453,     0.92453,     0.92453,     0.92453,     0.92453,      0.9213,      0.9213,      0.9213,      0.9213,      0.9213,      0.9213,      0.9213,      0.9213,      0.9213,      0.9213,\n",
            "             0.9213,     0.91818,     0.91818,     0.91818,     0.91818,     0.91818,     0.91818,     0.91818,     0.91818,     0.91818,     0.91818,     0.91518,     0.91518,     0.91518,     0.91518,     0.91518,     0.91518,     0.91518,     0.91518,     0.91518,     0.91518,     0.91518,     0.90351,\n",
            "            0.90351,     0.90351,      0.8961,      0.8961,      0.8961,      0.8961,     0.88608,     0.88608,     0.88608,     0.88608,     0.88608,     0.88608,     0.88608,     0.88608,     0.88608,     0.88608,     0.88285,     0.88285,     0.88285,     0.85484,     0.85484,     0.85484,     0.85484,\n",
            "            0.85375,     0.85375,     0.85375,     0.85375,     0.85375,     0.85375,     0.85375,     0.85375,     0.85375,     0.85375,     0.85375,     0.85375,     0.85375,     0.85375,     0.84436,     0.84436,     0.84436,     0.83846,     0.83846,     0.83846,     0.83846,     0.83588,     0.83588,\n",
            "            0.83588,     0.80292,     0.80292,     0.80292,     0.80292,     0.79783,     0.79783,     0.79783,      0.7957,      0.7957,      0.7957,      0.7957,     0.78521,     0.78521,     0.78521,     0.78201,     0.78201,     0.78201,     0.78201,     0.78201,     0.78201,     0.78201,     0.78201,\n",
            "            0.78201,     0.78201,     0.78007,     0.78007,     0.78007,     0.78007,     0.75748,     0.75748,     0.75748,     0.74351,     0.74351,     0.74351,     0.74351,     0.73482,     0.73482,     0.73482,     0.73186,     0.73186,     0.73186,     0.73186,     0.73186,     0.73186,     0.73186,\n",
            "            0.71692,     0.71692,     0.71692,     0.71692,     0.69231,     0.69231,     0.69231,     0.68713,     0.68713,     0.68713,     0.68713,     0.68605,     0.68605,     0.68605,     0.67139,     0.67139,     0.67139,     0.67139,     0.66854,     0.66854,     0.66854,     0.63757,     0.63757,\n",
            "            0.63757,     0.63757,     0.63757,     0.63757,     0.63757,     0.63757,     0.63757,     0.63757,     0.58173,     0.58173,     0.58173,     0.58173,     0.56909,     0.56909,     0.56909,     0.54955,     0.54955,     0.54955,     0.54955,     0.53611,     0.53611,     0.53611,     0.45981,\n",
            "            0.45981,     0.45981,     0.45981,     0.42222,     0.42222,     0.42222,     0.41821,     0.41821,     0.41821,     0.41821,     0.41362,     0.41362,     0.41362,     0.38402,     0.38402,     0.38402,     0.38402,     0.34478,     0.34478,     0.34478,     0.33871,     0.33871,     0.33871,\n",
            "            0.33871,     0.32107,     0.32107,     0.32107,     0.31089,     0.31089,     0.31089,     0.31089,     0.26786,     0.26786,     0.26786,     0.24128,     0.24128,     0.24128,     0.23796,     0.23796,     0.23796,     0.23796,     0.23455,     0.23455,     0.23455,     0.21849,     0.21849,\n",
            "            0.21849,     0.21849,     0.21849,     0.21849,     0.21849,     0.21714,     0.21714,     0.21714,     0.21714,     0.19082,     0.19082,     0.19082,     0.17383,     0.17383,     0.17383,     0.17383,     0.16296,     0.16296,     0.16296,     0.15616,     0.15616,     0.15616,     0.15616,\n",
            "            0.15574,     0.15574,     0.15574,     0.14432,     0.14432,     0.14432,     0.14432,      0.1344,      0.1344,      0.1344,     0.12334,     0.12334,     0.12334,     0.12334,     0.10993,     0.10993,     0.10993,     0.10226,     0.10226,     0.10226,     0.10226,      0.1018,      0.1018,\n",
            "             0.1018,    0.099309,    0.099309,    0.099309,    0.098278,    0.098278,    0.098278,    0.098278,    0.068221,    0.068221,    0.068221,    0.061062,    0.061062,    0.061062,    0.061062,    0.059378,    0.059378,    0.059378,    0.058298,    0.056764,     0.05523,    0.053695,    0.052161,\n",
            "           0.050627,    0.049093,    0.047559,    0.046025,    0.044491,    0.042956,    0.041422,    0.039888,    0.038354,     0.03682,    0.035286,    0.033751,    0.032217,    0.030683,    0.029149,    0.027615,    0.026081,    0.024546,    0.023012,    0.021478,    0.019944,     0.01841,    0.016876,\n",
            "           0.015342,    0.013807,    0.012273,    0.010739,   0.0092049,   0.0076708,   0.0061366,   0.0046025,   0.0030683,   0.0015342,           0]]), 'Recall', 'Precision'], [array([          0,    0.001001,    0.002002,    0.003003,    0.004004,    0.005005,    0.006006,    0.007007,    0.008008,    0.009009,     0.01001,    0.011011,    0.012012,    0.013013,    0.014014,    0.015015,    0.016016,    0.017017,    0.018018,    0.019019,     0.02002,    0.021021,    0.022022,    0.023023,\n",
            "          0.024024,    0.025025,    0.026026,    0.027027,    0.028028,    0.029029,     0.03003,    0.031031,    0.032032,    0.033033,    0.034034,    0.035035,    0.036036,    0.037037,    0.038038,    0.039039,     0.04004,    0.041041,    0.042042,    0.043043,    0.044044,    0.045045,    0.046046,    0.047047,\n",
            "          0.048048,    0.049049,     0.05005,    0.051051,    0.052052,    0.053053,    0.054054,    0.055055,    0.056056,    0.057057,    0.058058,    0.059059,     0.06006,    0.061061,    0.062062,    0.063063,    0.064064,    0.065065,    0.066066,    0.067067,    0.068068,    0.069069,     0.07007,    0.071071,\n",
            "          0.072072,    0.073073,    0.074074,    0.075075,    0.076076,    0.077077,    0.078078,    0.079079,     0.08008,    0.081081,    0.082082,    0.083083,    0.084084,    0.085085,    0.086086,    0.087087,    0.088088,    0.089089,     0.09009,    0.091091,    0.092092,    0.093093,    0.094094,    0.095095,\n",
            "          0.096096,    0.097097,    0.098098,    0.099099,      0.1001,      0.1011,      0.1021,      0.1031,      0.1041,     0.10511,     0.10611,     0.10711,     0.10811,     0.10911,     0.11011,     0.11111,     0.11211,     0.11311,     0.11411,     0.11512,     0.11612,     0.11712,     0.11812,     0.11912,\n",
            "           0.12012,     0.12112,     0.12212,     0.12312,     0.12412,     0.12513,     0.12613,     0.12713,     0.12813,     0.12913,     0.13013,     0.13113,     0.13213,     0.13313,     0.13413,     0.13514,     0.13614,     0.13714,     0.13814,     0.13914,     0.14014,     0.14114,     0.14214,     0.14314,\n",
            "           0.14414,     0.14515,     0.14615,     0.14715,     0.14815,     0.14915,     0.15015,     0.15115,     0.15215,     0.15315,     0.15415,     0.15516,     0.15616,     0.15716,     0.15816,     0.15916,     0.16016,     0.16116,     0.16216,     0.16316,     0.16416,     0.16517,     0.16617,     0.16717,\n",
            "           0.16817,     0.16917,     0.17017,     0.17117,     0.17217,     0.17317,     0.17417,     0.17518,     0.17618,     0.17718,     0.17818,     0.17918,     0.18018,     0.18118,     0.18218,     0.18318,     0.18418,     0.18519,     0.18619,     0.18719,     0.18819,     0.18919,     0.19019,     0.19119,\n",
            "           0.19219,     0.19319,     0.19419,      0.1952,      0.1962,      0.1972,      0.1982,      0.1992,      0.2002,      0.2012,      0.2022,      0.2032,      0.2042,     0.20521,     0.20621,     0.20721,     0.20821,     0.20921,     0.21021,     0.21121,     0.21221,     0.21321,     0.21421,     0.21522,\n",
            "           0.21622,     0.21722,     0.21822,     0.21922,     0.22022,     0.22122,     0.22222,     0.22322,     0.22422,     0.22523,     0.22623,     0.22723,     0.22823,     0.22923,     0.23023,     0.23123,     0.23223,     0.23323,     0.23423,     0.23524,     0.23624,     0.23724,     0.23824,     0.23924,\n",
            "           0.24024,     0.24124,     0.24224,     0.24324,     0.24424,     0.24525,     0.24625,     0.24725,     0.24825,     0.24925,     0.25025,     0.25125,     0.25225,     0.25325,     0.25425,     0.25526,     0.25626,     0.25726,     0.25826,     0.25926,     0.26026,     0.26126,     0.26226,     0.26326,\n",
            "           0.26426,     0.26527,     0.26627,     0.26727,     0.26827,     0.26927,     0.27027,     0.27127,     0.27227,     0.27327,     0.27427,     0.27528,     0.27628,     0.27728,     0.27828,     0.27928,     0.28028,     0.28128,     0.28228,     0.28328,     0.28428,     0.28529,     0.28629,     0.28729,\n",
            "           0.28829,     0.28929,     0.29029,     0.29129,     0.29229,     0.29329,     0.29429,      0.2953,      0.2963,      0.2973,      0.2983,      0.2993,      0.3003,      0.3013,      0.3023,      0.3033,      0.3043,     0.30531,     0.30631,     0.30731,     0.30831,     0.30931,     0.31031,     0.31131,\n",
            "           0.31231,     0.31331,     0.31431,     0.31532,     0.31632,     0.31732,     0.31832,     0.31932,     0.32032,     0.32132,     0.32232,     0.32332,     0.32432,     0.32533,     0.32633,     0.32733,     0.32833,     0.32933,     0.33033,     0.33133,     0.33233,     0.33333,     0.33433,     0.33534,\n",
            "           0.33634,     0.33734,     0.33834,     0.33934,     0.34034,     0.34134,     0.34234,     0.34334,     0.34434,     0.34535,     0.34635,     0.34735,     0.34835,     0.34935,     0.35035,     0.35135,     0.35235,     0.35335,     0.35435,     0.35536,     0.35636,     0.35736,     0.35836,     0.35936,\n",
            "           0.36036,     0.36136,     0.36236,     0.36336,     0.36436,     0.36537,     0.36637,     0.36737,     0.36837,     0.36937,     0.37037,     0.37137,     0.37237,     0.37337,     0.37437,     0.37538,     0.37638,     0.37738,     0.37838,     0.37938,     0.38038,     0.38138,     0.38238,     0.38338,\n",
            "           0.38438,     0.38539,     0.38639,     0.38739,     0.38839,     0.38939,     0.39039,     0.39139,     0.39239,     0.39339,     0.39439,      0.3954,      0.3964,      0.3974,      0.3984,      0.3994,      0.4004,      0.4014,      0.4024,      0.4034,      0.4044,     0.40541,     0.40641,     0.40741,\n",
            "           0.40841,     0.40941,     0.41041,     0.41141,     0.41241,     0.41341,     0.41441,     0.41542,     0.41642,     0.41742,     0.41842,     0.41942,     0.42042,     0.42142,     0.42242,     0.42342,     0.42442,     0.42543,     0.42643,     0.42743,     0.42843,     0.42943,     0.43043,     0.43143,\n",
            "           0.43243,     0.43343,     0.43443,     0.43544,     0.43644,     0.43744,     0.43844,     0.43944,     0.44044,     0.44144,     0.44244,     0.44344,     0.44444,     0.44545,     0.44645,     0.44745,     0.44845,     0.44945,     0.45045,     0.45145,     0.45245,     0.45345,     0.45445,     0.45546,\n",
            "           0.45646,     0.45746,     0.45846,     0.45946,     0.46046,     0.46146,     0.46246,     0.46346,     0.46446,     0.46547,     0.46647,     0.46747,     0.46847,     0.46947,     0.47047,     0.47147,     0.47247,     0.47347,     0.47447,     0.47548,     0.47648,     0.47748,     0.47848,     0.47948,\n",
            "           0.48048,     0.48148,     0.48248,     0.48348,     0.48448,     0.48549,     0.48649,     0.48749,     0.48849,     0.48949,     0.49049,     0.49149,     0.49249,     0.49349,     0.49449,      0.4955,      0.4965,      0.4975,      0.4985,      0.4995,      0.5005,      0.5015,      0.5025,      0.5035,\n",
            "            0.5045,     0.50551,     0.50651,     0.50751,     0.50851,     0.50951,     0.51051,     0.51151,     0.51251,     0.51351,     0.51451,     0.51552,     0.51652,     0.51752,     0.51852,     0.51952,     0.52052,     0.52152,     0.52252,     0.52352,     0.52452,     0.52553,     0.52653,     0.52753,\n",
            "           0.52853,     0.52953,     0.53053,     0.53153,     0.53253,     0.53353,     0.53453,     0.53554,     0.53654,     0.53754,     0.53854,     0.53954,     0.54054,     0.54154,     0.54254,     0.54354,     0.54454,     0.54555,     0.54655,     0.54755,     0.54855,     0.54955,     0.55055,     0.55155,\n",
            "           0.55255,     0.55355,     0.55455,     0.55556,     0.55656,     0.55756,     0.55856,     0.55956,     0.56056,     0.56156,     0.56256,     0.56356,     0.56456,     0.56557,     0.56657,     0.56757,     0.56857,     0.56957,     0.57057,     0.57157,     0.57257,     0.57357,     0.57457,     0.57558,\n",
            "           0.57658,     0.57758,     0.57858,     0.57958,     0.58058,     0.58158,     0.58258,     0.58358,     0.58458,     0.58559,     0.58659,     0.58759,     0.58859,     0.58959,     0.59059,     0.59159,     0.59259,     0.59359,     0.59459,      0.5956,      0.5966,      0.5976,      0.5986,      0.5996,\n",
            "            0.6006,      0.6016,      0.6026,      0.6036,      0.6046,     0.60561,     0.60661,     0.60761,     0.60861,     0.60961,     0.61061,     0.61161,     0.61261,     0.61361,     0.61461,     0.61562,     0.61662,     0.61762,     0.61862,     0.61962,     0.62062,     0.62162,     0.62262,     0.62362,\n",
            "           0.62462,     0.62563,     0.62663,     0.62763,     0.62863,     0.62963,     0.63063,     0.63163,     0.63263,     0.63363,     0.63463,     0.63564,     0.63664,     0.63764,     0.63864,     0.63964,     0.64064,     0.64164,     0.64264,     0.64364,     0.64464,     0.64565,     0.64665,     0.64765,\n",
            "           0.64865,     0.64965,     0.65065,     0.65165,     0.65265,     0.65365,     0.65465,     0.65566,     0.65666,     0.65766,     0.65866,     0.65966,     0.66066,     0.66166,     0.66266,     0.66366,     0.66466,     0.66567,     0.66667,     0.66767,     0.66867,     0.66967,     0.67067,     0.67167,\n",
            "           0.67267,     0.67367,     0.67467,     0.67568,     0.67668,     0.67768,     0.67868,     0.67968,     0.68068,     0.68168,     0.68268,     0.68368,     0.68468,     0.68569,     0.68669,     0.68769,     0.68869,     0.68969,     0.69069,     0.69169,     0.69269,     0.69369,     0.69469,      0.6957,\n",
            "            0.6967,      0.6977,      0.6987,      0.6997,      0.7007,      0.7017,      0.7027,      0.7037,      0.7047,     0.70571,     0.70671,     0.70771,     0.70871,     0.70971,     0.71071,     0.71171,     0.71271,     0.71371,     0.71471,     0.71572,     0.71672,     0.71772,     0.71872,     0.71972,\n",
            "           0.72072,     0.72172,     0.72272,     0.72372,     0.72472,     0.72573,     0.72673,     0.72773,     0.72873,     0.72973,     0.73073,     0.73173,     0.73273,     0.73373,     0.73473,     0.73574,     0.73674,     0.73774,     0.73874,     0.73974,     0.74074,     0.74174,     0.74274,     0.74374,\n",
            "           0.74474,     0.74575,     0.74675,     0.74775,     0.74875,     0.74975,     0.75075,     0.75175,     0.75275,     0.75375,     0.75475,     0.75576,     0.75676,     0.75776,     0.75876,     0.75976,     0.76076,     0.76176,     0.76276,     0.76376,     0.76476,     0.76577,     0.76677,     0.76777,\n",
            "           0.76877,     0.76977,     0.77077,     0.77177,     0.77277,     0.77377,     0.77477,     0.77578,     0.77678,     0.77778,     0.77878,     0.77978,     0.78078,     0.78178,     0.78278,     0.78378,     0.78478,     0.78579,     0.78679,     0.78779,     0.78879,     0.78979,     0.79079,     0.79179,\n",
            "           0.79279,     0.79379,     0.79479,      0.7958,      0.7968,      0.7978,      0.7988,      0.7998,      0.8008,      0.8018,      0.8028,      0.8038,      0.8048,     0.80581,     0.80681,     0.80781,     0.80881,     0.80981,     0.81081,     0.81181,     0.81281,     0.81381,     0.81481,     0.81582,\n",
            "           0.81682,     0.81782,     0.81882,     0.81982,     0.82082,     0.82182,     0.82282,     0.82382,     0.82482,     0.82583,     0.82683,     0.82783,     0.82883,     0.82983,     0.83083,     0.83183,     0.83283,     0.83383,     0.83483,     0.83584,     0.83684,     0.83784,     0.83884,     0.83984,\n",
            "           0.84084,     0.84184,     0.84284,     0.84384,     0.84484,     0.84585,     0.84685,     0.84785,     0.84885,     0.84985,     0.85085,     0.85185,     0.85285,     0.85385,     0.85485,     0.85586,     0.85686,     0.85786,     0.85886,     0.85986,     0.86086,     0.86186,     0.86286,     0.86386,\n",
            "           0.86486,     0.86587,     0.86687,     0.86787,     0.86887,     0.86987,     0.87087,     0.87187,     0.87287,     0.87387,     0.87487,     0.87588,     0.87688,     0.87788,     0.87888,     0.87988,     0.88088,     0.88188,     0.88288,     0.88388,     0.88488,     0.88589,     0.88689,     0.88789,\n",
            "           0.88889,     0.88989,     0.89089,     0.89189,     0.89289,     0.89389,     0.89489,      0.8959,      0.8969,      0.8979,      0.8989,      0.8999,      0.9009,      0.9019,      0.9029,      0.9039,      0.9049,     0.90591,     0.90691,     0.90791,     0.90891,     0.90991,     0.91091,     0.91191,\n",
            "           0.91291,     0.91391,     0.91491,     0.91592,     0.91692,     0.91792,     0.91892,     0.91992,     0.92092,     0.92192,     0.92292,     0.92392,     0.92492,     0.92593,     0.92693,     0.92793,     0.92893,     0.92993,     0.93093,     0.93193,     0.93293,     0.93393,     0.93493,     0.93594,\n",
            "           0.93694,     0.93794,     0.93894,     0.93994,     0.94094,     0.94194,     0.94294,     0.94394,     0.94494,     0.94595,     0.94695,     0.94795,     0.94895,     0.94995,     0.95095,     0.95195,     0.95295,     0.95395,     0.95495,     0.95596,     0.95696,     0.95796,     0.95896,     0.95996,\n",
            "           0.96096,     0.96196,     0.96296,     0.96396,     0.96496,     0.96597,     0.96697,     0.96797,     0.96897,     0.96997,     0.97097,     0.97197,     0.97297,     0.97397,     0.97497,     0.97598,     0.97698,     0.97798,     0.97898,     0.97998,     0.98098,     0.98198,     0.98298,     0.98398,\n",
            "           0.98498,     0.98599,     0.98699,     0.98799,     0.98899,     0.98999,     0.99099,     0.99199,     0.99299,     0.99399,     0.99499,       0.996,       0.997,       0.998,       0.999,           1]), array([[    0.11036,     0.11036,     0.15878,     0.19841,     0.23328,     0.26332,     0.29051,     0.31117,     0.33131,     0.34704,     0.36298,     0.37674,     0.38752,     0.40114,     0.41359,     0.42516,     0.43865,     0.44783,     0.45967,     0.46887,     0.47669,     0.48723,     0.49332,\n",
            "            0.49864,     0.50615,     0.51454,     0.52403,     0.52994,     0.53334,     0.54251,     0.54538,     0.54927,      0.5562,     0.55924,     0.56182,     0.56332,     0.56587,     0.57045,     0.57639,     0.58193,     0.58541,     0.58947,     0.59578,     0.59702,     0.59739,     0.60393,\n",
            "            0.60876,     0.61329,     0.61675,     0.62167,     0.62694,     0.63081,      0.6329,     0.63841,     0.64262,     0.64812,     0.64935,     0.65318,     0.65624,     0.65757,     0.65609,     0.65823,       0.659,     0.66084,     0.66263,      0.6664,     0.66645,     0.67025,     0.67319,\n",
            "            0.67518,     0.67705,     0.67896,     0.67971,     0.67865,     0.68143,      0.6838,     0.68611,     0.68711,     0.68691,     0.68579,     0.68968,     0.69552,     0.69633,     0.69919,     0.70116,     0.70292,      0.7038,     0.70458,      0.7067,     0.70968,     0.71221,     0.71269,\n",
            "            0.71341,     0.71538,     0.71614,     0.71785,     0.72089,     0.72188,     0.72242,     0.72359,     0.72261,      0.7201,     0.72087,     0.71967,     0.72028,     0.72189,     0.72287,     0.72461,     0.72911,     0.73352,     0.73498,     0.73656,     0.73853,     0.73892,     0.73868,\n",
            "            0.73913,     0.73908,     0.73752,     0.73774,     0.73796,     0.73818,      0.7384,     0.73861,     0.74231,     0.74312,     0.74567,     0.74657,     0.74459,     0.74655,     0.74678,     0.74702,     0.74725,     0.74748,     0.74735,      0.7468,     0.74626,     0.74571,      0.7462,\n",
            "            0.74705,     0.74854,     0.75171,     0.75219,     0.75267,     0.75345,      0.7546,     0.75555,     0.75607,     0.75658,     0.75707,     0.75756,     0.75919,      0.7596,     0.75835,     0.75876,     0.75917,     0.75966,     0.76029,     0.76081,     0.76118,     0.76154,     0.76193,\n",
            "            0.76341,     0.76421,     0.76669,     0.76665,     0.76634,     0.76603,     0.76572,     0.76541,      0.7651,     0.76439,     0.76295,     0.76416,     0.76342,     0.76355,     0.76369,     0.76382,     0.76396,     0.76409,     0.76423,     0.76436,      0.7645,     0.76466,     0.76496,\n",
            "            0.76527,     0.76557,     0.76587,     0.76606,     0.76623,     0.76641,     0.76659,     0.76677,     0.76695,     0.76713,     0.76762,     0.76821,     0.76832,     0.76809,     0.76785,     0.76762,     0.76738,     0.76715,     0.76691,     0.76668,     0.76644,      0.7667,      0.7671,\n",
            "            0.76751,     0.76829,     0.76932,     0.77028,     0.77044,     0.77059,     0.77075,      0.7709,     0.77105,     0.77121,     0.77136,     0.77151,     0.77206,     0.77286,      0.7723,     0.77261,     0.77292,     0.77323,     0.77348,     0.77363,     0.77379,     0.77394,      0.7741,\n",
            "            0.77425,     0.77441,     0.77456,     0.77472,     0.77561,      0.7764,     0.77699,     0.77978,     0.78129,     0.78277,      0.7837,      0.7836,     0.78271,     0.78207,     0.78237,     0.78267,     0.78296,     0.78326,     0.78289,     0.78217,     0.78144,     0.77899,     0.77855,\n",
            "             0.7781,     0.77766,     0.77721,      0.7775,      0.7784,     0.77891,     0.77942,     0.77935,     0.77844,      0.7777,     0.77921,     0.78006,     0.78046,     0.78067,     0.78088,     0.78109,      0.7813,     0.78151,     0.78179,     0.78238,     0.78297,     0.78215,     0.78106,\n",
            "            0.78104,     0.78117,     0.78131,     0.78144,     0.78158,     0.78171,     0.78185,     0.78198,     0.78212,     0.78225,     0.78213,     0.78187,      0.7816,     0.78133,     0.78107,      0.7808,     0.78053,     0.78026,     0.78047,     0.78106,      0.7816,     0.78191,     0.78223,\n",
            "            0.78254,     0.78285,     0.78275,     0.78254,     0.78232,     0.78211,     0.78189,     0.78168,     0.78147,     0.78125,     0.78104,     0.78083,       0.781,      0.7814,      0.7818,      0.7826,     0.78507,     0.78538,     0.78568,     0.78598,     0.78629,     0.78657,     0.78684,\n",
            "            0.78711,     0.78738,     0.78765,     0.78865,      0.7896,     0.79021,     0.79067,     0.79082,     0.79098,     0.79114,     0.79129,     0.79145,     0.79161,     0.79176,     0.79192,     0.79212,     0.79253,     0.79293,     0.79333,     0.79352,     0.79359,     0.79366,     0.79373,\n",
            "             0.7938,     0.79387,     0.79394,       0.794,     0.79407,     0.79414,     0.79421,     0.79428,     0.79435,     0.79442,     0.79448,     0.79455,     0.79462,     0.79469,     0.79476,     0.79483,      0.7949,     0.79514,     0.79546,     0.79579,     0.79611,      0.7945,     0.79494,\n",
            "            0.79392,     0.79469,     0.79503,     0.79519,     0.79536,     0.79553,     0.79569,     0.79586,     0.79603,     0.79619,     0.79614,     0.79505,     0.79468,     0.79643,     0.79763,     0.79806,     0.79661,     0.79527,     0.79404,     0.79376,     0.79349,     0.79321,     0.79294,\n",
            "            0.79266,     0.79239,     0.79211,     0.79184,     0.78977,     0.79016,     0.79082,     0.79063,        0.79,     0.78936,     0.79027,     0.79065,     0.79103,     0.79141,      0.7918,      0.7923,      0.7928,     0.79329,      0.7937,     0.79412,     0.79454,     0.79483,     0.79503,\n",
            "            0.79522,     0.79542,     0.79561,     0.79581,       0.796,     0.79619,     0.79652,     0.79686,     0.79721,     0.79755,     0.79805,     0.79872,     0.80072,     0.79856,     0.79874,     0.79892,      0.7991,     0.79927,     0.79945,     0.79963,      0.7998,     0.79998,     0.79837,\n",
            "            0.79695,     0.79577,     0.79523,     0.79496,      0.7947,     0.79443,     0.79417,      0.7939,     0.79364,     0.79337,     0.79311,     0.79335,     0.79361,     0.79386,     0.79412,     0.79437,     0.79462,     0.79473,     0.79483,     0.79493,     0.79504,     0.79514,     0.79524,\n",
            "            0.79535,     0.79545,     0.79555,     0.79566,     0.79576,     0.79586,     0.79597,     0.79607,      0.7963,     0.79717,     0.79763,     0.79749,     0.79736,     0.79722,     0.79708,     0.79694,      0.7968,     0.79667,     0.79653,     0.79639,     0.79625,     0.79611,     0.79597,\n",
            "            0.79584,      0.7957,     0.79556,     0.79542,     0.79552,     0.79577,     0.79603,     0.79628,     0.79653,     0.79679,     0.79724,     0.79786,     0.79844,     0.79818,     0.79793,     0.79768,     0.79742,     0.79717,     0.79691,     0.79666,     0.79641,     0.79615,     0.79622,\n",
            "            0.79634,     0.79646,     0.79658,      0.7967,     0.79682,     0.79694,     0.79706,     0.79717,     0.79729,     0.79741,     0.79753,     0.79765,     0.79776,     0.79787,     0.79797,     0.79808,     0.79819,      0.7983,      0.7984,     0.79851,     0.79862,     0.79873,     0.79883,\n",
            "            0.79894,     0.79905,     0.79915,      0.7993,     0.79951,     0.79973,     0.79994,     0.80015,     0.80037,     0.80058,     0.80074,     0.79998,     0.79921,     0.79844,     0.79747,     0.79649,     0.79516,     0.79373,     0.79391,     0.79409,     0.79427,     0.79445,     0.79463,\n",
            "            0.79482,       0.795,     0.79518,     0.79503,     0.79449,     0.79395,     0.79341,     0.79282,     0.79143,     0.79007,     0.78876,     0.78823,     0.78844,     0.78866,     0.78887,     0.78908,      0.7893,     0.78951,     0.78953,     0.78874,     0.78794,      0.7872,     0.78675,\n",
            "            0.78629,     0.78583,     0.78538,     0.78492,     0.78448,     0.78405,     0.78361,     0.78318,     0.78275,     0.78269,     0.78358,     0.78363,     0.78293,     0.78224,     0.78155,     0.78123,      0.7809,     0.78057,     0.78025,     0.77992,     0.77959,     0.77926,     0.77667,\n",
            "            0.77408,     0.77381,     0.77353,     0.77326,     0.77298,      0.7727,     0.77243,     0.77215,     0.77188,     0.76891,      0.7676,     0.76727,     0.76682,     0.76525,     0.76455,     0.76385,     0.76351,     0.76469,     0.76281,     0.76351,     0.76358,     0.76323,     0.76288,\n",
            "            0.76253,     0.76218,     0.76183,     0.76147,     0.75935,     0.75858,     0.75837,     0.75815,     0.75793,     0.75772,      0.7575,     0.75728,     0.75706,     0.75685,     0.75663,     0.75641,     0.75617,     0.75406,     0.74963,     0.74665,     0.74605,     0.74633,      0.7466,\n",
            "            0.74688,     0.74715,     0.74644,     0.74427,     0.74363,       0.743,     0.74237,     0.73965,     0.74054,      0.7409,     0.74055,      0.7402,     0.73985,      0.7395,     0.73914,     0.73879,     0.73844,     0.73761,     0.73673,     0.73584,     0.73423,     0.73358,     0.73681,\n",
            "            0.73794,     0.73833,     0.73871,      0.7391,     0.73839,     0.73654,     0.73613,     0.73571,     0.73529,     0.73488,     0.73446,     0.73404,     0.73324,     0.73224,     0.73124,     0.72659,      0.7264,     0.72718,      0.7268,     0.72642,     0.72604,     0.72565,     0.72527,\n",
            "            0.72489,     0.72451,     0.72375,     0.72299,     0.72223,     0.72048,      0.7187,     0.71827,     0.71783,     0.71739,     0.71695,     0.71651,      0.7159,     0.71463,     0.71336,     0.71291,     0.71247,     0.71203,     0.71158,     0.71114,      0.7107,     0.71029,     0.70991,\n",
            "            0.70953,     0.70915,     0.70877,     0.70839,     0.70801,     0.70684,     0.70435,      0.7035,     0.70264,      0.7015,     0.69941,     0.69726,      0.6946,     0.68968,     0.68782,     0.68652,     0.68534,     0.68389,     0.68193,     0.67888,      0.6793,     0.67971,     0.68013,\n",
            "            0.67747,     0.67362,     0.67251,      0.6714,     0.66769,     0.66688,     0.66606,     0.66525,      0.6636,     0.66179,     0.65965,     0.65655,     0.65135,     0.65189,     0.65243,     0.65238,     0.65127,     0.65016,     0.64666,     0.64605,     0.64558,     0.64511,     0.64464,\n",
            "            0.64417,      0.6437,     0.64367,     0.64478,     0.64069,      0.6394,     0.63839,     0.63804,     0.63768,     0.63733,     0.63698,     0.63662,     0.63627,     0.63591,     0.63556,     0.63472,     0.63241,     0.63121,     0.63019,     0.62917,     0.62838,      0.6277,     0.62703,\n",
            "            0.62635,     0.62567,     0.61828,     0.61581,      0.6094,     0.60774,     0.60627,     0.60255,     0.59888,     0.59801,     0.59713,     0.59625,     0.59372,     0.59086,     0.58906,     0.58803,     0.58714,     0.58624,     0.58528,     0.58235,     0.57812,     0.57581,     0.57095,\n",
            "            0.56677,     0.56434,     0.56296,     0.56158,     0.55655,     0.55265,     0.55115,     0.54781,     0.54367,     0.54181,     0.54052,     0.53923,     0.53415,     0.52911,     0.52357,     0.52079,     0.51486,     0.50509,     0.50308,     0.50212,     0.50116,     0.50019,     0.49803,\n",
            "            0.49524,     0.49178,     0.49022,     0.48865,     0.48372,     0.48226,     0.48079,     0.47709,     0.47052,     0.45959,      0.4565,     0.44471,     0.44186,     0.43977,      0.4339,     0.43086,     0.42406,     0.42086,      0.4187,     0.41693,     0.41557,      0.4142,     0.40302,\n",
            "            0.39828,     0.39254,     0.38701,      0.3664,     0.36146,     0.35732,     0.35377,     0.35234,     0.35091,     0.34948,     0.34804,      0.3466,     0.34516,     0.34322,     0.34112,     0.33643,     0.33121,     0.32428,      0.3155,     0.30684,     0.30353,     0.30095,     0.29772,\n",
            "            0.28761,     0.28343,      0.2809,     0.26947,     0.26584,     0.25951,      0.2584,     0.25729,     0.25617,     0.25506,     0.24257,      0.2216,     0.21452,     0.21192,     0.20744,     0.20327,     0.19952,     0.19445,     0.18455,     0.18137,     0.17942,     0.17746,     0.16904,\n",
            "            0.16235,     0.14752,      0.1463,     0.14508,     0.14386,     0.14264,     0.13827,     0.12923,     0.12571,     0.12175,     0.11545,     0.10464,    0.099369,    0.086051,    0.072686,    0.070649,    0.068607,    0.064358,    0.051924,      0.0484,    0.032649,    0.027109,    0.025999,\n",
            "           0.024887,    0.023774,     0.02266,    0.021545,    0.020324,    0.018591,    0.016856,    0.015117,    0.013684,    0.013229,    0.012773,    0.012317,    0.011861,    0.011405,    0.010949,    0.010492,    0.010035,   0.0095782,   0.0091209,   0.0086635,   0.0082058,   0.0077479,   0.0072898,\n",
            "                  0,           0,           0,           0,           0,           0,           0,           0,           0,           0,           0,           0,           0,           0,           0,           0,           0,           0,           0,           0,           0,           0,           0,\n",
            "                  0,           0,           0,           0,           0,           0,           0,           0,           0,           0,           0,           0,           0,           0,           0,           0,           0,           0,           0,           0,           0,           0,           0,\n",
            "                  0,           0,           0,           0,           0,           0,           0,           0,           0,           0,           0]]), 'Confidence', 'F1'], [array([          0,    0.001001,    0.002002,    0.003003,    0.004004,    0.005005,    0.006006,    0.007007,    0.008008,    0.009009,     0.01001,    0.011011,    0.012012,    0.013013,    0.014014,    0.015015,    0.016016,    0.017017,    0.018018,    0.019019,     0.02002,    0.021021,    0.022022,    0.023023,\n",
            "          0.024024,    0.025025,    0.026026,    0.027027,    0.028028,    0.029029,     0.03003,    0.031031,    0.032032,    0.033033,    0.034034,    0.035035,    0.036036,    0.037037,    0.038038,    0.039039,     0.04004,    0.041041,    0.042042,    0.043043,    0.044044,    0.045045,    0.046046,    0.047047,\n",
            "          0.048048,    0.049049,     0.05005,    0.051051,    0.052052,    0.053053,    0.054054,    0.055055,    0.056056,    0.057057,    0.058058,    0.059059,     0.06006,    0.061061,    0.062062,    0.063063,    0.064064,    0.065065,    0.066066,    0.067067,    0.068068,    0.069069,     0.07007,    0.071071,\n",
            "          0.072072,    0.073073,    0.074074,    0.075075,    0.076076,    0.077077,    0.078078,    0.079079,     0.08008,    0.081081,    0.082082,    0.083083,    0.084084,    0.085085,    0.086086,    0.087087,    0.088088,    0.089089,     0.09009,    0.091091,    0.092092,    0.093093,    0.094094,    0.095095,\n",
            "          0.096096,    0.097097,    0.098098,    0.099099,      0.1001,      0.1011,      0.1021,      0.1031,      0.1041,     0.10511,     0.10611,     0.10711,     0.10811,     0.10911,     0.11011,     0.11111,     0.11211,     0.11311,     0.11411,     0.11512,     0.11612,     0.11712,     0.11812,     0.11912,\n",
            "           0.12012,     0.12112,     0.12212,     0.12312,     0.12412,     0.12513,     0.12613,     0.12713,     0.12813,     0.12913,     0.13013,     0.13113,     0.13213,     0.13313,     0.13413,     0.13514,     0.13614,     0.13714,     0.13814,     0.13914,     0.14014,     0.14114,     0.14214,     0.14314,\n",
            "           0.14414,     0.14515,     0.14615,     0.14715,     0.14815,     0.14915,     0.15015,     0.15115,     0.15215,     0.15315,     0.15415,     0.15516,     0.15616,     0.15716,     0.15816,     0.15916,     0.16016,     0.16116,     0.16216,     0.16316,     0.16416,     0.16517,     0.16617,     0.16717,\n",
            "           0.16817,     0.16917,     0.17017,     0.17117,     0.17217,     0.17317,     0.17417,     0.17518,     0.17618,     0.17718,     0.17818,     0.17918,     0.18018,     0.18118,     0.18218,     0.18318,     0.18418,     0.18519,     0.18619,     0.18719,     0.18819,     0.18919,     0.19019,     0.19119,\n",
            "           0.19219,     0.19319,     0.19419,      0.1952,      0.1962,      0.1972,      0.1982,      0.1992,      0.2002,      0.2012,      0.2022,      0.2032,      0.2042,     0.20521,     0.20621,     0.20721,     0.20821,     0.20921,     0.21021,     0.21121,     0.21221,     0.21321,     0.21421,     0.21522,\n",
            "           0.21622,     0.21722,     0.21822,     0.21922,     0.22022,     0.22122,     0.22222,     0.22322,     0.22422,     0.22523,     0.22623,     0.22723,     0.22823,     0.22923,     0.23023,     0.23123,     0.23223,     0.23323,     0.23423,     0.23524,     0.23624,     0.23724,     0.23824,     0.23924,\n",
            "           0.24024,     0.24124,     0.24224,     0.24324,     0.24424,     0.24525,     0.24625,     0.24725,     0.24825,     0.24925,     0.25025,     0.25125,     0.25225,     0.25325,     0.25425,     0.25526,     0.25626,     0.25726,     0.25826,     0.25926,     0.26026,     0.26126,     0.26226,     0.26326,\n",
            "           0.26426,     0.26527,     0.26627,     0.26727,     0.26827,     0.26927,     0.27027,     0.27127,     0.27227,     0.27327,     0.27427,     0.27528,     0.27628,     0.27728,     0.27828,     0.27928,     0.28028,     0.28128,     0.28228,     0.28328,     0.28428,     0.28529,     0.28629,     0.28729,\n",
            "           0.28829,     0.28929,     0.29029,     0.29129,     0.29229,     0.29329,     0.29429,      0.2953,      0.2963,      0.2973,      0.2983,      0.2993,      0.3003,      0.3013,      0.3023,      0.3033,      0.3043,     0.30531,     0.30631,     0.30731,     0.30831,     0.30931,     0.31031,     0.31131,\n",
            "           0.31231,     0.31331,     0.31431,     0.31532,     0.31632,     0.31732,     0.31832,     0.31932,     0.32032,     0.32132,     0.32232,     0.32332,     0.32432,     0.32533,     0.32633,     0.32733,     0.32833,     0.32933,     0.33033,     0.33133,     0.33233,     0.33333,     0.33433,     0.33534,\n",
            "           0.33634,     0.33734,     0.33834,     0.33934,     0.34034,     0.34134,     0.34234,     0.34334,     0.34434,     0.34535,     0.34635,     0.34735,     0.34835,     0.34935,     0.35035,     0.35135,     0.35235,     0.35335,     0.35435,     0.35536,     0.35636,     0.35736,     0.35836,     0.35936,\n",
            "           0.36036,     0.36136,     0.36236,     0.36336,     0.36436,     0.36537,     0.36637,     0.36737,     0.36837,     0.36937,     0.37037,     0.37137,     0.37237,     0.37337,     0.37437,     0.37538,     0.37638,     0.37738,     0.37838,     0.37938,     0.38038,     0.38138,     0.38238,     0.38338,\n",
            "           0.38438,     0.38539,     0.38639,     0.38739,     0.38839,     0.38939,     0.39039,     0.39139,     0.39239,     0.39339,     0.39439,      0.3954,      0.3964,      0.3974,      0.3984,      0.3994,      0.4004,      0.4014,      0.4024,      0.4034,      0.4044,     0.40541,     0.40641,     0.40741,\n",
            "           0.40841,     0.40941,     0.41041,     0.41141,     0.41241,     0.41341,     0.41441,     0.41542,     0.41642,     0.41742,     0.41842,     0.41942,     0.42042,     0.42142,     0.42242,     0.42342,     0.42442,     0.42543,     0.42643,     0.42743,     0.42843,     0.42943,     0.43043,     0.43143,\n",
            "           0.43243,     0.43343,     0.43443,     0.43544,     0.43644,     0.43744,     0.43844,     0.43944,     0.44044,     0.44144,     0.44244,     0.44344,     0.44444,     0.44545,     0.44645,     0.44745,     0.44845,     0.44945,     0.45045,     0.45145,     0.45245,     0.45345,     0.45445,     0.45546,\n",
            "           0.45646,     0.45746,     0.45846,     0.45946,     0.46046,     0.46146,     0.46246,     0.46346,     0.46446,     0.46547,     0.46647,     0.46747,     0.46847,     0.46947,     0.47047,     0.47147,     0.47247,     0.47347,     0.47447,     0.47548,     0.47648,     0.47748,     0.47848,     0.47948,\n",
            "           0.48048,     0.48148,     0.48248,     0.48348,     0.48448,     0.48549,     0.48649,     0.48749,     0.48849,     0.48949,     0.49049,     0.49149,     0.49249,     0.49349,     0.49449,      0.4955,      0.4965,      0.4975,      0.4985,      0.4995,      0.5005,      0.5015,      0.5025,      0.5035,\n",
            "            0.5045,     0.50551,     0.50651,     0.50751,     0.50851,     0.50951,     0.51051,     0.51151,     0.51251,     0.51351,     0.51451,     0.51552,     0.51652,     0.51752,     0.51852,     0.51952,     0.52052,     0.52152,     0.52252,     0.52352,     0.52452,     0.52553,     0.52653,     0.52753,\n",
            "           0.52853,     0.52953,     0.53053,     0.53153,     0.53253,     0.53353,     0.53453,     0.53554,     0.53654,     0.53754,     0.53854,     0.53954,     0.54054,     0.54154,     0.54254,     0.54354,     0.54454,     0.54555,     0.54655,     0.54755,     0.54855,     0.54955,     0.55055,     0.55155,\n",
            "           0.55255,     0.55355,     0.55455,     0.55556,     0.55656,     0.55756,     0.55856,     0.55956,     0.56056,     0.56156,     0.56256,     0.56356,     0.56456,     0.56557,     0.56657,     0.56757,     0.56857,     0.56957,     0.57057,     0.57157,     0.57257,     0.57357,     0.57457,     0.57558,\n",
            "           0.57658,     0.57758,     0.57858,     0.57958,     0.58058,     0.58158,     0.58258,     0.58358,     0.58458,     0.58559,     0.58659,     0.58759,     0.58859,     0.58959,     0.59059,     0.59159,     0.59259,     0.59359,     0.59459,      0.5956,      0.5966,      0.5976,      0.5986,      0.5996,\n",
            "            0.6006,      0.6016,      0.6026,      0.6036,      0.6046,     0.60561,     0.60661,     0.60761,     0.60861,     0.60961,     0.61061,     0.61161,     0.61261,     0.61361,     0.61461,     0.61562,     0.61662,     0.61762,     0.61862,     0.61962,     0.62062,     0.62162,     0.62262,     0.62362,\n",
            "           0.62462,     0.62563,     0.62663,     0.62763,     0.62863,     0.62963,     0.63063,     0.63163,     0.63263,     0.63363,     0.63463,     0.63564,     0.63664,     0.63764,     0.63864,     0.63964,     0.64064,     0.64164,     0.64264,     0.64364,     0.64464,     0.64565,     0.64665,     0.64765,\n",
            "           0.64865,     0.64965,     0.65065,     0.65165,     0.65265,     0.65365,     0.65465,     0.65566,     0.65666,     0.65766,     0.65866,     0.65966,     0.66066,     0.66166,     0.66266,     0.66366,     0.66466,     0.66567,     0.66667,     0.66767,     0.66867,     0.66967,     0.67067,     0.67167,\n",
            "           0.67267,     0.67367,     0.67467,     0.67568,     0.67668,     0.67768,     0.67868,     0.67968,     0.68068,     0.68168,     0.68268,     0.68368,     0.68468,     0.68569,     0.68669,     0.68769,     0.68869,     0.68969,     0.69069,     0.69169,     0.69269,     0.69369,     0.69469,      0.6957,\n",
            "            0.6967,      0.6977,      0.6987,      0.6997,      0.7007,      0.7017,      0.7027,      0.7037,      0.7047,     0.70571,     0.70671,     0.70771,     0.70871,     0.70971,     0.71071,     0.71171,     0.71271,     0.71371,     0.71471,     0.71572,     0.71672,     0.71772,     0.71872,     0.71972,\n",
            "           0.72072,     0.72172,     0.72272,     0.72372,     0.72472,     0.72573,     0.72673,     0.72773,     0.72873,     0.72973,     0.73073,     0.73173,     0.73273,     0.73373,     0.73473,     0.73574,     0.73674,     0.73774,     0.73874,     0.73974,     0.74074,     0.74174,     0.74274,     0.74374,\n",
            "           0.74474,     0.74575,     0.74675,     0.74775,     0.74875,     0.74975,     0.75075,     0.75175,     0.75275,     0.75375,     0.75475,     0.75576,     0.75676,     0.75776,     0.75876,     0.75976,     0.76076,     0.76176,     0.76276,     0.76376,     0.76476,     0.76577,     0.76677,     0.76777,\n",
            "           0.76877,     0.76977,     0.77077,     0.77177,     0.77277,     0.77377,     0.77477,     0.77578,     0.77678,     0.77778,     0.77878,     0.77978,     0.78078,     0.78178,     0.78278,     0.78378,     0.78478,     0.78579,     0.78679,     0.78779,     0.78879,     0.78979,     0.79079,     0.79179,\n",
            "           0.79279,     0.79379,     0.79479,      0.7958,      0.7968,      0.7978,      0.7988,      0.7998,      0.8008,      0.8018,      0.8028,      0.8038,      0.8048,     0.80581,     0.80681,     0.80781,     0.80881,     0.80981,     0.81081,     0.81181,     0.81281,     0.81381,     0.81481,     0.81582,\n",
            "           0.81682,     0.81782,     0.81882,     0.81982,     0.82082,     0.82182,     0.82282,     0.82382,     0.82482,     0.82583,     0.82683,     0.82783,     0.82883,     0.82983,     0.83083,     0.83183,     0.83283,     0.83383,     0.83483,     0.83584,     0.83684,     0.83784,     0.83884,     0.83984,\n",
            "           0.84084,     0.84184,     0.84284,     0.84384,     0.84484,     0.84585,     0.84685,     0.84785,     0.84885,     0.84985,     0.85085,     0.85185,     0.85285,     0.85385,     0.85485,     0.85586,     0.85686,     0.85786,     0.85886,     0.85986,     0.86086,     0.86186,     0.86286,     0.86386,\n",
            "           0.86486,     0.86587,     0.86687,     0.86787,     0.86887,     0.86987,     0.87087,     0.87187,     0.87287,     0.87387,     0.87487,     0.87588,     0.87688,     0.87788,     0.87888,     0.87988,     0.88088,     0.88188,     0.88288,     0.88388,     0.88488,     0.88589,     0.88689,     0.88789,\n",
            "           0.88889,     0.88989,     0.89089,     0.89189,     0.89289,     0.89389,     0.89489,      0.8959,      0.8969,      0.8979,      0.8989,      0.8999,      0.9009,      0.9019,      0.9029,      0.9039,      0.9049,     0.90591,     0.90691,     0.90791,     0.90891,     0.90991,     0.91091,     0.91191,\n",
            "           0.91291,     0.91391,     0.91491,     0.91592,     0.91692,     0.91792,     0.91892,     0.91992,     0.92092,     0.92192,     0.92292,     0.92392,     0.92492,     0.92593,     0.92693,     0.92793,     0.92893,     0.92993,     0.93093,     0.93193,     0.93293,     0.93393,     0.93493,     0.93594,\n",
            "           0.93694,     0.93794,     0.93894,     0.93994,     0.94094,     0.94194,     0.94294,     0.94394,     0.94494,     0.94595,     0.94695,     0.94795,     0.94895,     0.94995,     0.95095,     0.95195,     0.95295,     0.95395,     0.95495,     0.95596,     0.95696,     0.95796,     0.95896,     0.95996,\n",
            "           0.96096,     0.96196,     0.96296,     0.96396,     0.96496,     0.96597,     0.96697,     0.96797,     0.96897,     0.96997,     0.97097,     0.97197,     0.97297,     0.97397,     0.97497,     0.97598,     0.97698,     0.97798,     0.97898,     0.97998,     0.98098,     0.98198,     0.98298,     0.98398,\n",
            "           0.98498,     0.98599,     0.98699,     0.98799,     0.98899,     0.98999,     0.99099,     0.99199,     0.99299,     0.99399,     0.99499,       0.996,       0.997,       0.998,       0.999,           1]), array([[   0.058538,    0.058538,    0.086619,     0.11099,     0.13335,     0.15355,     0.17273,     0.18769,      0.2027,     0.21461,      0.2276,     0.23903,     0.24804,     0.25931,     0.27014,     0.28009,     0.29192,     0.30011,     0.31127,     0.32024,     0.32757,     0.33813,     0.34457,\n",
            "            0.34978,     0.35722,     0.36563,     0.37529,     0.38139,     0.38561,     0.39527,     0.39832,     0.40249,     0.40997,     0.41408,     0.41692,      0.4194,     0.42307,     0.42822,     0.43494,     0.44128,      0.4453,     0.45002,     0.45741,     0.45934,     0.46033,     0.46814,\n",
            "            0.47397,     0.47948,     0.48372,     0.48981,     0.49638,     0.50125,     0.50389,     0.51092,     0.51633,     0.52346,     0.52507,      0.5301,     0.53415,     0.53602,     0.53519,     0.53818,     0.53921,     0.54168,     0.54408,     0.54919,     0.55073,     0.55594,     0.55998,\n",
            "            0.56275,     0.56535,     0.56803,     0.56907,     0.56917,     0.57309,     0.57645,     0.57974,     0.58118,     0.58141,     0.58081,     0.58656,     0.59505,     0.59624,     0.60045,     0.60335,     0.60597,     0.60727,     0.60844,     0.61161,     0.61609,     0.61991,     0.62064,\n",
            "            0.62173,     0.62473,     0.62589,      0.6285,     0.63317,     0.63471,     0.63554,     0.63735,     0.63701,     0.63599,     0.63728,     0.63668,     0.63832,     0.64085,      0.6424,     0.64516,     0.65232,     0.65941,     0.66179,     0.66434,     0.66756,     0.66844,     0.67009,\n",
            "            0.67082,      0.6712,     0.67049,     0.67085,     0.67121,     0.67158,     0.67194,      0.6723,     0.67845,      0.6798,     0.68409,     0.68559,     0.68715,     0.69051,      0.6909,      0.6913,      0.6917,     0.69209,     0.69219,     0.69194,     0.69169,     0.69144,     0.69243,\n",
            "            0.69389,     0.69647,     0.70198,     0.70281,     0.70365,     0.70502,     0.70704,     0.70871,     0.70961,     0.71051,     0.71138,     0.71225,     0.71514,     0.71667,     0.71638,      0.7171,     0.71783,     0.71872,     0.71985,     0.72078,     0.72143,     0.72209,     0.72278,\n",
            "            0.72546,      0.7269,      0.7314,     0.73174,     0.73161,     0.73148,     0.73135,     0.73122,      0.7311,      0.7308,      0.7302,     0.73432,     0.73413,     0.73438,     0.73463,     0.73488,     0.73513,     0.73538,     0.73563,     0.73588,     0.73613,     0.73643,     0.73699,\n",
            "            0.73756,     0.73812,     0.73868,     0.73903,     0.73936,     0.73969,     0.74002,     0.74035,     0.74069,     0.74102,     0.74194,     0.74304,     0.74345,     0.74336,     0.74326,     0.74317,     0.74307,     0.74298,     0.74288,     0.74279,     0.74269,     0.74325,     0.74402,\n",
            "            0.74478,     0.74625,     0.74821,     0.75003,     0.75032,     0.75061,      0.7509,     0.75119,     0.75149,     0.75178,     0.75207,     0.75236,      0.7534,     0.75492,     0.75704,     0.75763,     0.75822,     0.75881,      0.7593,      0.7596,      0.7599,      0.7602,      0.7605,\n",
            "             0.7608,      0.7611,      0.7614,      0.7617,     0.76342,     0.76495,     0.76609,     0.77155,     0.77451,     0.77741,     0.77927,     0.77989,     0.77956,     0.77944,     0.78003,     0.78062,     0.78121,      0.7818,     0.78184,     0.78158,     0.78132,     0.78044,     0.78028,\n",
            "            0.78012,     0.77996,     0.77979,     0.78072,     0.78253,     0.78356,      0.7846,     0.78508,     0.78476,      0.7847,     0.78777,     0.78951,     0.79034,     0.79077,      0.7912,     0.79163,     0.79206,      0.7925,     0.79306,     0.79428,      0.7955,     0.79539,     0.79501,\n",
            "            0.79521,     0.79549,     0.79577,     0.79605,     0.79633,     0.79661,     0.79689,     0.79717,     0.79745,     0.79773,     0.79778,     0.79769,      0.7976,     0.79751,     0.79741,     0.79732,     0.79723,     0.79714,     0.79778,     0.79903,     0.80014,      0.8008,     0.80146,\n",
            "            0.80212,     0.80278,     0.80286,     0.80279,     0.80272,     0.80265,     0.80258,     0.80251,     0.80244,     0.80237,     0.80229,     0.80222,     0.80274,     0.80358,     0.80442,     0.80613,     0.81138,     0.81203,     0.81268,     0.81333,     0.81398,     0.81458,     0.81516,\n",
            "            0.81574,     0.81632,      0.8169,     0.81907,     0.82111,     0.82243,     0.82342,     0.82376,      0.8241,     0.82444,     0.82478,     0.82512,     0.82546,      0.8258,     0.82614,     0.82658,     0.82746,     0.82834,     0.82923,     0.82964,     0.82979,     0.82994,     0.83009,\n",
            "            0.83024,     0.83039,     0.83054,      0.8307,     0.83085,       0.831,     0.83115,      0.8313,     0.83145,      0.8316,     0.83175,      0.8319,     0.83205,      0.8322,     0.83235,      0.8325,     0.83265,     0.83319,      0.8339,     0.83461,     0.83532,     0.83599,     0.83827,\n",
            "            0.83798,     0.84068,     0.84143,     0.84181,     0.84218,     0.84255,     0.84293,      0.8433,     0.84367,     0.84405,     0.84431,     0.84401,     0.84502,     0.84899,     0.85172,     0.85363,     0.85326,      0.8529,     0.85258,     0.85251,     0.85244,     0.85237,     0.85229,\n",
            "            0.85222,     0.85215,     0.85208,       0.852,     0.85146,     0.85278,      0.8543,     0.85473,     0.85457,      0.8544,     0.85775,     0.85864,     0.85953,     0.86042,     0.86134,     0.86253,     0.86372,     0.86488,     0.86587,     0.86687,     0.86786,     0.86857,     0.86903,\n",
            "             0.8695,     0.86996,     0.87043,     0.87089,     0.87136,     0.87182,     0.87259,     0.87342,     0.87425,     0.87508,     0.87629,      0.8779,     0.88284,     0.88256,     0.88299,     0.88342,     0.88386,     0.88429,     0.88473,     0.88516,      0.8856,     0.88603,     0.88573,\n",
            "            0.88543,     0.88518,     0.88507,     0.88501,     0.88495,      0.8849,     0.88484,     0.88479,     0.88473,     0.88467,     0.88462,     0.88524,     0.88587,     0.88651,     0.88714,     0.88777,     0.88841,     0.88867,     0.88893,     0.88918,     0.88944,      0.8897,     0.88996,\n",
            "            0.89022,     0.89048,     0.89073,     0.89099,     0.89125,     0.89151,     0.89177,     0.89203,      0.8926,      0.8948,     0.89609,     0.89607,     0.89604,     0.89601,     0.89599,     0.89596,     0.89593,      0.8959,     0.89588,     0.89585,     0.89582,      0.8958,     0.89577,\n",
            "            0.89574,     0.89572,     0.89569,     0.89566,     0.89604,     0.89669,     0.89733,     0.89797,     0.89862,     0.89926,     0.90041,       0.902,     0.90351,     0.90346,     0.90341,     0.90337,     0.90332,     0.90328,     0.90323,     0.90318,     0.90314,     0.90309,     0.90335,\n",
            "            0.90366,     0.90396,     0.90427,     0.90458,     0.90489,      0.9052,      0.9055,     0.90581,     0.90612,     0.90643,     0.90674,     0.90704,     0.90733,      0.9076,     0.90788,     0.90816,     0.90844,     0.90871,     0.90899,     0.90927,     0.90955,     0.90982,      0.9101,\n",
            "            0.91038,     0.91066,     0.91094,     0.91132,     0.91187,     0.91243,     0.91298,     0.91354,      0.9141,     0.91465,     0.91517,     0.91505,     0.91492,      0.9148,     0.91464,     0.91448,     0.91426,     0.91407,     0.91455,     0.91503,     0.91551,     0.91599,     0.91648,\n",
            "            0.91696,     0.91744,     0.91792,     0.91814,     0.91806,     0.91797,     0.91789,     0.91779,     0.91758,     0.91736,     0.91715,     0.91735,     0.91793,     0.91851,     0.91909,     0.91967,     0.92025,     0.92083,     0.92127,     0.92115,     0.92103,     0.92092,     0.92085,\n",
            "            0.92078,     0.92071,     0.92064,     0.92057,      0.9205,     0.92044,     0.92037,      0.9203,     0.92024,     0.92089,     0.92337,     0.92447,     0.92437,     0.92427,     0.92417,     0.92412,     0.92407,     0.92402,     0.92398,     0.92393,     0.92388,     0.92383,     0.92345,\n",
            "            0.92306,     0.92302,     0.92298,     0.92294,     0.92289,     0.92285,     0.92281,     0.92277,     0.92273,     0.92228,     0.92208,     0.92351,     0.92626,     0.92603,     0.92593,     0.92583,     0.92647,     0.93033,     0.93007,     0.93363,     0.93464,     0.93459,     0.93455,\n",
            "             0.9345,     0.93445,     0.93441,     0.93436,     0.93409,     0.93399,     0.93396,     0.93393,      0.9339,     0.93387,     0.93384,     0.93382,     0.93379,     0.93376,     0.93373,      0.9337,     0.93367,     0.93339,      0.9328,      0.9324,     0.93297,     0.93383,     0.93469,\n",
            "            0.93555,     0.93641,     0.93705,     0.93678,      0.9367,     0.93662,     0.93654,     0.93665,     0.93952,     0.94116,     0.94112,     0.94107,     0.94103,     0.94099,     0.94095,     0.94091,     0.94087,     0.94077,     0.94066,     0.94055,     0.94036,     0.94197,     0.95268,\n",
            "            0.95648,     0.95777,     0.95907,     0.96037,     0.96104,     0.96089,     0.96085,     0.96082,     0.96079,     0.96075,     0.96072,     0.96069,     0.96062,     0.96054,     0.96046,     0.96007,     0.96245,     0.96551,     0.96548,     0.96546,     0.96543,      0.9654,     0.96537,\n",
            "            0.96535,     0.96532,     0.96526,     0.96521,     0.96515,     0.96502,     0.96489,     0.96486,     0.96483,      0.9648,     0.96476,     0.96473,     0.96469,     0.96459,      0.9645,     0.96446,     0.96443,      0.9644,     0.96436,     0.96433,      0.9643,     0.96427,     0.96424,\n",
            "            0.96421,     0.96418,     0.96415,     0.96412,      0.9641,     0.96401,     0.96382,     0.96375,     0.96369,      0.9636,     0.96344,     0.96327,     0.96306,     0.96267,     0.96253,     0.96242,     0.96233,     0.96221,     0.96205,     0.96272,     0.96439,     0.96606,     0.96774,\n",
            "            0.96776,     0.96749,     0.96741,     0.96733,     0.96707,     0.96701,     0.96695,     0.96689,     0.96678,     0.96664,     0.96649,     0.96877,     0.97277,     0.97519,     0.97761,     0.97915,      0.9791,     0.97904,     0.97888,     0.97885,     0.97883,     0.97881,     0.97878,\n",
            "            0.97876,     0.97874,     0.98018,     0.98535,     0.98558,     0.98554,      0.9855,     0.98549,     0.98548,     0.98547,     0.98546,     0.98545,     0.98543,     0.98542,     0.98541,     0.98538,     0.98531,     0.98526,     0.98523,      0.9852,     0.98517,     0.98515,     0.98512,\n",
            "             0.9851,     0.98508,     0.98482,     0.98473,     0.98451,     0.98445,     0.98439,     0.98426,     0.98412,     0.98409,     0.98406,     0.98402,     0.98393,     0.98382,     0.98375,     0.98371,     0.98368,     0.98364,      0.9836,     0.98349,     0.98332,     0.98323,     0.98303,\n",
            "            0.98286,     0.98276,      0.9827,     0.98264,     0.98243,     0.98226,     0.98219,     0.98205,     0.98186,     0.98178,     0.98172,     0.98166,     0.98143,     0.98119,     0.98092,     0.98079,     0.98049,           1,           1,           1,           1,           1,           1,\n",
            "                  1,           1,           1,           1,           1,           1,           1,           1,           1,           1,           1,           1,           1,           1,           1,           1,           1,           1,           1,           1,           1,           1,           1,\n",
            "                  1,           1,           1,           1,           1,           1,           1,           1,           1,           1,           1,           1,           1,           1,           1,           1,           1,           1,           1,           1,           1,           1,           1,\n",
            "                  1,           1,           1,           1,           1,           1,           1,           1,           1,           1,           1,           1,           1,           1,           1,           1,           1,           1,           1,           1,           1,           1,           1,\n",
            "                  1,           1,           1,           1,           1,           1,           1,           1,           1,           1,           1,           1,           1,           1,           1,           1,           1,           1,           1,           1,           1,           1,           1,\n",
            "                  1,           1,           1,           1,           1,           1,           1,           1,           1,           1,           1,           1,           1,           1,           1,           1,           1,           1,           1,           1,           1,           1,           1,\n",
            "                  1,           1,           1,           1,           1,           1,           1,           1,           1,           1,           1,           1,           1,           1,           1,           1,           1,           1,           1,           1,           1,           1,           1,\n",
            "                  1,           1,           1,           1,           1,           1,           1,           1,           1,           1,           1,           1,           1,           1,           1,           1,           1,           1,           1,           1,           1,           1,           1,\n",
            "                  1,           1,           1,           1,           1,           1,           1,           1,           1,           1,           1]]), 'Confidence', 'Precision'], [array([          0,    0.001001,    0.002002,    0.003003,    0.004004,    0.005005,    0.006006,    0.007007,    0.008008,    0.009009,     0.01001,    0.011011,    0.012012,    0.013013,    0.014014,    0.015015,    0.016016,    0.017017,    0.018018,    0.019019,     0.02002,    0.021021,    0.022022,    0.023023,\n",
            "          0.024024,    0.025025,    0.026026,    0.027027,    0.028028,    0.029029,     0.03003,    0.031031,    0.032032,    0.033033,    0.034034,    0.035035,    0.036036,    0.037037,    0.038038,    0.039039,     0.04004,    0.041041,    0.042042,    0.043043,    0.044044,    0.045045,    0.046046,    0.047047,\n",
            "          0.048048,    0.049049,     0.05005,    0.051051,    0.052052,    0.053053,    0.054054,    0.055055,    0.056056,    0.057057,    0.058058,    0.059059,     0.06006,    0.061061,    0.062062,    0.063063,    0.064064,    0.065065,    0.066066,    0.067067,    0.068068,    0.069069,     0.07007,    0.071071,\n",
            "          0.072072,    0.073073,    0.074074,    0.075075,    0.076076,    0.077077,    0.078078,    0.079079,     0.08008,    0.081081,    0.082082,    0.083083,    0.084084,    0.085085,    0.086086,    0.087087,    0.088088,    0.089089,     0.09009,    0.091091,    0.092092,    0.093093,    0.094094,    0.095095,\n",
            "          0.096096,    0.097097,    0.098098,    0.099099,      0.1001,      0.1011,      0.1021,      0.1031,      0.1041,     0.10511,     0.10611,     0.10711,     0.10811,     0.10911,     0.11011,     0.11111,     0.11211,     0.11311,     0.11411,     0.11512,     0.11612,     0.11712,     0.11812,     0.11912,\n",
            "           0.12012,     0.12112,     0.12212,     0.12312,     0.12412,     0.12513,     0.12613,     0.12713,     0.12813,     0.12913,     0.13013,     0.13113,     0.13213,     0.13313,     0.13413,     0.13514,     0.13614,     0.13714,     0.13814,     0.13914,     0.14014,     0.14114,     0.14214,     0.14314,\n",
            "           0.14414,     0.14515,     0.14615,     0.14715,     0.14815,     0.14915,     0.15015,     0.15115,     0.15215,     0.15315,     0.15415,     0.15516,     0.15616,     0.15716,     0.15816,     0.15916,     0.16016,     0.16116,     0.16216,     0.16316,     0.16416,     0.16517,     0.16617,     0.16717,\n",
            "           0.16817,     0.16917,     0.17017,     0.17117,     0.17217,     0.17317,     0.17417,     0.17518,     0.17618,     0.17718,     0.17818,     0.17918,     0.18018,     0.18118,     0.18218,     0.18318,     0.18418,     0.18519,     0.18619,     0.18719,     0.18819,     0.18919,     0.19019,     0.19119,\n",
            "           0.19219,     0.19319,     0.19419,      0.1952,      0.1962,      0.1972,      0.1982,      0.1992,      0.2002,      0.2012,      0.2022,      0.2032,      0.2042,     0.20521,     0.20621,     0.20721,     0.20821,     0.20921,     0.21021,     0.21121,     0.21221,     0.21321,     0.21421,     0.21522,\n",
            "           0.21622,     0.21722,     0.21822,     0.21922,     0.22022,     0.22122,     0.22222,     0.22322,     0.22422,     0.22523,     0.22623,     0.22723,     0.22823,     0.22923,     0.23023,     0.23123,     0.23223,     0.23323,     0.23423,     0.23524,     0.23624,     0.23724,     0.23824,     0.23924,\n",
            "           0.24024,     0.24124,     0.24224,     0.24324,     0.24424,     0.24525,     0.24625,     0.24725,     0.24825,     0.24925,     0.25025,     0.25125,     0.25225,     0.25325,     0.25425,     0.25526,     0.25626,     0.25726,     0.25826,     0.25926,     0.26026,     0.26126,     0.26226,     0.26326,\n",
            "           0.26426,     0.26527,     0.26627,     0.26727,     0.26827,     0.26927,     0.27027,     0.27127,     0.27227,     0.27327,     0.27427,     0.27528,     0.27628,     0.27728,     0.27828,     0.27928,     0.28028,     0.28128,     0.28228,     0.28328,     0.28428,     0.28529,     0.28629,     0.28729,\n",
            "           0.28829,     0.28929,     0.29029,     0.29129,     0.29229,     0.29329,     0.29429,      0.2953,      0.2963,      0.2973,      0.2983,      0.2993,      0.3003,      0.3013,      0.3023,      0.3033,      0.3043,     0.30531,     0.30631,     0.30731,     0.30831,     0.30931,     0.31031,     0.31131,\n",
            "           0.31231,     0.31331,     0.31431,     0.31532,     0.31632,     0.31732,     0.31832,     0.31932,     0.32032,     0.32132,     0.32232,     0.32332,     0.32432,     0.32533,     0.32633,     0.32733,     0.32833,     0.32933,     0.33033,     0.33133,     0.33233,     0.33333,     0.33433,     0.33534,\n",
            "           0.33634,     0.33734,     0.33834,     0.33934,     0.34034,     0.34134,     0.34234,     0.34334,     0.34434,     0.34535,     0.34635,     0.34735,     0.34835,     0.34935,     0.35035,     0.35135,     0.35235,     0.35335,     0.35435,     0.35536,     0.35636,     0.35736,     0.35836,     0.35936,\n",
            "           0.36036,     0.36136,     0.36236,     0.36336,     0.36436,     0.36537,     0.36637,     0.36737,     0.36837,     0.36937,     0.37037,     0.37137,     0.37237,     0.37337,     0.37437,     0.37538,     0.37638,     0.37738,     0.37838,     0.37938,     0.38038,     0.38138,     0.38238,     0.38338,\n",
            "           0.38438,     0.38539,     0.38639,     0.38739,     0.38839,     0.38939,     0.39039,     0.39139,     0.39239,     0.39339,     0.39439,      0.3954,      0.3964,      0.3974,      0.3984,      0.3994,      0.4004,      0.4014,      0.4024,      0.4034,      0.4044,     0.40541,     0.40641,     0.40741,\n",
            "           0.40841,     0.40941,     0.41041,     0.41141,     0.41241,     0.41341,     0.41441,     0.41542,     0.41642,     0.41742,     0.41842,     0.41942,     0.42042,     0.42142,     0.42242,     0.42342,     0.42442,     0.42543,     0.42643,     0.42743,     0.42843,     0.42943,     0.43043,     0.43143,\n",
            "           0.43243,     0.43343,     0.43443,     0.43544,     0.43644,     0.43744,     0.43844,     0.43944,     0.44044,     0.44144,     0.44244,     0.44344,     0.44444,     0.44545,     0.44645,     0.44745,     0.44845,     0.44945,     0.45045,     0.45145,     0.45245,     0.45345,     0.45445,     0.45546,\n",
            "           0.45646,     0.45746,     0.45846,     0.45946,     0.46046,     0.46146,     0.46246,     0.46346,     0.46446,     0.46547,     0.46647,     0.46747,     0.46847,     0.46947,     0.47047,     0.47147,     0.47247,     0.47347,     0.47447,     0.47548,     0.47648,     0.47748,     0.47848,     0.47948,\n",
            "           0.48048,     0.48148,     0.48248,     0.48348,     0.48448,     0.48549,     0.48649,     0.48749,     0.48849,     0.48949,     0.49049,     0.49149,     0.49249,     0.49349,     0.49449,      0.4955,      0.4965,      0.4975,      0.4985,      0.4995,      0.5005,      0.5015,      0.5025,      0.5035,\n",
            "            0.5045,     0.50551,     0.50651,     0.50751,     0.50851,     0.50951,     0.51051,     0.51151,     0.51251,     0.51351,     0.51451,     0.51552,     0.51652,     0.51752,     0.51852,     0.51952,     0.52052,     0.52152,     0.52252,     0.52352,     0.52452,     0.52553,     0.52653,     0.52753,\n",
            "           0.52853,     0.52953,     0.53053,     0.53153,     0.53253,     0.53353,     0.53453,     0.53554,     0.53654,     0.53754,     0.53854,     0.53954,     0.54054,     0.54154,     0.54254,     0.54354,     0.54454,     0.54555,     0.54655,     0.54755,     0.54855,     0.54955,     0.55055,     0.55155,\n",
            "           0.55255,     0.55355,     0.55455,     0.55556,     0.55656,     0.55756,     0.55856,     0.55956,     0.56056,     0.56156,     0.56256,     0.56356,     0.56456,     0.56557,     0.56657,     0.56757,     0.56857,     0.56957,     0.57057,     0.57157,     0.57257,     0.57357,     0.57457,     0.57558,\n",
            "           0.57658,     0.57758,     0.57858,     0.57958,     0.58058,     0.58158,     0.58258,     0.58358,     0.58458,     0.58559,     0.58659,     0.58759,     0.58859,     0.58959,     0.59059,     0.59159,     0.59259,     0.59359,     0.59459,      0.5956,      0.5966,      0.5976,      0.5986,      0.5996,\n",
            "            0.6006,      0.6016,      0.6026,      0.6036,      0.6046,     0.60561,     0.60661,     0.60761,     0.60861,     0.60961,     0.61061,     0.61161,     0.61261,     0.61361,     0.61461,     0.61562,     0.61662,     0.61762,     0.61862,     0.61962,     0.62062,     0.62162,     0.62262,     0.62362,\n",
            "           0.62462,     0.62563,     0.62663,     0.62763,     0.62863,     0.62963,     0.63063,     0.63163,     0.63263,     0.63363,     0.63463,     0.63564,     0.63664,     0.63764,     0.63864,     0.63964,     0.64064,     0.64164,     0.64264,     0.64364,     0.64464,     0.64565,     0.64665,     0.64765,\n",
            "           0.64865,     0.64965,     0.65065,     0.65165,     0.65265,     0.65365,     0.65465,     0.65566,     0.65666,     0.65766,     0.65866,     0.65966,     0.66066,     0.66166,     0.66266,     0.66366,     0.66466,     0.66567,     0.66667,     0.66767,     0.66867,     0.66967,     0.67067,     0.67167,\n",
            "           0.67267,     0.67367,     0.67467,     0.67568,     0.67668,     0.67768,     0.67868,     0.67968,     0.68068,     0.68168,     0.68268,     0.68368,     0.68468,     0.68569,     0.68669,     0.68769,     0.68869,     0.68969,     0.69069,     0.69169,     0.69269,     0.69369,     0.69469,      0.6957,\n",
            "            0.6967,      0.6977,      0.6987,      0.6997,      0.7007,      0.7017,      0.7027,      0.7037,      0.7047,     0.70571,     0.70671,     0.70771,     0.70871,     0.70971,     0.71071,     0.71171,     0.71271,     0.71371,     0.71471,     0.71572,     0.71672,     0.71772,     0.71872,     0.71972,\n",
            "           0.72072,     0.72172,     0.72272,     0.72372,     0.72472,     0.72573,     0.72673,     0.72773,     0.72873,     0.72973,     0.73073,     0.73173,     0.73273,     0.73373,     0.73473,     0.73574,     0.73674,     0.73774,     0.73874,     0.73974,     0.74074,     0.74174,     0.74274,     0.74374,\n",
            "           0.74474,     0.74575,     0.74675,     0.74775,     0.74875,     0.74975,     0.75075,     0.75175,     0.75275,     0.75375,     0.75475,     0.75576,     0.75676,     0.75776,     0.75876,     0.75976,     0.76076,     0.76176,     0.76276,     0.76376,     0.76476,     0.76577,     0.76677,     0.76777,\n",
            "           0.76877,     0.76977,     0.77077,     0.77177,     0.77277,     0.77377,     0.77477,     0.77578,     0.77678,     0.77778,     0.77878,     0.77978,     0.78078,     0.78178,     0.78278,     0.78378,     0.78478,     0.78579,     0.78679,     0.78779,     0.78879,     0.78979,     0.79079,     0.79179,\n",
            "           0.79279,     0.79379,     0.79479,      0.7958,      0.7968,      0.7978,      0.7988,      0.7998,      0.8008,      0.8018,      0.8028,      0.8038,      0.8048,     0.80581,     0.80681,     0.80781,     0.80881,     0.80981,     0.81081,     0.81181,     0.81281,     0.81381,     0.81481,     0.81582,\n",
            "           0.81682,     0.81782,     0.81882,     0.81982,     0.82082,     0.82182,     0.82282,     0.82382,     0.82482,     0.82583,     0.82683,     0.82783,     0.82883,     0.82983,     0.83083,     0.83183,     0.83283,     0.83383,     0.83483,     0.83584,     0.83684,     0.83784,     0.83884,     0.83984,\n",
            "           0.84084,     0.84184,     0.84284,     0.84384,     0.84484,     0.84585,     0.84685,     0.84785,     0.84885,     0.84985,     0.85085,     0.85185,     0.85285,     0.85385,     0.85485,     0.85586,     0.85686,     0.85786,     0.85886,     0.85986,     0.86086,     0.86186,     0.86286,     0.86386,\n",
            "           0.86486,     0.86587,     0.86687,     0.86787,     0.86887,     0.86987,     0.87087,     0.87187,     0.87287,     0.87387,     0.87487,     0.87588,     0.87688,     0.87788,     0.87888,     0.87988,     0.88088,     0.88188,     0.88288,     0.88388,     0.88488,     0.88589,     0.88689,     0.88789,\n",
            "           0.88889,     0.88989,     0.89089,     0.89189,     0.89289,     0.89389,     0.89489,      0.8959,      0.8969,      0.8979,      0.8989,      0.8999,      0.9009,      0.9019,      0.9029,      0.9039,      0.9049,     0.90591,     0.90691,     0.90791,     0.90891,     0.90991,     0.91091,     0.91191,\n",
            "           0.91291,     0.91391,     0.91491,     0.91592,     0.91692,     0.91792,     0.91892,     0.91992,     0.92092,     0.92192,     0.92292,     0.92392,     0.92492,     0.92593,     0.92693,     0.92793,     0.92893,     0.92993,     0.93093,     0.93193,     0.93293,     0.93393,     0.93493,     0.93594,\n",
            "           0.93694,     0.93794,     0.93894,     0.93994,     0.94094,     0.94194,     0.94294,     0.94394,     0.94494,     0.94595,     0.94695,     0.94795,     0.94895,     0.94995,     0.95095,     0.95195,     0.95295,     0.95395,     0.95495,     0.95596,     0.95696,     0.95796,     0.95896,     0.95996,\n",
            "           0.96096,     0.96196,     0.96296,     0.96396,     0.96496,     0.96597,     0.96697,     0.96797,     0.96897,     0.96997,     0.97097,     0.97197,     0.97297,     0.97397,     0.97497,     0.97598,     0.97698,     0.97798,     0.97898,     0.97998,     0.98098,     0.98198,     0.98298,     0.98398,\n",
            "           0.98498,     0.98599,     0.98699,     0.98799,     0.98899,     0.98999,     0.99099,     0.99199,     0.99299,     0.99399,     0.99499,       0.996,       0.997,       0.998,       0.999,           1]), array([[    0.96181,     0.96181,     0.95139,     0.93403,     0.93056,     0.92361,     0.91319,     0.90972,     0.90625,     0.90625,     0.89583,     0.88889,     0.88542,     0.88542,     0.88194,     0.88194,     0.88194,     0.88194,     0.87847,       0.875,       0.875,     0.87153,     0.86806,\n",
            "            0.86806,     0.86806,     0.86806,     0.86806,     0.86806,     0.86458,     0.86458,     0.86458,     0.86458,     0.86458,     0.86111,     0.86111,     0.85764,     0.85417,     0.85417,     0.85417,     0.85417,     0.85417,     0.85417,     0.85417,     0.85255,     0.85069,     0.85069,\n",
            "            0.85069,     0.85069,     0.85069,     0.85069,     0.85069,     0.85069,     0.85069,     0.85069,     0.85069,     0.85069,     0.85069,     0.85069,     0.85069,      0.8504,     0.84757,     0.84722,     0.84722,     0.84722,     0.84722,     0.84722,     0.84375,     0.84375,     0.84375,\n",
            "            0.84375,     0.84375,     0.84375,     0.84375,     0.84028,     0.84028,     0.84028,     0.84028,     0.84028,     0.83919,     0.83711,     0.83681,     0.83681,     0.83681,     0.83681,     0.83681,     0.83681,     0.83681,     0.83681,     0.83681,     0.83681,     0.83681,     0.83681,\n",
            "            0.83681,     0.83681,     0.83681,     0.83681,     0.83681,     0.83681,     0.83681,     0.83681,     0.83479,     0.82986,     0.82968,     0.82754,     0.82639,     0.82639,     0.82639,     0.82639,     0.82639,     0.82639,     0.82639,     0.82639,     0.82639,     0.82601,     0.82292,\n",
            "            0.82292,     0.82223,     0.81944,     0.81944,     0.81944,     0.81944,     0.81944,     0.81944,     0.81944,     0.81944,     0.81944,     0.81944,      0.8125,      0.8125,      0.8125,      0.8125,      0.8125,      0.8125,     0.81206,     0.81111,     0.81017,     0.80922,     0.80903,\n",
            "            0.80903,     0.80903,     0.80903,     0.80903,     0.80903,     0.80903,     0.80903,     0.80903,     0.80903,     0.80903,     0.80903,     0.80903,     0.80903,     0.80801,     0.80556,     0.80556,     0.80556,     0.80556,     0.80556,     0.80556,     0.80556,     0.80556,     0.80556,\n",
            "            0.80556,     0.80556,     0.80556,     0.80507,     0.80454,     0.80401,     0.80348,     0.80295,     0.80242,     0.80121,     0.79878,     0.79654,     0.79514,     0.79514,     0.79514,     0.79514,     0.79514,     0.79514,     0.79514,     0.79514,     0.79514,     0.79514,     0.79514,\n",
            "            0.79514,     0.79514,     0.79514,     0.79514,     0.79514,     0.79514,     0.79514,     0.79514,     0.79514,     0.79514,     0.79514,     0.79514,     0.79491,     0.79452,     0.79412,     0.79373,     0.79334,     0.79294,     0.79255,     0.79216,     0.79176,     0.79167,     0.79167,\n",
            "            0.79167,     0.79167,     0.79167,     0.79167,     0.79167,     0.79167,     0.79167,     0.79167,     0.79167,     0.79167,     0.79167,     0.79167,     0.79167,     0.79167,     0.78819,     0.78819,     0.78819,     0.78819,     0.78819,     0.78819,     0.78819,     0.78819,     0.78819,\n",
            "            0.78819,     0.78819,     0.78819,     0.78819,     0.78819,     0.78819,     0.78819,     0.78819,     0.78819,     0.78819,     0.78819,     0.78736,     0.78588,     0.78472,     0.78472,     0.78472,     0.78472,     0.78472,     0.78395,     0.78275,     0.78156,     0.77755,     0.77683,\n",
            "             0.7761,     0.77537,     0.77464,     0.77431,     0.77431,     0.77431,     0.77431,      0.7737,     0.77222,     0.77083,     0.77083,     0.77083,     0.77083,     0.77083,     0.77083,     0.77083,     0.77083,     0.77083,     0.77083,     0.77083,     0.77083,     0.76935,     0.76759,\n",
            "            0.76736,     0.76736,     0.76736,     0.76736,     0.76736,     0.76736,     0.76736,     0.76736,     0.76736,     0.76736,     0.76709,     0.76666,     0.76623,      0.7658,     0.76537,     0.76494,     0.76451,     0.76408,     0.76389,     0.76389,     0.76389,     0.76389,     0.76389,\n",
            "            0.76389,     0.76389,     0.76362,     0.76328,     0.76293,     0.76259,     0.76225,     0.76191,     0.76157,     0.76122,     0.76088,     0.76054,     0.76042,     0.76042,     0.76042,     0.76042,     0.76042,     0.76042,     0.76042,     0.76042,     0.76042,     0.76042,     0.76042,\n",
            "            0.76042,     0.76042,     0.76042,     0.76042,     0.76042,     0.76042,     0.76042,     0.76042,     0.76042,     0.76042,     0.76042,     0.76042,     0.76042,     0.76042,     0.76042,     0.76042,     0.76042,     0.76042,     0.76042,     0.76042,     0.76042,     0.76042,     0.76042,\n",
            "            0.76042,     0.76042,     0.76042,     0.76042,     0.76042,     0.76042,     0.76042,     0.76042,     0.76042,     0.76042,     0.76042,     0.76042,     0.76042,     0.76042,     0.76042,     0.76042,     0.76042,     0.76042,     0.76042,     0.76042,     0.76042,     0.75694,     0.75587,\n",
            "            0.75425,     0.75347,     0.75347,     0.75347,     0.75347,     0.75347,     0.75347,     0.75347,     0.75347,     0.75347,     0.75318,     0.75146,        0.75,        0.75,        0.75,     0.74928,     0.74702,     0.74493,     0.74302,     0.74259,     0.74217,     0.74174,     0.74131,\n",
            "            0.74089,     0.74046,     0.74003,     0.73961,     0.73642,     0.73611,     0.73611,     0.73548,      0.7345,     0.73352,     0.73264,     0.73264,     0.73264,     0.73264,     0.73264,     0.73264,     0.73264,     0.73264,     0.73264,     0.73264,     0.73264,     0.73264,     0.73264,\n",
            "            0.73264,     0.73264,     0.73264,     0.73264,     0.73264,     0.73264,     0.73264,     0.73264,     0.73264,     0.73264,     0.73264,     0.73264,     0.73258,     0.72917,     0.72917,     0.72917,     0.72917,     0.72917,     0.72917,     0.72917,     0.72917,     0.72917,      0.7267,\n",
            "            0.72455,     0.72276,     0.72194,     0.72155,     0.72115,     0.72075,     0.72035,     0.71995,     0.71955,     0.71915,     0.71876,     0.71875,     0.71875,     0.71875,     0.71875,     0.71875,     0.71875,     0.71875,     0.71875,     0.71875,     0.71875,     0.71875,     0.71875,\n",
            "            0.71875,     0.71875,     0.71875,     0.71875,     0.71875,     0.71875,     0.71875,     0.71875,     0.71875,     0.71875,     0.71867,     0.71846,     0.71825,     0.71805,     0.71784,     0.71763,     0.71743,     0.71722,     0.71701,     0.71681,      0.7166,     0.71639,     0.71619,\n",
            "            0.71598,     0.71577,     0.71557,     0.71536,     0.71528,     0.71528,     0.71528,     0.71528,     0.71528,     0.71528,     0.71528,     0.71528,     0.71526,     0.71488,      0.7145,     0.71412,     0.71375,     0.71337,     0.71299,     0.71261,     0.71224,     0.71186,     0.71181,\n",
            "            0.71181,     0.71181,     0.71181,     0.71181,     0.71181,     0.71181,     0.71181,     0.71181,     0.71181,     0.71181,     0.71181,     0.71181,     0.71181,     0.71181,     0.71181,     0.71181,     0.71181,     0.71181,     0.71181,     0.71181,     0.71181,     0.71181,     0.71181,\n",
            "            0.71181,     0.71181,     0.71181,     0.71181,     0.71181,     0.71181,     0.71181,     0.71181,     0.71181,     0.71181,     0.71175,     0.71061,     0.70948,     0.70835,     0.70691,     0.70546,      0.7035,     0.70139,     0.70139,     0.70139,     0.70139,     0.70139,     0.70139,\n",
            "            0.70139,     0.70139,     0.70139,     0.70103,     0.70024,     0.69945,     0.69866,     0.69779,     0.69578,      0.6938,     0.69189,     0.69097,     0.69097,     0.69097,     0.69097,     0.69097,     0.69097,     0.69097,     0.69075,     0.68961,     0.68846,      0.6874,     0.68674,\n",
            "            0.68608,     0.68542,     0.68477,     0.68411,     0.68349,     0.68286,     0.68224,     0.68162,       0.681,     0.68056,     0.68056,     0.68003,     0.67903,     0.67804,     0.67707,     0.67661,     0.67614,     0.67568,     0.67521,     0.67475,     0.67429,     0.67382,     0.67015,\n",
            "            0.66651,     0.66612,     0.66574,     0.66535,     0.66496,     0.66458,     0.66419,      0.6638,     0.66342,     0.65928,     0.65745,     0.65625,      0.6542,     0.65204,     0.65107,     0.65011,     0.64931,     0.64911,     0.64653,     0.64583,     0.64545,     0.64497,     0.64449,\n",
            "            0.64401,     0.64353,     0.64305,     0.64257,     0.63969,     0.63864,     0.63835,     0.63806,     0.63776,     0.63747,     0.63718,     0.63688,     0.63659,     0.63629,       0.636,     0.63571,     0.63538,     0.63254,     0.62659,     0.62261,     0.62153,     0.62153,     0.62153,\n",
            "            0.62153,     0.62153,     0.62027,     0.61739,     0.61656,     0.61572,     0.61488,     0.61111,     0.61111,     0.61092,     0.61046,        0.61,     0.60954,     0.60907,     0.60861,     0.60815,     0.60769,     0.60662,     0.60546,     0.60431,     0.60223,     0.60069,     0.60069,\n",
            "            0.60069,     0.60069,     0.60069,     0.60069,     0.59951,     0.59713,     0.59659,     0.59606,     0.59553,     0.59499,     0.59446,     0.59392,      0.5929,     0.59163,     0.59036,     0.58445,     0.58333,     0.58321,     0.58273,     0.58225,     0.58178,      0.5813,     0.58082,\n",
            "            0.58034,     0.57986,     0.57891,     0.57796,       0.577,     0.57481,      0.5726,     0.57206,     0.57152,     0.57097,     0.57043,     0.56988,     0.56913,     0.56756,     0.56599,     0.56543,     0.56489,     0.56434,      0.5638,     0.56325,     0.56271,     0.56221,     0.56174,\n",
            "            0.56128,     0.56081,     0.56034,     0.55988,     0.55941,     0.55799,     0.55495,     0.55392,     0.55288,      0.5515,     0.54897,     0.54637,     0.54318,     0.53731,      0.5351,     0.53357,     0.53217,     0.53046,     0.52815,     0.52431,     0.52431,     0.52431,     0.52431,\n",
            "            0.52115,     0.51668,      0.5154,     0.51411,     0.50985,     0.50892,     0.50799,     0.50706,     0.50518,     0.50312,     0.50069,     0.49653,     0.48958,     0.48958,     0.48958,     0.48915,     0.48791,     0.48667,      0.4828,     0.48213,     0.48162,      0.4811,     0.48058,\n",
            "            0.48006,     0.47954,     0.47917,     0.47917,     0.47461,     0.47321,     0.47211,     0.47172,     0.47134,     0.47096,     0.47057,     0.47019,     0.46981,     0.46942,     0.46904,     0.46813,     0.46564,     0.46434,     0.46325,     0.46215,     0.46131,     0.46059,     0.45986,\n",
            "            0.45914,     0.45842,     0.45058,     0.44798,     0.44128,     0.43955,     0.43802,     0.43417,      0.4304,      0.4295,      0.4286,      0.4277,     0.42513,     0.42222,     0.42039,     0.41936,     0.41845,     0.41755,     0.41658,     0.41364,     0.40941,     0.40711,      0.4023,\n",
            "             0.3982,     0.39582,     0.39447,     0.39312,     0.38825,     0.38449,     0.38305,     0.37985,     0.37591,     0.37415,     0.37293,     0.37171,     0.36693,     0.36222,     0.35708,     0.35452,     0.34908,     0.33787,     0.33608,     0.33522,     0.33436,      0.3335,     0.33158,\n",
            "            0.32911,     0.32607,     0.32469,     0.32332,     0.31902,     0.31775,     0.31647,     0.31328,     0.30764,     0.29836,     0.29575,     0.28593,     0.28358,     0.28186,     0.27705,     0.27458,     0.26908,     0.26651,     0.26479,     0.26337,     0.26228,     0.26119,     0.25237,\n",
            "            0.24866,      0.2442,     0.23993,     0.22429,      0.2206,     0.21752,      0.2149,     0.21384,     0.21279,     0.21174,     0.21069,     0.20963,     0.20858,     0.20716,     0.20563,     0.20223,     0.19848,     0.19352,      0.1873,     0.18122,     0.17892,     0.17713,     0.17489,\n",
            "            0.16796,     0.16511,      0.1634,     0.15572,      0.1533,      0.1491,     0.14837,     0.14764,      0.1469,     0.14617,     0.13802,      0.1246,     0.12014,     0.11852,     0.11572,     0.11313,     0.11081,      0.1077,     0.10166,     0.09973,    0.098548,    0.097367,    0.092324,\n",
            "           0.088344,    0.079633,    0.078924,    0.078215,    0.077505,    0.076796,    0.074267,     0.06908,    0.067071,     0.06482,    0.061259,    0.055211,    0.052282,     0.04496,    0.037714,    0.036618,    0.035522,    0.033249,    0.026654,      0.0248,    0.016595,    0.013741,    0.013171,\n",
            "             0.0126,     0.01203,     0.01146,     0.01089,    0.010266,   0.0093828,   0.0084994,   0.0076161,   0.0068891,   0.0066584,   0.0064276,   0.0061968,    0.005966,   0.0057352,   0.0055045,   0.0052737,   0.0050429,   0.0048121,   0.0045813,   0.0043506,   0.0041198,    0.003889,   0.0036582,\n",
            "                  0,           0,           0,           0,           0,           0,           0,           0,           0,           0,           0,           0,           0,           0,           0,           0,           0,           0,           0,           0,           0,           0,           0,\n",
            "                  0,           0,           0,           0,           0,           0,           0,           0,           0,           0,           0,           0,           0,           0,           0,           0,           0,           0,           0,           0,           0,           0,           0,\n",
            "                  0,           0,           0,           0,           0,           0,           0,           0,           0,           0,           0]]), 'Confidence', 'Recall']]\n",
            "fitness: 0.4892769813558083\n",
            "keys: ['metrics/precision(B)', 'metrics/recall(B)', 'metrics/mAP50(B)', 'metrics/mAP50-95(B)']\n",
            "maps: array([     0.4515,      0.4515,      0.4515,      0.4515,      0.4515,      0.4515,      0.4515,      0.4515,      0.4515,      0.4515,      0.4515,      0.4515,      0.4515,      0.4515,      0.4515,      0.4515,      0.4515,      0.4515,      0.4515,      0.4515,      0.4515,      0.4515,      0.4515,      0.4515,\n",
            "            0.4515,      0.4515,      0.4515,      0.4515,      0.4515,      0.4515,      0.4515,      0.4515,      0.4515,      0.4515,      0.4515,      0.4515,      0.4515,      0.4515,      0.4515,      0.4515,      0.4515,      0.4515,      0.4515,      0.4515,      0.4515,      0.4515,      0.4515,      0.4515,\n",
            "            0.4515,      0.4515,      0.4515,      0.4515,      0.4515,      0.4515,      0.4515,      0.4515,      0.4515,      0.4515,      0.4515,      0.4515,      0.4515,      0.4515,      0.4515,      0.4515,      0.4515,      0.4515,      0.4515,      0.4515,      0.4515,      0.4515,      0.4515,      0.4515,\n",
            "            0.4515,      0.4515,      0.4515,      0.4515,      0.4515,      0.4515,      0.4515,      0.4515])\n",
            "names: {0: 'person', 1: 'bicycle', 2: 'car', 3: 'motorcycle', 4: 'airplane', 5: 'bus', 6: 'train', 7: 'truck', 8: 'boat', 9: 'traffic light', 10: 'fire hydrant', 11: 'stop sign', 12: 'parking meter', 13: 'bench', 14: 'bird', 15: 'cat', 16: 'dog', 17: 'horse', 18: 'sheep', 19: 'cow', 20: 'elephant', 21: 'bear', 22: 'zebra', 23: 'giraffe', 24: 'backpack', 25: 'umbrella', 26: 'handbag', 27: 'tie', 28: 'suitcase', 29: 'frisbee', 30: 'skis', 31: 'snowboard', 32: 'sports ball', 33: 'kite', 34: 'baseball bat', 35: 'baseball glove', 36: 'skateboard', 37: 'surfboard', 38: 'tennis racket', 39: 'bottle', 40: 'wine glass', 41: 'cup', 42: 'fork', 43: 'knife', 44: 'spoon', 45: 'bowl', 46: 'banana', 47: 'apple', 48: 'sandwich', 49: 'orange', 50: 'broccoli', 51: 'carrot', 52: 'hot dog', 53: 'pizza', 54: 'donut', 55: 'cake', 56: 'chair', 57: 'couch', 58: 'potted plant', 59: 'bed', 60: 'dining table', 61: 'toilet', 62: 'tv', 63: 'laptop', 64: 'mouse', 65: 'remote', 66: 'keyboard', 67: 'cell phone', 68: 'microwave', 69: 'oven', 70: 'toaster', 71: 'sink', 72: 'refrigerator', 73: 'book', 74: 'clock', 75: 'vase', 76: 'scissors', 77: 'teddy bear', 78: 'hair drier', 79: 'toothbrush'}\n",
            "plot: True\n",
            "results_dict: {'metrics/precision(B)': 0.9033483949329683, 'metrics/recall(B)': 0.7118055555555556, 'metrics/mAP50(B)': 0.8292347590686713, 'metrics/mAP50-95(B)': 0.45150389494326804, 'fitness': 0.4892769813558083}\n",
            "save_dir: PosixPath('runs/detect/val')\n",
            "speed: {'preprocess': 0.4584448678152902, 'inference': 5.127414824470641, 'loss': 0.0013491464039636037, 'postprocess': 4.8211339920286145}\n",
            "task: 'detect'\n",
            "['__class__', '__delattr__', '__dict__', '__dir__', '__doc__', '__eq__', '__format__', '__ge__', '__getattr__', '__getattribute__', '__getstate__', '__gt__', '__hash__', '__init__', '__init_subclass__', '__le__', '__lt__', '__module__', '__ne__', '__new__', '__reduce__', '__reduce_ex__', '__repr__', '__setattr__', '__sizeof__', '__str__', '__subclasshook__', '__weakref__', 'ap_class_index', 'box', 'class_result', 'confusion_matrix', 'curves', 'curves_results', 'fitness', 'keys', 'maps', 'mean_results', 'names', 'on_plot', 'plot', 'process', 'results_dict', 'save_dir', 'speed', 'task']\n",
            "ultralytics.utils.metrics.Metric object with attributes:\n",
            "\n",
            "all_ap: array([[    0.82923,     0.79589,     0.72922,     0.66907,     0.57393,     0.42238,     0.25526,     0.15668,    0.071899,     0.01148]])\n",
            "ap: array([     0.4515])\n",
            "ap50: array([    0.82923])\n",
            "ap_class_index: array([0])\n",
            "curves: []\n",
            "curves_results: [[array([          0,    0.001001,    0.002002,    0.003003,    0.004004,    0.005005,    0.006006,    0.007007,    0.008008,    0.009009,     0.01001,    0.011011,    0.012012,    0.013013,    0.014014,    0.015015,    0.016016,    0.017017,    0.018018,    0.019019,     0.02002,    0.021021,    0.022022,    0.023023,\n",
            "          0.024024,    0.025025,    0.026026,    0.027027,    0.028028,    0.029029,     0.03003,    0.031031,    0.032032,    0.033033,    0.034034,    0.035035,    0.036036,    0.037037,    0.038038,    0.039039,     0.04004,    0.041041,    0.042042,    0.043043,    0.044044,    0.045045,    0.046046,    0.047047,\n",
            "          0.048048,    0.049049,     0.05005,    0.051051,    0.052052,    0.053053,    0.054054,    0.055055,    0.056056,    0.057057,    0.058058,    0.059059,     0.06006,    0.061061,    0.062062,    0.063063,    0.064064,    0.065065,    0.066066,    0.067067,    0.068068,    0.069069,     0.07007,    0.071071,\n",
            "          0.072072,    0.073073,    0.074074,    0.075075,    0.076076,    0.077077,    0.078078,    0.079079,     0.08008,    0.081081,    0.082082,    0.083083,    0.084084,    0.085085,    0.086086,    0.087087,    0.088088,    0.089089,     0.09009,    0.091091,    0.092092,    0.093093,    0.094094,    0.095095,\n",
            "          0.096096,    0.097097,    0.098098,    0.099099,      0.1001,      0.1011,      0.1021,      0.1031,      0.1041,     0.10511,     0.10611,     0.10711,     0.10811,     0.10911,     0.11011,     0.11111,     0.11211,     0.11311,     0.11411,     0.11512,     0.11612,     0.11712,     0.11812,     0.11912,\n",
            "           0.12012,     0.12112,     0.12212,     0.12312,     0.12412,     0.12513,     0.12613,     0.12713,     0.12813,     0.12913,     0.13013,     0.13113,     0.13213,     0.13313,     0.13413,     0.13514,     0.13614,     0.13714,     0.13814,     0.13914,     0.14014,     0.14114,     0.14214,     0.14314,\n",
            "           0.14414,     0.14515,     0.14615,     0.14715,     0.14815,     0.14915,     0.15015,     0.15115,     0.15215,     0.15315,     0.15415,     0.15516,     0.15616,     0.15716,     0.15816,     0.15916,     0.16016,     0.16116,     0.16216,     0.16316,     0.16416,     0.16517,     0.16617,     0.16717,\n",
            "           0.16817,     0.16917,     0.17017,     0.17117,     0.17217,     0.17317,     0.17417,     0.17518,     0.17618,     0.17718,     0.17818,     0.17918,     0.18018,     0.18118,     0.18218,     0.18318,     0.18418,     0.18519,     0.18619,     0.18719,     0.18819,     0.18919,     0.19019,     0.19119,\n",
            "           0.19219,     0.19319,     0.19419,      0.1952,      0.1962,      0.1972,      0.1982,      0.1992,      0.2002,      0.2012,      0.2022,      0.2032,      0.2042,     0.20521,     0.20621,     0.20721,     0.20821,     0.20921,     0.21021,     0.21121,     0.21221,     0.21321,     0.21421,     0.21522,\n",
            "           0.21622,     0.21722,     0.21822,     0.21922,     0.22022,     0.22122,     0.22222,     0.22322,     0.22422,     0.22523,     0.22623,     0.22723,     0.22823,     0.22923,     0.23023,     0.23123,     0.23223,     0.23323,     0.23423,     0.23524,     0.23624,     0.23724,     0.23824,     0.23924,\n",
            "           0.24024,     0.24124,     0.24224,     0.24324,     0.24424,     0.24525,     0.24625,     0.24725,     0.24825,     0.24925,     0.25025,     0.25125,     0.25225,     0.25325,     0.25425,     0.25526,     0.25626,     0.25726,     0.25826,     0.25926,     0.26026,     0.26126,     0.26226,     0.26326,\n",
            "           0.26426,     0.26527,     0.26627,     0.26727,     0.26827,     0.26927,     0.27027,     0.27127,     0.27227,     0.27327,     0.27427,     0.27528,     0.27628,     0.27728,     0.27828,     0.27928,     0.28028,     0.28128,     0.28228,     0.28328,     0.28428,     0.28529,     0.28629,     0.28729,\n",
            "           0.28829,     0.28929,     0.29029,     0.29129,     0.29229,     0.29329,     0.29429,      0.2953,      0.2963,      0.2973,      0.2983,      0.2993,      0.3003,      0.3013,      0.3023,      0.3033,      0.3043,     0.30531,     0.30631,     0.30731,     0.30831,     0.30931,     0.31031,     0.31131,\n",
            "           0.31231,     0.31331,     0.31431,     0.31532,     0.31632,     0.31732,     0.31832,     0.31932,     0.32032,     0.32132,     0.32232,     0.32332,     0.32432,     0.32533,     0.32633,     0.32733,     0.32833,     0.32933,     0.33033,     0.33133,     0.33233,     0.33333,     0.33433,     0.33534,\n",
            "           0.33634,     0.33734,     0.33834,     0.33934,     0.34034,     0.34134,     0.34234,     0.34334,     0.34434,     0.34535,     0.34635,     0.34735,     0.34835,     0.34935,     0.35035,     0.35135,     0.35235,     0.35335,     0.35435,     0.35536,     0.35636,     0.35736,     0.35836,     0.35936,\n",
            "           0.36036,     0.36136,     0.36236,     0.36336,     0.36436,     0.36537,     0.36637,     0.36737,     0.36837,     0.36937,     0.37037,     0.37137,     0.37237,     0.37337,     0.37437,     0.37538,     0.37638,     0.37738,     0.37838,     0.37938,     0.38038,     0.38138,     0.38238,     0.38338,\n",
            "           0.38438,     0.38539,     0.38639,     0.38739,     0.38839,     0.38939,     0.39039,     0.39139,     0.39239,     0.39339,     0.39439,      0.3954,      0.3964,      0.3974,      0.3984,      0.3994,      0.4004,      0.4014,      0.4024,      0.4034,      0.4044,     0.40541,     0.40641,     0.40741,\n",
            "           0.40841,     0.40941,     0.41041,     0.41141,     0.41241,     0.41341,     0.41441,     0.41542,     0.41642,     0.41742,     0.41842,     0.41942,     0.42042,     0.42142,     0.42242,     0.42342,     0.42442,     0.42543,     0.42643,     0.42743,     0.42843,     0.42943,     0.43043,     0.43143,\n",
            "           0.43243,     0.43343,     0.43443,     0.43544,     0.43644,     0.43744,     0.43844,     0.43944,     0.44044,     0.44144,     0.44244,     0.44344,     0.44444,     0.44545,     0.44645,     0.44745,     0.44845,     0.44945,     0.45045,     0.45145,     0.45245,     0.45345,     0.45445,     0.45546,\n",
            "           0.45646,     0.45746,     0.45846,     0.45946,     0.46046,     0.46146,     0.46246,     0.46346,     0.46446,     0.46547,     0.46647,     0.46747,     0.46847,     0.46947,     0.47047,     0.47147,     0.47247,     0.47347,     0.47447,     0.47548,     0.47648,     0.47748,     0.47848,     0.47948,\n",
            "           0.48048,     0.48148,     0.48248,     0.48348,     0.48448,     0.48549,     0.48649,     0.48749,     0.48849,     0.48949,     0.49049,     0.49149,     0.49249,     0.49349,     0.49449,      0.4955,      0.4965,      0.4975,      0.4985,      0.4995,      0.5005,      0.5015,      0.5025,      0.5035,\n",
            "            0.5045,     0.50551,     0.50651,     0.50751,     0.50851,     0.50951,     0.51051,     0.51151,     0.51251,     0.51351,     0.51451,     0.51552,     0.51652,     0.51752,     0.51852,     0.51952,     0.52052,     0.52152,     0.52252,     0.52352,     0.52452,     0.52553,     0.52653,     0.52753,\n",
            "           0.52853,     0.52953,     0.53053,     0.53153,     0.53253,     0.53353,     0.53453,     0.53554,     0.53654,     0.53754,     0.53854,     0.53954,     0.54054,     0.54154,     0.54254,     0.54354,     0.54454,     0.54555,     0.54655,     0.54755,     0.54855,     0.54955,     0.55055,     0.55155,\n",
            "           0.55255,     0.55355,     0.55455,     0.55556,     0.55656,     0.55756,     0.55856,     0.55956,     0.56056,     0.56156,     0.56256,     0.56356,     0.56456,     0.56557,     0.56657,     0.56757,     0.56857,     0.56957,     0.57057,     0.57157,     0.57257,     0.57357,     0.57457,     0.57558,\n",
            "           0.57658,     0.57758,     0.57858,     0.57958,     0.58058,     0.58158,     0.58258,     0.58358,     0.58458,     0.58559,     0.58659,     0.58759,     0.58859,     0.58959,     0.59059,     0.59159,     0.59259,     0.59359,     0.59459,      0.5956,      0.5966,      0.5976,      0.5986,      0.5996,\n",
            "            0.6006,      0.6016,      0.6026,      0.6036,      0.6046,     0.60561,     0.60661,     0.60761,     0.60861,     0.60961,     0.61061,     0.61161,     0.61261,     0.61361,     0.61461,     0.61562,     0.61662,     0.61762,     0.61862,     0.61962,     0.62062,     0.62162,     0.62262,     0.62362,\n",
            "           0.62462,     0.62563,     0.62663,     0.62763,     0.62863,     0.62963,     0.63063,     0.63163,     0.63263,     0.63363,     0.63463,     0.63564,     0.63664,     0.63764,     0.63864,     0.63964,     0.64064,     0.64164,     0.64264,     0.64364,     0.64464,     0.64565,     0.64665,     0.64765,\n",
            "           0.64865,     0.64965,     0.65065,     0.65165,     0.65265,     0.65365,     0.65465,     0.65566,     0.65666,     0.65766,     0.65866,     0.65966,     0.66066,     0.66166,     0.66266,     0.66366,     0.66466,     0.66567,     0.66667,     0.66767,     0.66867,     0.66967,     0.67067,     0.67167,\n",
            "           0.67267,     0.67367,     0.67467,     0.67568,     0.67668,     0.67768,     0.67868,     0.67968,     0.68068,     0.68168,     0.68268,     0.68368,     0.68468,     0.68569,     0.68669,     0.68769,     0.68869,     0.68969,     0.69069,     0.69169,     0.69269,     0.69369,     0.69469,      0.6957,\n",
            "            0.6967,      0.6977,      0.6987,      0.6997,      0.7007,      0.7017,      0.7027,      0.7037,      0.7047,     0.70571,     0.70671,     0.70771,     0.70871,     0.70971,     0.71071,     0.71171,     0.71271,     0.71371,     0.71471,     0.71572,     0.71672,     0.71772,     0.71872,     0.71972,\n",
            "           0.72072,     0.72172,     0.72272,     0.72372,     0.72472,     0.72573,     0.72673,     0.72773,     0.72873,     0.72973,     0.73073,     0.73173,     0.73273,     0.73373,     0.73473,     0.73574,     0.73674,     0.73774,     0.73874,     0.73974,     0.74074,     0.74174,     0.74274,     0.74374,\n",
            "           0.74474,     0.74575,     0.74675,     0.74775,     0.74875,     0.74975,     0.75075,     0.75175,     0.75275,     0.75375,     0.75475,     0.75576,     0.75676,     0.75776,     0.75876,     0.75976,     0.76076,     0.76176,     0.76276,     0.76376,     0.76476,     0.76577,     0.76677,     0.76777,\n",
            "           0.76877,     0.76977,     0.77077,     0.77177,     0.77277,     0.77377,     0.77477,     0.77578,     0.77678,     0.77778,     0.77878,     0.77978,     0.78078,     0.78178,     0.78278,     0.78378,     0.78478,     0.78579,     0.78679,     0.78779,     0.78879,     0.78979,     0.79079,     0.79179,\n",
            "           0.79279,     0.79379,     0.79479,      0.7958,      0.7968,      0.7978,      0.7988,      0.7998,      0.8008,      0.8018,      0.8028,      0.8038,      0.8048,     0.80581,     0.80681,     0.80781,     0.80881,     0.80981,     0.81081,     0.81181,     0.81281,     0.81381,     0.81481,     0.81582,\n",
            "           0.81682,     0.81782,     0.81882,     0.81982,     0.82082,     0.82182,     0.82282,     0.82382,     0.82482,     0.82583,     0.82683,     0.82783,     0.82883,     0.82983,     0.83083,     0.83183,     0.83283,     0.83383,     0.83483,     0.83584,     0.83684,     0.83784,     0.83884,     0.83984,\n",
            "           0.84084,     0.84184,     0.84284,     0.84384,     0.84484,     0.84585,     0.84685,     0.84785,     0.84885,     0.84985,     0.85085,     0.85185,     0.85285,     0.85385,     0.85485,     0.85586,     0.85686,     0.85786,     0.85886,     0.85986,     0.86086,     0.86186,     0.86286,     0.86386,\n",
            "           0.86486,     0.86587,     0.86687,     0.86787,     0.86887,     0.86987,     0.87087,     0.87187,     0.87287,     0.87387,     0.87487,     0.87588,     0.87688,     0.87788,     0.87888,     0.87988,     0.88088,     0.88188,     0.88288,     0.88388,     0.88488,     0.88589,     0.88689,     0.88789,\n",
            "           0.88889,     0.88989,     0.89089,     0.89189,     0.89289,     0.89389,     0.89489,      0.8959,      0.8969,      0.8979,      0.8989,      0.8999,      0.9009,      0.9019,      0.9029,      0.9039,      0.9049,     0.90591,     0.90691,     0.90791,     0.90891,     0.90991,     0.91091,     0.91191,\n",
            "           0.91291,     0.91391,     0.91491,     0.91592,     0.91692,     0.91792,     0.91892,     0.91992,     0.92092,     0.92192,     0.92292,     0.92392,     0.92492,     0.92593,     0.92693,     0.92793,     0.92893,     0.92993,     0.93093,     0.93193,     0.93293,     0.93393,     0.93493,     0.93594,\n",
            "           0.93694,     0.93794,     0.93894,     0.93994,     0.94094,     0.94194,     0.94294,     0.94394,     0.94494,     0.94595,     0.94695,     0.94795,     0.94895,     0.94995,     0.95095,     0.95195,     0.95295,     0.95395,     0.95495,     0.95596,     0.95696,     0.95796,     0.95896,     0.95996,\n",
            "           0.96096,     0.96196,     0.96296,     0.96396,     0.96496,     0.96597,     0.96697,     0.96797,     0.96897,     0.96997,     0.97097,     0.97197,     0.97297,     0.97397,     0.97497,     0.97598,     0.97698,     0.97798,     0.97898,     0.97998,     0.98098,     0.98198,     0.98298,     0.98398,\n",
            "           0.98498,     0.98599,     0.98699,     0.98799,     0.98899,     0.98999,     0.99099,     0.99199,     0.99299,     0.99399,     0.99499,       0.996,       0.997,       0.998,       0.999,           1]), array([[          1,           1,           1,           1,           1,           1,           1,           1,           1,           1,           1,           1,           1,           1,           1,           1,           1,           1,           1,           1,           1,           1,           1,\n",
            "                  1,           1,           1,           1,           1,           1,           1,           1,           1,           1,           1,           1,           1,           1,           1,           1,           1,           1,           1,           1,           1,           1,           1,\n",
            "                  1,           1,           1,           1,           1,           1,           1,           1,           1,           1,           1,           1,           1,           1,           1,           1,           1,           1,           1,           1,           1,           1,           1,\n",
            "                  1,           1,           1,           1,           1,           1,           1,           1,           1,           1,           1,           1,           1,           1,           1,           1,           1,           1,           1,           1,           1,           1,           1,\n",
            "                  1,           1,           1,           1,           1,           1,           1,           1,           1,           1,           1,           1,           1,           1,           1,           1,           1,           1,           1,           1,           1,           1,           1,\n",
            "                  1,           1,           1,           1,           1,           1,           1,           1,           1,           1,           1,           1,           1,           1,           1,           1,           1,           1,           1,           1,           1,           1,           1,\n",
            "                  1,           1,           1,           1,           1,           1,           1,           1,           1,           1,           1,           1,           1,           1,           1,           1,           1,           1,           1,           1,           1,           1,           1,\n",
            "                  1,           1,           1,           1,           1,           1,           1,           1,           1,           1,           1,           1,           1,           1,           1,           1,           1,           1,           1,           1,           1,           1,           1,\n",
            "                  1,           1,           1,           1,           1,           1,           1,           1,           1,           1,           1,           1,           1,           1,           1,           1,           1,           1,           1,           1,           1,           1,           1,\n",
            "                  1,           1,           1,           1,           1,           1,           1,           1,           1,           1,           1,           1,           1,           1,           1,           1,           1,           1,           1,           1,           1,           1,           1,\n",
            "                  1,           1,           1,           1,           1,           1,           1,           1,           1,           1,           1,           1,           1,           1,           1,           1,           1,           1,           1,           1,           1,           1,           1,\n",
            "                  1,           1,           1,           1,           1,           1,           1,           1,           1,           1,           1,           1,           1,           1,           1,           1,           1,           1,           1,           1,           1,           1,           1,\n",
            "                  1,           1,           1,           1,           1,           1,           1,           1,           1,           1,           1,           1,           1,           1,           1,           1,           1,           1,           1,           1,           1,           1,           1,\n",
            "                  1,           1,           1,           1,           1,           1,           1,           1,           1,           1,           1,           1,           1,           1,           1,           1,           1,           1,           1,           1,           1,           1,           1,\n",
            "                  1,           1,           1,           1,           1,           1,           1,           1,           1,           1,           1,           1,           1,           1,           1,           1,           1,           1,      0.9901,      0.9901,      0.9901,      0.9901,      0.9901,\n",
            "             0.9901,      0.9901,     0.98571,     0.98571,     0.98571,     0.98571,     0.98571,     0.98571,     0.98571,     0.98571,     0.98571,     0.98571,     0.98571,     0.98571,     0.98571,     0.98571,     0.98571,     0.98571,     0.98571,     0.98571,     0.98571,     0.98571,     0.98571,\n",
            "            0.98571,     0.98571,     0.98571,     0.98571,     0.98571,     0.98571,     0.98571,     0.98571,     0.98571,     0.98571,     0.98571,     0.98571,     0.98571,     0.98571,     0.98571,     0.98571,     0.98571,     0.98571,     0.98571,     0.98571,     0.98571,     0.98571,     0.98571,\n",
            "            0.98571,     0.98571,     0.98571,     0.98571,     0.98571,     0.98571,     0.98571,     0.98571,     0.98571,     0.98571,     0.98571,     0.98571,     0.98571,     0.98571,     0.98571,     0.98571,     0.98571,     0.98571,     0.98571,     0.98571,     0.98571,     0.98571,     0.98571,\n",
            "            0.98571,     0.98571,     0.98571,     0.98571,     0.98571,     0.98571,     0.98571,     0.98571,     0.98571,     0.98571,     0.98571,     0.98571,     0.98571,     0.98571,     0.98571,     0.98571,     0.98571,     0.98571,     0.98571,     0.98571,     0.98571,     0.98571,     0.98571,\n",
            "            0.98571,     0.98571,     0.98571,     0.98571,     0.98571,     0.98571,     0.98571,     0.98571,     0.98571,     0.98571,     0.98571,     0.98571,     0.98571,     0.98571,     0.98571,     0.98571,     0.98571,     0.98571,     0.98571,     0.98571,     0.98571,     0.98571,     0.98571,\n",
            "            0.98571,     0.98571,     0.98571,     0.98571,     0.98571,     0.98571,     0.98571,     0.98571,     0.98571,     0.98571,     0.98571,     0.98571,     0.98571,     0.98571,     0.98571,     0.98571,     0.98571,     0.98571,     0.98571,     0.97917,     0.97917,     0.97917,     0.97917,\n",
            "            0.97917,     0.97917,     0.97917,     0.97917,     0.97917,     0.97917,     0.97917,     0.97279,     0.97279,     0.97279,     0.97279,     0.97279,     0.97279,     0.97279,     0.96795,     0.96795,     0.96795,     0.96795,     0.96795,     0.96795,     0.96795,     0.96795,     0.96795,\n",
            "            0.96795,     0.96795,     0.96795,     0.96795,     0.96795,     0.96795,     0.96795,     0.96795,     0.96795,     0.96795,     0.96795,     0.96795,     0.96795,     0.96795,     0.96795,     0.96795,     0.96795,     0.96795,     0.96552,     0.96552,     0.96552,     0.96552,     0.96552,\n",
            "            0.96552,     0.96552,     0.96552,     0.96552,     0.96552,     0.96552,     0.96552,     0.96552,     0.96552,     0.96552,     0.96552,     0.96552,     0.96552,     0.96552,     0.96552,     0.96552,     0.96552,     0.96552,     0.96552,     0.96552,     0.96552,     0.96552,     0.96552,\n",
            "            0.96552,     0.96552,     0.96552,     0.96552,     0.96552,     0.96552,     0.96552,     0.96552,     0.96552,     0.96552,     0.96552,     0.96552,     0.96552,     0.96552,     0.96552,     0.96552,     0.96552,     0.96552,     0.96552,     0.96552,     0.96552,     0.96552,     0.96552,\n",
            "            0.96552,     0.96552,     0.96552,     0.96552,     0.96552,     0.96552,     0.96552,     0.96552,     0.96111,     0.96111,     0.96111,     0.96111,     0.96111,     0.96111,     0.96111,     0.96111,     0.96111,     0.96111,     0.96111,     0.96111,     0.96111,     0.96111,     0.96111,\n",
            "            0.96111,     0.96111,     0.96111,     0.94118,     0.94118,     0.94118,     0.94118,     0.94118,     0.94118,     0.94118,     0.94118,     0.94118,     0.94118,     0.93717,     0.93717,     0.93717,     0.93717,     0.93717,     0.93717,     0.93717,     0.93717,     0.93717,     0.93717,\n",
            "            0.93467,     0.93467,     0.93467,     0.93467,     0.93467,     0.93467,     0.93467,     0.93467,     0.93467,     0.93467,     0.93467,     0.93467,     0.93467,     0.93467,     0.93467,     0.93467,     0.93467,     0.93467,     0.93467,     0.93467,     0.93467,     0.93467,     0.93467,\n",
            "            0.93467,     0.93467,     0.93035,     0.93035,     0.93035,     0.92647,     0.92647,     0.92647,     0.92647,     0.92647,     0.92647,     0.92647,     0.92453,     0.92453,     0.92453,     0.92453,     0.92453,     0.92453,     0.92453,     0.92453,     0.92453,     0.92453,     0.92453,\n",
            "            0.92453,     0.92453,     0.92453,     0.92453,     0.92453,     0.92453,     0.92453,     0.92453,     0.92453,     0.92453,     0.92453,     0.92453,     0.92453,      0.9213,      0.9213,      0.9213,      0.9213,      0.9213,      0.9213,      0.9213,      0.9213,      0.9213,      0.9213,\n",
            "             0.9213,     0.91818,     0.91818,     0.91818,     0.91818,     0.91818,     0.91818,     0.91818,     0.91818,     0.91818,     0.91818,     0.91518,     0.91518,     0.91518,     0.91518,     0.91518,     0.91518,     0.91518,     0.91518,     0.91518,     0.91518,     0.91518,     0.90351,\n",
            "            0.90351,     0.90351,      0.8961,      0.8961,      0.8961,      0.8961,     0.88608,     0.88608,     0.88608,     0.88608,     0.88608,     0.88608,     0.88608,     0.88608,     0.88608,     0.88608,     0.88285,     0.88285,     0.88285,     0.85484,     0.85484,     0.85484,     0.85484,\n",
            "            0.85375,     0.85375,     0.85375,     0.85375,     0.85375,     0.85375,     0.85375,     0.85375,     0.85375,     0.85375,     0.85375,     0.85375,     0.85375,     0.85375,     0.84436,     0.84436,     0.84436,     0.83846,     0.83846,     0.83846,     0.83846,     0.83588,     0.83588,\n",
            "            0.83588,     0.80292,     0.80292,     0.80292,     0.80292,     0.79783,     0.79783,     0.79783,      0.7957,      0.7957,      0.7957,      0.7957,     0.78521,     0.78521,     0.78521,     0.78201,     0.78201,     0.78201,     0.78201,     0.78201,     0.78201,     0.78201,     0.78201,\n",
            "            0.78201,     0.78201,     0.78007,     0.78007,     0.78007,     0.78007,     0.75748,     0.75748,     0.75748,     0.74351,     0.74351,     0.74351,     0.74351,     0.73482,     0.73482,     0.73482,     0.73186,     0.73186,     0.73186,     0.73186,     0.73186,     0.73186,     0.73186,\n",
            "            0.71692,     0.71692,     0.71692,     0.71692,     0.69231,     0.69231,     0.69231,     0.68713,     0.68713,     0.68713,     0.68713,     0.68605,     0.68605,     0.68605,     0.67139,     0.67139,     0.67139,     0.67139,     0.66854,     0.66854,     0.66854,     0.63757,     0.63757,\n",
            "            0.63757,     0.63757,     0.63757,     0.63757,     0.63757,     0.63757,     0.63757,     0.63757,     0.58173,     0.58173,     0.58173,     0.58173,     0.56909,     0.56909,     0.56909,     0.54955,     0.54955,     0.54955,     0.54955,     0.53611,     0.53611,     0.53611,     0.45981,\n",
            "            0.45981,     0.45981,     0.45981,     0.42222,     0.42222,     0.42222,     0.41821,     0.41821,     0.41821,     0.41821,     0.41362,     0.41362,     0.41362,     0.38402,     0.38402,     0.38402,     0.38402,     0.34478,     0.34478,     0.34478,     0.33871,     0.33871,     0.33871,\n",
            "            0.33871,     0.32107,     0.32107,     0.32107,     0.31089,     0.31089,     0.31089,     0.31089,     0.26786,     0.26786,     0.26786,     0.24128,     0.24128,     0.24128,     0.23796,     0.23796,     0.23796,     0.23796,     0.23455,     0.23455,     0.23455,     0.21849,     0.21849,\n",
            "            0.21849,     0.21849,     0.21849,     0.21849,     0.21849,     0.21714,     0.21714,     0.21714,     0.21714,     0.19082,     0.19082,     0.19082,     0.17383,     0.17383,     0.17383,     0.17383,     0.16296,     0.16296,     0.16296,     0.15616,     0.15616,     0.15616,     0.15616,\n",
            "            0.15574,     0.15574,     0.15574,     0.14432,     0.14432,     0.14432,     0.14432,      0.1344,      0.1344,      0.1344,     0.12334,     0.12334,     0.12334,     0.12334,     0.10993,     0.10993,     0.10993,     0.10226,     0.10226,     0.10226,     0.10226,      0.1018,      0.1018,\n",
            "             0.1018,    0.099309,    0.099309,    0.099309,    0.098278,    0.098278,    0.098278,    0.098278,    0.068221,    0.068221,    0.068221,    0.061062,    0.061062,    0.061062,    0.061062,    0.059378,    0.059378,    0.059378,    0.058298,    0.056764,     0.05523,    0.053695,    0.052161,\n",
            "           0.050627,    0.049093,    0.047559,    0.046025,    0.044491,    0.042956,    0.041422,    0.039888,    0.038354,     0.03682,    0.035286,    0.033751,    0.032217,    0.030683,    0.029149,    0.027615,    0.026081,    0.024546,    0.023012,    0.021478,    0.019944,     0.01841,    0.016876,\n",
            "           0.015342,    0.013807,    0.012273,    0.010739,   0.0092049,   0.0076708,   0.0061366,   0.0046025,   0.0030683,   0.0015342,           0]]), 'Recall', 'Precision'], [array([          0,    0.001001,    0.002002,    0.003003,    0.004004,    0.005005,    0.006006,    0.007007,    0.008008,    0.009009,     0.01001,    0.011011,    0.012012,    0.013013,    0.014014,    0.015015,    0.016016,    0.017017,    0.018018,    0.019019,     0.02002,    0.021021,    0.022022,    0.023023,\n",
            "          0.024024,    0.025025,    0.026026,    0.027027,    0.028028,    0.029029,     0.03003,    0.031031,    0.032032,    0.033033,    0.034034,    0.035035,    0.036036,    0.037037,    0.038038,    0.039039,     0.04004,    0.041041,    0.042042,    0.043043,    0.044044,    0.045045,    0.046046,    0.047047,\n",
            "          0.048048,    0.049049,     0.05005,    0.051051,    0.052052,    0.053053,    0.054054,    0.055055,    0.056056,    0.057057,    0.058058,    0.059059,     0.06006,    0.061061,    0.062062,    0.063063,    0.064064,    0.065065,    0.066066,    0.067067,    0.068068,    0.069069,     0.07007,    0.071071,\n",
            "          0.072072,    0.073073,    0.074074,    0.075075,    0.076076,    0.077077,    0.078078,    0.079079,     0.08008,    0.081081,    0.082082,    0.083083,    0.084084,    0.085085,    0.086086,    0.087087,    0.088088,    0.089089,     0.09009,    0.091091,    0.092092,    0.093093,    0.094094,    0.095095,\n",
            "          0.096096,    0.097097,    0.098098,    0.099099,      0.1001,      0.1011,      0.1021,      0.1031,      0.1041,     0.10511,     0.10611,     0.10711,     0.10811,     0.10911,     0.11011,     0.11111,     0.11211,     0.11311,     0.11411,     0.11512,     0.11612,     0.11712,     0.11812,     0.11912,\n",
            "           0.12012,     0.12112,     0.12212,     0.12312,     0.12412,     0.12513,     0.12613,     0.12713,     0.12813,     0.12913,     0.13013,     0.13113,     0.13213,     0.13313,     0.13413,     0.13514,     0.13614,     0.13714,     0.13814,     0.13914,     0.14014,     0.14114,     0.14214,     0.14314,\n",
            "           0.14414,     0.14515,     0.14615,     0.14715,     0.14815,     0.14915,     0.15015,     0.15115,     0.15215,     0.15315,     0.15415,     0.15516,     0.15616,     0.15716,     0.15816,     0.15916,     0.16016,     0.16116,     0.16216,     0.16316,     0.16416,     0.16517,     0.16617,     0.16717,\n",
            "           0.16817,     0.16917,     0.17017,     0.17117,     0.17217,     0.17317,     0.17417,     0.17518,     0.17618,     0.17718,     0.17818,     0.17918,     0.18018,     0.18118,     0.18218,     0.18318,     0.18418,     0.18519,     0.18619,     0.18719,     0.18819,     0.18919,     0.19019,     0.19119,\n",
            "           0.19219,     0.19319,     0.19419,      0.1952,      0.1962,      0.1972,      0.1982,      0.1992,      0.2002,      0.2012,      0.2022,      0.2032,      0.2042,     0.20521,     0.20621,     0.20721,     0.20821,     0.20921,     0.21021,     0.21121,     0.21221,     0.21321,     0.21421,     0.21522,\n",
            "           0.21622,     0.21722,     0.21822,     0.21922,     0.22022,     0.22122,     0.22222,     0.22322,     0.22422,     0.22523,     0.22623,     0.22723,     0.22823,     0.22923,     0.23023,     0.23123,     0.23223,     0.23323,     0.23423,     0.23524,     0.23624,     0.23724,     0.23824,     0.23924,\n",
            "           0.24024,     0.24124,     0.24224,     0.24324,     0.24424,     0.24525,     0.24625,     0.24725,     0.24825,     0.24925,     0.25025,     0.25125,     0.25225,     0.25325,     0.25425,     0.25526,     0.25626,     0.25726,     0.25826,     0.25926,     0.26026,     0.26126,     0.26226,     0.26326,\n",
            "           0.26426,     0.26527,     0.26627,     0.26727,     0.26827,     0.26927,     0.27027,     0.27127,     0.27227,     0.27327,     0.27427,     0.27528,     0.27628,     0.27728,     0.27828,     0.27928,     0.28028,     0.28128,     0.28228,     0.28328,     0.28428,     0.28529,     0.28629,     0.28729,\n",
            "           0.28829,     0.28929,     0.29029,     0.29129,     0.29229,     0.29329,     0.29429,      0.2953,      0.2963,      0.2973,      0.2983,      0.2993,      0.3003,      0.3013,      0.3023,      0.3033,      0.3043,     0.30531,     0.30631,     0.30731,     0.30831,     0.30931,     0.31031,     0.31131,\n",
            "           0.31231,     0.31331,     0.31431,     0.31532,     0.31632,     0.31732,     0.31832,     0.31932,     0.32032,     0.32132,     0.32232,     0.32332,     0.32432,     0.32533,     0.32633,     0.32733,     0.32833,     0.32933,     0.33033,     0.33133,     0.33233,     0.33333,     0.33433,     0.33534,\n",
            "           0.33634,     0.33734,     0.33834,     0.33934,     0.34034,     0.34134,     0.34234,     0.34334,     0.34434,     0.34535,     0.34635,     0.34735,     0.34835,     0.34935,     0.35035,     0.35135,     0.35235,     0.35335,     0.35435,     0.35536,     0.35636,     0.35736,     0.35836,     0.35936,\n",
            "           0.36036,     0.36136,     0.36236,     0.36336,     0.36436,     0.36537,     0.36637,     0.36737,     0.36837,     0.36937,     0.37037,     0.37137,     0.37237,     0.37337,     0.37437,     0.37538,     0.37638,     0.37738,     0.37838,     0.37938,     0.38038,     0.38138,     0.38238,     0.38338,\n",
            "           0.38438,     0.38539,     0.38639,     0.38739,     0.38839,     0.38939,     0.39039,     0.39139,     0.39239,     0.39339,     0.39439,      0.3954,      0.3964,      0.3974,      0.3984,      0.3994,      0.4004,      0.4014,      0.4024,      0.4034,      0.4044,     0.40541,     0.40641,     0.40741,\n",
            "           0.40841,     0.40941,     0.41041,     0.41141,     0.41241,     0.41341,     0.41441,     0.41542,     0.41642,     0.41742,     0.41842,     0.41942,     0.42042,     0.42142,     0.42242,     0.42342,     0.42442,     0.42543,     0.42643,     0.42743,     0.42843,     0.42943,     0.43043,     0.43143,\n",
            "           0.43243,     0.43343,     0.43443,     0.43544,     0.43644,     0.43744,     0.43844,     0.43944,     0.44044,     0.44144,     0.44244,     0.44344,     0.44444,     0.44545,     0.44645,     0.44745,     0.44845,     0.44945,     0.45045,     0.45145,     0.45245,     0.45345,     0.45445,     0.45546,\n",
            "           0.45646,     0.45746,     0.45846,     0.45946,     0.46046,     0.46146,     0.46246,     0.46346,     0.46446,     0.46547,     0.46647,     0.46747,     0.46847,     0.46947,     0.47047,     0.47147,     0.47247,     0.47347,     0.47447,     0.47548,     0.47648,     0.47748,     0.47848,     0.47948,\n",
            "           0.48048,     0.48148,     0.48248,     0.48348,     0.48448,     0.48549,     0.48649,     0.48749,     0.48849,     0.48949,     0.49049,     0.49149,     0.49249,     0.49349,     0.49449,      0.4955,      0.4965,      0.4975,      0.4985,      0.4995,      0.5005,      0.5015,      0.5025,      0.5035,\n",
            "            0.5045,     0.50551,     0.50651,     0.50751,     0.50851,     0.50951,     0.51051,     0.51151,     0.51251,     0.51351,     0.51451,     0.51552,     0.51652,     0.51752,     0.51852,     0.51952,     0.52052,     0.52152,     0.52252,     0.52352,     0.52452,     0.52553,     0.52653,     0.52753,\n",
            "           0.52853,     0.52953,     0.53053,     0.53153,     0.53253,     0.53353,     0.53453,     0.53554,     0.53654,     0.53754,     0.53854,     0.53954,     0.54054,     0.54154,     0.54254,     0.54354,     0.54454,     0.54555,     0.54655,     0.54755,     0.54855,     0.54955,     0.55055,     0.55155,\n",
            "           0.55255,     0.55355,     0.55455,     0.55556,     0.55656,     0.55756,     0.55856,     0.55956,     0.56056,     0.56156,     0.56256,     0.56356,     0.56456,     0.56557,     0.56657,     0.56757,     0.56857,     0.56957,     0.57057,     0.57157,     0.57257,     0.57357,     0.57457,     0.57558,\n",
            "           0.57658,     0.57758,     0.57858,     0.57958,     0.58058,     0.58158,     0.58258,     0.58358,     0.58458,     0.58559,     0.58659,     0.58759,     0.58859,     0.58959,     0.59059,     0.59159,     0.59259,     0.59359,     0.59459,      0.5956,      0.5966,      0.5976,      0.5986,      0.5996,\n",
            "            0.6006,      0.6016,      0.6026,      0.6036,      0.6046,     0.60561,     0.60661,     0.60761,     0.60861,     0.60961,     0.61061,     0.61161,     0.61261,     0.61361,     0.61461,     0.61562,     0.61662,     0.61762,     0.61862,     0.61962,     0.62062,     0.62162,     0.62262,     0.62362,\n",
            "           0.62462,     0.62563,     0.62663,     0.62763,     0.62863,     0.62963,     0.63063,     0.63163,     0.63263,     0.63363,     0.63463,     0.63564,     0.63664,     0.63764,     0.63864,     0.63964,     0.64064,     0.64164,     0.64264,     0.64364,     0.64464,     0.64565,     0.64665,     0.64765,\n",
            "           0.64865,     0.64965,     0.65065,     0.65165,     0.65265,     0.65365,     0.65465,     0.65566,     0.65666,     0.65766,     0.65866,     0.65966,     0.66066,     0.66166,     0.66266,     0.66366,     0.66466,     0.66567,     0.66667,     0.66767,     0.66867,     0.66967,     0.67067,     0.67167,\n",
            "           0.67267,     0.67367,     0.67467,     0.67568,     0.67668,     0.67768,     0.67868,     0.67968,     0.68068,     0.68168,     0.68268,     0.68368,     0.68468,     0.68569,     0.68669,     0.68769,     0.68869,     0.68969,     0.69069,     0.69169,     0.69269,     0.69369,     0.69469,      0.6957,\n",
            "            0.6967,      0.6977,      0.6987,      0.6997,      0.7007,      0.7017,      0.7027,      0.7037,      0.7047,     0.70571,     0.70671,     0.70771,     0.70871,     0.70971,     0.71071,     0.71171,     0.71271,     0.71371,     0.71471,     0.71572,     0.71672,     0.71772,     0.71872,     0.71972,\n",
            "           0.72072,     0.72172,     0.72272,     0.72372,     0.72472,     0.72573,     0.72673,     0.72773,     0.72873,     0.72973,     0.73073,     0.73173,     0.73273,     0.73373,     0.73473,     0.73574,     0.73674,     0.73774,     0.73874,     0.73974,     0.74074,     0.74174,     0.74274,     0.74374,\n",
            "           0.74474,     0.74575,     0.74675,     0.74775,     0.74875,     0.74975,     0.75075,     0.75175,     0.75275,     0.75375,     0.75475,     0.75576,     0.75676,     0.75776,     0.75876,     0.75976,     0.76076,     0.76176,     0.76276,     0.76376,     0.76476,     0.76577,     0.76677,     0.76777,\n",
            "           0.76877,     0.76977,     0.77077,     0.77177,     0.77277,     0.77377,     0.77477,     0.77578,     0.77678,     0.77778,     0.77878,     0.77978,     0.78078,     0.78178,     0.78278,     0.78378,     0.78478,     0.78579,     0.78679,     0.78779,     0.78879,     0.78979,     0.79079,     0.79179,\n",
            "           0.79279,     0.79379,     0.79479,      0.7958,      0.7968,      0.7978,      0.7988,      0.7998,      0.8008,      0.8018,      0.8028,      0.8038,      0.8048,     0.80581,     0.80681,     0.80781,     0.80881,     0.80981,     0.81081,     0.81181,     0.81281,     0.81381,     0.81481,     0.81582,\n",
            "           0.81682,     0.81782,     0.81882,     0.81982,     0.82082,     0.82182,     0.82282,     0.82382,     0.82482,     0.82583,     0.82683,     0.82783,     0.82883,     0.82983,     0.83083,     0.83183,     0.83283,     0.83383,     0.83483,     0.83584,     0.83684,     0.83784,     0.83884,     0.83984,\n",
            "           0.84084,     0.84184,     0.84284,     0.84384,     0.84484,     0.84585,     0.84685,     0.84785,     0.84885,     0.84985,     0.85085,     0.85185,     0.85285,     0.85385,     0.85485,     0.85586,     0.85686,     0.85786,     0.85886,     0.85986,     0.86086,     0.86186,     0.86286,     0.86386,\n",
            "           0.86486,     0.86587,     0.86687,     0.86787,     0.86887,     0.86987,     0.87087,     0.87187,     0.87287,     0.87387,     0.87487,     0.87588,     0.87688,     0.87788,     0.87888,     0.87988,     0.88088,     0.88188,     0.88288,     0.88388,     0.88488,     0.88589,     0.88689,     0.88789,\n",
            "           0.88889,     0.88989,     0.89089,     0.89189,     0.89289,     0.89389,     0.89489,      0.8959,      0.8969,      0.8979,      0.8989,      0.8999,      0.9009,      0.9019,      0.9029,      0.9039,      0.9049,     0.90591,     0.90691,     0.90791,     0.90891,     0.90991,     0.91091,     0.91191,\n",
            "           0.91291,     0.91391,     0.91491,     0.91592,     0.91692,     0.91792,     0.91892,     0.91992,     0.92092,     0.92192,     0.92292,     0.92392,     0.92492,     0.92593,     0.92693,     0.92793,     0.92893,     0.92993,     0.93093,     0.93193,     0.93293,     0.93393,     0.93493,     0.93594,\n",
            "           0.93694,     0.93794,     0.93894,     0.93994,     0.94094,     0.94194,     0.94294,     0.94394,     0.94494,     0.94595,     0.94695,     0.94795,     0.94895,     0.94995,     0.95095,     0.95195,     0.95295,     0.95395,     0.95495,     0.95596,     0.95696,     0.95796,     0.95896,     0.95996,\n",
            "           0.96096,     0.96196,     0.96296,     0.96396,     0.96496,     0.96597,     0.96697,     0.96797,     0.96897,     0.96997,     0.97097,     0.97197,     0.97297,     0.97397,     0.97497,     0.97598,     0.97698,     0.97798,     0.97898,     0.97998,     0.98098,     0.98198,     0.98298,     0.98398,\n",
            "           0.98498,     0.98599,     0.98699,     0.98799,     0.98899,     0.98999,     0.99099,     0.99199,     0.99299,     0.99399,     0.99499,       0.996,       0.997,       0.998,       0.999,           1]), array([[    0.11036,     0.11036,     0.15878,     0.19841,     0.23328,     0.26332,     0.29051,     0.31117,     0.33131,     0.34704,     0.36298,     0.37674,     0.38752,     0.40114,     0.41359,     0.42516,     0.43865,     0.44783,     0.45967,     0.46887,     0.47669,     0.48723,     0.49332,\n",
            "            0.49864,     0.50615,     0.51454,     0.52403,     0.52994,     0.53334,     0.54251,     0.54538,     0.54927,      0.5562,     0.55924,     0.56182,     0.56332,     0.56587,     0.57045,     0.57639,     0.58193,     0.58541,     0.58947,     0.59578,     0.59702,     0.59739,     0.60393,\n",
            "            0.60876,     0.61329,     0.61675,     0.62167,     0.62694,     0.63081,      0.6329,     0.63841,     0.64262,     0.64812,     0.64935,     0.65318,     0.65624,     0.65757,     0.65609,     0.65823,       0.659,     0.66084,     0.66263,      0.6664,     0.66645,     0.67025,     0.67319,\n",
            "            0.67518,     0.67705,     0.67896,     0.67971,     0.67865,     0.68143,      0.6838,     0.68611,     0.68711,     0.68691,     0.68579,     0.68968,     0.69552,     0.69633,     0.69919,     0.70116,     0.70292,      0.7038,     0.70458,      0.7067,     0.70968,     0.71221,     0.71269,\n",
            "            0.71341,     0.71538,     0.71614,     0.71785,     0.72089,     0.72188,     0.72242,     0.72359,     0.72261,      0.7201,     0.72087,     0.71967,     0.72028,     0.72189,     0.72287,     0.72461,     0.72911,     0.73352,     0.73498,     0.73656,     0.73853,     0.73892,     0.73868,\n",
            "            0.73913,     0.73908,     0.73752,     0.73774,     0.73796,     0.73818,      0.7384,     0.73861,     0.74231,     0.74312,     0.74567,     0.74657,     0.74459,     0.74655,     0.74678,     0.74702,     0.74725,     0.74748,     0.74735,      0.7468,     0.74626,     0.74571,      0.7462,\n",
            "            0.74705,     0.74854,     0.75171,     0.75219,     0.75267,     0.75345,      0.7546,     0.75555,     0.75607,     0.75658,     0.75707,     0.75756,     0.75919,      0.7596,     0.75835,     0.75876,     0.75917,     0.75966,     0.76029,     0.76081,     0.76118,     0.76154,     0.76193,\n",
            "            0.76341,     0.76421,     0.76669,     0.76665,     0.76634,     0.76603,     0.76572,     0.76541,      0.7651,     0.76439,     0.76295,     0.76416,     0.76342,     0.76355,     0.76369,     0.76382,     0.76396,     0.76409,     0.76423,     0.76436,      0.7645,     0.76466,     0.76496,\n",
            "            0.76527,     0.76557,     0.76587,     0.76606,     0.76623,     0.76641,     0.76659,     0.76677,     0.76695,     0.76713,     0.76762,     0.76821,     0.76832,     0.76809,     0.76785,     0.76762,     0.76738,     0.76715,     0.76691,     0.76668,     0.76644,      0.7667,      0.7671,\n",
            "            0.76751,     0.76829,     0.76932,     0.77028,     0.77044,     0.77059,     0.77075,      0.7709,     0.77105,     0.77121,     0.77136,     0.77151,     0.77206,     0.77286,      0.7723,     0.77261,     0.77292,     0.77323,     0.77348,     0.77363,     0.77379,     0.77394,      0.7741,\n",
            "            0.77425,     0.77441,     0.77456,     0.77472,     0.77561,      0.7764,     0.77699,     0.77978,     0.78129,     0.78277,      0.7837,      0.7836,     0.78271,     0.78207,     0.78237,     0.78267,     0.78296,     0.78326,     0.78289,     0.78217,     0.78144,     0.77899,     0.77855,\n",
            "             0.7781,     0.77766,     0.77721,      0.7775,      0.7784,     0.77891,     0.77942,     0.77935,     0.77844,      0.7777,     0.77921,     0.78006,     0.78046,     0.78067,     0.78088,     0.78109,      0.7813,     0.78151,     0.78179,     0.78238,     0.78297,     0.78215,     0.78106,\n",
            "            0.78104,     0.78117,     0.78131,     0.78144,     0.78158,     0.78171,     0.78185,     0.78198,     0.78212,     0.78225,     0.78213,     0.78187,      0.7816,     0.78133,     0.78107,      0.7808,     0.78053,     0.78026,     0.78047,     0.78106,      0.7816,     0.78191,     0.78223,\n",
            "            0.78254,     0.78285,     0.78275,     0.78254,     0.78232,     0.78211,     0.78189,     0.78168,     0.78147,     0.78125,     0.78104,     0.78083,       0.781,      0.7814,      0.7818,      0.7826,     0.78507,     0.78538,     0.78568,     0.78598,     0.78629,     0.78657,     0.78684,\n",
            "            0.78711,     0.78738,     0.78765,     0.78865,      0.7896,     0.79021,     0.79067,     0.79082,     0.79098,     0.79114,     0.79129,     0.79145,     0.79161,     0.79176,     0.79192,     0.79212,     0.79253,     0.79293,     0.79333,     0.79352,     0.79359,     0.79366,     0.79373,\n",
            "             0.7938,     0.79387,     0.79394,       0.794,     0.79407,     0.79414,     0.79421,     0.79428,     0.79435,     0.79442,     0.79448,     0.79455,     0.79462,     0.79469,     0.79476,     0.79483,      0.7949,     0.79514,     0.79546,     0.79579,     0.79611,      0.7945,     0.79494,\n",
            "            0.79392,     0.79469,     0.79503,     0.79519,     0.79536,     0.79553,     0.79569,     0.79586,     0.79603,     0.79619,     0.79614,     0.79505,     0.79468,     0.79643,     0.79763,     0.79806,     0.79661,     0.79527,     0.79404,     0.79376,     0.79349,     0.79321,     0.79294,\n",
            "            0.79266,     0.79239,     0.79211,     0.79184,     0.78977,     0.79016,     0.79082,     0.79063,        0.79,     0.78936,     0.79027,     0.79065,     0.79103,     0.79141,      0.7918,      0.7923,      0.7928,     0.79329,      0.7937,     0.79412,     0.79454,     0.79483,     0.79503,\n",
            "            0.79522,     0.79542,     0.79561,     0.79581,       0.796,     0.79619,     0.79652,     0.79686,     0.79721,     0.79755,     0.79805,     0.79872,     0.80072,     0.79856,     0.79874,     0.79892,      0.7991,     0.79927,     0.79945,     0.79963,      0.7998,     0.79998,     0.79837,\n",
            "            0.79695,     0.79577,     0.79523,     0.79496,      0.7947,     0.79443,     0.79417,      0.7939,     0.79364,     0.79337,     0.79311,     0.79335,     0.79361,     0.79386,     0.79412,     0.79437,     0.79462,     0.79473,     0.79483,     0.79493,     0.79504,     0.79514,     0.79524,\n",
            "            0.79535,     0.79545,     0.79555,     0.79566,     0.79576,     0.79586,     0.79597,     0.79607,      0.7963,     0.79717,     0.79763,     0.79749,     0.79736,     0.79722,     0.79708,     0.79694,      0.7968,     0.79667,     0.79653,     0.79639,     0.79625,     0.79611,     0.79597,\n",
            "            0.79584,      0.7957,     0.79556,     0.79542,     0.79552,     0.79577,     0.79603,     0.79628,     0.79653,     0.79679,     0.79724,     0.79786,     0.79844,     0.79818,     0.79793,     0.79768,     0.79742,     0.79717,     0.79691,     0.79666,     0.79641,     0.79615,     0.79622,\n",
            "            0.79634,     0.79646,     0.79658,      0.7967,     0.79682,     0.79694,     0.79706,     0.79717,     0.79729,     0.79741,     0.79753,     0.79765,     0.79776,     0.79787,     0.79797,     0.79808,     0.79819,      0.7983,      0.7984,     0.79851,     0.79862,     0.79873,     0.79883,\n",
            "            0.79894,     0.79905,     0.79915,      0.7993,     0.79951,     0.79973,     0.79994,     0.80015,     0.80037,     0.80058,     0.80074,     0.79998,     0.79921,     0.79844,     0.79747,     0.79649,     0.79516,     0.79373,     0.79391,     0.79409,     0.79427,     0.79445,     0.79463,\n",
            "            0.79482,       0.795,     0.79518,     0.79503,     0.79449,     0.79395,     0.79341,     0.79282,     0.79143,     0.79007,     0.78876,     0.78823,     0.78844,     0.78866,     0.78887,     0.78908,      0.7893,     0.78951,     0.78953,     0.78874,     0.78794,      0.7872,     0.78675,\n",
            "            0.78629,     0.78583,     0.78538,     0.78492,     0.78448,     0.78405,     0.78361,     0.78318,     0.78275,     0.78269,     0.78358,     0.78363,     0.78293,     0.78224,     0.78155,     0.78123,      0.7809,     0.78057,     0.78025,     0.77992,     0.77959,     0.77926,     0.77667,\n",
            "            0.77408,     0.77381,     0.77353,     0.77326,     0.77298,      0.7727,     0.77243,     0.77215,     0.77188,     0.76891,      0.7676,     0.76727,     0.76682,     0.76525,     0.76455,     0.76385,     0.76351,     0.76469,     0.76281,     0.76351,     0.76358,     0.76323,     0.76288,\n",
            "            0.76253,     0.76218,     0.76183,     0.76147,     0.75935,     0.75858,     0.75837,     0.75815,     0.75793,     0.75772,      0.7575,     0.75728,     0.75706,     0.75685,     0.75663,     0.75641,     0.75617,     0.75406,     0.74963,     0.74665,     0.74605,     0.74633,      0.7466,\n",
            "            0.74688,     0.74715,     0.74644,     0.74427,     0.74363,       0.743,     0.74237,     0.73965,     0.74054,      0.7409,     0.74055,      0.7402,     0.73985,      0.7395,     0.73914,     0.73879,     0.73844,     0.73761,     0.73673,     0.73584,     0.73423,     0.73358,     0.73681,\n",
            "            0.73794,     0.73833,     0.73871,      0.7391,     0.73839,     0.73654,     0.73613,     0.73571,     0.73529,     0.73488,     0.73446,     0.73404,     0.73324,     0.73224,     0.73124,     0.72659,      0.7264,     0.72718,      0.7268,     0.72642,     0.72604,     0.72565,     0.72527,\n",
            "            0.72489,     0.72451,     0.72375,     0.72299,     0.72223,     0.72048,      0.7187,     0.71827,     0.71783,     0.71739,     0.71695,     0.71651,      0.7159,     0.71463,     0.71336,     0.71291,     0.71247,     0.71203,     0.71158,     0.71114,      0.7107,     0.71029,     0.70991,\n",
            "            0.70953,     0.70915,     0.70877,     0.70839,     0.70801,     0.70684,     0.70435,      0.7035,     0.70264,      0.7015,     0.69941,     0.69726,      0.6946,     0.68968,     0.68782,     0.68652,     0.68534,     0.68389,     0.68193,     0.67888,      0.6793,     0.67971,     0.68013,\n",
            "            0.67747,     0.67362,     0.67251,      0.6714,     0.66769,     0.66688,     0.66606,     0.66525,      0.6636,     0.66179,     0.65965,     0.65655,     0.65135,     0.65189,     0.65243,     0.65238,     0.65127,     0.65016,     0.64666,     0.64605,     0.64558,     0.64511,     0.64464,\n",
            "            0.64417,      0.6437,     0.64367,     0.64478,     0.64069,      0.6394,     0.63839,     0.63804,     0.63768,     0.63733,     0.63698,     0.63662,     0.63627,     0.63591,     0.63556,     0.63472,     0.63241,     0.63121,     0.63019,     0.62917,     0.62838,      0.6277,     0.62703,\n",
            "            0.62635,     0.62567,     0.61828,     0.61581,      0.6094,     0.60774,     0.60627,     0.60255,     0.59888,     0.59801,     0.59713,     0.59625,     0.59372,     0.59086,     0.58906,     0.58803,     0.58714,     0.58624,     0.58528,     0.58235,     0.57812,     0.57581,     0.57095,\n",
            "            0.56677,     0.56434,     0.56296,     0.56158,     0.55655,     0.55265,     0.55115,     0.54781,     0.54367,     0.54181,     0.54052,     0.53923,     0.53415,     0.52911,     0.52357,     0.52079,     0.51486,     0.50509,     0.50308,     0.50212,     0.50116,     0.50019,     0.49803,\n",
            "            0.49524,     0.49178,     0.49022,     0.48865,     0.48372,     0.48226,     0.48079,     0.47709,     0.47052,     0.45959,      0.4565,     0.44471,     0.44186,     0.43977,      0.4339,     0.43086,     0.42406,     0.42086,      0.4187,     0.41693,     0.41557,      0.4142,     0.40302,\n",
            "            0.39828,     0.39254,     0.38701,      0.3664,     0.36146,     0.35732,     0.35377,     0.35234,     0.35091,     0.34948,     0.34804,      0.3466,     0.34516,     0.34322,     0.34112,     0.33643,     0.33121,     0.32428,      0.3155,     0.30684,     0.30353,     0.30095,     0.29772,\n",
            "            0.28761,     0.28343,      0.2809,     0.26947,     0.26584,     0.25951,      0.2584,     0.25729,     0.25617,     0.25506,     0.24257,      0.2216,     0.21452,     0.21192,     0.20744,     0.20327,     0.19952,     0.19445,     0.18455,     0.18137,     0.17942,     0.17746,     0.16904,\n",
            "            0.16235,     0.14752,      0.1463,     0.14508,     0.14386,     0.14264,     0.13827,     0.12923,     0.12571,     0.12175,     0.11545,     0.10464,    0.099369,    0.086051,    0.072686,    0.070649,    0.068607,    0.064358,    0.051924,      0.0484,    0.032649,    0.027109,    0.025999,\n",
            "           0.024887,    0.023774,     0.02266,    0.021545,    0.020324,    0.018591,    0.016856,    0.015117,    0.013684,    0.013229,    0.012773,    0.012317,    0.011861,    0.011405,    0.010949,    0.010492,    0.010035,   0.0095782,   0.0091209,   0.0086635,   0.0082058,   0.0077479,   0.0072898,\n",
            "                  0,           0,           0,           0,           0,           0,           0,           0,           0,           0,           0,           0,           0,           0,           0,           0,           0,           0,           0,           0,           0,           0,           0,\n",
            "                  0,           0,           0,           0,           0,           0,           0,           0,           0,           0,           0,           0,           0,           0,           0,           0,           0,           0,           0,           0,           0,           0,           0,\n",
            "                  0,           0,           0,           0,           0,           0,           0,           0,           0,           0,           0]]), 'Confidence', 'F1'], [array([          0,    0.001001,    0.002002,    0.003003,    0.004004,    0.005005,    0.006006,    0.007007,    0.008008,    0.009009,     0.01001,    0.011011,    0.012012,    0.013013,    0.014014,    0.015015,    0.016016,    0.017017,    0.018018,    0.019019,     0.02002,    0.021021,    0.022022,    0.023023,\n",
            "          0.024024,    0.025025,    0.026026,    0.027027,    0.028028,    0.029029,     0.03003,    0.031031,    0.032032,    0.033033,    0.034034,    0.035035,    0.036036,    0.037037,    0.038038,    0.039039,     0.04004,    0.041041,    0.042042,    0.043043,    0.044044,    0.045045,    0.046046,    0.047047,\n",
            "          0.048048,    0.049049,     0.05005,    0.051051,    0.052052,    0.053053,    0.054054,    0.055055,    0.056056,    0.057057,    0.058058,    0.059059,     0.06006,    0.061061,    0.062062,    0.063063,    0.064064,    0.065065,    0.066066,    0.067067,    0.068068,    0.069069,     0.07007,    0.071071,\n",
            "          0.072072,    0.073073,    0.074074,    0.075075,    0.076076,    0.077077,    0.078078,    0.079079,     0.08008,    0.081081,    0.082082,    0.083083,    0.084084,    0.085085,    0.086086,    0.087087,    0.088088,    0.089089,     0.09009,    0.091091,    0.092092,    0.093093,    0.094094,    0.095095,\n",
            "          0.096096,    0.097097,    0.098098,    0.099099,      0.1001,      0.1011,      0.1021,      0.1031,      0.1041,     0.10511,     0.10611,     0.10711,     0.10811,     0.10911,     0.11011,     0.11111,     0.11211,     0.11311,     0.11411,     0.11512,     0.11612,     0.11712,     0.11812,     0.11912,\n",
            "           0.12012,     0.12112,     0.12212,     0.12312,     0.12412,     0.12513,     0.12613,     0.12713,     0.12813,     0.12913,     0.13013,     0.13113,     0.13213,     0.13313,     0.13413,     0.13514,     0.13614,     0.13714,     0.13814,     0.13914,     0.14014,     0.14114,     0.14214,     0.14314,\n",
            "           0.14414,     0.14515,     0.14615,     0.14715,     0.14815,     0.14915,     0.15015,     0.15115,     0.15215,     0.15315,     0.15415,     0.15516,     0.15616,     0.15716,     0.15816,     0.15916,     0.16016,     0.16116,     0.16216,     0.16316,     0.16416,     0.16517,     0.16617,     0.16717,\n",
            "           0.16817,     0.16917,     0.17017,     0.17117,     0.17217,     0.17317,     0.17417,     0.17518,     0.17618,     0.17718,     0.17818,     0.17918,     0.18018,     0.18118,     0.18218,     0.18318,     0.18418,     0.18519,     0.18619,     0.18719,     0.18819,     0.18919,     0.19019,     0.19119,\n",
            "           0.19219,     0.19319,     0.19419,      0.1952,      0.1962,      0.1972,      0.1982,      0.1992,      0.2002,      0.2012,      0.2022,      0.2032,      0.2042,     0.20521,     0.20621,     0.20721,     0.20821,     0.20921,     0.21021,     0.21121,     0.21221,     0.21321,     0.21421,     0.21522,\n",
            "           0.21622,     0.21722,     0.21822,     0.21922,     0.22022,     0.22122,     0.22222,     0.22322,     0.22422,     0.22523,     0.22623,     0.22723,     0.22823,     0.22923,     0.23023,     0.23123,     0.23223,     0.23323,     0.23423,     0.23524,     0.23624,     0.23724,     0.23824,     0.23924,\n",
            "           0.24024,     0.24124,     0.24224,     0.24324,     0.24424,     0.24525,     0.24625,     0.24725,     0.24825,     0.24925,     0.25025,     0.25125,     0.25225,     0.25325,     0.25425,     0.25526,     0.25626,     0.25726,     0.25826,     0.25926,     0.26026,     0.26126,     0.26226,     0.26326,\n",
            "           0.26426,     0.26527,     0.26627,     0.26727,     0.26827,     0.26927,     0.27027,     0.27127,     0.27227,     0.27327,     0.27427,     0.27528,     0.27628,     0.27728,     0.27828,     0.27928,     0.28028,     0.28128,     0.28228,     0.28328,     0.28428,     0.28529,     0.28629,     0.28729,\n",
            "           0.28829,     0.28929,     0.29029,     0.29129,     0.29229,     0.29329,     0.29429,      0.2953,      0.2963,      0.2973,      0.2983,      0.2993,      0.3003,      0.3013,      0.3023,      0.3033,      0.3043,     0.30531,     0.30631,     0.30731,     0.30831,     0.30931,     0.31031,     0.31131,\n",
            "           0.31231,     0.31331,     0.31431,     0.31532,     0.31632,     0.31732,     0.31832,     0.31932,     0.32032,     0.32132,     0.32232,     0.32332,     0.32432,     0.32533,     0.32633,     0.32733,     0.32833,     0.32933,     0.33033,     0.33133,     0.33233,     0.33333,     0.33433,     0.33534,\n",
            "           0.33634,     0.33734,     0.33834,     0.33934,     0.34034,     0.34134,     0.34234,     0.34334,     0.34434,     0.34535,     0.34635,     0.34735,     0.34835,     0.34935,     0.35035,     0.35135,     0.35235,     0.35335,     0.35435,     0.35536,     0.35636,     0.35736,     0.35836,     0.35936,\n",
            "           0.36036,     0.36136,     0.36236,     0.36336,     0.36436,     0.36537,     0.36637,     0.36737,     0.36837,     0.36937,     0.37037,     0.37137,     0.37237,     0.37337,     0.37437,     0.37538,     0.37638,     0.37738,     0.37838,     0.37938,     0.38038,     0.38138,     0.38238,     0.38338,\n",
            "           0.38438,     0.38539,     0.38639,     0.38739,     0.38839,     0.38939,     0.39039,     0.39139,     0.39239,     0.39339,     0.39439,      0.3954,      0.3964,      0.3974,      0.3984,      0.3994,      0.4004,      0.4014,      0.4024,      0.4034,      0.4044,     0.40541,     0.40641,     0.40741,\n",
            "           0.40841,     0.40941,     0.41041,     0.41141,     0.41241,     0.41341,     0.41441,     0.41542,     0.41642,     0.41742,     0.41842,     0.41942,     0.42042,     0.42142,     0.42242,     0.42342,     0.42442,     0.42543,     0.42643,     0.42743,     0.42843,     0.42943,     0.43043,     0.43143,\n",
            "           0.43243,     0.43343,     0.43443,     0.43544,     0.43644,     0.43744,     0.43844,     0.43944,     0.44044,     0.44144,     0.44244,     0.44344,     0.44444,     0.44545,     0.44645,     0.44745,     0.44845,     0.44945,     0.45045,     0.45145,     0.45245,     0.45345,     0.45445,     0.45546,\n",
            "           0.45646,     0.45746,     0.45846,     0.45946,     0.46046,     0.46146,     0.46246,     0.46346,     0.46446,     0.46547,     0.46647,     0.46747,     0.46847,     0.46947,     0.47047,     0.47147,     0.47247,     0.47347,     0.47447,     0.47548,     0.47648,     0.47748,     0.47848,     0.47948,\n",
            "           0.48048,     0.48148,     0.48248,     0.48348,     0.48448,     0.48549,     0.48649,     0.48749,     0.48849,     0.48949,     0.49049,     0.49149,     0.49249,     0.49349,     0.49449,      0.4955,      0.4965,      0.4975,      0.4985,      0.4995,      0.5005,      0.5015,      0.5025,      0.5035,\n",
            "            0.5045,     0.50551,     0.50651,     0.50751,     0.50851,     0.50951,     0.51051,     0.51151,     0.51251,     0.51351,     0.51451,     0.51552,     0.51652,     0.51752,     0.51852,     0.51952,     0.52052,     0.52152,     0.52252,     0.52352,     0.52452,     0.52553,     0.52653,     0.52753,\n",
            "           0.52853,     0.52953,     0.53053,     0.53153,     0.53253,     0.53353,     0.53453,     0.53554,     0.53654,     0.53754,     0.53854,     0.53954,     0.54054,     0.54154,     0.54254,     0.54354,     0.54454,     0.54555,     0.54655,     0.54755,     0.54855,     0.54955,     0.55055,     0.55155,\n",
            "           0.55255,     0.55355,     0.55455,     0.55556,     0.55656,     0.55756,     0.55856,     0.55956,     0.56056,     0.56156,     0.56256,     0.56356,     0.56456,     0.56557,     0.56657,     0.56757,     0.56857,     0.56957,     0.57057,     0.57157,     0.57257,     0.57357,     0.57457,     0.57558,\n",
            "           0.57658,     0.57758,     0.57858,     0.57958,     0.58058,     0.58158,     0.58258,     0.58358,     0.58458,     0.58559,     0.58659,     0.58759,     0.58859,     0.58959,     0.59059,     0.59159,     0.59259,     0.59359,     0.59459,      0.5956,      0.5966,      0.5976,      0.5986,      0.5996,\n",
            "            0.6006,      0.6016,      0.6026,      0.6036,      0.6046,     0.60561,     0.60661,     0.60761,     0.60861,     0.60961,     0.61061,     0.61161,     0.61261,     0.61361,     0.61461,     0.61562,     0.61662,     0.61762,     0.61862,     0.61962,     0.62062,     0.62162,     0.62262,     0.62362,\n",
            "           0.62462,     0.62563,     0.62663,     0.62763,     0.62863,     0.62963,     0.63063,     0.63163,     0.63263,     0.63363,     0.63463,     0.63564,     0.63664,     0.63764,     0.63864,     0.63964,     0.64064,     0.64164,     0.64264,     0.64364,     0.64464,     0.64565,     0.64665,     0.64765,\n",
            "           0.64865,     0.64965,     0.65065,     0.65165,     0.65265,     0.65365,     0.65465,     0.65566,     0.65666,     0.65766,     0.65866,     0.65966,     0.66066,     0.66166,     0.66266,     0.66366,     0.66466,     0.66567,     0.66667,     0.66767,     0.66867,     0.66967,     0.67067,     0.67167,\n",
            "           0.67267,     0.67367,     0.67467,     0.67568,     0.67668,     0.67768,     0.67868,     0.67968,     0.68068,     0.68168,     0.68268,     0.68368,     0.68468,     0.68569,     0.68669,     0.68769,     0.68869,     0.68969,     0.69069,     0.69169,     0.69269,     0.69369,     0.69469,      0.6957,\n",
            "            0.6967,      0.6977,      0.6987,      0.6997,      0.7007,      0.7017,      0.7027,      0.7037,      0.7047,     0.70571,     0.70671,     0.70771,     0.70871,     0.70971,     0.71071,     0.71171,     0.71271,     0.71371,     0.71471,     0.71572,     0.71672,     0.71772,     0.71872,     0.71972,\n",
            "           0.72072,     0.72172,     0.72272,     0.72372,     0.72472,     0.72573,     0.72673,     0.72773,     0.72873,     0.72973,     0.73073,     0.73173,     0.73273,     0.73373,     0.73473,     0.73574,     0.73674,     0.73774,     0.73874,     0.73974,     0.74074,     0.74174,     0.74274,     0.74374,\n",
            "           0.74474,     0.74575,     0.74675,     0.74775,     0.74875,     0.74975,     0.75075,     0.75175,     0.75275,     0.75375,     0.75475,     0.75576,     0.75676,     0.75776,     0.75876,     0.75976,     0.76076,     0.76176,     0.76276,     0.76376,     0.76476,     0.76577,     0.76677,     0.76777,\n",
            "           0.76877,     0.76977,     0.77077,     0.77177,     0.77277,     0.77377,     0.77477,     0.77578,     0.77678,     0.77778,     0.77878,     0.77978,     0.78078,     0.78178,     0.78278,     0.78378,     0.78478,     0.78579,     0.78679,     0.78779,     0.78879,     0.78979,     0.79079,     0.79179,\n",
            "           0.79279,     0.79379,     0.79479,      0.7958,      0.7968,      0.7978,      0.7988,      0.7998,      0.8008,      0.8018,      0.8028,      0.8038,      0.8048,     0.80581,     0.80681,     0.80781,     0.80881,     0.80981,     0.81081,     0.81181,     0.81281,     0.81381,     0.81481,     0.81582,\n",
            "           0.81682,     0.81782,     0.81882,     0.81982,     0.82082,     0.82182,     0.82282,     0.82382,     0.82482,     0.82583,     0.82683,     0.82783,     0.82883,     0.82983,     0.83083,     0.83183,     0.83283,     0.83383,     0.83483,     0.83584,     0.83684,     0.83784,     0.83884,     0.83984,\n",
            "           0.84084,     0.84184,     0.84284,     0.84384,     0.84484,     0.84585,     0.84685,     0.84785,     0.84885,     0.84985,     0.85085,     0.85185,     0.85285,     0.85385,     0.85485,     0.85586,     0.85686,     0.85786,     0.85886,     0.85986,     0.86086,     0.86186,     0.86286,     0.86386,\n",
            "           0.86486,     0.86587,     0.86687,     0.86787,     0.86887,     0.86987,     0.87087,     0.87187,     0.87287,     0.87387,     0.87487,     0.87588,     0.87688,     0.87788,     0.87888,     0.87988,     0.88088,     0.88188,     0.88288,     0.88388,     0.88488,     0.88589,     0.88689,     0.88789,\n",
            "           0.88889,     0.88989,     0.89089,     0.89189,     0.89289,     0.89389,     0.89489,      0.8959,      0.8969,      0.8979,      0.8989,      0.8999,      0.9009,      0.9019,      0.9029,      0.9039,      0.9049,     0.90591,     0.90691,     0.90791,     0.90891,     0.90991,     0.91091,     0.91191,\n",
            "           0.91291,     0.91391,     0.91491,     0.91592,     0.91692,     0.91792,     0.91892,     0.91992,     0.92092,     0.92192,     0.92292,     0.92392,     0.92492,     0.92593,     0.92693,     0.92793,     0.92893,     0.92993,     0.93093,     0.93193,     0.93293,     0.93393,     0.93493,     0.93594,\n",
            "           0.93694,     0.93794,     0.93894,     0.93994,     0.94094,     0.94194,     0.94294,     0.94394,     0.94494,     0.94595,     0.94695,     0.94795,     0.94895,     0.94995,     0.95095,     0.95195,     0.95295,     0.95395,     0.95495,     0.95596,     0.95696,     0.95796,     0.95896,     0.95996,\n",
            "           0.96096,     0.96196,     0.96296,     0.96396,     0.96496,     0.96597,     0.96697,     0.96797,     0.96897,     0.96997,     0.97097,     0.97197,     0.97297,     0.97397,     0.97497,     0.97598,     0.97698,     0.97798,     0.97898,     0.97998,     0.98098,     0.98198,     0.98298,     0.98398,\n",
            "           0.98498,     0.98599,     0.98699,     0.98799,     0.98899,     0.98999,     0.99099,     0.99199,     0.99299,     0.99399,     0.99499,       0.996,       0.997,       0.998,       0.999,           1]), array([[   0.058538,    0.058538,    0.086619,     0.11099,     0.13335,     0.15355,     0.17273,     0.18769,      0.2027,     0.21461,      0.2276,     0.23903,     0.24804,     0.25931,     0.27014,     0.28009,     0.29192,     0.30011,     0.31127,     0.32024,     0.32757,     0.33813,     0.34457,\n",
            "            0.34978,     0.35722,     0.36563,     0.37529,     0.38139,     0.38561,     0.39527,     0.39832,     0.40249,     0.40997,     0.41408,     0.41692,      0.4194,     0.42307,     0.42822,     0.43494,     0.44128,      0.4453,     0.45002,     0.45741,     0.45934,     0.46033,     0.46814,\n",
            "            0.47397,     0.47948,     0.48372,     0.48981,     0.49638,     0.50125,     0.50389,     0.51092,     0.51633,     0.52346,     0.52507,      0.5301,     0.53415,     0.53602,     0.53519,     0.53818,     0.53921,     0.54168,     0.54408,     0.54919,     0.55073,     0.55594,     0.55998,\n",
            "            0.56275,     0.56535,     0.56803,     0.56907,     0.56917,     0.57309,     0.57645,     0.57974,     0.58118,     0.58141,     0.58081,     0.58656,     0.59505,     0.59624,     0.60045,     0.60335,     0.60597,     0.60727,     0.60844,     0.61161,     0.61609,     0.61991,     0.62064,\n",
            "            0.62173,     0.62473,     0.62589,      0.6285,     0.63317,     0.63471,     0.63554,     0.63735,     0.63701,     0.63599,     0.63728,     0.63668,     0.63832,     0.64085,      0.6424,     0.64516,     0.65232,     0.65941,     0.66179,     0.66434,     0.66756,     0.66844,     0.67009,\n",
            "            0.67082,      0.6712,     0.67049,     0.67085,     0.67121,     0.67158,     0.67194,      0.6723,     0.67845,      0.6798,     0.68409,     0.68559,     0.68715,     0.69051,      0.6909,      0.6913,      0.6917,     0.69209,     0.69219,     0.69194,     0.69169,     0.69144,     0.69243,\n",
            "            0.69389,     0.69647,     0.70198,     0.70281,     0.70365,     0.70502,     0.70704,     0.70871,     0.70961,     0.71051,     0.71138,     0.71225,     0.71514,     0.71667,     0.71638,      0.7171,     0.71783,     0.71872,     0.71985,     0.72078,     0.72143,     0.72209,     0.72278,\n",
            "            0.72546,      0.7269,      0.7314,     0.73174,     0.73161,     0.73148,     0.73135,     0.73122,      0.7311,      0.7308,      0.7302,     0.73432,     0.73413,     0.73438,     0.73463,     0.73488,     0.73513,     0.73538,     0.73563,     0.73588,     0.73613,     0.73643,     0.73699,\n",
            "            0.73756,     0.73812,     0.73868,     0.73903,     0.73936,     0.73969,     0.74002,     0.74035,     0.74069,     0.74102,     0.74194,     0.74304,     0.74345,     0.74336,     0.74326,     0.74317,     0.74307,     0.74298,     0.74288,     0.74279,     0.74269,     0.74325,     0.74402,\n",
            "            0.74478,     0.74625,     0.74821,     0.75003,     0.75032,     0.75061,      0.7509,     0.75119,     0.75149,     0.75178,     0.75207,     0.75236,      0.7534,     0.75492,     0.75704,     0.75763,     0.75822,     0.75881,      0.7593,      0.7596,      0.7599,      0.7602,      0.7605,\n",
            "             0.7608,      0.7611,      0.7614,      0.7617,     0.76342,     0.76495,     0.76609,     0.77155,     0.77451,     0.77741,     0.77927,     0.77989,     0.77956,     0.77944,     0.78003,     0.78062,     0.78121,      0.7818,     0.78184,     0.78158,     0.78132,     0.78044,     0.78028,\n",
            "            0.78012,     0.77996,     0.77979,     0.78072,     0.78253,     0.78356,      0.7846,     0.78508,     0.78476,      0.7847,     0.78777,     0.78951,     0.79034,     0.79077,      0.7912,     0.79163,     0.79206,      0.7925,     0.79306,     0.79428,      0.7955,     0.79539,     0.79501,\n",
            "            0.79521,     0.79549,     0.79577,     0.79605,     0.79633,     0.79661,     0.79689,     0.79717,     0.79745,     0.79773,     0.79778,     0.79769,      0.7976,     0.79751,     0.79741,     0.79732,     0.79723,     0.79714,     0.79778,     0.79903,     0.80014,      0.8008,     0.80146,\n",
            "            0.80212,     0.80278,     0.80286,     0.80279,     0.80272,     0.80265,     0.80258,     0.80251,     0.80244,     0.80237,     0.80229,     0.80222,     0.80274,     0.80358,     0.80442,     0.80613,     0.81138,     0.81203,     0.81268,     0.81333,     0.81398,     0.81458,     0.81516,\n",
            "            0.81574,     0.81632,      0.8169,     0.81907,     0.82111,     0.82243,     0.82342,     0.82376,      0.8241,     0.82444,     0.82478,     0.82512,     0.82546,      0.8258,     0.82614,     0.82658,     0.82746,     0.82834,     0.82923,     0.82964,     0.82979,     0.82994,     0.83009,\n",
            "            0.83024,     0.83039,     0.83054,      0.8307,     0.83085,       0.831,     0.83115,      0.8313,     0.83145,      0.8316,     0.83175,      0.8319,     0.83205,      0.8322,     0.83235,      0.8325,     0.83265,     0.83319,      0.8339,     0.83461,     0.83532,     0.83599,     0.83827,\n",
            "            0.83798,     0.84068,     0.84143,     0.84181,     0.84218,     0.84255,     0.84293,      0.8433,     0.84367,     0.84405,     0.84431,     0.84401,     0.84502,     0.84899,     0.85172,     0.85363,     0.85326,      0.8529,     0.85258,     0.85251,     0.85244,     0.85237,     0.85229,\n",
            "            0.85222,     0.85215,     0.85208,       0.852,     0.85146,     0.85278,      0.8543,     0.85473,     0.85457,      0.8544,     0.85775,     0.85864,     0.85953,     0.86042,     0.86134,     0.86253,     0.86372,     0.86488,     0.86587,     0.86687,     0.86786,     0.86857,     0.86903,\n",
            "             0.8695,     0.86996,     0.87043,     0.87089,     0.87136,     0.87182,     0.87259,     0.87342,     0.87425,     0.87508,     0.87629,      0.8779,     0.88284,     0.88256,     0.88299,     0.88342,     0.88386,     0.88429,     0.88473,     0.88516,      0.8856,     0.88603,     0.88573,\n",
            "            0.88543,     0.88518,     0.88507,     0.88501,     0.88495,      0.8849,     0.88484,     0.88479,     0.88473,     0.88467,     0.88462,     0.88524,     0.88587,     0.88651,     0.88714,     0.88777,     0.88841,     0.88867,     0.88893,     0.88918,     0.88944,      0.8897,     0.88996,\n",
            "            0.89022,     0.89048,     0.89073,     0.89099,     0.89125,     0.89151,     0.89177,     0.89203,      0.8926,      0.8948,     0.89609,     0.89607,     0.89604,     0.89601,     0.89599,     0.89596,     0.89593,      0.8959,     0.89588,     0.89585,     0.89582,      0.8958,     0.89577,\n",
            "            0.89574,     0.89572,     0.89569,     0.89566,     0.89604,     0.89669,     0.89733,     0.89797,     0.89862,     0.89926,     0.90041,       0.902,     0.90351,     0.90346,     0.90341,     0.90337,     0.90332,     0.90328,     0.90323,     0.90318,     0.90314,     0.90309,     0.90335,\n",
            "            0.90366,     0.90396,     0.90427,     0.90458,     0.90489,      0.9052,      0.9055,     0.90581,     0.90612,     0.90643,     0.90674,     0.90704,     0.90733,      0.9076,     0.90788,     0.90816,     0.90844,     0.90871,     0.90899,     0.90927,     0.90955,     0.90982,      0.9101,\n",
            "            0.91038,     0.91066,     0.91094,     0.91132,     0.91187,     0.91243,     0.91298,     0.91354,      0.9141,     0.91465,     0.91517,     0.91505,     0.91492,      0.9148,     0.91464,     0.91448,     0.91426,     0.91407,     0.91455,     0.91503,     0.91551,     0.91599,     0.91648,\n",
            "            0.91696,     0.91744,     0.91792,     0.91814,     0.91806,     0.91797,     0.91789,     0.91779,     0.91758,     0.91736,     0.91715,     0.91735,     0.91793,     0.91851,     0.91909,     0.91967,     0.92025,     0.92083,     0.92127,     0.92115,     0.92103,     0.92092,     0.92085,\n",
            "            0.92078,     0.92071,     0.92064,     0.92057,      0.9205,     0.92044,     0.92037,      0.9203,     0.92024,     0.92089,     0.92337,     0.92447,     0.92437,     0.92427,     0.92417,     0.92412,     0.92407,     0.92402,     0.92398,     0.92393,     0.92388,     0.92383,     0.92345,\n",
            "            0.92306,     0.92302,     0.92298,     0.92294,     0.92289,     0.92285,     0.92281,     0.92277,     0.92273,     0.92228,     0.92208,     0.92351,     0.92626,     0.92603,     0.92593,     0.92583,     0.92647,     0.93033,     0.93007,     0.93363,     0.93464,     0.93459,     0.93455,\n",
            "             0.9345,     0.93445,     0.93441,     0.93436,     0.93409,     0.93399,     0.93396,     0.93393,      0.9339,     0.93387,     0.93384,     0.93382,     0.93379,     0.93376,     0.93373,      0.9337,     0.93367,     0.93339,      0.9328,      0.9324,     0.93297,     0.93383,     0.93469,\n",
            "            0.93555,     0.93641,     0.93705,     0.93678,      0.9367,     0.93662,     0.93654,     0.93665,     0.93952,     0.94116,     0.94112,     0.94107,     0.94103,     0.94099,     0.94095,     0.94091,     0.94087,     0.94077,     0.94066,     0.94055,     0.94036,     0.94197,     0.95268,\n",
            "            0.95648,     0.95777,     0.95907,     0.96037,     0.96104,     0.96089,     0.96085,     0.96082,     0.96079,     0.96075,     0.96072,     0.96069,     0.96062,     0.96054,     0.96046,     0.96007,     0.96245,     0.96551,     0.96548,     0.96546,     0.96543,      0.9654,     0.96537,\n",
            "            0.96535,     0.96532,     0.96526,     0.96521,     0.96515,     0.96502,     0.96489,     0.96486,     0.96483,      0.9648,     0.96476,     0.96473,     0.96469,     0.96459,      0.9645,     0.96446,     0.96443,      0.9644,     0.96436,     0.96433,      0.9643,     0.96427,     0.96424,\n",
            "            0.96421,     0.96418,     0.96415,     0.96412,      0.9641,     0.96401,     0.96382,     0.96375,     0.96369,      0.9636,     0.96344,     0.96327,     0.96306,     0.96267,     0.96253,     0.96242,     0.96233,     0.96221,     0.96205,     0.96272,     0.96439,     0.96606,     0.96774,\n",
            "            0.96776,     0.96749,     0.96741,     0.96733,     0.96707,     0.96701,     0.96695,     0.96689,     0.96678,     0.96664,     0.96649,     0.96877,     0.97277,     0.97519,     0.97761,     0.97915,      0.9791,     0.97904,     0.97888,     0.97885,     0.97883,     0.97881,     0.97878,\n",
            "            0.97876,     0.97874,     0.98018,     0.98535,     0.98558,     0.98554,      0.9855,     0.98549,     0.98548,     0.98547,     0.98546,     0.98545,     0.98543,     0.98542,     0.98541,     0.98538,     0.98531,     0.98526,     0.98523,      0.9852,     0.98517,     0.98515,     0.98512,\n",
            "             0.9851,     0.98508,     0.98482,     0.98473,     0.98451,     0.98445,     0.98439,     0.98426,     0.98412,     0.98409,     0.98406,     0.98402,     0.98393,     0.98382,     0.98375,     0.98371,     0.98368,     0.98364,      0.9836,     0.98349,     0.98332,     0.98323,     0.98303,\n",
            "            0.98286,     0.98276,      0.9827,     0.98264,     0.98243,     0.98226,     0.98219,     0.98205,     0.98186,     0.98178,     0.98172,     0.98166,     0.98143,     0.98119,     0.98092,     0.98079,     0.98049,           1,           1,           1,           1,           1,           1,\n",
            "                  1,           1,           1,           1,           1,           1,           1,           1,           1,           1,           1,           1,           1,           1,           1,           1,           1,           1,           1,           1,           1,           1,           1,\n",
            "                  1,           1,           1,           1,           1,           1,           1,           1,           1,           1,           1,           1,           1,           1,           1,           1,           1,           1,           1,           1,           1,           1,           1,\n",
            "                  1,           1,           1,           1,           1,           1,           1,           1,           1,           1,           1,           1,           1,           1,           1,           1,           1,           1,           1,           1,           1,           1,           1,\n",
            "                  1,           1,           1,           1,           1,           1,           1,           1,           1,           1,           1,           1,           1,           1,           1,           1,           1,           1,           1,           1,           1,           1,           1,\n",
            "                  1,           1,           1,           1,           1,           1,           1,           1,           1,           1,           1,           1,           1,           1,           1,           1,           1,           1,           1,           1,           1,           1,           1,\n",
            "                  1,           1,           1,           1,           1,           1,           1,           1,           1,           1,           1,           1,           1,           1,           1,           1,           1,           1,           1,           1,           1,           1,           1,\n",
            "                  1,           1,           1,           1,           1,           1,           1,           1,           1,           1,           1,           1,           1,           1,           1,           1,           1,           1,           1,           1,           1,           1,           1,\n",
            "                  1,           1,           1,           1,           1,           1,           1,           1,           1,           1,           1]]), 'Confidence', 'Precision'], [array([          0,    0.001001,    0.002002,    0.003003,    0.004004,    0.005005,    0.006006,    0.007007,    0.008008,    0.009009,     0.01001,    0.011011,    0.012012,    0.013013,    0.014014,    0.015015,    0.016016,    0.017017,    0.018018,    0.019019,     0.02002,    0.021021,    0.022022,    0.023023,\n",
            "          0.024024,    0.025025,    0.026026,    0.027027,    0.028028,    0.029029,     0.03003,    0.031031,    0.032032,    0.033033,    0.034034,    0.035035,    0.036036,    0.037037,    0.038038,    0.039039,     0.04004,    0.041041,    0.042042,    0.043043,    0.044044,    0.045045,    0.046046,    0.047047,\n",
            "          0.048048,    0.049049,     0.05005,    0.051051,    0.052052,    0.053053,    0.054054,    0.055055,    0.056056,    0.057057,    0.058058,    0.059059,     0.06006,    0.061061,    0.062062,    0.063063,    0.064064,    0.065065,    0.066066,    0.067067,    0.068068,    0.069069,     0.07007,    0.071071,\n",
            "          0.072072,    0.073073,    0.074074,    0.075075,    0.076076,    0.077077,    0.078078,    0.079079,     0.08008,    0.081081,    0.082082,    0.083083,    0.084084,    0.085085,    0.086086,    0.087087,    0.088088,    0.089089,     0.09009,    0.091091,    0.092092,    0.093093,    0.094094,    0.095095,\n",
            "          0.096096,    0.097097,    0.098098,    0.099099,      0.1001,      0.1011,      0.1021,      0.1031,      0.1041,     0.10511,     0.10611,     0.10711,     0.10811,     0.10911,     0.11011,     0.11111,     0.11211,     0.11311,     0.11411,     0.11512,     0.11612,     0.11712,     0.11812,     0.11912,\n",
            "           0.12012,     0.12112,     0.12212,     0.12312,     0.12412,     0.12513,     0.12613,     0.12713,     0.12813,     0.12913,     0.13013,     0.13113,     0.13213,     0.13313,     0.13413,     0.13514,     0.13614,     0.13714,     0.13814,     0.13914,     0.14014,     0.14114,     0.14214,     0.14314,\n",
            "           0.14414,     0.14515,     0.14615,     0.14715,     0.14815,     0.14915,     0.15015,     0.15115,     0.15215,     0.15315,     0.15415,     0.15516,     0.15616,     0.15716,     0.15816,     0.15916,     0.16016,     0.16116,     0.16216,     0.16316,     0.16416,     0.16517,     0.16617,     0.16717,\n",
            "           0.16817,     0.16917,     0.17017,     0.17117,     0.17217,     0.17317,     0.17417,     0.17518,     0.17618,     0.17718,     0.17818,     0.17918,     0.18018,     0.18118,     0.18218,     0.18318,     0.18418,     0.18519,     0.18619,     0.18719,     0.18819,     0.18919,     0.19019,     0.19119,\n",
            "           0.19219,     0.19319,     0.19419,      0.1952,      0.1962,      0.1972,      0.1982,      0.1992,      0.2002,      0.2012,      0.2022,      0.2032,      0.2042,     0.20521,     0.20621,     0.20721,     0.20821,     0.20921,     0.21021,     0.21121,     0.21221,     0.21321,     0.21421,     0.21522,\n",
            "           0.21622,     0.21722,     0.21822,     0.21922,     0.22022,     0.22122,     0.22222,     0.22322,     0.22422,     0.22523,     0.22623,     0.22723,     0.22823,     0.22923,     0.23023,     0.23123,     0.23223,     0.23323,     0.23423,     0.23524,     0.23624,     0.23724,     0.23824,     0.23924,\n",
            "           0.24024,     0.24124,     0.24224,     0.24324,     0.24424,     0.24525,     0.24625,     0.24725,     0.24825,     0.24925,     0.25025,     0.25125,     0.25225,     0.25325,     0.25425,     0.25526,     0.25626,     0.25726,     0.25826,     0.25926,     0.26026,     0.26126,     0.26226,     0.26326,\n",
            "           0.26426,     0.26527,     0.26627,     0.26727,     0.26827,     0.26927,     0.27027,     0.27127,     0.27227,     0.27327,     0.27427,     0.27528,     0.27628,     0.27728,     0.27828,     0.27928,     0.28028,     0.28128,     0.28228,     0.28328,     0.28428,     0.28529,     0.28629,     0.28729,\n",
            "           0.28829,     0.28929,     0.29029,     0.29129,     0.29229,     0.29329,     0.29429,      0.2953,      0.2963,      0.2973,      0.2983,      0.2993,      0.3003,      0.3013,      0.3023,      0.3033,      0.3043,     0.30531,     0.30631,     0.30731,     0.30831,     0.30931,     0.31031,     0.31131,\n",
            "           0.31231,     0.31331,     0.31431,     0.31532,     0.31632,     0.31732,     0.31832,     0.31932,     0.32032,     0.32132,     0.32232,     0.32332,     0.32432,     0.32533,     0.32633,     0.32733,     0.32833,     0.32933,     0.33033,     0.33133,     0.33233,     0.33333,     0.33433,     0.33534,\n",
            "           0.33634,     0.33734,     0.33834,     0.33934,     0.34034,     0.34134,     0.34234,     0.34334,     0.34434,     0.34535,     0.34635,     0.34735,     0.34835,     0.34935,     0.35035,     0.35135,     0.35235,     0.35335,     0.35435,     0.35536,     0.35636,     0.35736,     0.35836,     0.35936,\n",
            "           0.36036,     0.36136,     0.36236,     0.36336,     0.36436,     0.36537,     0.36637,     0.36737,     0.36837,     0.36937,     0.37037,     0.37137,     0.37237,     0.37337,     0.37437,     0.37538,     0.37638,     0.37738,     0.37838,     0.37938,     0.38038,     0.38138,     0.38238,     0.38338,\n",
            "           0.38438,     0.38539,     0.38639,     0.38739,     0.38839,     0.38939,     0.39039,     0.39139,     0.39239,     0.39339,     0.39439,      0.3954,      0.3964,      0.3974,      0.3984,      0.3994,      0.4004,      0.4014,      0.4024,      0.4034,      0.4044,     0.40541,     0.40641,     0.40741,\n",
            "           0.40841,     0.40941,     0.41041,     0.41141,     0.41241,     0.41341,     0.41441,     0.41542,     0.41642,     0.41742,     0.41842,     0.41942,     0.42042,     0.42142,     0.42242,     0.42342,     0.42442,     0.42543,     0.42643,     0.42743,     0.42843,     0.42943,     0.43043,     0.43143,\n",
            "           0.43243,     0.43343,     0.43443,     0.43544,     0.43644,     0.43744,     0.43844,     0.43944,     0.44044,     0.44144,     0.44244,     0.44344,     0.44444,     0.44545,     0.44645,     0.44745,     0.44845,     0.44945,     0.45045,     0.45145,     0.45245,     0.45345,     0.45445,     0.45546,\n",
            "           0.45646,     0.45746,     0.45846,     0.45946,     0.46046,     0.46146,     0.46246,     0.46346,     0.46446,     0.46547,     0.46647,     0.46747,     0.46847,     0.46947,     0.47047,     0.47147,     0.47247,     0.47347,     0.47447,     0.47548,     0.47648,     0.47748,     0.47848,     0.47948,\n",
            "           0.48048,     0.48148,     0.48248,     0.48348,     0.48448,     0.48549,     0.48649,     0.48749,     0.48849,     0.48949,     0.49049,     0.49149,     0.49249,     0.49349,     0.49449,      0.4955,      0.4965,      0.4975,      0.4985,      0.4995,      0.5005,      0.5015,      0.5025,      0.5035,\n",
            "            0.5045,     0.50551,     0.50651,     0.50751,     0.50851,     0.50951,     0.51051,     0.51151,     0.51251,     0.51351,     0.51451,     0.51552,     0.51652,     0.51752,     0.51852,     0.51952,     0.52052,     0.52152,     0.52252,     0.52352,     0.52452,     0.52553,     0.52653,     0.52753,\n",
            "           0.52853,     0.52953,     0.53053,     0.53153,     0.53253,     0.53353,     0.53453,     0.53554,     0.53654,     0.53754,     0.53854,     0.53954,     0.54054,     0.54154,     0.54254,     0.54354,     0.54454,     0.54555,     0.54655,     0.54755,     0.54855,     0.54955,     0.55055,     0.55155,\n",
            "           0.55255,     0.55355,     0.55455,     0.55556,     0.55656,     0.55756,     0.55856,     0.55956,     0.56056,     0.56156,     0.56256,     0.56356,     0.56456,     0.56557,     0.56657,     0.56757,     0.56857,     0.56957,     0.57057,     0.57157,     0.57257,     0.57357,     0.57457,     0.57558,\n",
            "           0.57658,     0.57758,     0.57858,     0.57958,     0.58058,     0.58158,     0.58258,     0.58358,     0.58458,     0.58559,     0.58659,     0.58759,     0.58859,     0.58959,     0.59059,     0.59159,     0.59259,     0.59359,     0.59459,      0.5956,      0.5966,      0.5976,      0.5986,      0.5996,\n",
            "            0.6006,      0.6016,      0.6026,      0.6036,      0.6046,     0.60561,     0.60661,     0.60761,     0.60861,     0.60961,     0.61061,     0.61161,     0.61261,     0.61361,     0.61461,     0.61562,     0.61662,     0.61762,     0.61862,     0.61962,     0.62062,     0.62162,     0.62262,     0.62362,\n",
            "           0.62462,     0.62563,     0.62663,     0.62763,     0.62863,     0.62963,     0.63063,     0.63163,     0.63263,     0.63363,     0.63463,     0.63564,     0.63664,     0.63764,     0.63864,     0.63964,     0.64064,     0.64164,     0.64264,     0.64364,     0.64464,     0.64565,     0.64665,     0.64765,\n",
            "           0.64865,     0.64965,     0.65065,     0.65165,     0.65265,     0.65365,     0.65465,     0.65566,     0.65666,     0.65766,     0.65866,     0.65966,     0.66066,     0.66166,     0.66266,     0.66366,     0.66466,     0.66567,     0.66667,     0.66767,     0.66867,     0.66967,     0.67067,     0.67167,\n",
            "           0.67267,     0.67367,     0.67467,     0.67568,     0.67668,     0.67768,     0.67868,     0.67968,     0.68068,     0.68168,     0.68268,     0.68368,     0.68468,     0.68569,     0.68669,     0.68769,     0.68869,     0.68969,     0.69069,     0.69169,     0.69269,     0.69369,     0.69469,      0.6957,\n",
            "            0.6967,      0.6977,      0.6987,      0.6997,      0.7007,      0.7017,      0.7027,      0.7037,      0.7047,     0.70571,     0.70671,     0.70771,     0.70871,     0.70971,     0.71071,     0.71171,     0.71271,     0.71371,     0.71471,     0.71572,     0.71672,     0.71772,     0.71872,     0.71972,\n",
            "           0.72072,     0.72172,     0.72272,     0.72372,     0.72472,     0.72573,     0.72673,     0.72773,     0.72873,     0.72973,     0.73073,     0.73173,     0.73273,     0.73373,     0.73473,     0.73574,     0.73674,     0.73774,     0.73874,     0.73974,     0.74074,     0.74174,     0.74274,     0.74374,\n",
            "           0.74474,     0.74575,     0.74675,     0.74775,     0.74875,     0.74975,     0.75075,     0.75175,     0.75275,     0.75375,     0.75475,     0.75576,     0.75676,     0.75776,     0.75876,     0.75976,     0.76076,     0.76176,     0.76276,     0.76376,     0.76476,     0.76577,     0.76677,     0.76777,\n",
            "           0.76877,     0.76977,     0.77077,     0.77177,     0.77277,     0.77377,     0.77477,     0.77578,     0.77678,     0.77778,     0.77878,     0.77978,     0.78078,     0.78178,     0.78278,     0.78378,     0.78478,     0.78579,     0.78679,     0.78779,     0.78879,     0.78979,     0.79079,     0.79179,\n",
            "           0.79279,     0.79379,     0.79479,      0.7958,      0.7968,      0.7978,      0.7988,      0.7998,      0.8008,      0.8018,      0.8028,      0.8038,      0.8048,     0.80581,     0.80681,     0.80781,     0.80881,     0.80981,     0.81081,     0.81181,     0.81281,     0.81381,     0.81481,     0.81582,\n",
            "           0.81682,     0.81782,     0.81882,     0.81982,     0.82082,     0.82182,     0.82282,     0.82382,     0.82482,     0.82583,     0.82683,     0.82783,     0.82883,     0.82983,     0.83083,     0.83183,     0.83283,     0.83383,     0.83483,     0.83584,     0.83684,     0.83784,     0.83884,     0.83984,\n",
            "           0.84084,     0.84184,     0.84284,     0.84384,     0.84484,     0.84585,     0.84685,     0.84785,     0.84885,     0.84985,     0.85085,     0.85185,     0.85285,     0.85385,     0.85485,     0.85586,     0.85686,     0.85786,     0.85886,     0.85986,     0.86086,     0.86186,     0.86286,     0.86386,\n",
            "           0.86486,     0.86587,     0.86687,     0.86787,     0.86887,     0.86987,     0.87087,     0.87187,     0.87287,     0.87387,     0.87487,     0.87588,     0.87688,     0.87788,     0.87888,     0.87988,     0.88088,     0.88188,     0.88288,     0.88388,     0.88488,     0.88589,     0.88689,     0.88789,\n",
            "           0.88889,     0.88989,     0.89089,     0.89189,     0.89289,     0.89389,     0.89489,      0.8959,      0.8969,      0.8979,      0.8989,      0.8999,      0.9009,      0.9019,      0.9029,      0.9039,      0.9049,     0.90591,     0.90691,     0.90791,     0.90891,     0.90991,     0.91091,     0.91191,\n",
            "           0.91291,     0.91391,     0.91491,     0.91592,     0.91692,     0.91792,     0.91892,     0.91992,     0.92092,     0.92192,     0.92292,     0.92392,     0.92492,     0.92593,     0.92693,     0.92793,     0.92893,     0.92993,     0.93093,     0.93193,     0.93293,     0.93393,     0.93493,     0.93594,\n",
            "           0.93694,     0.93794,     0.93894,     0.93994,     0.94094,     0.94194,     0.94294,     0.94394,     0.94494,     0.94595,     0.94695,     0.94795,     0.94895,     0.94995,     0.95095,     0.95195,     0.95295,     0.95395,     0.95495,     0.95596,     0.95696,     0.95796,     0.95896,     0.95996,\n",
            "           0.96096,     0.96196,     0.96296,     0.96396,     0.96496,     0.96597,     0.96697,     0.96797,     0.96897,     0.96997,     0.97097,     0.97197,     0.97297,     0.97397,     0.97497,     0.97598,     0.97698,     0.97798,     0.97898,     0.97998,     0.98098,     0.98198,     0.98298,     0.98398,\n",
            "           0.98498,     0.98599,     0.98699,     0.98799,     0.98899,     0.98999,     0.99099,     0.99199,     0.99299,     0.99399,     0.99499,       0.996,       0.997,       0.998,       0.999,           1]), array([[    0.96181,     0.96181,     0.95139,     0.93403,     0.93056,     0.92361,     0.91319,     0.90972,     0.90625,     0.90625,     0.89583,     0.88889,     0.88542,     0.88542,     0.88194,     0.88194,     0.88194,     0.88194,     0.87847,       0.875,       0.875,     0.87153,     0.86806,\n",
            "            0.86806,     0.86806,     0.86806,     0.86806,     0.86806,     0.86458,     0.86458,     0.86458,     0.86458,     0.86458,     0.86111,     0.86111,     0.85764,     0.85417,     0.85417,     0.85417,     0.85417,     0.85417,     0.85417,     0.85417,     0.85255,     0.85069,     0.85069,\n",
            "            0.85069,     0.85069,     0.85069,     0.85069,     0.85069,     0.85069,     0.85069,     0.85069,     0.85069,     0.85069,     0.85069,     0.85069,     0.85069,      0.8504,     0.84757,     0.84722,     0.84722,     0.84722,     0.84722,     0.84722,     0.84375,     0.84375,     0.84375,\n",
            "            0.84375,     0.84375,     0.84375,     0.84375,     0.84028,     0.84028,     0.84028,     0.84028,     0.84028,     0.83919,     0.83711,     0.83681,     0.83681,     0.83681,     0.83681,     0.83681,     0.83681,     0.83681,     0.83681,     0.83681,     0.83681,     0.83681,     0.83681,\n",
            "            0.83681,     0.83681,     0.83681,     0.83681,     0.83681,     0.83681,     0.83681,     0.83681,     0.83479,     0.82986,     0.82968,     0.82754,     0.82639,     0.82639,     0.82639,     0.82639,     0.82639,     0.82639,     0.82639,     0.82639,     0.82639,     0.82601,     0.82292,\n",
            "            0.82292,     0.82223,     0.81944,     0.81944,     0.81944,     0.81944,     0.81944,     0.81944,     0.81944,     0.81944,     0.81944,     0.81944,      0.8125,      0.8125,      0.8125,      0.8125,      0.8125,      0.8125,     0.81206,     0.81111,     0.81017,     0.80922,     0.80903,\n",
            "            0.80903,     0.80903,     0.80903,     0.80903,     0.80903,     0.80903,     0.80903,     0.80903,     0.80903,     0.80903,     0.80903,     0.80903,     0.80903,     0.80801,     0.80556,     0.80556,     0.80556,     0.80556,     0.80556,     0.80556,     0.80556,     0.80556,     0.80556,\n",
            "            0.80556,     0.80556,     0.80556,     0.80507,     0.80454,     0.80401,     0.80348,     0.80295,     0.80242,     0.80121,     0.79878,     0.79654,     0.79514,     0.79514,     0.79514,     0.79514,     0.79514,     0.79514,     0.79514,     0.79514,     0.79514,     0.79514,     0.79514,\n",
            "            0.79514,     0.79514,     0.79514,     0.79514,     0.79514,     0.79514,     0.79514,     0.79514,     0.79514,     0.79514,     0.79514,     0.79514,     0.79491,     0.79452,     0.79412,     0.79373,     0.79334,     0.79294,     0.79255,     0.79216,     0.79176,     0.79167,     0.79167,\n",
            "            0.79167,     0.79167,     0.79167,     0.79167,     0.79167,     0.79167,     0.79167,     0.79167,     0.79167,     0.79167,     0.79167,     0.79167,     0.79167,     0.79167,     0.78819,     0.78819,     0.78819,     0.78819,     0.78819,     0.78819,     0.78819,     0.78819,     0.78819,\n",
            "            0.78819,     0.78819,     0.78819,     0.78819,     0.78819,     0.78819,     0.78819,     0.78819,     0.78819,     0.78819,     0.78819,     0.78736,     0.78588,     0.78472,     0.78472,     0.78472,     0.78472,     0.78472,     0.78395,     0.78275,     0.78156,     0.77755,     0.77683,\n",
            "             0.7761,     0.77537,     0.77464,     0.77431,     0.77431,     0.77431,     0.77431,      0.7737,     0.77222,     0.77083,     0.77083,     0.77083,     0.77083,     0.77083,     0.77083,     0.77083,     0.77083,     0.77083,     0.77083,     0.77083,     0.77083,     0.76935,     0.76759,\n",
            "            0.76736,     0.76736,     0.76736,     0.76736,     0.76736,     0.76736,     0.76736,     0.76736,     0.76736,     0.76736,     0.76709,     0.76666,     0.76623,      0.7658,     0.76537,     0.76494,     0.76451,     0.76408,     0.76389,     0.76389,     0.76389,     0.76389,     0.76389,\n",
            "            0.76389,     0.76389,     0.76362,     0.76328,     0.76293,     0.76259,     0.76225,     0.76191,     0.76157,     0.76122,     0.76088,     0.76054,     0.76042,     0.76042,     0.76042,     0.76042,     0.76042,     0.76042,     0.76042,     0.76042,     0.76042,     0.76042,     0.76042,\n",
            "            0.76042,     0.76042,     0.76042,     0.76042,     0.76042,     0.76042,     0.76042,     0.76042,     0.76042,     0.76042,     0.76042,     0.76042,     0.76042,     0.76042,     0.76042,     0.76042,     0.76042,     0.76042,     0.76042,     0.76042,     0.76042,     0.76042,     0.76042,\n",
            "            0.76042,     0.76042,     0.76042,     0.76042,     0.76042,     0.76042,     0.76042,     0.76042,     0.76042,     0.76042,     0.76042,     0.76042,     0.76042,     0.76042,     0.76042,     0.76042,     0.76042,     0.76042,     0.76042,     0.76042,     0.76042,     0.75694,     0.75587,\n",
            "            0.75425,     0.75347,     0.75347,     0.75347,     0.75347,     0.75347,     0.75347,     0.75347,     0.75347,     0.75347,     0.75318,     0.75146,        0.75,        0.75,        0.75,     0.74928,     0.74702,     0.74493,     0.74302,     0.74259,     0.74217,     0.74174,     0.74131,\n",
            "            0.74089,     0.74046,     0.74003,     0.73961,     0.73642,     0.73611,     0.73611,     0.73548,      0.7345,     0.73352,     0.73264,     0.73264,     0.73264,     0.73264,     0.73264,     0.73264,     0.73264,     0.73264,     0.73264,     0.73264,     0.73264,     0.73264,     0.73264,\n",
            "            0.73264,     0.73264,     0.73264,     0.73264,     0.73264,     0.73264,     0.73264,     0.73264,     0.73264,     0.73264,     0.73264,     0.73264,     0.73258,     0.72917,     0.72917,     0.72917,     0.72917,     0.72917,     0.72917,     0.72917,     0.72917,     0.72917,      0.7267,\n",
            "            0.72455,     0.72276,     0.72194,     0.72155,     0.72115,     0.72075,     0.72035,     0.71995,     0.71955,     0.71915,     0.71876,     0.71875,     0.71875,     0.71875,     0.71875,     0.71875,     0.71875,     0.71875,     0.71875,     0.71875,     0.71875,     0.71875,     0.71875,\n",
            "            0.71875,     0.71875,     0.71875,     0.71875,     0.71875,     0.71875,     0.71875,     0.71875,     0.71875,     0.71875,     0.71867,     0.71846,     0.71825,     0.71805,     0.71784,     0.71763,     0.71743,     0.71722,     0.71701,     0.71681,      0.7166,     0.71639,     0.71619,\n",
            "            0.71598,     0.71577,     0.71557,     0.71536,     0.71528,     0.71528,     0.71528,     0.71528,     0.71528,     0.71528,     0.71528,     0.71528,     0.71526,     0.71488,      0.7145,     0.71412,     0.71375,     0.71337,     0.71299,     0.71261,     0.71224,     0.71186,     0.71181,\n",
            "            0.71181,     0.71181,     0.71181,     0.71181,     0.71181,     0.71181,     0.71181,     0.71181,     0.71181,     0.71181,     0.71181,     0.71181,     0.71181,     0.71181,     0.71181,     0.71181,     0.71181,     0.71181,     0.71181,     0.71181,     0.71181,     0.71181,     0.71181,\n",
            "            0.71181,     0.71181,     0.71181,     0.71181,     0.71181,     0.71181,     0.71181,     0.71181,     0.71181,     0.71181,     0.71175,     0.71061,     0.70948,     0.70835,     0.70691,     0.70546,      0.7035,     0.70139,     0.70139,     0.70139,     0.70139,     0.70139,     0.70139,\n",
            "            0.70139,     0.70139,     0.70139,     0.70103,     0.70024,     0.69945,     0.69866,     0.69779,     0.69578,      0.6938,     0.69189,     0.69097,     0.69097,     0.69097,     0.69097,     0.69097,     0.69097,     0.69097,     0.69075,     0.68961,     0.68846,      0.6874,     0.68674,\n",
            "            0.68608,     0.68542,     0.68477,     0.68411,     0.68349,     0.68286,     0.68224,     0.68162,       0.681,     0.68056,     0.68056,     0.68003,     0.67903,     0.67804,     0.67707,     0.67661,     0.67614,     0.67568,     0.67521,     0.67475,     0.67429,     0.67382,     0.67015,\n",
            "            0.66651,     0.66612,     0.66574,     0.66535,     0.66496,     0.66458,     0.66419,      0.6638,     0.66342,     0.65928,     0.65745,     0.65625,      0.6542,     0.65204,     0.65107,     0.65011,     0.64931,     0.64911,     0.64653,     0.64583,     0.64545,     0.64497,     0.64449,\n",
            "            0.64401,     0.64353,     0.64305,     0.64257,     0.63969,     0.63864,     0.63835,     0.63806,     0.63776,     0.63747,     0.63718,     0.63688,     0.63659,     0.63629,       0.636,     0.63571,     0.63538,     0.63254,     0.62659,     0.62261,     0.62153,     0.62153,     0.62153,\n",
            "            0.62153,     0.62153,     0.62027,     0.61739,     0.61656,     0.61572,     0.61488,     0.61111,     0.61111,     0.61092,     0.61046,        0.61,     0.60954,     0.60907,     0.60861,     0.60815,     0.60769,     0.60662,     0.60546,     0.60431,     0.60223,     0.60069,     0.60069,\n",
            "            0.60069,     0.60069,     0.60069,     0.60069,     0.59951,     0.59713,     0.59659,     0.59606,     0.59553,     0.59499,     0.59446,     0.59392,      0.5929,     0.59163,     0.59036,     0.58445,     0.58333,     0.58321,     0.58273,     0.58225,     0.58178,      0.5813,     0.58082,\n",
            "            0.58034,     0.57986,     0.57891,     0.57796,       0.577,     0.57481,      0.5726,     0.57206,     0.57152,     0.57097,     0.57043,     0.56988,     0.56913,     0.56756,     0.56599,     0.56543,     0.56489,     0.56434,      0.5638,     0.56325,     0.56271,     0.56221,     0.56174,\n",
            "            0.56128,     0.56081,     0.56034,     0.55988,     0.55941,     0.55799,     0.55495,     0.55392,     0.55288,      0.5515,     0.54897,     0.54637,     0.54318,     0.53731,      0.5351,     0.53357,     0.53217,     0.53046,     0.52815,     0.52431,     0.52431,     0.52431,     0.52431,\n",
            "            0.52115,     0.51668,      0.5154,     0.51411,     0.50985,     0.50892,     0.50799,     0.50706,     0.50518,     0.50312,     0.50069,     0.49653,     0.48958,     0.48958,     0.48958,     0.48915,     0.48791,     0.48667,      0.4828,     0.48213,     0.48162,      0.4811,     0.48058,\n",
            "            0.48006,     0.47954,     0.47917,     0.47917,     0.47461,     0.47321,     0.47211,     0.47172,     0.47134,     0.47096,     0.47057,     0.47019,     0.46981,     0.46942,     0.46904,     0.46813,     0.46564,     0.46434,     0.46325,     0.46215,     0.46131,     0.46059,     0.45986,\n",
            "            0.45914,     0.45842,     0.45058,     0.44798,     0.44128,     0.43955,     0.43802,     0.43417,      0.4304,      0.4295,      0.4286,      0.4277,     0.42513,     0.42222,     0.42039,     0.41936,     0.41845,     0.41755,     0.41658,     0.41364,     0.40941,     0.40711,      0.4023,\n",
            "             0.3982,     0.39582,     0.39447,     0.39312,     0.38825,     0.38449,     0.38305,     0.37985,     0.37591,     0.37415,     0.37293,     0.37171,     0.36693,     0.36222,     0.35708,     0.35452,     0.34908,     0.33787,     0.33608,     0.33522,     0.33436,      0.3335,     0.33158,\n",
            "            0.32911,     0.32607,     0.32469,     0.32332,     0.31902,     0.31775,     0.31647,     0.31328,     0.30764,     0.29836,     0.29575,     0.28593,     0.28358,     0.28186,     0.27705,     0.27458,     0.26908,     0.26651,     0.26479,     0.26337,     0.26228,     0.26119,     0.25237,\n",
            "            0.24866,      0.2442,     0.23993,     0.22429,      0.2206,     0.21752,      0.2149,     0.21384,     0.21279,     0.21174,     0.21069,     0.20963,     0.20858,     0.20716,     0.20563,     0.20223,     0.19848,     0.19352,      0.1873,     0.18122,     0.17892,     0.17713,     0.17489,\n",
            "            0.16796,     0.16511,      0.1634,     0.15572,      0.1533,      0.1491,     0.14837,     0.14764,      0.1469,     0.14617,     0.13802,      0.1246,     0.12014,     0.11852,     0.11572,     0.11313,     0.11081,      0.1077,     0.10166,     0.09973,    0.098548,    0.097367,    0.092324,\n",
            "           0.088344,    0.079633,    0.078924,    0.078215,    0.077505,    0.076796,    0.074267,     0.06908,    0.067071,     0.06482,    0.061259,    0.055211,    0.052282,     0.04496,    0.037714,    0.036618,    0.035522,    0.033249,    0.026654,      0.0248,    0.016595,    0.013741,    0.013171,\n",
            "             0.0126,     0.01203,     0.01146,     0.01089,    0.010266,   0.0093828,   0.0084994,   0.0076161,   0.0068891,   0.0066584,   0.0064276,   0.0061968,    0.005966,   0.0057352,   0.0055045,   0.0052737,   0.0050429,   0.0048121,   0.0045813,   0.0043506,   0.0041198,    0.003889,   0.0036582,\n",
            "                  0,           0,           0,           0,           0,           0,           0,           0,           0,           0,           0,           0,           0,           0,           0,           0,           0,           0,           0,           0,           0,           0,           0,\n",
            "                  0,           0,           0,           0,           0,           0,           0,           0,           0,           0,           0,           0,           0,           0,           0,           0,           0,           0,           0,           0,           0,           0,           0,\n",
            "                  0,           0,           0,           0,           0,           0,           0,           0,           0,           0,           0]]), 'Confidence', 'Recall']]\n",
            "f1: array([    0.79622])\n",
            "f1_curve: array([[    0.11036,     0.11036,     0.15878,     0.19841,     0.23328,     0.26332,     0.29051,     0.31117,     0.33131,     0.34704,     0.36298,     0.37674,     0.38752,     0.40114,     0.41359,     0.42516,     0.43865,     0.44783,     0.45967,     0.46887,     0.47669,     0.48723,     0.49332,\n",
            "            0.49864,     0.50615,     0.51454,     0.52403,     0.52994,     0.53334,     0.54251,     0.54538,     0.54927,      0.5562,     0.55924,     0.56182,     0.56332,     0.56587,     0.57045,     0.57639,     0.58193,     0.58541,     0.58947,     0.59578,     0.59702,     0.59739,     0.60393,\n",
            "            0.60876,     0.61329,     0.61675,     0.62167,     0.62694,     0.63081,      0.6329,     0.63841,     0.64262,     0.64812,     0.64935,     0.65318,     0.65624,     0.65757,     0.65609,     0.65823,       0.659,     0.66084,     0.66263,      0.6664,     0.66645,     0.67025,     0.67319,\n",
            "            0.67518,     0.67705,     0.67896,     0.67971,     0.67865,     0.68143,      0.6838,     0.68611,     0.68711,     0.68691,     0.68579,     0.68968,     0.69552,     0.69633,     0.69919,     0.70116,     0.70292,      0.7038,     0.70458,      0.7067,     0.70968,     0.71221,     0.71269,\n",
            "            0.71341,     0.71538,     0.71614,     0.71785,     0.72089,     0.72188,     0.72242,     0.72359,     0.72261,      0.7201,     0.72087,     0.71967,     0.72028,     0.72189,     0.72287,     0.72461,     0.72911,     0.73352,     0.73498,     0.73656,     0.73853,     0.73892,     0.73868,\n",
            "            0.73913,     0.73908,     0.73752,     0.73774,     0.73796,     0.73818,      0.7384,     0.73861,     0.74231,     0.74312,     0.74567,     0.74657,     0.74459,     0.74655,     0.74678,     0.74702,     0.74725,     0.74748,     0.74735,      0.7468,     0.74626,     0.74571,      0.7462,\n",
            "            0.74705,     0.74854,     0.75171,     0.75219,     0.75267,     0.75345,      0.7546,     0.75555,     0.75607,     0.75658,     0.75707,     0.75756,     0.75919,      0.7596,     0.75835,     0.75876,     0.75917,     0.75966,     0.76029,     0.76081,     0.76118,     0.76154,     0.76193,\n",
            "            0.76341,     0.76421,     0.76669,     0.76665,     0.76634,     0.76603,     0.76572,     0.76541,      0.7651,     0.76439,     0.76295,     0.76416,     0.76342,     0.76355,     0.76369,     0.76382,     0.76396,     0.76409,     0.76423,     0.76436,      0.7645,     0.76466,     0.76496,\n",
            "            0.76527,     0.76557,     0.76587,     0.76606,     0.76623,     0.76641,     0.76659,     0.76677,     0.76695,     0.76713,     0.76762,     0.76821,     0.76832,     0.76809,     0.76785,     0.76762,     0.76738,     0.76715,     0.76691,     0.76668,     0.76644,      0.7667,      0.7671,\n",
            "            0.76751,     0.76829,     0.76932,     0.77028,     0.77044,     0.77059,     0.77075,      0.7709,     0.77105,     0.77121,     0.77136,     0.77151,     0.77206,     0.77286,      0.7723,     0.77261,     0.77292,     0.77323,     0.77348,     0.77363,     0.77379,     0.77394,      0.7741,\n",
            "            0.77425,     0.77441,     0.77456,     0.77472,     0.77561,      0.7764,     0.77699,     0.77978,     0.78129,     0.78277,      0.7837,      0.7836,     0.78271,     0.78207,     0.78237,     0.78267,     0.78296,     0.78326,     0.78289,     0.78217,     0.78144,     0.77899,     0.77855,\n",
            "             0.7781,     0.77766,     0.77721,      0.7775,      0.7784,     0.77891,     0.77942,     0.77935,     0.77844,      0.7777,     0.77921,     0.78006,     0.78046,     0.78067,     0.78088,     0.78109,      0.7813,     0.78151,     0.78179,     0.78238,     0.78297,     0.78215,     0.78106,\n",
            "            0.78104,     0.78117,     0.78131,     0.78144,     0.78158,     0.78171,     0.78185,     0.78198,     0.78212,     0.78225,     0.78213,     0.78187,      0.7816,     0.78133,     0.78107,      0.7808,     0.78053,     0.78026,     0.78047,     0.78106,      0.7816,     0.78191,     0.78223,\n",
            "            0.78254,     0.78285,     0.78275,     0.78254,     0.78232,     0.78211,     0.78189,     0.78168,     0.78147,     0.78125,     0.78104,     0.78083,       0.781,      0.7814,      0.7818,      0.7826,     0.78507,     0.78538,     0.78568,     0.78598,     0.78629,     0.78657,     0.78684,\n",
            "            0.78711,     0.78738,     0.78765,     0.78865,      0.7896,     0.79021,     0.79067,     0.79082,     0.79098,     0.79114,     0.79129,     0.79145,     0.79161,     0.79176,     0.79192,     0.79212,     0.79253,     0.79293,     0.79333,     0.79352,     0.79359,     0.79366,     0.79373,\n",
            "             0.7938,     0.79387,     0.79394,       0.794,     0.79407,     0.79414,     0.79421,     0.79428,     0.79435,     0.79442,     0.79448,     0.79455,     0.79462,     0.79469,     0.79476,     0.79483,      0.7949,     0.79514,     0.79546,     0.79579,     0.79611,      0.7945,     0.79494,\n",
            "            0.79392,     0.79469,     0.79503,     0.79519,     0.79536,     0.79553,     0.79569,     0.79586,     0.79603,     0.79619,     0.79614,     0.79505,     0.79468,     0.79643,     0.79763,     0.79806,     0.79661,     0.79527,     0.79404,     0.79376,     0.79349,     0.79321,     0.79294,\n",
            "            0.79266,     0.79239,     0.79211,     0.79184,     0.78977,     0.79016,     0.79082,     0.79063,        0.79,     0.78936,     0.79027,     0.79065,     0.79103,     0.79141,      0.7918,      0.7923,      0.7928,     0.79329,      0.7937,     0.79412,     0.79454,     0.79483,     0.79503,\n",
            "            0.79522,     0.79542,     0.79561,     0.79581,       0.796,     0.79619,     0.79652,     0.79686,     0.79721,     0.79755,     0.79805,     0.79872,     0.80072,     0.79856,     0.79874,     0.79892,      0.7991,     0.79927,     0.79945,     0.79963,      0.7998,     0.79998,     0.79837,\n",
            "            0.79695,     0.79577,     0.79523,     0.79496,      0.7947,     0.79443,     0.79417,      0.7939,     0.79364,     0.79337,     0.79311,     0.79335,     0.79361,     0.79386,     0.79412,     0.79437,     0.79462,     0.79473,     0.79483,     0.79493,     0.79504,     0.79514,     0.79524,\n",
            "            0.79535,     0.79545,     0.79555,     0.79566,     0.79576,     0.79586,     0.79597,     0.79607,      0.7963,     0.79717,     0.79763,     0.79749,     0.79736,     0.79722,     0.79708,     0.79694,      0.7968,     0.79667,     0.79653,     0.79639,     0.79625,     0.79611,     0.79597,\n",
            "            0.79584,      0.7957,     0.79556,     0.79542,     0.79552,     0.79577,     0.79603,     0.79628,     0.79653,     0.79679,     0.79724,     0.79786,     0.79844,     0.79818,     0.79793,     0.79768,     0.79742,     0.79717,     0.79691,     0.79666,     0.79641,     0.79615,     0.79622,\n",
            "            0.79634,     0.79646,     0.79658,      0.7967,     0.79682,     0.79694,     0.79706,     0.79717,     0.79729,     0.79741,     0.79753,     0.79765,     0.79776,     0.79787,     0.79797,     0.79808,     0.79819,      0.7983,      0.7984,     0.79851,     0.79862,     0.79873,     0.79883,\n",
            "            0.79894,     0.79905,     0.79915,      0.7993,     0.79951,     0.79973,     0.79994,     0.80015,     0.80037,     0.80058,     0.80074,     0.79998,     0.79921,     0.79844,     0.79747,     0.79649,     0.79516,     0.79373,     0.79391,     0.79409,     0.79427,     0.79445,     0.79463,\n",
            "            0.79482,       0.795,     0.79518,     0.79503,     0.79449,     0.79395,     0.79341,     0.79282,     0.79143,     0.79007,     0.78876,     0.78823,     0.78844,     0.78866,     0.78887,     0.78908,      0.7893,     0.78951,     0.78953,     0.78874,     0.78794,      0.7872,     0.78675,\n",
            "            0.78629,     0.78583,     0.78538,     0.78492,     0.78448,     0.78405,     0.78361,     0.78318,     0.78275,     0.78269,     0.78358,     0.78363,     0.78293,     0.78224,     0.78155,     0.78123,      0.7809,     0.78057,     0.78025,     0.77992,     0.77959,     0.77926,     0.77667,\n",
            "            0.77408,     0.77381,     0.77353,     0.77326,     0.77298,      0.7727,     0.77243,     0.77215,     0.77188,     0.76891,      0.7676,     0.76727,     0.76682,     0.76525,     0.76455,     0.76385,     0.76351,     0.76469,     0.76281,     0.76351,     0.76358,     0.76323,     0.76288,\n",
            "            0.76253,     0.76218,     0.76183,     0.76147,     0.75935,     0.75858,     0.75837,     0.75815,     0.75793,     0.75772,      0.7575,     0.75728,     0.75706,     0.75685,     0.75663,     0.75641,     0.75617,     0.75406,     0.74963,     0.74665,     0.74605,     0.74633,      0.7466,\n",
            "            0.74688,     0.74715,     0.74644,     0.74427,     0.74363,       0.743,     0.74237,     0.73965,     0.74054,      0.7409,     0.74055,      0.7402,     0.73985,      0.7395,     0.73914,     0.73879,     0.73844,     0.73761,     0.73673,     0.73584,     0.73423,     0.73358,     0.73681,\n",
            "            0.73794,     0.73833,     0.73871,      0.7391,     0.73839,     0.73654,     0.73613,     0.73571,     0.73529,     0.73488,     0.73446,     0.73404,     0.73324,     0.73224,     0.73124,     0.72659,      0.7264,     0.72718,      0.7268,     0.72642,     0.72604,     0.72565,     0.72527,\n",
            "            0.72489,     0.72451,     0.72375,     0.72299,     0.72223,     0.72048,      0.7187,     0.71827,     0.71783,     0.71739,     0.71695,     0.71651,      0.7159,     0.71463,     0.71336,     0.71291,     0.71247,     0.71203,     0.71158,     0.71114,      0.7107,     0.71029,     0.70991,\n",
            "            0.70953,     0.70915,     0.70877,     0.70839,     0.70801,     0.70684,     0.70435,      0.7035,     0.70264,      0.7015,     0.69941,     0.69726,      0.6946,     0.68968,     0.68782,     0.68652,     0.68534,     0.68389,     0.68193,     0.67888,      0.6793,     0.67971,     0.68013,\n",
            "            0.67747,     0.67362,     0.67251,      0.6714,     0.66769,     0.66688,     0.66606,     0.66525,      0.6636,     0.66179,     0.65965,     0.65655,     0.65135,     0.65189,     0.65243,     0.65238,     0.65127,     0.65016,     0.64666,     0.64605,     0.64558,     0.64511,     0.64464,\n",
            "            0.64417,      0.6437,     0.64367,     0.64478,     0.64069,      0.6394,     0.63839,     0.63804,     0.63768,     0.63733,     0.63698,     0.63662,     0.63627,     0.63591,     0.63556,     0.63472,     0.63241,     0.63121,     0.63019,     0.62917,     0.62838,      0.6277,     0.62703,\n",
            "            0.62635,     0.62567,     0.61828,     0.61581,      0.6094,     0.60774,     0.60627,     0.60255,     0.59888,     0.59801,     0.59713,     0.59625,     0.59372,     0.59086,     0.58906,     0.58803,     0.58714,     0.58624,     0.58528,     0.58235,     0.57812,     0.57581,     0.57095,\n",
            "            0.56677,     0.56434,     0.56296,     0.56158,     0.55655,     0.55265,     0.55115,     0.54781,     0.54367,     0.54181,     0.54052,     0.53923,     0.53415,     0.52911,     0.52357,     0.52079,     0.51486,     0.50509,     0.50308,     0.50212,     0.50116,     0.50019,     0.49803,\n",
            "            0.49524,     0.49178,     0.49022,     0.48865,     0.48372,     0.48226,     0.48079,     0.47709,     0.47052,     0.45959,      0.4565,     0.44471,     0.44186,     0.43977,      0.4339,     0.43086,     0.42406,     0.42086,      0.4187,     0.41693,     0.41557,      0.4142,     0.40302,\n",
            "            0.39828,     0.39254,     0.38701,      0.3664,     0.36146,     0.35732,     0.35377,     0.35234,     0.35091,     0.34948,     0.34804,      0.3466,     0.34516,     0.34322,     0.34112,     0.33643,     0.33121,     0.32428,      0.3155,     0.30684,     0.30353,     0.30095,     0.29772,\n",
            "            0.28761,     0.28343,      0.2809,     0.26947,     0.26584,     0.25951,      0.2584,     0.25729,     0.25617,     0.25506,     0.24257,      0.2216,     0.21452,     0.21192,     0.20744,     0.20327,     0.19952,     0.19445,     0.18455,     0.18137,     0.17942,     0.17746,     0.16904,\n",
            "            0.16235,     0.14752,      0.1463,     0.14508,     0.14386,     0.14264,     0.13827,     0.12923,     0.12571,     0.12175,     0.11545,     0.10464,    0.099369,    0.086051,    0.072686,    0.070649,    0.068607,    0.064358,    0.051924,      0.0484,    0.032649,    0.027109,    0.025999,\n",
            "           0.024887,    0.023774,     0.02266,    0.021545,    0.020324,    0.018591,    0.016856,    0.015117,    0.013684,    0.013229,    0.012773,    0.012317,    0.011861,    0.011405,    0.010949,    0.010492,    0.010035,   0.0095782,   0.0091209,   0.0086635,   0.0082058,   0.0077479,   0.0072898,\n",
            "                  0,           0,           0,           0,           0,           0,           0,           0,           0,           0,           0,           0,           0,           0,           0,           0,           0,           0,           0,           0,           0,           0,           0,\n",
            "                  0,           0,           0,           0,           0,           0,           0,           0,           0,           0,           0,           0,           0,           0,           0,           0,           0,           0,           0,           0,           0,           0,           0,\n",
            "                  0,           0,           0,           0,           0,           0,           0,           0,           0,           0,           0]])\n",
            "map: 0.45150389494326804\n",
            "map50: 0.8292347590686713\n",
            "map75: 0.4223767269428512\n",
            "maps: array([     0.4515,      0.4515,      0.4515,      0.4515,      0.4515,      0.4515,      0.4515,      0.4515,      0.4515,      0.4515,      0.4515,      0.4515,      0.4515,      0.4515,      0.4515,      0.4515,      0.4515,      0.4515,      0.4515,      0.4515,      0.4515,      0.4515,      0.4515,      0.4515,\n",
            "            0.4515,      0.4515,      0.4515,      0.4515,      0.4515,      0.4515,      0.4515,      0.4515,      0.4515,      0.4515,      0.4515,      0.4515,      0.4515,      0.4515,      0.4515,      0.4515,      0.4515,      0.4515,      0.4515,      0.4515,      0.4515,      0.4515,      0.4515,      0.4515,\n",
            "            0.4515,      0.4515,      0.4515,      0.4515,      0.4515,      0.4515,      0.4515,      0.4515,      0.4515,      0.4515,      0.4515,      0.4515,      0.4515,      0.4515,      0.4515,      0.4515,      0.4515,      0.4515,      0.4515,      0.4515,      0.4515,      0.4515,      0.4515,      0.4515,\n",
            "            0.4515,      0.4515,      0.4515,      0.4515,      0.4515,      0.4515,      0.4515,      0.4515])\n",
            "mp: 0.9033483949329683\n",
            "mr: 0.7118055555555556\n",
            "nc: 80\n",
            "p: array([    0.90335])\n",
            "p_curve: array([[   0.058538,    0.058538,    0.086619,     0.11099,     0.13335,     0.15355,     0.17273,     0.18769,      0.2027,     0.21461,      0.2276,     0.23903,     0.24804,     0.25931,     0.27014,     0.28009,     0.29192,     0.30011,     0.31127,     0.32024,     0.32757,     0.33813,     0.34457,\n",
            "            0.34978,     0.35722,     0.36563,     0.37529,     0.38139,     0.38561,     0.39527,     0.39832,     0.40249,     0.40997,     0.41408,     0.41692,      0.4194,     0.42307,     0.42822,     0.43494,     0.44128,      0.4453,     0.45002,     0.45741,     0.45934,     0.46033,     0.46814,\n",
            "            0.47397,     0.47948,     0.48372,     0.48981,     0.49638,     0.50125,     0.50389,     0.51092,     0.51633,     0.52346,     0.52507,      0.5301,     0.53415,     0.53602,     0.53519,     0.53818,     0.53921,     0.54168,     0.54408,     0.54919,     0.55073,     0.55594,     0.55998,\n",
            "            0.56275,     0.56535,     0.56803,     0.56907,     0.56917,     0.57309,     0.57645,     0.57974,     0.58118,     0.58141,     0.58081,     0.58656,     0.59505,     0.59624,     0.60045,     0.60335,     0.60597,     0.60727,     0.60844,     0.61161,     0.61609,     0.61991,     0.62064,\n",
            "            0.62173,     0.62473,     0.62589,      0.6285,     0.63317,     0.63471,     0.63554,     0.63735,     0.63701,     0.63599,     0.63728,     0.63668,     0.63832,     0.64085,      0.6424,     0.64516,     0.65232,     0.65941,     0.66179,     0.66434,     0.66756,     0.66844,     0.67009,\n",
            "            0.67082,      0.6712,     0.67049,     0.67085,     0.67121,     0.67158,     0.67194,      0.6723,     0.67845,      0.6798,     0.68409,     0.68559,     0.68715,     0.69051,      0.6909,      0.6913,      0.6917,     0.69209,     0.69219,     0.69194,     0.69169,     0.69144,     0.69243,\n",
            "            0.69389,     0.69647,     0.70198,     0.70281,     0.70365,     0.70502,     0.70704,     0.70871,     0.70961,     0.71051,     0.71138,     0.71225,     0.71514,     0.71667,     0.71638,      0.7171,     0.71783,     0.71872,     0.71985,     0.72078,     0.72143,     0.72209,     0.72278,\n",
            "            0.72546,      0.7269,      0.7314,     0.73174,     0.73161,     0.73148,     0.73135,     0.73122,      0.7311,      0.7308,      0.7302,     0.73432,     0.73413,     0.73438,     0.73463,     0.73488,     0.73513,     0.73538,     0.73563,     0.73588,     0.73613,     0.73643,     0.73699,\n",
            "            0.73756,     0.73812,     0.73868,     0.73903,     0.73936,     0.73969,     0.74002,     0.74035,     0.74069,     0.74102,     0.74194,     0.74304,     0.74345,     0.74336,     0.74326,     0.74317,     0.74307,     0.74298,     0.74288,     0.74279,     0.74269,     0.74325,     0.74402,\n",
            "            0.74478,     0.74625,     0.74821,     0.75003,     0.75032,     0.75061,      0.7509,     0.75119,     0.75149,     0.75178,     0.75207,     0.75236,      0.7534,     0.75492,     0.75704,     0.75763,     0.75822,     0.75881,      0.7593,      0.7596,      0.7599,      0.7602,      0.7605,\n",
            "             0.7608,      0.7611,      0.7614,      0.7617,     0.76342,     0.76495,     0.76609,     0.77155,     0.77451,     0.77741,     0.77927,     0.77989,     0.77956,     0.77944,     0.78003,     0.78062,     0.78121,      0.7818,     0.78184,     0.78158,     0.78132,     0.78044,     0.78028,\n",
            "            0.78012,     0.77996,     0.77979,     0.78072,     0.78253,     0.78356,      0.7846,     0.78508,     0.78476,      0.7847,     0.78777,     0.78951,     0.79034,     0.79077,      0.7912,     0.79163,     0.79206,      0.7925,     0.79306,     0.79428,      0.7955,     0.79539,     0.79501,\n",
            "            0.79521,     0.79549,     0.79577,     0.79605,     0.79633,     0.79661,     0.79689,     0.79717,     0.79745,     0.79773,     0.79778,     0.79769,      0.7976,     0.79751,     0.79741,     0.79732,     0.79723,     0.79714,     0.79778,     0.79903,     0.80014,      0.8008,     0.80146,\n",
            "            0.80212,     0.80278,     0.80286,     0.80279,     0.80272,     0.80265,     0.80258,     0.80251,     0.80244,     0.80237,     0.80229,     0.80222,     0.80274,     0.80358,     0.80442,     0.80613,     0.81138,     0.81203,     0.81268,     0.81333,     0.81398,     0.81458,     0.81516,\n",
            "            0.81574,     0.81632,      0.8169,     0.81907,     0.82111,     0.82243,     0.82342,     0.82376,      0.8241,     0.82444,     0.82478,     0.82512,     0.82546,      0.8258,     0.82614,     0.82658,     0.82746,     0.82834,     0.82923,     0.82964,     0.82979,     0.82994,     0.83009,\n",
            "            0.83024,     0.83039,     0.83054,      0.8307,     0.83085,       0.831,     0.83115,      0.8313,     0.83145,      0.8316,     0.83175,      0.8319,     0.83205,      0.8322,     0.83235,      0.8325,     0.83265,     0.83319,      0.8339,     0.83461,     0.83532,     0.83599,     0.83827,\n",
            "            0.83798,     0.84068,     0.84143,     0.84181,     0.84218,     0.84255,     0.84293,      0.8433,     0.84367,     0.84405,     0.84431,     0.84401,     0.84502,     0.84899,     0.85172,     0.85363,     0.85326,      0.8529,     0.85258,     0.85251,     0.85244,     0.85237,     0.85229,\n",
            "            0.85222,     0.85215,     0.85208,       0.852,     0.85146,     0.85278,      0.8543,     0.85473,     0.85457,      0.8544,     0.85775,     0.85864,     0.85953,     0.86042,     0.86134,     0.86253,     0.86372,     0.86488,     0.86587,     0.86687,     0.86786,     0.86857,     0.86903,\n",
            "             0.8695,     0.86996,     0.87043,     0.87089,     0.87136,     0.87182,     0.87259,     0.87342,     0.87425,     0.87508,     0.87629,      0.8779,     0.88284,     0.88256,     0.88299,     0.88342,     0.88386,     0.88429,     0.88473,     0.88516,      0.8856,     0.88603,     0.88573,\n",
            "            0.88543,     0.88518,     0.88507,     0.88501,     0.88495,      0.8849,     0.88484,     0.88479,     0.88473,     0.88467,     0.88462,     0.88524,     0.88587,     0.88651,     0.88714,     0.88777,     0.88841,     0.88867,     0.88893,     0.88918,     0.88944,      0.8897,     0.88996,\n",
            "            0.89022,     0.89048,     0.89073,     0.89099,     0.89125,     0.89151,     0.89177,     0.89203,      0.8926,      0.8948,     0.89609,     0.89607,     0.89604,     0.89601,     0.89599,     0.89596,     0.89593,      0.8959,     0.89588,     0.89585,     0.89582,      0.8958,     0.89577,\n",
            "            0.89574,     0.89572,     0.89569,     0.89566,     0.89604,     0.89669,     0.89733,     0.89797,     0.89862,     0.89926,     0.90041,       0.902,     0.90351,     0.90346,     0.90341,     0.90337,     0.90332,     0.90328,     0.90323,     0.90318,     0.90314,     0.90309,     0.90335,\n",
            "            0.90366,     0.90396,     0.90427,     0.90458,     0.90489,      0.9052,      0.9055,     0.90581,     0.90612,     0.90643,     0.90674,     0.90704,     0.90733,      0.9076,     0.90788,     0.90816,     0.90844,     0.90871,     0.90899,     0.90927,     0.90955,     0.90982,      0.9101,\n",
            "            0.91038,     0.91066,     0.91094,     0.91132,     0.91187,     0.91243,     0.91298,     0.91354,      0.9141,     0.91465,     0.91517,     0.91505,     0.91492,      0.9148,     0.91464,     0.91448,     0.91426,     0.91407,     0.91455,     0.91503,     0.91551,     0.91599,     0.91648,\n",
            "            0.91696,     0.91744,     0.91792,     0.91814,     0.91806,     0.91797,     0.91789,     0.91779,     0.91758,     0.91736,     0.91715,     0.91735,     0.91793,     0.91851,     0.91909,     0.91967,     0.92025,     0.92083,     0.92127,     0.92115,     0.92103,     0.92092,     0.92085,\n",
            "            0.92078,     0.92071,     0.92064,     0.92057,      0.9205,     0.92044,     0.92037,      0.9203,     0.92024,     0.92089,     0.92337,     0.92447,     0.92437,     0.92427,     0.92417,     0.92412,     0.92407,     0.92402,     0.92398,     0.92393,     0.92388,     0.92383,     0.92345,\n",
            "            0.92306,     0.92302,     0.92298,     0.92294,     0.92289,     0.92285,     0.92281,     0.92277,     0.92273,     0.92228,     0.92208,     0.92351,     0.92626,     0.92603,     0.92593,     0.92583,     0.92647,     0.93033,     0.93007,     0.93363,     0.93464,     0.93459,     0.93455,\n",
            "             0.9345,     0.93445,     0.93441,     0.93436,     0.93409,     0.93399,     0.93396,     0.93393,      0.9339,     0.93387,     0.93384,     0.93382,     0.93379,     0.93376,     0.93373,      0.9337,     0.93367,     0.93339,      0.9328,      0.9324,     0.93297,     0.93383,     0.93469,\n",
            "            0.93555,     0.93641,     0.93705,     0.93678,      0.9367,     0.93662,     0.93654,     0.93665,     0.93952,     0.94116,     0.94112,     0.94107,     0.94103,     0.94099,     0.94095,     0.94091,     0.94087,     0.94077,     0.94066,     0.94055,     0.94036,     0.94197,     0.95268,\n",
            "            0.95648,     0.95777,     0.95907,     0.96037,     0.96104,     0.96089,     0.96085,     0.96082,     0.96079,     0.96075,     0.96072,     0.96069,     0.96062,     0.96054,     0.96046,     0.96007,     0.96245,     0.96551,     0.96548,     0.96546,     0.96543,      0.9654,     0.96537,\n",
            "            0.96535,     0.96532,     0.96526,     0.96521,     0.96515,     0.96502,     0.96489,     0.96486,     0.96483,      0.9648,     0.96476,     0.96473,     0.96469,     0.96459,      0.9645,     0.96446,     0.96443,      0.9644,     0.96436,     0.96433,      0.9643,     0.96427,     0.96424,\n",
            "            0.96421,     0.96418,     0.96415,     0.96412,      0.9641,     0.96401,     0.96382,     0.96375,     0.96369,      0.9636,     0.96344,     0.96327,     0.96306,     0.96267,     0.96253,     0.96242,     0.96233,     0.96221,     0.96205,     0.96272,     0.96439,     0.96606,     0.96774,\n",
            "            0.96776,     0.96749,     0.96741,     0.96733,     0.96707,     0.96701,     0.96695,     0.96689,     0.96678,     0.96664,     0.96649,     0.96877,     0.97277,     0.97519,     0.97761,     0.97915,      0.9791,     0.97904,     0.97888,     0.97885,     0.97883,     0.97881,     0.97878,\n",
            "            0.97876,     0.97874,     0.98018,     0.98535,     0.98558,     0.98554,      0.9855,     0.98549,     0.98548,     0.98547,     0.98546,     0.98545,     0.98543,     0.98542,     0.98541,     0.98538,     0.98531,     0.98526,     0.98523,      0.9852,     0.98517,     0.98515,     0.98512,\n",
            "             0.9851,     0.98508,     0.98482,     0.98473,     0.98451,     0.98445,     0.98439,     0.98426,     0.98412,     0.98409,     0.98406,     0.98402,     0.98393,     0.98382,     0.98375,     0.98371,     0.98368,     0.98364,      0.9836,     0.98349,     0.98332,     0.98323,     0.98303,\n",
            "            0.98286,     0.98276,      0.9827,     0.98264,     0.98243,     0.98226,     0.98219,     0.98205,     0.98186,     0.98178,     0.98172,     0.98166,     0.98143,     0.98119,     0.98092,     0.98079,     0.98049,           1,           1,           1,           1,           1,           1,\n",
            "                  1,           1,           1,           1,           1,           1,           1,           1,           1,           1,           1,           1,           1,           1,           1,           1,           1,           1,           1,           1,           1,           1,           1,\n",
            "                  1,           1,           1,           1,           1,           1,           1,           1,           1,           1,           1,           1,           1,           1,           1,           1,           1,           1,           1,           1,           1,           1,           1,\n",
            "                  1,           1,           1,           1,           1,           1,           1,           1,           1,           1,           1,           1,           1,           1,           1,           1,           1,           1,           1,           1,           1,           1,           1,\n",
            "                  1,           1,           1,           1,           1,           1,           1,           1,           1,           1,           1,           1,           1,           1,           1,           1,           1,           1,           1,           1,           1,           1,           1,\n",
            "                  1,           1,           1,           1,           1,           1,           1,           1,           1,           1,           1,           1,           1,           1,           1,           1,           1,           1,           1,           1,           1,           1,           1,\n",
            "                  1,           1,           1,           1,           1,           1,           1,           1,           1,           1,           1,           1,           1,           1,           1,           1,           1,           1,           1,           1,           1,           1,           1,\n",
            "                  1,           1,           1,           1,           1,           1,           1,           1,           1,           1,           1,           1,           1,           1,           1,           1,           1,           1,           1,           1,           1,           1,           1,\n",
            "                  1,           1,           1,           1,           1,           1,           1,           1,           1,           1,           1]])\n",
            "prec_values: array([[          1,           1,           1,           1,           1,           1,           1,           1,           1,           1,           1,           1,           1,           1,           1,           1,           1,           1,           1,           1,           1,           1,           1,\n",
            "                  1,           1,           1,           1,           1,           1,           1,           1,           1,           1,           1,           1,           1,           1,           1,           1,           1,           1,           1,           1,           1,           1,           1,\n",
            "                  1,           1,           1,           1,           1,           1,           1,           1,           1,           1,           1,           1,           1,           1,           1,           1,           1,           1,           1,           1,           1,           1,           1,\n",
            "                  1,           1,           1,           1,           1,           1,           1,           1,           1,           1,           1,           1,           1,           1,           1,           1,           1,           1,           1,           1,           1,           1,           1,\n",
            "                  1,           1,           1,           1,           1,           1,           1,           1,           1,           1,           1,           1,           1,           1,           1,           1,           1,           1,           1,           1,           1,           1,           1,\n",
            "                  1,           1,           1,           1,           1,           1,           1,           1,           1,           1,           1,           1,           1,           1,           1,           1,           1,           1,           1,           1,           1,           1,           1,\n",
            "                  1,           1,           1,           1,           1,           1,           1,           1,           1,           1,           1,           1,           1,           1,           1,           1,           1,           1,           1,           1,           1,           1,           1,\n",
            "                  1,           1,           1,           1,           1,           1,           1,           1,           1,           1,           1,           1,           1,           1,           1,           1,           1,           1,           1,           1,           1,           1,           1,\n",
            "                  1,           1,           1,           1,           1,           1,           1,           1,           1,           1,           1,           1,           1,           1,           1,           1,           1,           1,           1,           1,           1,           1,           1,\n",
            "                  1,           1,           1,           1,           1,           1,           1,           1,           1,           1,           1,           1,           1,           1,           1,           1,           1,           1,           1,           1,           1,           1,           1,\n",
            "                  1,           1,           1,           1,           1,           1,           1,           1,           1,           1,           1,           1,           1,           1,           1,           1,           1,           1,           1,           1,           1,           1,           1,\n",
            "                  1,           1,           1,           1,           1,           1,           1,           1,           1,           1,           1,           1,           1,           1,           1,           1,           1,           1,           1,           1,           1,           1,           1,\n",
            "                  1,           1,           1,           1,           1,           1,           1,           1,           1,           1,           1,           1,           1,           1,           1,           1,           1,           1,           1,           1,           1,           1,           1,\n",
            "                  1,           1,           1,           1,           1,           1,           1,           1,           1,           1,           1,           1,           1,           1,           1,           1,           1,           1,           1,           1,           1,           1,           1,\n",
            "                  1,           1,           1,           1,           1,           1,           1,           1,           1,           1,           1,           1,           1,           1,           1,           1,           1,           1,      0.9901,      0.9901,      0.9901,      0.9901,      0.9901,\n",
            "             0.9901,      0.9901,     0.98571,     0.98571,     0.98571,     0.98571,     0.98571,     0.98571,     0.98571,     0.98571,     0.98571,     0.98571,     0.98571,     0.98571,     0.98571,     0.98571,     0.98571,     0.98571,     0.98571,     0.98571,     0.98571,     0.98571,     0.98571,\n",
            "            0.98571,     0.98571,     0.98571,     0.98571,     0.98571,     0.98571,     0.98571,     0.98571,     0.98571,     0.98571,     0.98571,     0.98571,     0.98571,     0.98571,     0.98571,     0.98571,     0.98571,     0.98571,     0.98571,     0.98571,     0.98571,     0.98571,     0.98571,\n",
            "            0.98571,     0.98571,     0.98571,     0.98571,     0.98571,     0.98571,     0.98571,     0.98571,     0.98571,     0.98571,     0.98571,     0.98571,     0.98571,     0.98571,     0.98571,     0.98571,     0.98571,     0.98571,     0.98571,     0.98571,     0.98571,     0.98571,     0.98571,\n",
            "            0.98571,     0.98571,     0.98571,     0.98571,     0.98571,     0.98571,     0.98571,     0.98571,     0.98571,     0.98571,     0.98571,     0.98571,     0.98571,     0.98571,     0.98571,     0.98571,     0.98571,     0.98571,     0.98571,     0.98571,     0.98571,     0.98571,     0.98571,\n",
            "            0.98571,     0.98571,     0.98571,     0.98571,     0.98571,     0.98571,     0.98571,     0.98571,     0.98571,     0.98571,     0.98571,     0.98571,     0.98571,     0.98571,     0.98571,     0.98571,     0.98571,     0.98571,     0.98571,     0.98571,     0.98571,     0.98571,     0.98571,\n",
            "            0.98571,     0.98571,     0.98571,     0.98571,     0.98571,     0.98571,     0.98571,     0.98571,     0.98571,     0.98571,     0.98571,     0.98571,     0.98571,     0.98571,     0.98571,     0.98571,     0.98571,     0.98571,     0.98571,     0.97917,     0.97917,     0.97917,     0.97917,\n",
            "            0.97917,     0.97917,     0.97917,     0.97917,     0.97917,     0.97917,     0.97917,     0.97279,     0.97279,     0.97279,     0.97279,     0.97279,     0.97279,     0.97279,     0.96795,     0.96795,     0.96795,     0.96795,     0.96795,     0.96795,     0.96795,     0.96795,     0.96795,\n",
            "            0.96795,     0.96795,     0.96795,     0.96795,     0.96795,     0.96795,     0.96795,     0.96795,     0.96795,     0.96795,     0.96795,     0.96795,     0.96795,     0.96795,     0.96795,     0.96795,     0.96795,     0.96795,     0.96552,     0.96552,     0.96552,     0.96552,     0.96552,\n",
            "            0.96552,     0.96552,     0.96552,     0.96552,     0.96552,     0.96552,     0.96552,     0.96552,     0.96552,     0.96552,     0.96552,     0.96552,     0.96552,     0.96552,     0.96552,     0.96552,     0.96552,     0.96552,     0.96552,     0.96552,     0.96552,     0.96552,     0.96552,\n",
            "            0.96552,     0.96552,     0.96552,     0.96552,     0.96552,     0.96552,     0.96552,     0.96552,     0.96552,     0.96552,     0.96552,     0.96552,     0.96552,     0.96552,     0.96552,     0.96552,     0.96552,     0.96552,     0.96552,     0.96552,     0.96552,     0.96552,     0.96552,\n",
            "            0.96552,     0.96552,     0.96552,     0.96552,     0.96552,     0.96552,     0.96552,     0.96552,     0.96111,     0.96111,     0.96111,     0.96111,     0.96111,     0.96111,     0.96111,     0.96111,     0.96111,     0.96111,     0.96111,     0.96111,     0.96111,     0.96111,     0.96111,\n",
            "            0.96111,     0.96111,     0.96111,     0.94118,     0.94118,     0.94118,     0.94118,     0.94118,     0.94118,     0.94118,     0.94118,     0.94118,     0.94118,     0.93717,     0.93717,     0.93717,     0.93717,     0.93717,     0.93717,     0.93717,     0.93717,     0.93717,     0.93717,\n",
            "            0.93467,     0.93467,     0.93467,     0.93467,     0.93467,     0.93467,     0.93467,     0.93467,     0.93467,     0.93467,     0.93467,     0.93467,     0.93467,     0.93467,     0.93467,     0.93467,     0.93467,     0.93467,     0.93467,     0.93467,     0.93467,     0.93467,     0.93467,\n",
            "            0.93467,     0.93467,     0.93035,     0.93035,     0.93035,     0.92647,     0.92647,     0.92647,     0.92647,     0.92647,     0.92647,     0.92647,     0.92453,     0.92453,     0.92453,     0.92453,     0.92453,     0.92453,     0.92453,     0.92453,     0.92453,     0.92453,     0.92453,\n",
            "            0.92453,     0.92453,     0.92453,     0.92453,     0.92453,     0.92453,     0.92453,     0.92453,     0.92453,     0.92453,     0.92453,     0.92453,     0.92453,      0.9213,      0.9213,      0.9213,      0.9213,      0.9213,      0.9213,      0.9213,      0.9213,      0.9213,      0.9213,\n",
            "             0.9213,     0.91818,     0.91818,     0.91818,     0.91818,     0.91818,     0.91818,     0.91818,     0.91818,     0.91818,     0.91818,     0.91518,     0.91518,     0.91518,     0.91518,     0.91518,     0.91518,     0.91518,     0.91518,     0.91518,     0.91518,     0.91518,     0.90351,\n",
            "            0.90351,     0.90351,      0.8961,      0.8961,      0.8961,      0.8961,     0.88608,     0.88608,     0.88608,     0.88608,     0.88608,     0.88608,     0.88608,     0.88608,     0.88608,     0.88608,     0.88285,     0.88285,     0.88285,     0.85484,     0.85484,     0.85484,     0.85484,\n",
            "            0.85375,     0.85375,     0.85375,     0.85375,     0.85375,     0.85375,     0.85375,     0.85375,     0.85375,     0.85375,     0.85375,     0.85375,     0.85375,     0.85375,     0.84436,     0.84436,     0.84436,     0.83846,     0.83846,     0.83846,     0.83846,     0.83588,     0.83588,\n",
            "            0.83588,     0.80292,     0.80292,     0.80292,     0.80292,     0.79783,     0.79783,     0.79783,      0.7957,      0.7957,      0.7957,      0.7957,     0.78521,     0.78521,     0.78521,     0.78201,     0.78201,     0.78201,     0.78201,     0.78201,     0.78201,     0.78201,     0.78201,\n",
            "            0.78201,     0.78201,     0.78007,     0.78007,     0.78007,     0.78007,     0.75748,     0.75748,     0.75748,     0.74351,     0.74351,     0.74351,     0.74351,     0.73482,     0.73482,     0.73482,     0.73186,     0.73186,     0.73186,     0.73186,     0.73186,     0.73186,     0.73186,\n",
            "            0.71692,     0.71692,     0.71692,     0.71692,     0.69231,     0.69231,     0.69231,     0.68713,     0.68713,     0.68713,     0.68713,     0.68605,     0.68605,     0.68605,     0.67139,     0.67139,     0.67139,     0.67139,     0.66854,     0.66854,     0.66854,     0.63757,     0.63757,\n",
            "            0.63757,     0.63757,     0.63757,     0.63757,     0.63757,     0.63757,     0.63757,     0.63757,     0.58173,     0.58173,     0.58173,     0.58173,     0.56909,     0.56909,     0.56909,     0.54955,     0.54955,     0.54955,     0.54955,     0.53611,     0.53611,     0.53611,     0.45981,\n",
            "            0.45981,     0.45981,     0.45981,     0.42222,     0.42222,     0.42222,     0.41821,     0.41821,     0.41821,     0.41821,     0.41362,     0.41362,     0.41362,     0.38402,     0.38402,     0.38402,     0.38402,     0.34478,     0.34478,     0.34478,     0.33871,     0.33871,     0.33871,\n",
            "            0.33871,     0.32107,     0.32107,     0.32107,     0.31089,     0.31089,     0.31089,     0.31089,     0.26786,     0.26786,     0.26786,     0.24128,     0.24128,     0.24128,     0.23796,     0.23796,     0.23796,     0.23796,     0.23455,     0.23455,     0.23455,     0.21849,     0.21849,\n",
            "            0.21849,     0.21849,     0.21849,     0.21849,     0.21849,     0.21714,     0.21714,     0.21714,     0.21714,     0.19082,     0.19082,     0.19082,     0.17383,     0.17383,     0.17383,     0.17383,     0.16296,     0.16296,     0.16296,     0.15616,     0.15616,     0.15616,     0.15616,\n",
            "            0.15574,     0.15574,     0.15574,     0.14432,     0.14432,     0.14432,     0.14432,      0.1344,      0.1344,      0.1344,     0.12334,     0.12334,     0.12334,     0.12334,     0.10993,     0.10993,     0.10993,     0.10226,     0.10226,     0.10226,     0.10226,      0.1018,      0.1018,\n",
            "             0.1018,    0.099309,    0.099309,    0.099309,    0.098278,    0.098278,    0.098278,    0.098278,    0.068221,    0.068221,    0.068221,    0.061062,    0.061062,    0.061062,    0.061062,    0.059378,    0.059378,    0.059378,    0.058298,    0.056764,     0.05523,    0.053695,    0.052161,\n",
            "           0.050627,    0.049093,    0.047559,    0.046025,    0.044491,    0.042956,    0.041422,    0.039888,    0.038354,     0.03682,    0.035286,    0.033751,    0.032217,    0.030683,    0.029149,    0.027615,    0.026081,    0.024546,    0.023012,    0.021478,    0.019944,     0.01841,    0.016876,\n",
            "           0.015342,    0.013807,    0.012273,    0.010739,   0.0092049,   0.0076708,   0.0061366,   0.0046025,   0.0030683,   0.0015342,           0]])\n",
            "px: array([          0,    0.001001,    0.002002,    0.003003,    0.004004,    0.005005,    0.006006,    0.007007,    0.008008,    0.009009,     0.01001,    0.011011,    0.012012,    0.013013,    0.014014,    0.015015,    0.016016,    0.017017,    0.018018,    0.019019,     0.02002,    0.021021,    0.022022,    0.023023,\n",
            "          0.024024,    0.025025,    0.026026,    0.027027,    0.028028,    0.029029,     0.03003,    0.031031,    0.032032,    0.033033,    0.034034,    0.035035,    0.036036,    0.037037,    0.038038,    0.039039,     0.04004,    0.041041,    0.042042,    0.043043,    0.044044,    0.045045,    0.046046,    0.047047,\n",
            "          0.048048,    0.049049,     0.05005,    0.051051,    0.052052,    0.053053,    0.054054,    0.055055,    0.056056,    0.057057,    0.058058,    0.059059,     0.06006,    0.061061,    0.062062,    0.063063,    0.064064,    0.065065,    0.066066,    0.067067,    0.068068,    0.069069,     0.07007,    0.071071,\n",
            "          0.072072,    0.073073,    0.074074,    0.075075,    0.076076,    0.077077,    0.078078,    0.079079,     0.08008,    0.081081,    0.082082,    0.083083,    0.084084,    0.085085,    0.086086,    0.087087,    0.088088,    0.089089,     0.09009,    0.091091,    0.092092,    0.093093,    0.094094,    0.095095,\n",
            "          0.096096,    0.097097,    0.098098,    0.099099,      0.1001,      0.1011,      0.1021,      0.1031,      0.1041,     0.10511,     0.10611,     0.10711,     0.10811,     0.10911,     0.11011,     0.11111,     0.11211,     0.11311,     0.11411,     0.11512,     0.11612,     0.11712,     0.11812,     0.11912,\n",
            "           0.12012,     0.12112,     0.12212,     0.12312,     0.12412,     0.12513,     0.12613,     0.12713,     0.12813,     0.12913,     0.13013,     0.13113,     0.13213,     0.13313,     0.13413,     0.13514,     0.13614,     0.13714,     0.13814,     0.13914,     0.14014,     0.14114,     0.14214,     0.14314,\n",
            "           0.14414,     0.14515,     0.14615,     0.14715,     0.14815,     0.14915,     0.15015,     0.15115,     0.15215,     0.15315,     0.15415,     0.15516,     0.15616,     0.15716,     0.15816,     0.15916,     0.16016,     0.16116,     0.16216,     0.16316,     0.16416,     0.16517,     0.16617,     0.16717,\n",
            "           0.16817,     0.16917,     0.17017,     0.17117,     0.17217,     0.17317,     0.17417,     0.17518,     0.17618,     0.17718,     0.17818,     0.17918,     0.18018,     0.18118,     0.18218,     0.18318,     0.18418,     0.18519,     0.18619,     0.18719,     0.18819,     0.18919,     0.19019,     0.19119,\n",
            "           0.19219,     0.19319,     0.19419,      0.1952,      0.1962,      0.1972,      0.1982,      0.1992,      0.2002,      0.2012,      0.2022,      0.2032,      0.2042,     0.20521,     0.20621,     0.20721,     0.20821,     0.20921,     0.21021,     0.21121,     0.21221,     0.21321,     0.21421,     0.21522,\n",
            "           0.21622,     0.21722,     0.21822,     0.21922,     0.22022,     0.22122,     0.22222,     0.22322,     0.22422,     0.22523,     0.22623,     0.22723,     0.22823,     0.22923,     0.23023,     0.23123,     0.23223,     0.23323,     0.23423,     0.23524,     0.23624,     0.23724,     0.23824,     0.23924,\n",
            "           0.24024,     0.24124,     0.24224,     0.24324,     0.24424,     0.24525,     0.24625,     0.24725,     0.24825,     0.24925,     0.25025,     0.25125,     0.25225,     0.25325,     0.25425,     0.25526,     0.25626,     0.25726,     0.25826,     0.25926,     0.26026,     0.26126,     0.26226,     0.26326,\n",
            "           0.26426,     0.26527,     0.26627,     0.26727,     0.26827,     0.26927,     0.27027,     0.27127,     0.27227,     0.27327,     0.27427,     0.27528,     0.27628,     0.27728,     0.27828,     0.27928,     0.28028,     0.28128,     0.28228,     0.28328,     0.28428,     0.28529,     0.28629,     0.28729,\n",
            "           0.28829,     0.28929,     0.29029,     0.29129,     0.29229,     0.29329,     0.29429,      0.2953,      0.2963,      0.2973,      0.2983,      0.2993,      0.3003,      0.3013,      0.3023,      0.3033,      0.3043,     0.30531,     0.30631,     0.30731,     0.30831,     0.30931,     0.31031,     0.31131,\n",
            "           0.31231,     0.31331,     0.31431,     0.31532,     0.31632,     0.31732,     0.31832,     0.31932,     0.32032,     0.32132,     0.32232,     0.32332,     0.32432,     0.32533,     0.32633,     0.32733,     0.32833,     0.32933,     0.33033,     0.33133,     0.33233,     0.33333,     0.33433,     0.33534,\n",
            "           0.33634,     0.33734,     0.33834,     0.33934,     0.34034,     0.34134,     0.34234,     0.34334,     0.34434,     0.34535,     0.34635,     0.34735,     0.34835,     0.34935,     0.35035,     0.35135,     0.35235,     0.35335,     0.35435,     0.35536,     0.35636,     0.35736,     0.35836,     0.35936,\n",
            "           0.36036,     0.36136,     0.36236,     0.36336,     0.36436,     0.36537,     0.36637,     0.36737,     0.36837,     0.36937,     0.37037,     0.37137,     0.37237,     0.37337,     0.37437,     0.37538,     0.37638,     0.37738,     0.37838,     0.37938,     0.38038,     0.38138,     0.38238,     0.38338,\n",
            "           0.38438,     0.38539,     0.38639,     0.38739,     0.38839,     0.38939,     0.39039,     0.39139,     0.39239,     0.39339,     0.39439,      0.3954,      0.3964,      0.3974,      0.3984,      0.3994,      0.4004,      0.4014,      0.4024,      0.4034,      0.4044,     0.40541,     0.40641,     0.40741,\n",
            "           0.40841,     0.40941,     0.41041,     0.41141,     0.41241,     0.41341,     0.41441,     0.41542,     0.41642,     0.41742,     0.41842,     0.41942,     0.42042,     0.42142,     0.42242,     0.42342,     0.42442,     0.42543,     0.42643,     0.42743,     0.42843,     0.42943,     0.43043,     0.43143,\n",
            "           0.43243,     0.43343,     0.43443,     0.43544,     0.43644,     0.43744,     0.43844,     0.43944,     0.44044,     0.44144,     0.44244,     0.44344,     0.44444,     0.44545,     0.44645,     0.44745,     0.44845,     0.44945,     0.45045,     0.45145,     0.45245,     0.45345,     0.45445,     0.45546,\n",
            "           0.45646,     0.45746,     0.45846,     0.45946,     0.46046,     0.46146,     0.46246,     0.46346,     0.46446,     0.46547,     0.46647,     0.46747,     0.46847,     0.46947,     0.47047,     0.47147,     0.47247,     0.47347,     0.47447,     0.47548,     0.47648,     0.47748,     0.47848,     0.47948,\n",
            "           0.48048,     0.48148,     0.48248,     0.48348,     0.48448,     0.48549,     0.48649,     0.48749,     0.48849,     0.48949,     0.49049,     0.49149,     0.49249,     0.49349,     0.49449,      0.4955,      0.4965,      0.4975,      0.4985,      0.4995,      0.5005,      0.5015,      0.5025,      0.5035,\n",
            "            0.5045,     0.50551,     0.50651,     0.50751,     0.50851,     0.50951,     0.51051,     0.51151,     0.51251,     0.51351,     0.51451,     0.51552,     0.51652,     0.51752,     0.51852,     0.51952,     0.52052,     0.52152,     0.52252,     0.52352,     0.52452,     0.52553,     0.52653,     0.52753,\n",
            "           0.52853,     0.52953,     0.53053,     0.53153,     0.53253,     0.53353,     0.53453,     0.53554,     0.53654,     0.53754,     0.53854,     0.53954,     0.54054,     0.54154,     0.54254,     0.54354,     0.54454,     0.54555,     0.54655,     0.54755,     0.54855,     0.54955,     0.55055,     0.55155,\n",
            "           0.55255,     0.55355,     0.55455,     0.55556,     0.55656,     0.55756,     0.55856,     0.55956,     0.56056,     0.56156,     0.56256,     0.56356,     0.56456,     0.56557,     0.56657,     0.56757,     0.56857,     0.56957,     0.57057,     0.57157,     0.57257,     0.57357,     0.57457,     0.57558,\n",
            "           0.57658,     0.57758,     0.57858,     0.57958,     0.58058,     0.58158,     0.58258,     0.58358,     0.58458,     0.58559,     0.58659,     0.58759,     0.58859,     0.58959,     0.59059,     0.59159,     0.59259,     0.59359,     0.59459,      0.5956,      0.5966,      0.5976,      0.5986,      0.5996,\n",
            "            0.6006,      0.6016,      0.6026,      0.6036,      0.6046,     0.60561,     0.60661,     0.60761,     0.60861,     0.60961,     0.61061,     0.61161,     0.61261,     0.61361,     0.61461,     0.61562,     0.61662,     0.61762,     0.61862,     0.61962,     0.62062,     0.62162,     0.62262,     0.62362,\n",
            "           0.62462,     0.62563,     0.62663,     0.62763,     0.62863,     0.62963,     0.63063,     0.63163,     0.63263,     0.63363,     0.63463,     0.63564,     0.63664,     0.63764,     0.63864,     0.63964,     0.64064,     0.64164,     0.64264,     0.64364,     0.64464,     0.64565,     0.64665,     0.64765,\n",
            "           0.64865,     0.64965,     0.65065,     0.65165,     0.65265,     0.65365,     0.65465,     0.65566,     0.65666,     0.65766,     0.65866,     0.65966,     0.66066,     0.66166,     0.66266,     0.66366,     0.66466,     0.66567,     0.66667,     0.66767,     0.66867,     0.66967,     0.67067,     0.67167,\n",
            "           0.67267,     0.67367,     0.67467,     0.67568,     0.67668,     0.67768,     0.67868,     0.67968,     0.68068,     0.68168,     0.68268,     0.68368,     0.68468,     0.68569,     0.68669,     0.68769,     0.68869,     0.68969,     0.69069,     0.69169,     0.69269,     0.69369,     0.69469,      0.6957,\n",
            "            0.6967,      0.6977,      0.6987,      0.6997,      0.7007,      0.7017,      0.7027,      0.7037,      0.7047,     0.70571,     0.70671,     0.70771,     0.70871,     0.70971,     0.71071,     0.71171,     0.71271,     0.71371,     0.71471,     0.71572,     0.71672,     0.71772,     0.71872,     0.71972,\n",
            "           0.72072,     0.72172,     0.72272,     0.72372,     0.72472,     0.72573,     0.72673,     0.72773,     0.72873,     0.72973,     0.73073,     0.73173,     0.73273,     0.73373,     0.73473,     0.73574,     0.73674,     0.73774,     0.73874,     0.73974,     0.74074,     0.74174,     0.74274,     0.74374,\n",
            "           0.74474,     0.74575,     0.74675,     0.74775,     0.74875,     0.74975,     0.75075,     0.75175,     0.75275,     0.75375,     0.75475,     0.75576,     0.75676,     0.75776,     0.75876,     0.75976,     0.76076,     0.76176,     0.76276,     0.76376,     0.76476,     0.76577,     0.76677,     0.76777,\n",
            "           0.76877,     0.76977,     0.77077,     0.77177,     0.77277,     0.77377,     0.77477,     0.77578,     0.77678,     0.77778,     0.77878,     0.77978,     0.78078,     0.78178,     0.78278,     0.78378,     0.78478,     0.78579,     0.78679,     0.78779,     0.78879,     0.78979,     0.79079,     0.79179,\n",
            "           0.79279,     0.79379,     0.79479,      0.7958,      0.7968,      0.7978,      0.7988,      0.7998,      0.8008,      0.8018,      0.8028,      0.8038,      0.8048,     0.80581,     0.80681,     0.80781,     0.80881,     0.80981,     0.81081,     0.81181,     0.81281,     0.81381,     0.81481,     0.81582,\n",
            "           0.81682,     0.81782,     0.81882,     0.81982,     0.82082,     0.82182,     0.82282,     0.82382,     0.82482,     0.82583,     0.82683,     0.82783,     0.82883,     0.82983,     0.83083,     0.83183,     0.83283,     0.83383,     0.83483,     0.83584,     0.83684,     0.83784,     0.83884,     0.83984,\n",
            "           0.84084,     0.84184,     0.84284,     0.84384,     0.84484,     0.84585,     0.84685,     0.84785,     0.84885,     0.84985,     0.85085,     0.85185,     0.85285,     0.85385,     0.85485,     0.85586,     0.85686,     0.85786,     0.85886,     0.85986,     0.86086,     0.86186,     0.86286,     0.86386,\n",
            "           0.86486,     0.86587,     0.86687,     0.86787,     0.86887,     0.86987,     0.87087,     0.87187,     0.87287,     0.87387,     0.87487,     0.87588,     0.87688,     0.87788,     0.87888,     0.87988,     0.88088,     0.88188,     0.88288,     0.88388,     0.88488,     0.88589,     0.88689,     0.88789,\n",
            "           0.88889,     0.88989,     0.89089,     0.89189,     0.89289,     0.89389,     0.89489,      0.8959,      0.8969,      0.8979,      0.8989,      0.8999,      0.9009,      0.9019,      0.9029,      0.9039,      0.9049,     0.90591,     0.90691,     0.90791,     0.90891,     0.90991,     0.91091,     0.91191,\n",
            "           0.91291,     0.91391,     0.91491,     0.91592,     0.91692,     0.91792,     0.91892,     0.91992,     0.92092,     0.92192,     0.92292,     0.92392,     0.92492,     0.92593,     0.92693,     0.92793,     0.92893,     0.92993,     0.93093,     0.93193,     0.93293,     0.93393,     0.93493,     0.93594,\n",
            "           0.93694,     0.93794,     0.93894,     0.93994,     0.94094,     0.94194,     0.94294,     0.94394,     0.94494,     0.94595,     0.94695,     0.94795,     0.94895,     0.94995,     0.95095,     0.95195,     0.95295,     0.95395,     0.95495,     0.95596,     0.95696,     0.95796,     0.95896,     0.95996,\n",
            "           0.96096,     0.96196,     0.96296,     0.96396,     0.96496,     0.96597,     0.96697,     0.96797,     0.96897,     0.96997,     0.97097,     0.97197,     0.97297,     0.97397,     0.97497,     0.97598,     0.97698,     0.97798,     0.97898,     0.97998,     0.98098,     0.98198,     0.98298,     0.98398,\n",
            "           0.98498,     0.98599,     0.98699,     0.98799,     0.98899,     0.98999,     0.99099,     0.99199,     0.99299,     0.99399,     0.99499,       0.996,       0.997,       0.998,       0.999,           1])\n",
            "r: array([    0.71181])\n",
            "r_curve: array([[    0.96181,     0.96181,     0.95139,     0.93403,     0.93056,     0.92361,     0.91319,     0.90972,     0.90625,     0.90625,     0.89583,     0.88889,     0.88542,     0.88542,     0.88194,     0.88194,     0.88194,     0.88194,     0.87847,       0.875,       0.875,     0.87153,     0.86806,\n",
            "            0.86806,     0.86806,     0.86806,     0.86806,     0.86806,     0.86458,     0.86458,     0.86458,     0.86458,     0.86458,     0.86111,     0.86111,     0.85764,     0.85417,     0.85417,     0.85417,     0.85417,     0.85417,     0.85417,     0.85417,     0.85255,     0.85069,     0.85069,\n",
            "            0.85069,     0.85069,     0.85069,     0.85069,     0.85069,     0.85069,     0.85069,     0.85069,     0.85069,     0.85069,     0.85069,     0.85069,     0.85069,      0.8504,     0.84757,     0.84722,     0.84722,     0.84722,     0.84722,     0.84722,     0.84375,     0.84375,     0.84375,\n",
            "            0.84375,     0.84375,     0.84375,     0.84375,     0.84028,     0.84028,     0.84028,     0.84028,     0.84028,     0.83919,     0.83711,     0.83681,     0.83681,     0.83681,     0.83681,     0.83681,     0.83681,     0.83681,     0.83681,     0.83681,     0.83681,     0.83681,     0.83681,\n",
            "            0.83681,     0.83681,     0.83681,     0.83681,     0.83681,     0.83681,     0.83681,     0.83681,     0.83479,     0.82986,     0.82968,     0.82754,     0.82639,     0.82639,     0.82639,     0.82639,     0.82639,     0.82639,     0.82639,     0.82639,     0.82639,     0.82601,     0.82292,\n",
            "            0.82292,     0.82223,     0.81944,     0.81944,     0.81944,     0.81944,     0.81944,     0.81944,     0.81944,     0.81944,     0.81944,     0.81944,      0.8125,      0.8125,      0.8125,      0.8125,      0.8125,      0.8125,     0.81206,     0.81111,     0.81017,     0.80922,     0.80903,\n",
            "            0.80903,     0.80903,     0.80903,     0.80903,     0.80903,     0.80903,     0.80903,     0.80903,     0.80903,     0.80903,     0.80903,     0.80903,     0.80903,     0.80801,     0.80556,     0.80556,     0.80556,     0.80556,     0.80556,     0.80556,     0.80556,     0.80556,     0.80556,\n",
            "            0.80556,     0.80556,     0.80556,     0.80507,     0.80454,     0.80401,     0.80348,     0.80295,     0.80242,     0.80121,     0.79878,     0.79654,     0.79514,     0.79514,     0.79514,     0.79514,     0.79514,     0.79514,     0.79514,     0.79514,     0.79514,     0.79514,     0.79514,\n",
            "            0.79514,     0.79514,     0.79514,     0.79514,     0.79514,     0.79514,     0.79514,     0.79514,     0.79514,     0.79514,     0.79514,     0.79514,     0.79491,     0.79452,     0.79412,     0.79373,     0.79334,     0.79294,     0.79255,     0.79216,     0.79176,     0.79167,     0.79167,\n",
            "            0.79167,     0.79167,     0.79167,     0.79167,     0.79167,     0.79167,     0.79167,     0.79167,     0.79167,     0.79167,     0.79167,     0.79167,     0.79167,     0.79167,     0.78819,     0.78819,     0.78819,     0.78819,     0.78819,     0.78819,     0.78819,     0.78819,     0.78819,\n",
            "            0.78819,     0.78819,     0.78819,     0.78819,     0.78819,     0.78819,     0.78819,     0.78819,     0.78819,     0.78819,     0.78819,     0.78736,     0.78588,     0.78472,     0.78472,     0.78472,     0.78472,     0.78472,     0.78395,     0.78275,     0.78156,     0.77755,     0.77683,\n",
            "             0.7761,     0.77537,     0.77464,     0.77431,     0.77431,     0.77431,     0.77431,      0.7737,     0.77222,     0.77083,     0.77083,     0.77083,     0.77083,     0.77083,     0.77083,     0.77083,     0.77083,     0.77083,     0.77083,     0.77083,     0.77083,     0.76935,     0.76759,\n",
            "            0.76736,     0.76736,     0.76736,     0.76736,     0.76736,     0.76736,     0.76736,     0.76736,     0.76736,     0.76736,     0.76709,     0.76666,     0.76623,      0.7658,     0.76537,     0.76494,     0.76451,     0.76408,     0.76389,     0.76389,     0.76389,     0.76389,     0.76389,\n",
            "            0.76389,     0.76389,     0.76362,     0.76328,     0.76293,     0.76259,     0.76225,     0.76191,     0.76157,     0.76122,     0.76088,     0.76054,     0.76042,     0.76042,     0.76042,     0.76042,     0.76042,     0.76042,     0.76042,     0.76042,     0.76042,     0.76042,     0.76042,\n",
            "            0.76042,     0.76042,     0.76042,     0.76042,     0.76042,     0.76042,     0.76042,     0.76042,     0.76042,     0.76042,     0.76042,     0.76042,     0.76042,     0.76042,     0.76042,     0.76042,     0.76042,     0.76042,     0.76042,     0.76042,     0.76042,     0.76042,     0.76042,\n",
            "            0.76042,     0.76042,     0.76042,     0.76042,     0.76042,     0.76042,     0.76042,     0.76042,     0.76042,     0.76042,     0.76042,     0.76042,     0.76042,     0.76042,     0.76042,     0.76042,     0.76042,     0.76042,     0.76042,     0.76042,     0.76042,     0.75694,     0.75587,\n",
            "            0.75425,     0.75347,     0.75347,     0.75347,     0.75347,     0.75347,     0.75347,     0.75347,     0.75347,     0.75347,     0.75318,     0.75146,        0.75,        0.75,        0.75,     0.74928,     0.74702,     0.74493,     0.74302,     0.74259,     0.74217,     0.74174,     0.74131,\n",
            "            0.74089,     0.74046,     0.74003,     0.73961,     0.73642,     0.73611,     0.73611,     0.73548,      0.7345,     0.73352,     0.73264,     0.73264,     0.73264,     0.73264,     0.73264,     0.73264,     0.73264,     0.73264,     0.73264,     0.73264,     0.73264,     0.73264,     0.73264,\n",
            "            0.73264,     0.73264,     0.73264,     0.73264,     0.73264,     0.73264,     0.73264,     0.73264,     0.73264,     0.73264,     0.73264,     0.73264,     0.73258,     0.72917,     0.72917,     0.72917,     0.72917,     0.72917,     0.72917,     0.72917,     0.72917,     0.72917,      0.7267,\n",
            "            0.72455,     0.72276,     0.72194,     0.72155,     0.72115,     0.72075,     0.72035,     0.71995,     0.71955,     0.71915,     0.71876,     0.71875,     0.71875,     0.71875,     0.71875,     0.71875,     0.71875,     0.71875,     0.71875,     0.71875,     0.71875,     0.71875,     0.71875,\n",
            "            0.71875,     0.71875,     0.71875,     0.71875,     0.71875,     0.71875,     0.71875,     0.71875,     0.71875,     0.71875,     0.71867,     0.71846,     0.71825,     0.71805,     0.71784,     0.71763,     0.71743,     0.71722,     0.71701,     0.71681,      0.7166,     0.71639,     0.71619,\n",
            "            0.71598,     0.71577,     0.71557,     0.71536,     0.71528,     0.71528,     0.71528,     0.71528,     0.71528,     0.71528,     0.71528,     0.71528,     0.71526,     0.71488,      0.7145,     0.71412,     0.71375,     0.71337,     0.71299,     0.71261,     0.71224,     0.71186,     0.71181,\n",
            "            0.71181,     0.71181,     0.71181,     0.71181,     0.71181,     0.71181,     0.71181,     0.71181,     0.71181,     0.71181,     0.71181,     0.71181,     0.71181,     0.71181,     0.71181,     0.71181,     0.71181,     0.71181,     0.71181,     0.71181,     0.71181,     0.71181,     0.71181,\n",
            "            0.71181,     0.71181,     0.71181,     0.71181,     0.71181,     0.71181,     0.71181,     0.71181,     0.71181,     0.71181,     0.71175,     0.71061,     0.70948,     0.70835,     0.70691,     0.70546,      0.7035,     0.70139,     0.70139,     0.70139,     0.70139,     0.70139,     0.70139,\n",
            "            0.70139,     0.70139,     0.70139,     0.70103,     0.70024,     0.69945,     0.69866,     0.69779,     0.69578,      0.6938,     0.69189,     0.69097,     0.69097,     0.69097,     0.69097,     0.69097,     0.69097,     0.69097,     0.69075,     0.68961,     0.68846,      0.6874,     0.68674,\n",
            "            0.68608,     0.68542,     0.68477,     0.68411,     0.68349,     0.68286,     0.68224,     0.68162,       0.681,     0.68056,     0.68056,     0.68003,     0.67903,     0.67804,     0.67707,     0.67661,     0.67614,     0.67568,     0.67521,     0.67475,     0.67429,     0.67382,     0.67015,\n",
            "            0.66651,     0.66612,     0.66574,     0.66535,     0.66496,     0.66458,     0.66419,      0.6638,     0.66342,     0.65928,     0.65745,     0.65625,      0.6542,     0.65204,     0.65107,     0.65011,     0.64931,     0.64911,     0.64653,     0.64583,     0.64545,     0.64497,     0.64449,\n",
            "            0.64401,     0.64353,     0.64305,     0.64257,     0.63969,     0.63864,     0.63835,     0.63806,     0.63776,     0.63747,     0.63718,     0.63688,     0.63659,     0.63629,       0.636,     0.63571,     0.63538,     0.63254,     0.62659,     0.62261,     0.62153,     0.62153,     0.62153,\n",
            "            0.62153,     0.62153,     0.62027,     0.61739,     0.61656,     0.61572,     0.61488,     0.61111,     0.61111,     0.61092,     0.61046,        0.61,     0.60954,     0.60907,     0.60861,     0.60815,     0.60769,     0.60662,     0.60546,     0.60431,     0.60223,     0.60069,     0.60069,\n",
            "            0.60069,     0.60069,     0.60069,     0.60069,     0.59951,     0.59713,     0.59659,     0.59606,     0.59553,     0.59499,     0.59446,     0.59392,      0.5929,     0.59163,     0.59036,     0.58445,     0.58333,     0.58321,     0.58273,     0.58225,     0.58178,      0.5813,     0.58082,\n",
            "            0.58034,     0.57986,     0.57891,     0.57796,       0.577,     0.57481,      0.5726,     0.57206,     0.57152,     0.57097,     0.57043,     0.56988,     0.56913,     0.56756,     0.56599,     0.56543,     0.56489,     0.56434,      0.5638,     0.56325,     0.56271,     0.56221,     0.56174,\n",
            "            0.56128,     0.56081,     0.56034,     0.55988,     0.55941,     0.55799,     0.55495,     0.55392,     0.55288,      0.5515,     0.54897,     0.54637,     0.54318,     0.53731,      0.5351,     0.53357,     0.53217,     0.53046,     0.52815,     0.52431,     0.52431,     0.52431,     0.52431,\n",
            "            0.52115,     0.51668,      0.5154,     0.51411,     0.50985,     0.50892,     0.50799,     0.50706,     0.50518,     0.50312,     0.50069,     0.49653,     0.48958,     0.48958,     0.48958,     0.48915,     0.48791,     0.48667,      0.4828,     0.48213,     0.48162,      0.4811,     0.48058,\n",
            "            0.48006,     0.47954,     0.47917,     0.47917,     0.47461,     0.47321,     0.47211,     0.47172,     0.47134,     0.47096,     0.47057,     0.47019,     0.46981,     0.46942,     0.46904,     0.46813,     0.46564,     0.46434,     0.46325,     0.46215,     0.46131,     0.46059,     0.45986,\n",
            "            0.45914,     0.45842,     0.45058,     0.44798,     0.44128,     0.43955,     0.43802,     0.43417,      0.4304,      0.4295,      0.4286,      0.4277,     0.42513,     0.42222,     0.42039,     0.41936,     0.41845,     0.41755,     0.41658,     0.41364,     0.40941,     0.40711,      0.4023,\n",
            "             0.3982,     0.39582,     0.39447,     0.39312,     0.38825,     0.38449,     0.38305,     0.37985,     0.37591,     0.37415,     0.37293,     0.37171,     0.36693,     0.36222,     0.35708,     0.35452,     0.34908,     0.33787,     0.33608,     0.33522,     0.33436,      0.3335,     0.33158,\n",
            "            0.32911,     0.32607,     0.32469,     0.32332,     0.31902,     0.31775,     0.31647,     0.31328,     0.30764,     0.29836,     0.29575,     0.28593,     0.28358,     0.28186,     0.27705,     0.27458,     0.26908,     0.26651,     0.26479,     0.26337,     0.26228,     0.26119,     0.25237,\n",
            "            0.24866,      0.2442,     0.23993,     0.22429,      0.2206,     0.21752,      0.2149,     0.21384,     0.21279,     0.21174,     0.21069,     0.20963,     0.20858,     0.20716,     0.20563,     0.20223,     0.19848,     0.19352,      0.1873,     0.18122,     0.17892,     0.17713,     0.17489,\n",
            "            0.16796,     0.16511,      0.1634,     0.15572,      0.1533,      0.1491,     0.14837,     0.14764,      0.1469,     0.14617,     0.13802,      0.1246,     0.12014,     0.11852,     0.11572,     0.11313,     0.11081,      0.1077,     0.10166,     0.09973,    0.098548,    0.097367,    0.092324,\n",
            "           0.088344,    0.079633,    0.078924,    0.078215,    0.077505,    0.076796,    0.074267,     0.06908,    0.067071,     0.06482,    0.061259,    0.055211,    0.052282,     0.04496,    0.037714,    0.036618,    0.035522,    0.033249,    0.026654,      0.0248,    0.016595,    0.013741,    0.013171,\n",
            "             0.0126,     0.01203,     0.01146,     0.01089,    0.010266,   0.0093828,   0.0084994,   0.0076161,   0.0068891,   0.0066584,   0.0064276,   0.0061968,    0.005966,   0.0057352,   0.0055045,   0.0052737,   0.0050429,   0.0048121,   0.0045813,   0.0043506,   0.0041198,    0.003889,   0.0036582,\n",
            "                  0,           0,           0,           0,           0,           0,           0,           0,           0,           0,           0,           0,           0,           0,           0,           0,           0,           0,           0,           0,           0,           0,           0,\n",
            "                  0,           0,           0,           0,           0,           0,           0,           0,           0,           0,           0,           0,           0,           0,           0,           0,           0,           0,           0,           0,           0,           0,           0,\n",
            "                  0,           0,           0,           0,           0,           0,           0,           0,           0,           0,           0]])\n"
          ]
        }
      ]
    },
    {
      "cell_type": "code",
      "source": [
        "import os\n",
        "\n",
        "# Define the root directory for training runs\n",
        "root_dir = \"runs/detect\"\n",
        "\n",
        "# Iterate through all folders in the directory\n",
        "for dirpath, dirnames, filenames in os.walk(root_dir):\n",
        "    if \"results.csv\" in filenames:\n",
        "        print(f\"Found results.csv in: {os.path.join(dirpath, 'results.csv')}\")\n"
      ],
      "metadata": {
        "colab": {
          "base_uri": "https://localhost:8080/"
        },
        "id": "fAAbm53gtPbd",
        "outputId": "654d160f-2fbb-4fe4-aa3b-66d8a1516113"
      },
      "execution_count": 7,
      "outputs": [
        {
          "output_type": "stream",
          "name": "stdout",
          "text": [
            "Found results.csv in: runs/detect/human-detection-training/results.csv\n"
          ]
        }
      ]
    },
    {
      "cell_type": "code",
      "source": [
        "import pandas as pd\n",
        "\n",
        "# Path to the results.csv file\n",
        "results_path = \"/content/runs/detect/human-detection-training/results.csv\"\n",
        "\n",
        "# Load the CSV into a DataFrame\n",
        "results = pd.read_csv(results_path)\n",
        "\n",
        "# Display the first few rows and column names to understand the structure\n",
        "print(results.head())\n",
        "print(results.columns)\n"
      ],
      "metadata": {
        "colab": {
          "base_uri": "https://localhost:8080/"
        },
        "id": "O3W-Uvq1QNMV",
        "outputId": "ec398b19-f380-446c-82e8-e7c1f4aaa5e8"
      },
      "execution_count": 14,
      "outputs": [
        {
          "output_type": "stream",
          "name": "stdout",
          "text": [
            "   epoch      time  train/box_loss  train/cls_loss  train/dfl_loss  \\\n",
            "0      1   38.5610         1.74175         2.09431         1.65944   \n",
            "1      2   70.2686         1.81813         2.01254         1.79964   \n",
            "2      3  101.8980         1.91563         2.01199         1.86186   \n",
            "3      4  131.8620         1.90655         1.94263         1.86290   \n",
            "4      5  163.5440         1.85950         1.85345         1.83278   \n",
            "\n",
            "   metrics/precision(B)  metrics/recall(B)  metrics/mAP50(B)  \\\n",
            "0               0.41301            0.44792           0.35414   \n",
            "1               0.52459            0.39583           0.37136   \n",
            "2               0.46188            0.43750           0.38718   \n",
            "3               0.30528            0.42708           0.21474   \n",
            "4               0.73051            0.60238           0.68772   \n",
            "\n",
            "   metrics/mAP50-95(B)  val/box_loss  val/cls_loss  val/dfl_loss    lr/pg0  \\\n",
            "0              0.13331       1.97910       2.42231       1.97030  0.000659   \n",
            "1              0.11605       2.56094       3.55509       2.71789  0.001260   \n",
            "2              0.12601       2.29008       2.09411       2.31204  0.001795   \n",
            "3              0.06456       2.46929       2.53262       2.42933  0.001703   \n",
            "4              0.30487       1.88242       1.44542       1.83926  0.001604   \n",
            "\n",
            "     lr/pg1    lr/pg2  \n",
            "0  0.000659  0.000659  \n",
            "1  0.001260  0.001260  \n",
            "2  0.001795  0.001795  \n",
            "3  0.001703  0.001703  \n",
            "4  0.001604  0.001604  \n",
            "Index(['epoch', 'time', 'train/box_loss', 'train/cls_loss', 'train/dfl_loss',\n",
            "       'metrics/precision(B)', 'metrics/recall(B)', 'metrics/mAP50(B)',\n",
            "       'metrics/mAP50-95(B)', 'val/box_loss', 'val/cls_loss', 'val/dfl_loss',\n",
            "       'lr/pg0', 'lr/pg1', 'lr/pg2'],\n",
            "      dtype='object')\n"
          ]
        }
      ]
    },
    {
      "cell_type": "code",
      "source": [
        "# Display key metrics\n",
        "print(\"\\n--- Evaluation Metrics ---\")\n",
        "\n",
        "# Assuming mean_results() gives the overall mean metrics (precision, recall, mAP)\n",
        "mean_metrics = metrics.box.mean_results()\n",
        "\n",
        "# Print the metrics: mean precision, mean recall, mAP@0.5, and mAP@0.5:0.95\n",
        "print(f\"Precision: {mean_metrics[0]:.4f}\")\n",
        "print(f\"Recall: {mean_metrics[1]:.4f}\")\n",
        "print(f\"mAP@0.5: {mean_metrics[2]:.4f}\")\n",
        "print(f\"mAP@0.5:0.95: {mean_metrics[3]:.4f}\")\n"
      ],
      "metadata": {
        "colab": {
          "base_uri": "https://localhost:8080/"
        },
        "id": "1b5fE6QIxeZ0",
        "outputId": "150e9e9c-728d-4382-d858-a4aaffb1c61b"
      },
      "execution_count": 15,
      "outputs": [
        {
          "output_type": "stream",
          "name": "stdout",
          "text": [
            "\n",
            "--- Evaluation Metrics ---\n",
            "Precision: 0.9033\n",
            "Recall: 0.7118\n",
            "mAP@0.5: 0.8292\n",
            "mAP@0.5:0.95: 0.4515\n"
          ]
        }
      ]
    },
    {
      "cell_type": "code",
      "source": [
        "import matplotlib.pyplot as plt # Import the pyplot module from matplotlib\n",
        "\n",
        "plt.figure(figsize=(10, 7))\n",
        "plt.plot(results['epoch'], results['metrics/precision(B)'], label=\"Precision\", marker='o')\n",
        "plt.plot(results['epoch'], results['metrics/recall(B)'], label=\"Recall\", marker='x')\n",
        "plt.plot(results['epoch'], results['metrics/mAP50(B)'], label=\"mAP@0.5\", marker='s')\n",
        "plt.plot(results['epoch'], results['metrics/mAP50-95(B)'], label=\"mAP@0.5:0.95\", marker='^')\n",
        "plt.title(\"Training Metrics over Epochs\")\n",
        "plt.xlabel(\"Epoch\")\n",
        "plt.ylabel(\"Metric Value\")\n",
        "plt.legend()\n",
        "plt.grid()\n",
        "plt.show()"
      ],
      "metadata": {
        "colab": {
          "base_uri": "https://localhost:8080/",
          "height": 511
        },
        "id": "9APcxo79uLY4",
        "outputId": "ff869d07-db9d-438c-afa5-344a112cca3b"
      },
      "execution_count": 16,
      "outputs": [
        {
          "output_type": "display_data",
          "data": {
            "text/plain": [
              "<Figure size 1000x700 with 1 Axes>"
            ],
            "image/png": "[encoded data removed]"
          },
          "metadata": {}
        }
      ]
    },
    {
      "cell_type": "code",
      "source": [
        "results = model.train(\n",
        "    data=\"/content/human-detection-new-2-5/data.yaml\",   # Path to your dataset's .yaml file\n",
        "    epochs=50,                                   # Additional epochs to fine-tune the model\n",
        "    batch=16,                                    # Batch size (adjust based on hardware)\n",
        "    imgsz=640,                                   # Image size (adjust based on your dataset)\n",
        "    name=\"fine_tuned_model\",                     # New name for fine-tuned model\n",
        "    model=\"runs/detect/paper_plastic_model/weights/best.pt\",  # Starting from the best model weights\n",
        "    lr0=0.001,\n",
        "    freeze=10,\n",
        "    augment=True,\n",
        "    patience=5,\n",
        "    optimizer=\"Adam\"\n",
        "   )"
      ],
      "metadata": {
        "colab": {
          "base_uri": "https://localhost:8080/"
        },
        "id": "WIB1G7xezAlP",
        "outputId": "37c9000f-5e80-4422-f968-930bc9c83ea2"
      },
      "execution_count": 20,
      "outputs": [
        {
          "output_type": "stream",
          "name": "stdout",
          "text": [
            "Ultralytics 8.3.63 🚀 Python-3.11.11 torch-2.5.1+cu121 CUDA:0 (Tesla T4, 15102MiB)\n",
            "\u001b[34m\u001b[1mengine/trainer: \u001b[0mtask=detect, mode=train, model=runs/detect/paper_plastic_model/weights/best.pt, data=/content/human-detection-new-2-5/data.yaml, epochs=50, time=None, patience=5, batch=16, imgsz=640, save=True, save_period=-1, cache=False, device=None, workers=8, project=None, name=fine_tuned_model4, exist_ok=False, pretrained=True, optimizer=Adam, verbose=True, seed=0, deterministic=True, single_cls=False, rect=False, cos_lr=False, close_mosaic=10, resume=False, amp=True, fraction=1.0, profile=False, freeze=10, multi_scale=False, overlap_mask=True, mask_ratio=4, dropout=0.0, val=True, split=val, save_json=False, save_hybrid=False, conf=None, iou=0.7, max_det=300, half=False, dnn=False, plots=True, source=None, vid_stride=1, stream_buffer=False, visualize=False, augment=True, agnostic_nms=False, classes=None, retina_masks=False, embed=None, show=False, save_frames=False, save_txt=False, save_conf=False, save_crop=False, show_labels=True, show_conf=True, show_boxes=True, line_width=None, format=torchscript, keras=False, optimize=False, int8=False, dynamic=False, simplify=True, opset=None, workspace=None, nms=False, lr0=0.001, lrf=0.01, momentum=0.937, weight_decay=0.0005, warmup_epochs=3.0, warmup_momentum=0.8, warmup_bias_lr=0.1, box=7.5, cls=0.5, dfl=1.5, pose=12.0, kobj=1.0, nbs=64, hsv_h=0.015, hsv_s=0.7, hsv_v=0.4, degrees=0.0, translate=0.1, scale=0.5, shear=0.0, perspective=0.0, flipud=0.0, fliplr=0.5, bgr=0.0, mosaic=1.0, mixup=0.0, copy_paste=0.0, copy_paste_mode=flip, auto_augment=randaugment, erasing=0.4, crop_fraction=1.0, cfg=None, tracker=botsort.yaml, save_dir=runs/detect/fine_tuned_model4\n",
            "\n",
            "                   from  n    params  module                                       arguments                     \n",
            "  0                  -1  1       464  ultralytics.nn.modules.conv.Conv             [3, 16, 3, 2]                 \n",
            "  1                  -1  1      4672  ultralytics.nn.modules.conv.Conv             [16, 32, 3, 2]                \n",
            "  2                  -1  1      7360  ultralytics.nn.modules.block.C2f             [32, 32, 1, True]             \n",
            "  3                  -1  1     18560  ultralytics.nn.modules.conv.Conv             [32, 64, 3, 2]                \n",
            "  4                  -1  2     49664  ultralytics.nn.modules.block.C2f             [64, 64, 2, True]             \n",
            "  5                  -1  1     73984  ultralytics.nn.modules.conv.Conv             [64, 128, 3, 2]               \n",
            "  6                  -1  2    197632  ultralytics.nn.modules.block.C2f             [128, 128, 2, True]           \n",
            "  7                  -1  1    295424  ultralytics.nn.modules.conv.Conv             [128, 256, 3, 2]              \n",
            "  8                  -1  1    460288  ultralytics.nn.modules.block.C2f             [256, 256, 1, True]           \n",
            "  9                  -1  1    164608  ultralytics.nn.modules.block.SPPF            [256, 256, 5]                 \n",
            " 10                  -1  1         0  torch.nn.modules.upsampling.Upsample         [None, 2, 'nearest']          \n",
            " 11             [-1, 6]  1         0  ultralytics.nn.modules.conv.Concat           [1]                           \n",
            " 12                  -1  1    148224  ultralytics.nn.modules.block.C2f             [384, 128, 1]                 \n",
            " 13                  -1  1         0  torch.nn.modules.upsampling.Upsample         [None, 2, 'nearest']          \n",
            " 14             [-1, 4]  1         0  ultralytics.nn.modules.conv.Concat           [1]                           \n",
            " 15                  -1  1     37248  ultralytics.nn.modules.block.C2f             [192, 64, 1]                  \n",
            " 16                  -1  1     36992  ultralytics.nn.modules.conv.Conv             [64, 64, 3, 2]                \n",
            " 17            [-1, 12]  1         0  ultralytics.nn.modules.conv.Concat           [1]                           \n",
            " 18                  -1  1    123648  ultralytics.nn.modules.block.C2f             [192, 128, 1]                 \n",
            " 19                  -1  1    147712  ultralytics.nn.modules.conv.Conv             [128, 128, 3, 2]              \n",
            " 20             [-1, 9]  1         0  ultralytics.nn.modules.conv.Concat           [1]                           \n",
            " 21                  -1  1    493056  ultralytics.nn.modules.block.C2f             [384, 256, 1]                 \n",
            " 22        [15, 18, 21]  1    751507  ultralytics.nn.modules.head.Detect           [1, [64, 128, 256]]           \n",
            "YOLOv8n summary: 225 layers, 3,011,043 parameters, 3,011,027 gradients, 8.2 GFLOPs\n",
            "\n",
            "\u001b[34m\u001b[1mTensorBoard: \u001b[0mStart with 'tensorboard --logdir runs/detect/fine_tuned_model4', view at http://localhost:6006/\n",
            "Freezing layer 'model.0.conv.weight'\n",
            "Freezing layer 'model.0.bn.weight'\n",
            "Freezing layer 'model.0.bn.bias'\n",
            "Freezing layer 'model.1.conv.weight'\n",
            "Freezing layer 'model.1.bn.weight'\n",
            "Freezing layer 'model.1.bn.bias'\n",
            "Freezing layer 'model.2.cv1.conv.weight'\n",
            "Freezing layer 'model.2.cv1.bn.weight'\n",
            "Freezing layer 'model.2.cv1.bn.bias'\n",
            "Freezing layer 'model.2.cv2.conv.weight'\n",
            "Freezing layer 'model.2.cv2.bn.weight'\n",
            "Freezing layer 'model.2.cv2.bn.bias'\n",
            "Freezing layer 'model.2.m.0.cv1.conv.weight'\n",
            "Freezing layer 'model.2.m.0.cv1.bn.weight'\n",
            "Freezing layer 'model.2.m.0.cv1.bn.bias'\n",
            "Freezing layer 'model.2.m.0.cv2.conv.weight'\n",
            "Freezing layer 'model.2.m.0.cv2.bn.weight'\n",
            "Freezing layer 'model.2.m.0.cv2.bn.bias'\n",
            "Freezing layer 'model.3.conv.weight'\n",
            "Freezing layer 'model.3.bn.weight'\n",
            "Freezing layer 'model.3.bn.bias'\n",
            "Freezing layer 'model.4.cv1.conv.weight'\n",
            "Freezing layer 'model.4.cv1.bn.weight'\n",
            "Freezing layer 'model.4.cv1.bn.bias'\n",
            "Freezing layer 'model.4.cv2.conv.weight'\n",
            "Freezing layer 'model.4.cv2.bn.weight'\n",
            "Freezing layer 'model.4.cv2.bn.bias'\n",
            "Freezing layer 'model.4.m.0.cv1.conv.weight'\n",
            "Freezing layer 'model.4.m.0.cv1.bn.weight'\n",
            "Freezing layer 'model.4.m.0.cv1.bn.bias'\n",
            "Freezing layer 'model.4.m.0.cv2.conv.weight'\n",
            "Freezing layer 'model.4.m.0.cv2.bn.weight'\n",
            "Freezing layer 'model.4.m.0.cv2.bn.bias'\n",
            "Freezing layer 'model.4.m.1.cv1.conv.weight'\n",
            "Freezing layer 'model.4.m.1.cv1.bn.weight'\n",
            "Freezing layer 'model.4.m.1.cv1.bn.bias'\n",
            "Freezing layer 'model.4.m.1.cv2.conv.weight'\n",
            "Freezing layer 'model.4.m.1.cv2.bn.weight'\n",
            "Freezing layer 'model.4.m.1.cv2.bn.bias'\n",
            "Freezing layer 'model.5.conv.weight'\n",
            "Freezing layer 'model.5.bn.weight'\n",
            "Freezing layer 'model.5.bn.bias'\n",
            "Freezing layer 'model.6.cv1.conv.weight'\n",
            "Freezing layer 'model.6.cv1.bn.weight'\n",
            "Freezing layer 'model.6.cv1.bn.bias'\n",
            "Freezing layer 'model.6.cv2.conv.weight'\n",
            "Freezing layer 'model.6.cv2.bn.weight'\n",
            "Freezing layer 'model.6.cv2.bn.bias'\n",
            "Freezing layer 'model.6.m.0.cv1.conv.weight'\n",
            "Freezing layer 'model.6.m.0.cv1.bn.weight'\n",
            "Freezing layer 'model.6.m.0.cv1.bn.bias'\n",
            "Freezing layer 'model.6.m.0.cv2.conv.weight'\n",
            "Freezing layer 'model.6.m.0.cv2.bn.weight'\n",
            "Freezing layer 'model.6.m.0.cv2.bn.bias'\n",
            "Freezing layer 'model.6.m.1.cv1.conv.weight'\n",
            "Freezing layer 'model.6.m.1.cv1.bn.weight'\n",
            "Freezing layer 'model.6.m.1.cv1.bn.bias'\n",
            "Freezing layer 'model.6.m.1.cv2.conv.weight'\n",
            "Freezing layer 'model.6.m.1.cv2.bn.weight'\n",
            "Freezing layer 'model.6.m.1.cv2.bn.bias'\n",
            "Freezing layer 'model.7.conv.weight'\n",
            "Freezing layer 'model.7.bn.weight'\n",
            "Freezing layer 'model.7.bn.bias'\n",
            "Freezing layer 'model.8.cv1.conv.weight'\n",
            "Freezing layer 'model.8.cv1.bn.weight'\n",
            "Freezing layer 'model.8.cv1.bn.bias'\n",
            "Freezing layer 'model.8.cv2.conv.weight'\n",
            "Freezing layer 'model.8.cv2.bn.weight'\n",
            "Freezing layer 'model.8.cv2.bn.bias'\n",
            "Freezing layer 'model.8.m.0.cv1.conv.weight'\n",
            "Freezing layer 'model.8.m.0.cv1.bn.weight'\n",
            "Freezing layer 'model.8.m.0.cv1.bn.bias'\n",
            "Freezing layer 'model.8.m.0.cv2.conv.weight'\n",
            "Freezing layer 'model.8.m.0.cv2.bn.weight'\n",
            "Freezing layer 'model.8.m.0.cv2.bn.bias'\n",
            "Freezing layer 'model.9.cv1.conv.weight'\n",
            "Freezing layer 'model.9.cv1.bn.weight'\n",
            "Freezing layer 'model.9.cv1.bn.bias'\n",
            "Freezing layer 'model.9.cv2.conv.weight'\n",
            "Freezing layer 'model.9.cv2.bn.weight'\n",
            "Freezing layer 'model.9.cv2.bn.bias'\n",
            "Freezing layer 'model.22.dfl.conv.weight'\n",
            "\u001b[34m\u001b[1mAMP: \u001b[0mrunning Automatic Mixed Precision (AMP) checks...\n",
            "\u001b[34m\u001b[1mAMP: \u001b[0mchecks passed ✅\n"
          ]
        },
        {
          "output_type": "stream",
          "name": "stderr",
          "text": [
            "\u001b[34m\u001b[1mtrain: \u001b[0mScanning /content/human-detection-new-2-5/train/labels.cache... 1326 images, 0 backgrounds, 0 corrupt: 100%|██████████| 1326/1326 [00:00<?, ?it/s]"
          ]
        },
        {
          "output_type": "stream",
          "name": "stdout",
          "text": [
            "\u001b[34m\u001b[1malbumentations: \u001b[0mBlur(p=0.01, blur_limit=(3, 7)), MedianBlur(p=0.01, blur_limit=(3, 7)), ToGray(p=0.01, num_output_channels=3, method='weighted_average'), CLAHE(p=0.01, clip_limit=(1.0, 4.0), tile_grid_size=(8, 8))\n"
          ]
        },
        {
          "output_type": "stream",
          "name": "stderr",
          "text": [
            "\n",
            "\u001b[34m\u001b[1mval: \u001b[0mScanning /content/human-detection-new-2-5/valid/labels.cache... 126 images, 0 backgrounds, 0 corrupt: 100%|██████████| 126/126 [00:00<?, ?it/s]\n"
          ]
        },
        {
          "output_type": "stream",
          "name": "stdout",
          "text": [
            "Plotting labels to runs/detect/fine_tuned_model4/labels.jpg... \n",
            "\u001b[34m\u001b[1moptimizer:\u001b[0m Adam(lr=0.001, momentum=0.937) with parameter groups 57 weight(decay=0.0), 64 weight(decay=0.0005), 63 bias(decay=0.0)\n",
            "\u001b[34m\u001b[1mTensorBoard: \u001b[0mmodel graph visualization added ✅\n",
            "Image sizes 640 train, 640 val\n",
            "Using 2 dataloader workers\n",
            "Logging results to \u001b[1mruns/detect/fine_tuned_model4\u001b[0m\n",
            "Starting training for 50 epochs...\n",
            "\n",
            "      Epoch    GPU_mem   box_loss   cls_loss   dfl_loss  Instances       Size\n"
          ]
        },
        {
          "output_type": "stream",
          "name": "stderr",
          "text": [
            "       1/50      1.48G      3.488      3.457      3.642         58        640: 100%|██████████| 83/83 [00:29<00:00,  2.85it/s]\n",
            "                 Class     Images  Instances      Box(P          R      mAP50  mAP50-95): 100%|██████████| 4/4 [00:01<00:00,  2.65it/s]"
          ]
        },
        {
          "output_type": "stream",
          "name": "stdout",
          "text": [
            "                   all        126        288    0.00394      0.264    0.00487    0.00128\n"
          ]
        },
        {
          "output_type": "stream",
          "name": "stderr",
          "text": [
            "\n"
          ]
        },
        {
          "output_type": "stream",
          "name": "stdout",
          "text": [
            "\n",
            "      Epoch    GPU_mem   box_loss   cls_loss   dfl_loss  Instances       Size\n"
          ]
        },
        {
          "output_type": "stream",
          "name": "stderr",
          "text": [
            "       2/50      1.31G      3.243      3.233      3.205         75        640: 100%|██████████| 83/83 [00:28<00:00,  2.89it/s]\n",
            "                 Class     Images  Instances      Box(P          R      mAP50  mAP50-95): 100%|██████████| 4/4 [00:02<00:00,  1.93it/s]"
          ]
        },
        {
          "output_type": "stream",
          "name": "stdout",
          "text": [
            "                   all        126        288     0.0041      0.243     0.0031    0.00075\n"
          ]
        },
        {
          "output_type": "stream",
          "name": "stderr",
          "text": [
            "\n"
          ]
        },
        {
          "output_type": "stream",
          "name": "stdout",
          "text": [
            "\n",
            "      Epoch    GPU_mem   box_loss   cls_loss   dfl_loss  Instances       Size\n"
          ]
        },
        {
          "output_type": "stream",
          "name": "stderr",
          "text": [
            "       3/50      1.36G      2.997       3.18      3.045         68        640: 100%|██████████| 83/83 [00:25<00:00,  3.30it/s]\n",
            "                 Class     Images  Instances      Box(P          R      mAP50  mAP50-95): 100%|██████████| 4/4 [00:01<00:00,  2.51it/s]"
          ]
        },
        {
          "output_type": "stream",
          "name": "stdout",
          "text": [
            "                   all        126        288     0.0308     0.0556      0.016    0.00616\n"
          ]
        },
        {
          "output_type": "stream",
          "name": "stderr",
          "text": [
            "\n"
          ]
        },
        {
          "output_type": "stream",
          "name": "stdout",
          "text": [
            "\n",
            "      Epoch    GPU_mem   box_loss   cls_loss   dfl_loss  Instances       Size\n"
          ]
        },
        {
          "output_type": "stream",
          "name": "stderr",
          "text": [
            "       4/50      1.35G      2.877      3.178       2.94         53        640: 100%|██████████| 83/83 [00:30<00:00,  2.75it/s]\n",
            "                 Class     Images  Instances      Box(P          R      mAP50  mAP50-95): 100%|██████████| 4/4 [00:01<00:00,  2.94it/s]"
          ]
        },
        {
          "output_type": "stream",
          "name": "stdout",
          "text": [
            "                   all        126        288     0.0498     0.0417      0.021    0.00603\n"
          ]
        },
        {
          "output_type": "stream",
          "name": "stderr",
          "text": [
            "\n"
          ]
        },
        {
          "output_type": "stream",
          "name": "stdout",
          "text": [
            "\n",
            "      Epoch    GPU_mem   box_loss   cls_loss   dfl_loss  Instances       Size\n"
          ]
        },
        {
          "output_type": "stream",
          "name": "stderr",
          "text": [
            "       5/50      1.38G      2.806      3.139      2.863         75        640: 100%|██████████| 83/83 [00:26<00:00,  3.17it/s]\n",
            "                 Class     Images  Instances      Box(P          R      mAP50  mAP50-95): 100%|██████████| 4/4 [00:02<00:00,  1.83it/s]"
          ]
        },
        {
          "output_type": "stream",
          "name": "stdout",
          "text": [
            "                   all        126        288     0.0549     0.0764     0.0232    0.00607\n"
          ]
        },
        {
          "output_type": "stream",
          "name": "stderr",
          "text": [
            "\n"
          ]
        },
        {
          "output_type": "stream",
          "name": "stdout",
          "text": [
            "\n",
            "      Epoch    GPU_mem   box_loss   cls_loss   dfl_loss  Instances       Size\n"
          ]
        },
        {
          "output_type": "stream",
          "name": "stderr",
          "text": [
            "       6/50      1.36G      2.773      3.134      2.848         58        640: 100%|██████████| 83/83 [00:27<00:00,  2.99it/s]\n",
            "                 Class     Images  Instances      Box(P          R      mAP50  mAP50-95): 100%|██████████| 4/4 [00:01<00:00,  2.79it/s]"
          ]
        },
        {
          "output_type": "stream",
          "name": "stdout",
          "text": [
            "                   all        126        288     0.0805     0.0694     0.0282    0.00755\n"
          ]
        },
        {
          "output_type": "stream",
          "name": "stderr",
          "text": [
            "\n"
          ]
        },
        {
          "output_type": "stream",
          "name": "stdout",
          "text": [
            "\n",
            "      Epoch    GPU_mem   box_loss   cls_loss   dfl_loss  Instances       Size\n"
          ]
        },
        {
          "output_type": "stream",
          "name": "stderr",
          "text": [
            "       7/50      1.31G      2.705      3.103      2.789         86        640: 100%|██████████| 83/83 [00:27<00:00,  2.99it/s]\n",
            "                 Class     Images  Instances      Box(P          R      mAP50  mAP50-95): 100%|██████████| 4/4 [00:02<00:00,  1.42it/s]"
          ]
        },
        {
          "output_type": "stream",
          "name": "stdout",
          "text": [
            "                   all        126        288     0.0297     0.0903     0.0157    0.00482\n"
          ]
        },
        {
          "output_type": "stream",
          "name": "stderr",
          "text": [
            "\n"
          ]
        },
        {
          "output_type": "stream",
          "name": "stdout",
          "text": [
            "\n",
            "      Epoch    GPU_mem   box_loss   cls_loss   dfl_loss  Instances       Size\n"
          ]
        },
        {
          "output_type": "stream",
          "name": "stderr",
          "text": [
            "       8/50      1.31G      2.669      3.091      2.758         69        640: 100%|██████████| 83/83 [00:26<00:00,  3.09it/s]\n",
            "                 Class     Images  Instances      Box(P          R      mAP50  mAP50-95): 100%|██████████| 4/4 [00:01<00:00,  2.35it/s]"
          ]
        },
        {
          "output_type": "stream",
          "name": "stdout",
          "text": [
            "                   all        126        288       0.11      0.149     0.0461     0.0108\n"
          ]
        },
        {
          "output_type": "stream",
          "name": "stderr",
          "text": [
            "\n"
          ]
        },
        {
          "output_type": "stream",
          "name": "stdout",
          "text": [
            "\n",
            "      Epoch    GPU_mem   box_loss   cls_loss   dfl_loss  Instances       Size\n"
          ]
        },
        {
          "output_type": "stream",
          "name": "stderr",
          "text": [
            "       9/50      1.31G      2.646      3.021      2.732         61        640: 100%|██████████| 83/83 [00:29<00:00,  2.82it/s]\n",
            "                 Class     Images  Instances      Box(P          R      mAP50  mAP50-95): 100%|██████████| 4/4 [00:02<00:00,  1.42it/s]"
          ]
        },
        {
          "output_type": "stream",
          "name": "stdout",
          "text": [
            "                   all        126        288      0.106      0.132      0.041     0.0125\n"
          ]
        },
        {
          "output_type": "stream",
          "name": "stderr",
          "text": [
            "\n"
          ]
        },
        {
          "output_type": "stream",
          "name": "stdout",
          "text": [
            "\n",
            "      Epoch    GPU_mem   box_loss   cls_loss   dfl_loss  Instances       Size\n"
          ]
        },
        {
          "output_type": "stream",
          "name": "stderr",
          "text": [
            "      10/50      1.31G      2.622      3.022      2.699         64        640: 100%|██████████| 83/83 [00:26<00:00,  3.11it/s]\n",
            "                 Class     Images  Instances      Box(P          R      mAP50  mAP50-95): 100%|██████████| 4/4 [00:01<00:00,  2.71it/s]"
          ]
        },
        {
          "output_type": "stream",
          "name": "stdout",
          "text": [
            "                   all        126        288      0.181      0.135     0.0663     0.0165\n"
          ]
        },
        {
          "output_type": "stream",
          "name": "stderr",
          "text": [
            "\n"
          ]
        },
        {
          "output_type": "stream",
          "name": "stdout",
          "text": [
            "\n",
            "      Epoch    GPU_mem   box_loss   cls_loss   dfl_loss  Instances       Size\n"
          ]
        },
        {
          "output_type": "stream",
          "name": "stderr",
          "text": [
            "      11/50      1.35G      2.589      2.959      2.649         54        640: 100%|██████████| 83/83 [00:30<00:00,  2.76it/s]\n",
            "                 Class     Images  Instances      Box(P          R      mAP50  mAP50-95): 100%|██████████| 4/4 [00:01<00:00,  2.46it/s]"
          ]
        },
        {
          "output_type": "stream",
          "name": "stdout",
          "text": [
            "                   all        126        288      0.144      0.136     0.0575     0.0158\n"
          ]
        },
        {
          "output_type": "stream",
          "name": "stderr",
          "text": [
            "\n"
          ]
        },
        {
          "output_type": "stream",
          "name": "stdout",
          "text": [
            "\n",
            "      Epoch    GPU_mem   box_loss   cls_loss   dfl_loss  Instances       Size\n"
          ]
        },
        {
          "output_type": "stream",
          "name": "stderr",
          "text": [
            "      12/50      1.32G      2.552      2.951      2.638         59        640: 100%|██████████| 83/83 [00:27<00:00,  3.07it/s]\n",
            "                 Class     Images  Instances      Box(P          R      mAP50  mAP50-95): 100%|██████████| 4/4 [00:02<00:00,  1.57it/s]"
          ]
        },
        {
          "output_type": "stream",
          "name": "stdout",
          "text": [
            "                   all        126        288      0.145      0.156     0.0708     0.0183\n"
          ]
        },
        {
          "output_type": "stream",
          "name": "stderr",
          "text": [
            "\n"
          ]
        },
        {
          "output_type": "stream",
          "name": "stdout",
          "text": [
            "\n",
            "      Epoch    GPU_mem   box_loss   cls_loss   dfl_loss  Instances       Size\n"
          ]
        },
        {
          "output_type": "stream",
          "name": "stderr",
          "text": [
            "      13/50      1.31G      2.546      2.914      2.625         77        640: 100%|██████████| 83/83 [00:28<00:00,  2.93it/s]\n",
            "                 Class     Images  Instances      Box(P          R      mAP50  mAP50-95): 100%|██████████| 4/4 [00:01<00:00,  2.66it/s]"
          ]
        },
        {
          "output_type": "stream",
          "name": "stdout",
          "text": [
            "                   all        126        288      0.173      0.115     0.0671      0.018\n"
          ]
        },
        {
          "output_type": "stream",
          "name": "stderr",
          "text": [
            "\n"
          ]
        },
        {
          "output_type": "stream",
          "name": "stdout",
          "text": [
            "\n",
            "      Epoch    GPU_mem   box_loss   cls_loss   dfl_loss  Instances       Size\n"
          ]
        },
        {
          "output_type": "stream",
          "name": "stderr",
          "text": [
            "      14/50      1.31G      2.512      2.931      2.601         55        640: 100%|██████████| 83/83 [00:27<00:00,  3.06it/s]\n",
            "                 Class     Images  Instances      Box(P          R      mAP50  mAP50-95): 100%|██████████| 4/4 [00:02<00:00,  1.44it/s]"
          ]
        },
        {
          "output_type": "stream",
          "name": "stdout",
          "text": [
            "                   all        126        288      0.157     0.0903     0.0478     0.0124\n"
          ]
        },
        {
          "output_type": "stream",
          "name": "stderr",
          "text": [
            "\n"
          ]
        },
        {
          "output_type": "stream",
          "name": "stdout",
          "text": [
            "\n",
            "      Epoch    GPU_mem   box_loss   cls_loss   dfl_loss  Instances       Size\n"
          ]
        },
        {
          "output_type": "stream",
          "name": "stderr",
          "text": [
            "      15/50      1.31G      2.522      2.899      2.587         41        640: 100%|██████████| 83/83 [00:27<00:00,  3.04it/s]\n",
            "                 Class     Images  Instances      Box(P          R      mAP50  mAP50-95): 100%|██████████| 4/4 [00:01<00:00,  2.79it/s]"
          ]
        },
        {
          "output_type": "stream",
          "name": "stdout",
          "text": [
            "                   all        126        288      0.201      0.132     0.0906     0.0299\n"
          ]
        },
        {
          "output_type": "stream",
          "name": "stderr",
          "text": [
            "\n"
          ]
        },
        {
          "output_type": "stream",
          "name": "stdout",
          "text": [
            "\n",
            "      Epoch    GPU_mem   box_loss   cls_loss   dfl_loss  Instances       Size\n"
          ]
        },
        {
          "output_type": "stream",
          "name": "stderr",
          "text": [
            "      16/50      1.34G      2.513      2.892      2.574         65        640: 100%|██████████| 83/83 [00:28<00:00,  2.90it/s]\n",
            "                 Class     Images  Instances      Box(P          R      mAP50  mAP50-95): 100%|██████████| 4/4 [00:02<00:00,  1.60it/s]"
          ]
        },
        {
          "output_type": "stream",
          "name": "stdout",
          "text": [
            "                   all        126        288      0.262      0.184      0.161     0.0409\n"
          ]
        },
        {
          "output_type": "stream",
          "name": "stderr",
          "text": [
            "\n"
          ]
        },
        {
          "output_type": "stream",
          "name": "stdout",
          "text": [
            "\n",
            "      Epoch    GPU_mem   box_loss   cls_loss   dfl_loss  Instances       Size\n"
          ]
        },
        {
          "output_type": "stream",
          "name": "stderr",
          "text": [
            "      17/50      1.34G      2.496      2.869      2.554         50        640: 100%|██████████| 83/83 [00:25<00:00,  3.24it/s]\n",
            "                 Class     Images  Instances      Box(P          R      mAP50  mAP50-95): 100%|██████████| 4/4 [00:01<00:00,  2.47it/s]"
          ]
        },
        {
          "output_type": "stream",
          "name": "stdout",
          "text": [
            "                   all        126        288      0.232      0.193      0.115     0.0338\n"
          ]
        },
        {
          "output_type": "stream",
          "name": "stderr",
          "text": [
            "\n"
          ]
        },
        {
          "output_type": "stream",
          "name": "stdout",
          "text": [
            "\n",
            "      Epoch    GPU_mem   box_loss   cls_loss   dfl_loss  Instances       Size\n"
          ]
        },
        {
          "output_type": "stream",
          "name": "stderr",
          "text": [
            "      18/50      1.31G      2.464       2.83      2.517         85        640: 100%|██████████| 83/83 [00:28<00:00,  2.90it/s]\n",
            "                 Class     Images  Instances      Box(P          R      mAP50  mAP50-95): 100%|██████████| 4/4 [00:01<00:00,  2.50it/s]"
          ]
        },
        {
          "output_type": "stream",
          "name": "stdout",
          "text": [
            "                   all        126        288      0.197      0.219      0.107     0.0309\n"
          ]
        },
        {
          "output_type": "stream",
          "name": "stderr",
          "text": [
            "\n"
          ]
        },
        {
          "output_type": "stream",
          "name": "stdout",
          "text": [
            "\n",
            "      Epoch    GPU_mem   box_loss   cls_loss   dfl_loss  Instances       Size\n"
          ]
        },
        {
          "output_type": "stream",
          "name": "stderr",
          "text": [
            "      19/50       1.3G      2.452      2.822      2.511         58        640: 100%|██████████| 83/83 [00:25<00:00,  3.23it/s]\n",
            "                 Class     Images  Instances      Box(P          R      mAP50  mAP50-95): 100%|██████████| 4/4 [00:01<00:00,  2.66it/s]"
          ]
        },
        {
          "output_type": "stream",
          "name": "stdout",
          "text": [
            "                   all        126        288       0.25      0.201      0.141     0.0431\n"
          ]
        },
        {
          "output_type": "stream",
          "name": "stderr",
          "text": [
            "\n"
          ]
        },
        {
          "output_type": "stream",
          "name": "stdout",
          "text": [
            "\n",
            "      Epoch    GPU_mem   box_loss   cls_loss   dfl_loss  Instances       Size\n"
          ]
        },
        {
          "output_type": "stream",
          "name": "stderr",
          "text": [
            "      20/50      1.34G      2.446       2.78      2.506         56        640: 100%|██████████| 83/83 [00:29<00:00,  2.83it/s]\n",
            "                 Class     Images  Instances      Box(P          R      mAP50  mAP50-95): 100%|██████████| 4/4 [00:01<00:00,  2.75it/s]"
          ]
        },
        {
          "output_type": "stream",
          "name": "stdout",
          "text": [
            "                   all        126        288      0.289      0.215      0.141     0.0444\n"
          ]
        },
        {
          "output_type": "stream",
          "name": "stderr",
          "text": [
            "\n"
          ]
        },
        {
          "output_type": "stream",
          "name": "stdout",
          "text": [
            "\n",
            "      Epoch    GPU_mem   box_loss   cls_loss   dfl_loss  Instances       Size\n"
          ]
        },
        {
          "output_type": "stream",
          "name": "stderr",
          "text": [
            "      21/50      1.35G      2.437      2.803      2.492         58        640: 100%|██████████| 83/83 [00:25<00:00,  3.22it/s]\n",
            "                 Class     Images  Instances      Box(P          R      mAP50  mAP50-95): 100%|██████████| 4/4 [00:02<00:00,  1.97it/s]"
          ]
        },
        {
          "output_type": "stream",
          "name": "stdout",
          "text": [
            "                   all        126        288      0.268      0.278       0.18      0.057\n"
          ]
        },
        {
          "output_type": "stream",
          "name": "stderr",
          "text": [
            "\n"
          ]
        },
        {
          "output_type": "stream",
          "name": "stdout",
          "text": [
            "\n",
            "      Epoch    GPU_mem   box_loss   cls_loss   dfl_loss  Instances       Size\n"
          ]
        },
        {
          "output_type": "stream",
          "name": "stderr",
          "text": [
            "      22/50      1.33G      2.408      2.771      2.471         73        640: 100%|██████████| 83/83 [00:28<00:00,  2.90it/s]\n",
            "                 Class     Images  Instances      Box(P          R      mAP50  mAP50-95): 100%|██████████| 4/4 [00:01<00:00,  2.91it/s]"
          ]
        },
        {
          "output_type": "stream",
          "name": "stdout",
          "text": [
            "                   all        126        288      0.311      0.271      0.173     0.0564\n"
          ]
        },
        {
          "output_type": "stream",
          "name": "stderr",
          "text": [
            "\n"
          ]
        },
        {
          "output_type": "stream",
          "name": "stdout",
          "text": [
            "\n",
            "      Epoch    GPU_mem   box_loss   cls_loss   dfl_loss  Instances       Size\n"
          ]
        },
        {
          "output_type": "stream",
          "name": "stderr",
          "text": [
            "      23/50      1.32G      2.391      2.723      2.439         79        640: 100%|██████████| 83/83 [00:27<00:00,  3.05it/s]\n",
            "                 Class     Images  Instances      Box(P          R      mAP50  mAP50-95): 100%|██████████| 4/4 [00:02<00:00,  1.55it/s]"
          ]
        },
        {
          "output_type": "stream",
          "name": "stdout",
          "text": [
            "                   all        126        288      0.304      0.257      0.165     0.0553\n"
          ]
        },
        {
          "output_type": "stream",
          "name": "stderr",
          "text": [
            "\n"
          ]
        },
        {
          "output_type": "stream",
          "name": "stdout",
          "text": [
            "\n",
            "      Epoch    GPU_mem   box_loss   cls_loss   dfl_loss  Instances       Size\n"
          ]
        },
        {
          "output_type": "stream",
          "name": "stderr",
          "text": [
            "      24/50      1.34G      2.378      2.749       2.44         71        640: 100%|██████████| 83/83 [00:27<00:00,  3.03it/s]\n",
            "                 Class     Images  Instances      Box(P          R      mAP50  mAP50-95): 100%|██████████| 4/4 [00:01<00:00,  2.66it/s]"
          ]
        },
        {
          "output_type": "stream",
          "name": "stdout",
          "text": [
            "                   all        126        288      0.279       0.24      0.167     0.0507\n"
          ]
        },
        {
          "output_type": "stream",
          "name": "stderr",
          "text": [
            "\n"
          ]
        },
        {
          "output_type": "stream",
          "name": "stdout",
          "text": [
            "\n",
            "      Epoch    GPU_mem   box_loss   cls_loss   dfl_loss  Instances       Size\n"
          ]
        },
        {
          "output_type": "stream",
          "name": "stderr",
          "text": [
            "      25/50      1.32G      2.384      2.726      2.437         58        640: 100%|██████████| 83/83 [00:30<00:00,  2.73it/s]\n",
            "                 Class     Images  Instances      Box(P          R      mAP50  mAP50-95): 100%|██████████| 4/4 [00:02<00:00,  1.96it/s]"
          ]
        },
        {
          "output_type": "stream",
          "name": "stdout",
          "text": [
            "                   all        126        288      0.309      0.257      0.191     0.0619\n"
          ]
        },
        {
          "output_type": "stream",
          "name": "stderr",
          "text": [
            "\n"
          ]
        },
        {
          "output_type": "stream",
          "name": "stdout",
          "text": [
            "\n",
            "      Epoch    GPU_mem   box_loss   cls_loss   dfl_loss  Instances       Size\n"
          ]
        },
        {
          "output_type": "stream",
          "name": "stderr",
          "text": [
            "      26/50      1.31G      2.391      2.713       2.42         72        640: 100%|██████████| 83/83 [00:26<00:00,  3.17it/s]\n",
            "                 Class     Images  Instances      Box(P          R      mAP50  mAP50-95): 100%|██████████| 4/4 [00:01<00:00,  2.06it/s]"
          ]
        },
        {
          "output_type": "stream",
          "name": "stdout",
          "text": [
            "                   all        126        288      0.355      0.236      0.194     0.0603\n"
          ]
        },
        {
          "output_type": "stream",
          "name": "stderr",
          "text": [
            "\n"
          ]
        },
        {
          "output_type": "stream",
          "name": "stdout",
          "text": [
            "\n",
            "      Epoch    GPU_mem   box_loss   cls_loss   dfl_loss  Instances       Size\n"
          ]
        },
        {
          "output_type": "stream",
          "name": "stderr",
          "text": [
            "      27/50      1.36G      2.365      2.686      2.417         47        640: 100%|██████████| 83/83 [00:27<00:00,  2.99it/s]\n",
            "                 Class     Images  Instances      Box(P          R      mAP50  mAP50-95): 100%|██████████| 4/4 [00:01<00:00,  2.44it/s]"
          ]
        },
        {
          "output_type": "stream",
          "name": "stdout",
          "text": [
            "                   all        126        288      0.291      0.247      0.177     0.0563\n"
          ]
        },
        {
          "output_type": "stream",
          "name": "stderr",
          "text": [
            "\n"
          ]
        },
        {
          "output_type": "stream",
          "name": "stdout",
          "text": [
            "\n",
            "      Epoch    GPU_mem   box_loss   cls_loss   dfl_loss  Instances       Size\n"
          ]
        },
        {
          "output_type": "stream",
          "name": "stderr",
          "text": [
            "      28/50      1.37G      2.364      2.701      2.409         71        640: 100%|██████████| 83/83 [00:27<00:00,  3.06it/s]\n",
            "                 Class     Images  Instances      Box(P          R      mAP50  mAP50-95): 100%|██████████| 4/4 [00:02<00:00,  1.44it/s]"
          ]
        },
        {
          "output_type": "stream",
          "name": "stdout",
          "text": [
            "                   all        126        288      0.255      0.267      0.161     0.0502\n"
          ]
        },
        {
          "output_type": "stream",
          "name": "stderr",
          "text": [
            "\n"
          ]
        },
        {
          "output_type": "stream",
          "name": "stdout",
          "text": [
            "\n",
            "      Epoch    GPU_mem   box_loss   cls_loss   dfl_loss  Instances       Size\n"
          ]
        },
        {
          "output_type": "stream",
          "name": "stderr",
          "text": [
            "      29/50      1.31G      2.366      2.689      2.401         75        640: 100%|██████████| 83/83 [00:27<00:00,  3.01it/s]\n",
            "                 Class     Images  Instances      Box(P          R      mAP50  mAP50-95): 100%|██████████| 4/4 [00:01<00:00,  2.68it/s]"
          ]
        },
        {
          "output_type": "stream",
          "name": "stdout",
          "text": [
            "                   all        126        288      0.276      0.247      0.186     0.0621\n"
          ]
        },
        {
          "output_type": "stream",
          "name": "stderr",
          "text": [
            "\n"
          ]
        },
        {
          "output_type": "stream",
          "name": "stdout",
          "text": [
            "\n",
            "      Epoch    GPU_mem   box_loss   cls_loss   dfl_loss  Instances       Size\n"
          ]
        },
        {
          "output_type": "stream",
          "name": "stderr",
          "text": [
            "      30/50       1.3G      2.358      2.682      2.398         55        640: 100%|██████████| 83/83 [00:27<00:00,  3.02it/s]\n",
            "                 Class     Images  Instances      Box(P          R      mAP50  mAP50-95): 100%|██████████| 4/4 [00:02<00:00,  1.59it/s]"
          ]
        },
        {
          "output_type": "stream",
          "name": "stdout",
          "text": [
            "                   all        126        288      0.352      0.274      0.252     0.0864\n"
          ]
        },
        {
          "output_type": "stream",
          "name": "stderr",
          "text": [
            "\n"
          ]
        },
        {
          "output_type": "stream",
          "name": "stdout",
          "text": [
            "\n",
            "      Epoch    GPU_mem   box_loss   cls_loss   dfl_loss  Instances       Size\n"
          ]
        },
        {
          "output_type": "stream",
          "name": "stderr",
          "text": [
            "      31/50       1.3G      2.362      2.667      2.387         46        640: 100%|██████████| 83/83 [00:25<00:00,  3.23it/s]\n",
            "                 Class     Images  Instances      Box(P          R      mAP50  mAP50-95): 100%|██████████| 4/4 [00:01<00:00,  2.47it/s]"
          ]
        },
        {
          "output_type": "stream",
          "name": "stdout",
          "text": [
            "                   all        126        288      0.368      0.293      0.251     0.0809\n"
          ]
        },
        {
          "output_type": "stream",
          "name": "stderr",
          "text": [
            "\n"
          ]
        },
        {
          "output_type": "stream",
          "name": "stdout",
          "text": [
            "\n",
            "      Epoch    GPU_mem   box_loss   cls_loss   dfl_loss  Instances       Size\n"
          ]
        },
        {
          "output_type": "stream",
          "name": "stderr",
          "text": [
            "      32/50       1.3G      2.347      2.659      2.384         50        640: 100%|██████████| 83/83 [00:29<00:00,  2.78it/s]\n",
            "                 Class     Images  Instances      Box(P          R      mAP50  mAP50-95): 100%|██████████| 4/4 [00:01<00:00,  2.14it/s]"
          ]
        },
        {
          "output_type": "stream",
          "name": "stdout",
          "text": [
            "                   all        126        288      0.372      0.229      0.199     0.0704\n"
          ]
        },
        {
          "output_type": "stream",
          "name": "stderr",
          "text": [
            "\n"
          ]
        },
        {
          "output_type": "stream",
          "name": "stdout",
          "text": [
            "\n",
            "      Epoch    GPU_mem   box_loss   cls_loss   dfl_loss  Instances       Size\n"
          ]
        },
        {
          "output_type": "stream",
          "name": "stderr",
          "text": [
            "      33/50      1.31G      2.321      2.615      2.355         55        640: 100%|██████████| 83/83 [00:25<00:00,  3.25it/s]\n",
            "                 Class     Images  Instances      Box(P          R      mAP50  mAP50-95): 100%|██████████| 4/4 [00:01<00:00,  2.46it/s]"
          ]
        },
        {
          "output_type": "stream",
          "name": "stdout",
          "text": [
            "                   all        126        288      0.355      0.326      0.254     0.0831\n"
          ]
        },
        {
          "output_type": "stream",
          "name": "stderr",
          "text": [
            "\n"
          ]
        },
        {
          "output_type": "stream",
          "name": "stdout",
          "text": [
            "\n",
            "      Epoch    GPU_mem   box_loss   cls_loss   dfl_loss  Instances       Size\n"
          ]
        },
        {
          "output_type": "stream",
          "name": "stderr",
          "text": [
            "      34/50      1.33G      2.344      2.631      2.374         53        640: 100%|██████████| 83/83 [00:30<00:00,  2.75it/s]\n",
            "                 Class     Images  Instances      Box(P          R      mAP50  mAP50-95): 100%|██████████| 4/4 [00:01<00:00,  2.74it/s]"
          ]
        },
        {
          "output_type": "stream",
          "name": "stdout",
          "text": [
            "                   all        126        288      0.389      0.285      0.247     0.0864\n"
          ]
        },
        {
          "output_type": "stream",
          "name": "stderr",
          "text": [
            "\n"
          ]
        },
        {
          "output_type": "stream",
          "name": "stdout",
          "text": [
            "\n",
            "      Epoch    GPU_mem   box_loss   cls_loss   dfl_loss  Instances       Size\n"
          ]
        },
        {
          "output_type": "stream",
          "name": "stderr",
          "text": [
            "      35/50      1.29G      2.318      2.622      2.357         69        640: 100%|██████████| 83/83 [00:25<00:00,  3.20it/s]\n",
            "                 Class     Images  Instances      Box(P          R      mAP50  mAP50-95): 100%|██████████| 4/4 [00:01<00:00,  2.85it/s]"
          ]
        },
        {
          "output_type": "stream",
          "name": "stdout",
          "text": [
            "                   all        126        288      0.357      0.292      0.234     0.0847\n",
            "\u001b[34m\u001b[1mEarlyStopping: \u001b[0mTraining stopped early as no improvement observed in last 5 epochs. Best results observed at epoch 30, best model saved as best.pt.\n",
            "To update EarlyStopping(patience=5) pass a new patience value, i.e. `patience=300` or use `patience=0` to disable EarlyStopping.\n"
          ]
        },
        {
          "output_type": "stream",
          "name": "stderr",
          "text": [
            "\n"
          ]
        },
        {
          "output_type": "stream",
          "name": "stdout",
          "text": [
            "\n",
            "35 epochs completed in 0.295 hours.\n",
            "Optimizer stripped from runs/detect/fine_tuned_model4/weights/last.pt, 6.2MB\n",
            "Optimizer stripped from runs/detect/fine_tuned_model4/weights/best.pt, 6.2MB\n",
            "\n",
            "Validating runs/detect/fine_tuned_model4/weights/best.pt...\n",
            "Ultralytics 8.3.63 🚀 Python-3.11.11 torch-2.5.1+cu121 CUDA:0 (Tesla T4, 15102MiB)\n",
            "YOLOv8n summary (fused): 168 layers, 3,005,843 parameters, 0 gradients, 8.1 GFLOPs\n"
          ]
        },
        {
          "output_type": "stream",
          "name": "stderr",
          "text": [
            "                 Class     Images  Instances      Box(P          R      mAP50  mAP50-95): 100%|██████████| 4/4 [00:05<00:00,  1.32s/it]\n"
          ]
        },
        {
          "output_type": "stream",
          "name": "stdout",
          "text": [
            "                   all        126        288       0.34      0.323      0.272      0.102\n",
            "Speed: 0.3ms preprocess, 21.2ms inference, 0.0ms loss, 8.0ms postprocess per image\n",
            "Results saved to \u001b[1mruns/detect/fine_tuned_model4\u001b[0m\n"
          ]
        }
      ]
    },
    {
      "cell_type": "code",
      "source": [
        "import locale\n",
        "import os\n",
        "from google.colab import drive\n",
        "\n",
        "# Mount Google Drive\n",
        "drive.mount('/content/drive')\n",
        "\n",
        "# Set locale to UTF-8\n",
        "locale.setlocale(locale.LC_ALL, 'en_US.UTF-8')\n",
        "\n",
        "# Path where you want to save the model\n",
        "save_path = '/content/drive/MyDrive/Researchfolder/human detection model'\n",
        "\n",
        "# Create the directory if it doesn't exist\n",
        "os.makedirs(save_path, exist_ok=True)\n",
        "\n",
        "# Save the trained YOLOv8 human detection model\n",
        "model_path = \"/content/runs/detect/fine_tuned_model4/weights/best.pt\"\n",
        "# Copy the model using the os.system command with the updated locale\n",
        "os.system(f'cp {model_path} {save_path}')\n",
        "\n",
        "print(f\"Model saved to: {save_path}\")"
      ],
      "metadata": {
        "colab": {
          "base_uri": "https://localhost:8080/"
        },
        "id": "CLsxjkVUWv5T",
        "outputId": "5cf2a562-8a66-4cbf-a4b9-a46a3287886f"
      },
      "execution_count": 24,
      "outputs": [
        {
          "output_type": "stream",
          "name": "stdout",
          "text": [
            "Drive already mounted at /content/drive; to attempt to forcibly remount, call drive.mount(\"/content/drive\", force_remount=True).\n",
            "Model saved to: /content/drive/MyDrive/Researchfolder/human detection model\n"
          ]
        }
      ]
    }
  ]
}